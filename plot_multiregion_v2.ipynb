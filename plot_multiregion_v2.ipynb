{
 "cells": [
  {
   "cell_type": "code",
   "execution_count": 1,
   "metadata": {},
   "outputs": [],
   "source": [
    "import os \n",
    "\n",
    "figure_folder = 'figures/multiregion-v2'\n",
    "os.makedirs(figure_folder, exist_ok=True)\n",
    "\n",
    "def round_lapse(lapse):\n",
    "    if lapse <= 3: \n",
    "        return 2\n",
    "    elif lapse <= 5:\n",
    "        return 4\n",
    "    elif lapse <= 7:\n",
    "        return 6\n",
    "    elif lapse <= 9:\n",
    "        return 8\n",
    "    elif lapse <= 11:\n",
    "        return 10\n",
    "    elif lapse <= 13:\n",
    "        return 12\n",
    "    else:\n",
    "        return 100\n",
    "    \n",
    "colors ={\n",
    "    'M10_1': (0.12156862745098039, 0.4666666666666667, 0.7058823529411765, 1.0),\n",
    "    'M10_6': (0.6823529411764706, 0.7803921568627451, 0.9098039215686274, 1.0),\n",
    "    'M15_2': (1.0, 0.4980392156862745, 0.054901960784313725, 1.0),\n",
    "    'M15_3': (1.0, 0.7333333333333333, 0.47058823529411764, 1.0),\n",
    "    'M15_5': (0.17254901960784313, 0.6274509803921569, 0.17254901960784313, 1.0),\n",
    "    'M15_7': (0.596078431372549, 0.8745098039215686, 0.5411764705882353, 1.0),\n",
    "    'M16_1': (0.8392156862745098, 0.15294117647058825, 0.1568627450980392, 1.0),\n",
    "    'M16_2': (1.0, 0.596078431372549, 0.5882352941176471, 1.0),\n",
    "    'M16_6': (0.5803921568627451, 0.403921568627451, 0.7411764705882353, 1.0),\n",
    "    'M16_7': (0.7725490196078432, 0.6901960784313725, 0.8352941176470589, 1.0),\n",
    "    'M17_2': (0.5490196078431373, 0.33725490196078434, 0.29411764705882354, 1.0),\n",
    "    'M17_5': (0.7686274509803922, 0.611764705882353, 0.5803921568627451, 1.0),\n",
    "    'M9_7': (0.8901960784313725, 0.4666666666666667, 0.7607843137254902, 1.0),\n",
    "    'M9_8': (0.9686274509803922, 0.7137254901960784, 0.8235294117647058, 1.0),\n",
    "}\n",
    "\n",
    "subjects = ['M10_6', 'M15_2', 'M15_3', 'M15_5', 'M15_7', 'M16_1', 'M16_2', 'M16_6', 'M16_7', 'M17_2', 'M17_5', 'M9_7', 'M9_8']"
   ]
  },
  {
   "cell_type": "markdown",
   "metadata": {},
   "source": [
    "# Long-Term Traces"
   ]
  },
  {
   "cell_type": "code",
   "execution_count": null,
   "metadata": {},
   "outputs": [],
   "source": [
    "curations_OG = {\n",
    "    'region1': {\n",
    "        'M9_7': None,\n",
    "        'M9_8': None,\n",
    "        'M10_1':{\n",
    "            0: {            \n",
    "                0: (7, 8), \n",
    "                1: (2, 3), \n",
    "                2: (1, 2), \n",
    "                3: (14.5, 15.5), \n",
    "                4: (16, 17), \n",
    "                5: (3, 4), \n",
    "                6: (3, 4), \n",
    "                7: (8, 9),\n",
    "            },\n",
    "            3: {                 \n",
    "                0: (7, 8), \n",
    "                1: (2, 3), \n",
    "                2: (1, 2), \n",
    "                3: (14.5, 15.5), \n",
    "                4: (16, 17), \n",
    "                5: (3, 4), \n",
    "                6: (3, 4), \n",
    "                7: (8, 9),\n",
    "            },\n",
    "            4: {                 \n",
    "                0: (7, 8), \n",
    "                1: (2, 3), \n",
    "                2: (1, 2), \n",
    "                3: (14.5, 15.5), \n",
    "                4: (16, 17), \n",
    "                5: (3, 4), \n",
    "                6: (3, 4), \n",
    "                7: (8, 9),\n",
    "            },           \n",
    "        },\n",
    "        'M10_6': None,\n",
    "        'M15_2': {\n",
    "            0: {            \n",
    "                0: (4.5, 5.5), \n",
    "                1: (17, 18), \n",
    "                2: (5, 6), \n",
    "                3: (6, 7), \n",
    "                4: (14, 15), \n",
    "                5: (3.5, 4.5), \n",
    "                6: (1.5, 2.5), \n",
    "                7: (4.5, 5.5),\n",
    "            },\n",
    "            1: {            \n",
    "                0: (4.5, 5.5), \n",
    "                1: (11, 12), \n",
    "                2: (5, 6), \n",
    "                3: (6, 7), \n",
    "                4: (14, 15), \n",
    "                5: (3.5, 4.5), \n",
    "                6: (1.5, 2.5), \n",
    "                7: (4.5, 5.5),\n",
    "            },\n",
    "        },\n",
    "        'M15_3': {\n",
    "            4: {            \n",
    "                0: (4, 5), \n",
    "                1: (7, 8), \n",
    "                2: (2, 3), \n",
    "                3: (3.5, 4.5), \n",
    "                4: (5, 6), \n",
    "                5: (0.5, 1.5), \n",
    "                6: (4.5, 5.5), \n",
    "                7: (3, 4),\n",
    "            },\n",
    "        },\n",
    "        'M15_5':{\n",
    "            4: {            \n",
    "                0: (9, 10), \n",
    "                1: (16.5, 17.5), \n",
    "                2: (19, 20), \n",
    "                3: (15, 16), \n",
    "                4: (17.5, 18.5), \n",
    "                5: (18, 19), \n",
    "                6: (17.5, 18.5), \n",
    "            },\n",
    "        },\n",
    "        'M15_7': {\n",
    "            0: {            \n",
    "                0: (13, 14), \n",
    "                1: (5, 6), \n",
    "                2: (19, 20), \n",
    "                3: (17, 18), \n",
    "                4: (3.5, 4.5), \n",
    "                5: (18.6, 19.6), \n",
    "                6: (11, 12), \n",
    "                7: (2, 3), \n",
    "            },\n",
    "        },\n",
    "        'M16_1': {\n",
    "            0: {            \n",
    "                0: (14, 15), \n",
    "                1: (14, 15), \n",
    "                2: (17.5, 18.5), \n",
    "                3: (6, 7), \n",
    "                4: (14, 15), \n",
    "                5: (3.5, 4.5), \n",
    "                6: (1.5, 2.5), \n",
    "                7: (3.5, 4.5),\n",
    "            },\n",
    "            1: {            \n",
    "                0: (14, 15), \n",
    "                1: (14, 15), \n",
    "                2: (17.5, 18.5), \n",
    "                3: (6, 7), \n",
    "                4: (14, 15), \n",
    "                5: (3.5, 4.5), \n",
    "                6: (1.5, 2.5), \n",
    "                7: (3.5, 4.5),\n",
    "            },\n",
    "            3: {            \n",
    "                0: (14, 15), \n",
    "                1: (14, 15), \n",
    "                2: (17.5, 18.5), \n",
    "                3: (6, 7), \n",
    "                4: (14, 15), \n",
    "                5: (3.5, 4.5), \n",
    "                6: (1.5, 2.5), \n",
    "                7: (3.5, 4.5),\n",
    "            },  \n",
    "        },\n",
    "        'M16_2': None,\n",
    "        'M16_6': None,\n",
    "        'M16_7': None,\n",
    "        'M17_5': None,\n",
    "    },\n",
    "    'region2':{\n",
    "        'M9_7': {\n",
    "            1: {            \n",
    "                0: (1, 2),\n",
    "                1: (4, 5),\n",
    "                2: (2, 3),\n",
    "                3: (17, 18),\n",
    "                4: (8.7, 9.7),\n",
    "                5: (3.5, 4.5),\n",
    "                6: (3, 4),\n",
    "                7: (1.5, 2.5),\n",
    "                8: (8, 9),\n",
    "                9: (7, 8),\n",
    "            },\n",
    "        },\n",
    "        'M9_8': {\n",
    "            0: {            \n",
    "                0: (4, 5),\n",
    "                1: (2, 3),\n",
    "                2: (8, 9),\n",
    "                3: (7, 8),\n",
    "                4: (9, 10),\n",
    "                5: (11, 12),\n",
    "                6: (1, 2),\n",
    "            },\n",
    "            3: {                 \n",
    "                0: (4, 5),\n",
    "                1: (2, 3),\n",
    "                2: (8, 9),\n",
    "                3: (7, 8),\n",
    "                4: (9, 10),\n",
    "                5: (11, 12),\n",
    "                6: (1, 2),\n",
    "            },\n",
    "        },\n",
    "        'M10_1': None,\n",
    "        'M10_6': {\n",
    "            0: {\n",
    "                # 0: (1, 2), \n",
    "                1: (9, 10), # w2\n",
    "                # 2: (12.5, 13.5), \n",
    "                3: (1, 2), # w4\n",
    "                4: (12, 13), # w6\n",
    "                5: (18.1, 19.1), # w7\n",
    "                # 6: (8, 9),\n",
    "                7: (15, 16), # w11\n",
    "                8: (1, 2), # w12\n",
    "                # 9: (4, 5),\n",
    "                # 10: (18.5, 19.5),\n",
    "            },\n",
    "            1: {\n",
    "                # 0: (1, 2), \n",
    "                1: (9, 10), # w2\n",
    "                # 2: (12.5, 13.5), \n",
    "                3: (1, 2), # w4\n",
    "                4: (12, 13), # w6\n",
    "                5: (18.1, 19.1), # w7\n",
    "                # 6: (8, 9),\n",
    "                7: (15, 16), # w11\n",
    "                8: (1, 2), # w12\n",
    "                # 9: (4, 5),\n",
    "                # 10: (18.5, 19.5),\n",
    "            },\n",
    "            2: {\n",
    "                # 0: (1, 2), \n",
    "                1: (9, 10), # w2\n",
    "                # 2: (12.5, 13.5), \n",
    "                3: (1, 2), # w4\n",
    "                4: (12, 13), # w6\n",
    "                5: (18.1, 19.1), # w7\n",
    "                # 6: (8, 9),\n",
    "                7: (15, 16), # w11\n",
    "                8: (1, 2), # w12\n",
    "                # 9: (4, 5),\n",
    "                # 10: (18.5, 19.5),\n",
    "            },\n",
    "            3: {\n",
    "                # 0: (1, 2), \n",
    "                1: (9, 10), # w2\n",
    "                # 2: (12.5, 13.5), \n",
    "                3: (1.1, 2.1), # w4\n",
    "                4: (12, 13), # w6\n",
    "                5: (18.1, 19.1), # w7\n",
    "                # 6: (8, 9),\n",
    "                7: (15, 16), # w11\n",
    "                8: (1, 2), # w12\n",
    "                # 9: (4, 5),\n",
    "                # 10: (18.5, 19.5),\n",
    "            },\n",
    "        },\n",
    "        'M15_2': None,\n",
    "        'M15_3': {\n",
    "            0: {\n",
    "                0: (12, 13),\n",
    "                1: (4, 5),\n",
    "                2: (2, 3),\n",
    "                3: (12, 13), \n",
    "                4: (5, 6),\n",
    "                5: (1, 2),\n",
    "                6: (14.5, 15.5),\n",
    "                7: (4, 5),\n",
    "            },\n",
    "            1: {\n",
    "                0: (12, 13),\n",
    "                1: (4, 5),\n",
    "                2: (2, 3),\n",
    "                3: (12, 13), \n",
    "                4: (5, 6),\n",
    "                5: (1, 2),\n",
    "                6: (14.5, 15.5),\n",
    "                7: (4, 5),\n",
    "            },\n",
    "        },\n",
    "        'M15_5': {\n",
    "            3: {\n",
    "                0: (1.5, 2.5),\n",
    "                1: (1, 2),\n",
    "                2: (1.5, 2.5),\n",
    "                3: (1, 2), \n",
    "                4: (4, 5),\n",
    "                5: (15, 16),\n",
    "                6: (0.5, 1.5),\n",
    "            },\n",
    "            4: {\n",
    "                0: (1.5, 2.5),\n",
    "                1: (1, 2),\n",
    "                2: (1.5, 2.5),\n",
    "                3: (1, 2), \n",
    "                4: (4, 5),\n",
    "                5: (15, 16),\n",
    "                6: (0.5, 1.5),\n",
    "            },\n",
    "        },\n",
    "        'M15_7': {\n",
    "            1: {\n",
    "                0: (2.2, 3.2), # w2\n",
    "                1: (3, 4), # w4\n",
    "                2: (9, 10), # w6\n",
    "                3: (18, 19), # w8\n",
    "                4: (1.5, 2.5),\n",
    "                5: (3.5, 4.5),\n",
    "                6: (11, 12), # w10\n",
    "                7: (14, 15), # w12\n",
    "            },\n",
    "            2: {\n",
    "                0: (2.2, 3.2), # w2\n",
    "                1: (3, 4), # w4\n",
    "                2: (9, 10), # w6\n",
    "                3: (18, 19), # w8\n",
    "                4: (1.5, 2.5),\n",
    "                5: (3.5, 4.5),\n",
    "                6: (11, 12), # w10\n",
    "                7: (14, 15), # w12\n",
    "            },\n",
    "            3: {\n",
    "                0: (2.2, 3.2), # w2\n",
    "                1: (3, 4), # w4\n",
    "                2: (9, 10), # w6\n",
    "                3: (18, 19), # w8\n",
    "                4: (1.5, 2.5),\n",
    "                5: (3.5, 4.5),\n",
    "                6: (11, 12), # w10\n",
    "                7: (14, 15), # w12\n",
    "            },\n",
    "        },\n",
    "        'M16_1': None,\n",
    "        'M16_2': {\n",
    "            0: {\n",
    "                0: (5, 6),\n",
    "                1: (2, 3),\n",
    "                2: (4.5, 5.5),\n",
    "                3: (2, 3),\n",
    "                4: (7, 8),\n",
    "                5: (3, 4),\n",
    "                6: (7, 8),\n",
    "                7: (1, 2),\n",
    "            },\n",
    "            1: {\n",
    "                0: (5, 6),\n",
    "                1: (2, 3),\n",
    "                2: (4.5, 5.5),\n",
    "                3: (2, 3),\n",
    "                4: (7, 8),\n",
    "                5: (3, 4),\n",
    "                6: (7, 8),\n",
    "                7: (1, 2),\n",
    "            },\n",
    "        },\n",
    "        'M16_6': None,\n",
    "        'M16_7': None,\n",
    "        'M17_5': None,\n",
    "    },\n",
    "}"
   ]
  },
  {
   "cell_type": "code",
   "execution_count": null,
   "metadata": {},
   "outputs": [],
   "source": [
    "curations = {\n",
    "    'region1': {\n",
    "        'M9_7': None,\n",
    "        'M9_8': None,\n",
    "        'M10_1':{\n",
    "            0: {            \n",
    "                # 0: (7, 8), \n",
    "                1: (2, 3), \n",
    "                2: (1, 2), \n",
    "                3: (14.5, 15.5), \n",
    "                4: (16, 17), \n",
    "                5: (3, 4), \n",
    "                6: (3, 4), \n",
    "                # 7: (8, 9),\n",
    "            },\n",
    "            4: {                 \n",
    "                # 0: (7, 8), \n",
    "                1: (2, 3), \n",
    "                2: (1, 2), \n",
    "                3: (14.5, 15.5), \n",
    "                4: (16, 17), \n",
    "                5: (3, 4), \n",
    "                6: (3, 4), \n",
    "                # 7: (8, 9),\n",
    "            },           \n",
    "        },\n",
    "        'M10_6': None,\n",
    "        'M15_2': {\n",
    "            0: {            \n",
    "                0: (4.5, 5.5), \n",
    "                1: (17, 18), \n",
    "                # 2: (5, 6), \n",
    "                3: (6, 7), \n",
    "                4: (14, 15), \n",
    "                # 5: (3.5, 4.5), \n",
    "                6: (1.5, 2.5), \n",
    "                7: (4.5, 5.5),\n",
    "            },\n",
    "            1: {            \n",
    "                0: (4.5, 5.5), \n",
    "                1: (11, 12), \n",
    "                # 2: (5, 6), \n",
    "                3: (6, 7), \n",
    "                4: (14, 15), \n",
    "                # 5: (3.5, 4.5), \n",
    "                6: (1.5, 2.5), \n",
    "                7: (4.5, 5.5),\n",
    "            },\n",
    "        },\n",
    "        'M15_3': {\n",
    "            4: {            \n",
    "                0: (4, 5), \n",
    "                # 1: (7, 8), \n",
    "                2: (2, 3), \n",
    "                3: (3.5, 4.5), \n",
    "                # 4: (5, 6), \n",
    "                5: (0.5, 1.5), \n",
    "                6: (4.5, 5.5), \n",
    "                7: (3, 4),\n",
    "            },\n",
    "        },\n",
    "        'M15_5':{\n",
    "            4: {            \n",
    "                0: (9, 10), \n",
    "                1: (16.5, 17.5), \n",
    "                2: (19, 20), \n",
    "                3: (15, 16), \n",
    "                4: (17.5, 18.5), \n",
    "                5: (18, 19), \n",
    "                # 6: (17.5, 18.5), \n",
    "            },\n",
    "        },\n",
    "        'M15_7': {\n",
    "            0: {            \n",
    "                # 0: (13, 14), \n",
    "                1: (5, 6), \n",
    "                2: (19, 20), \n",
    "                3: (17, 18), \n",
    "                4: (3.5, 4.5), \n",
    "                # 5: (18.6, 19.6), \n",
    "                6: (11, 12), \n",
    "                7: (2, 3), \n",
    "            },\n",
    "        },\n",
    "        'M16_1': {\n",
    "            0: {            \n",
    "                0: (14, 15), \n",
    "                1: (14, 15), \n",
    "                2: (17.5, 18.5), \n",
    "                3: (6, 7), \n",
    "                # 4: (14, 15), \n",
    "                # 5: (3.5, 4.5), \n",
    "                6: (1.5, 2.5), \n",
    "                7: (3.5, 4.5),\n",
    "            },\n",
    "            1: {            \n",
    "                0: (14, 15), \n",
    "                1: (14, 15), \n",
    "                2: (17.5, 18.5), \n",
    "                3: (6, 7), \n",
    "                # 4: (14, 15), \n",
    "                # 5: (3.5, 4.5), \n",
    "                6: (1.5, 2.5), \n",
    "                7: (3.5, 4.5),\n",
    "            },\n",
    "            3: {            \n",
    "                0: (14, 15), \n",
    "                1: (14, 15), \n",
    "                2: (17.5, 18.5), \n",
    "                3: (6, 7), \n",
    "                # 4: (14, 15), \n",
    "                # 5: (3.5, 4.5), \n",
    "                6: (1.5, 2.5), \n",
    "                7: (3.5, 4.5),\n",
    "            },  \n",
    "        },\n",
    "        'M16_2': None,\n",
    "        'M16_6': None,\n",
    "        'M16_7': None,\n",
    "        'M17_5': None,\n",
    "    },\n",
    "    'region2':{\n",
    "        'M9_7': {\n",
    "            1: {            \n",
    "                # 0: (1, 2),\n",
    "                1: (4, 5), \n",
    "                2: (2, 3), \n",
    "                # 3: (17, 18),\n",
    "                4: (8.7, 9.7),\n",
    "                5: (3.5, 4.5), \n",
    "                # 6: (3, 4),\n",
    "                7: (1.5, 2.5),\n",
    "                8: (8, 9),\n",
    "                # 9: (7, 8), \n",
    "            },\n",
    "        },\n",
    "        'M9_8': {\n",
    "            0: {            \n",
    "                # 0: (4, 5),\n",
    "                1: (2, 3),\n",
    "                2: (8, 9),\n",
    "                3: (7, 8),\n",
    "                4: (9, 10),\n",
    "                5: (11, 12),\n",
    "                6: (1, 2),\n",
    "            },\n",
    "            3: {                 \n",
    "                # 0: (4, 5),\n",
    "                1: (2, 3),\n",
    "                2: (8, 9),\n",
    "                3: (7, 8),\n",
    "                4: (9, 10),\n",
    "                5: (11, 12),\n",
    "                6: (1, 2),\n",
    "            },\n",
    "        },\n",
    "        'M10_1': None,\n",
    "        'M10_6': {\n",
    "            0: {\n",
    "                # 0: (1, 2), \n",
    "                1: (9, 10), # w2\n",
    "                # 2: (12.5, 13.5), \n",
    "                3: (1, 2), # w4\n",
    "                4: (12, 13), # w6\n",
    "                5: (18.1, 19.1), # w7\n",
    "                # 6: (8, 9),\n",
    "                7: (15, 16), # w11\n",
    "                8: (1, 2), # w12\n",
    "                # 9: (4, 5),\n",
    "                # 10: (18.5, 19.5),\n",
    "            },\n",
    "            1: {\n",
    "                # 0: (1, 2), \n",
    "                1: (9, 10), # w2\n",
    "                # 2: (12.5, 13.5), \n",
    "                3: (1, 2), # w4\n",
    "                4: (12, 13), # w6\n",
    "                5: (18.1, 19.1), # w7\n",
    "                # 6: (8, 9),\n",
    "                7: (15, 16), # w11\n",
    "                8: (1, 2), # w12\n",
    "                # 9: (4, 5),\n",
    "                # 10: (18.5, 19.5),\n",
    "            },\n",
    "            2: {\n",
    "                # 0: (1, 2), \n",
    "                1: (9, 10), # w2\n",
    "                # 2: (12.5, 13.5), \n",
    "                3: (1, 2), # w4\n",
    "                4: (12, 13), # w6\n",
    "                5: (18.1, 19.1), # w7\n",
    "                # 6: (8, 9),\n",
    "                7: (15, 16), # w11\n",
    "                8: (1, 2), # w12\n",
    "                # 9: (4, 5),\n",
    "                # 10: (18.5, 19.5),\n",
    "            },\n",
    "            3: {\n",
    "                # 0: (1, 2), \n",
    "                1: (9, 10), # w2\n",
    "                # 2: (12.5, 13.5), \n",
    "                3: (1.1, 2.1), # w4\n",
    "                4: (12, 13), # w6\n",
    "                5: (18.1, 19.1), # w7\n",
    "                # 6: (8, 9),\n",
    "                7: (15, 16), # w11\n",
    "                8: (1, 2), # w12\n",
    "                # 9: (4, 5),\n",
    "                # 10: (18.5, 19.5),\n",
    "            },\n",
    "        },\n",
    "        'M15_2': None,\n",
    "        'M15_3': {\n",
    "            0: {\n",
    "                0: (12, 13),\n",
    "                1: (4, 5),\n",
    "                # 2: (2, 3),\n",
    "                3: (12, 13), \n",
    "                # 4: (5, 6),\n",
    "                5: (1, 2),\n",
    "                6: (14.5, 15.5),\n",
    "                7: (4, 5),\n",
    "            },\n",
    "            1: {\n",
    "                0: (12, 13),\n",
    "                1: (4, 5),\n",
    "                # 2: (2, 3),\n",
    "                3: (12, 13), \n",
    "                # 4: (5, 6),\n",
    "                5: (1, 2),\n",
    "                6: (14.5, 15.5),\n",
    "                7: (4, 5),\n",
    "            },\n",
    "        },\n",
    "        'M15_5': {\n",
    "            3: {\n",
    "                0: (1.5, 2.5),\n",
    "                1: (1, 2),\n",
    "                2: (1.5, 2.5),\n",
    "                3: (1, 2), \n",
    "                4: (4, 5),\n",
    "                # 5: (15, 16),\n",
    "                6: (0.5, 1.5),\n",
    "            },\n",
    "            4: {\n",
    "                0: (1.5, 2.5),\n",
    "                1: (1, 2),\n",
    "                2: (1.5, 2.5),\n",
    "                3: (1, 2), \n",
    "                4: (4, 5),\n",
    "                # 5: (15, 16),\n",
    "                6: (0.5, 1.5),\n",
    "            },\n",
    "        },\n",
    "        'M15_7': {\n",
    "            1: {\n",
    "                0: (2.2, 3.2), # w2\n",
    "                1: (3, 4), # w4\n",
    "                2: (9, 10), # w6\n",
    "                # 3: (18, 19), # w8\n",
    "                4: (1.5, 2.5),\n",
    "                5: (3.5, 4.5),\n",
    "                # 6: (11, 12), # w10\n",
    "                7: (14, 15), # w12\n",
    "            },\n",
    "            2: {\n",
    "                0: (2.2, 3.2), # w2\n",
    "                1: (3, 4), # w4\n",
    "                2: (9, 10), # w6\n",
    "                # 3: (18, 19), # w8\n",
    "                4: (1.5, 2.5),\n",
    "                5: (3.5, 4.5),\n",
    "                # 6: (11, 12), # w10\n",
    "                7: (14, 15), # w12\n",
    "            },\n",
    "            3: {\n",
    "                0: (2.2, 3.2), # w2\n",
    "                1: (3, 4), # w4\n",
    "                2: (9, 10), # w6\n",
    "                # 3: (18, 19), # w8\n",
    "                4: (1.5, 2.5),\n",
    "                5: (3.5, 4.5),\n",
    "                # 6: (11, 12), # w10\n",
    "                7: (14, 15), # w12\n",
    "            },\n",
    "        },\n",
    "        'M16_1': None,\n",
    "        'M16_2': {\n",
    "            0: {\n",
    "                0: (5, 6),\n",
    "                1: (2, 3),\n",
    "                2: (4.5, 5.5),\n",
    "                3: (2, 3),\n",
    "                # 4: (7, 8),\n",
    "                5: (3, 4),\n",
    "                # 6: (7, 8),\n",
    "                7: (1, 2),\n",
    "            },\n",
    "            1: {\n",
    "                0: (5, 6),\n",
    "                1: (2, 3),\n",
    "                2: (4.5, 5.5),\n",
    "                3: (2, 3),\n",
    "                # 4: (7, 8),\n",
    "                5: (3, 4),\n",
    "                # 6: (7, 8),\n",
    "                7: (1, 2),\n",
    "            },\n",
    "        },\n",
    "        'M16_6': None,\n",
    "        'M16_7': None,\n",
    "        'M17_5': None,\n",
    "    },\n",
    "}"
   ]
  },
  {
   "cell_type": "code",
   "execution_count": null,
   "metadata": {},
   "outputs": [],
   "source": [
    "import datetime\n",
    "import matplotlib.pyplot as plt\n",
    "import os\n",
    "import pandas as pd \n",
    "import spikeinterface.core as sc\n",
    "import spikeinterface.extractors as se\n",
    "import sys \n",
    "\n",
    "sys.path.append('src')\n",
    "\n",
    "from src.facts import *\n",
    "from src.multiregion_80pin_channels import *\n",
    "\n",
    "\n",
    "trace_gap = 150\n",
    "\n",
    "for region, region_curations in curations.items():\n",
    "    output_folder = f'{figure_folder}/shank_traces/{region}'\n",
    "    os.makedirs(output_folder, exist_ok=True)\n",
    "    for subject, subject_curations in region_curations.items():\n",
    "        if subject_curations is None:\n",
    "            continue \n",
    "\n",
    "        session_info = pd.read_csv(f'data/processed/{subject}/all/session_info.csv')\n",
    "        n_segment = len(session_info['segment_path'].unique())\n",
    "\n",
    "        recording_dates = [datetime.datetime.strptime(path.split('/')[3], '%y%m%d') for path in session_info['segment_path'].unique()]\n",
    "        surgery_date = datetime.datetime.strptime(surgery_dates[subject], '%Y%m%d')\n",
    "        time_lapses = [round((recording_date - surgery_date).days / n_day_per_week) for recording_date in recording_dates]\n",
    "\n",
    "        recordings = [sc.load_extractor(f'data/processed/{subject}/all/{region}/recording/segment{segment_index}') for segment_index in range(n_segment)]\n",
    "\n",
    "        for shank, slices in subject_curations.items():\n",
    "            plot_file = f'{output_folder}/{subject}_shank{shank}.png'\n",
    "            if os.path.isfile(plot_file): continue\n",
    "            fig = plt.figure(figsize=(40, 10))\n",
    "            fig.suptitle(f'{subject} - {region} - shank {shank}')\n",
    "            for plot_index, (segment_index, (t_start, t_end)) in enumerate(slices.items()):\n",
    "                ax = plt.subplot(1, len(slices), plot_index + 1)\n",
    "                traces = recordings[segment_index].get_traces(\n",
    "                    start_frame=int(t_start*n_s_per_min*recordings[segment_index].sampling_frequency), \n",
    "                    end_frame=int(t_end*n_s_per_min*recordings[segment_index].sampling_frequency)\n",
    "                ).T[channel_indices[shank]]\n",
    "                for trace_index, trace in enumerate(traces):\n",
    "                    ax.plot(trace + trace_index * trace_gap, linewidth=0.5, color=plt.cm.tab20(trace_index))\n",
    "                    ax.set_ylim(-500, 1500)\n",
    "                ax.set_axis_off()\n",
    "                ax.set_title(f'{time_lapses[segment_index]} weeks')\n",
    "            ax.set_axis_on()\n",
    "            ax.set_xticks([0, 10*recordings[0].sampling_frequency], [0, 10])\n",
    "            ax.set_xlabel('Time (s)')\n",
    "            ax.set_ylabel(r'Amplitude ($\\mu$V)')\n",
    "            plt.savefig(plot_file)\n",
    "            # plt.show()\n",
    "            plt.close()"
   ]
  },
  {
   "cell_type": "code",
   "execution_count": null,
   "metadata": {},
   "outputs": [],
   "source": [
    "curated_channels_OG = {\n",
    "    'region1': {\n",
    "        'M10_1': {\n",
    "            0: [0, 1, 3, 4, 5],\n",
    "            4: [0, 1,],\n",
    "        },\n",
    "        'M15_2': {\n",
    "            0: [0, 1, 2, 4, 5],\n",
    "            1: [0, 1, 2, 3, 4, 5, 6, 7],\n",
    "        },\n",
    "        'M15_3': {\n",
    "            4: [0, 1, 2, 3, 4, 5, 7],\n",
    "        },\n",
    "        'M15_5': {\n",
    "            4: [2, 4, 6, 7],\n",
    "        },\n",
    "        'M15_7': {\n",
    "            0: [0, 1, 2, 4, 6],\n",
    "        },\n",
    "        'M16_1': {\n",
    "            0: [0, 1, 2, 3, 4, 7],\n",
    "            1: [0, 1, 2, 3, 4, 5, 6, 7],\n",
    "            3: [0, 1, 2, 3],\n",
    "        }\n",
    "    },\n",
    "    'region2': {\n",
    "        'M9_7': {\n",
    "            1: [0, 1, 2, 3, 5, 6, 7],\n",
    "        },\n",
    "        'M9_8': {\n",
    "            0: [1, 2],\n",
    "            3: [0, 2],\n",
    "        },\n",
    "        'M10_6': {\n",
    "            0: [0, 1, 2, 3, 4, 5, 7],\n",
    "            1: [0, 2, 3, 4, 5, 7],\n",
    "            2: [0, 1, 4, 5],\n",
    "            3: [0, 4, 5, 6],\n",
    "        },\n",
    "        'M15_3': {\n",
    "            0: [0, 1, 3, 4, 6, 7], \n",
    "            1: [0, 1, 3, 4, 6, 7],\n",
    "        },\n",
    "        'M15_5': {\n",
    "            3: [2, 3, 6],\n",
    "            4: [0 ,1, 2, 3, 4, 5, 6, 7],\n",
    "        },\n",
    "        'M15_7': {\n",
    "            1: [0, 1, 2, 4, 5, 6],\n",
    "            2: [0, 2, 3, 4, 5, 6, 7],\n",
    "            3: [0, 1, 2, 3, 4, 5, 6, 7],\n",
    "        },\n",
    "        'M16_2': {\n",
    "            0: [0, 1, 2, 3, 4, 5, 6, 7],\n",
    "            1: [2, 3, 7],\n",
    "        },\n",
    "    }\n",
    "}\n",
    "\n",
    "curated_channel_counts = {}\n",
    "for region, region_curated_channels in curated_channels.items():\n",
    "    count = 0\n",
    "    for subject, subject_curated_channels in region_curated_channels.items():\n",
    "        for shank_curated_channels in subject_curated_channels.values():\n",
    "            count += len(shank_curated_channels)\n",
    "    curated_channel_counts[region] = count\n",
    "curated_channel_counts"
   ]
  },
  {
   "cell_type": "code",
   "execution_count": null,
   "metadata": {},
   "outputs": [],
   "source": [
    "curated_channels = {\n",
    "    'region1': {\n",
    "        'M15_2': {\n",
    "            0: [0, 1, 4],\n",
    "            1: [0, 1, 2, 3, 5, 7],\n",
    "        },\n",
    "        'M16_1': {\n",
    "            0: [0, 1, 4],\n",
    "            1: [0, 2, 3, 5, 6, 7],\n",
    "            3: [0, 1],\n",
    "        }\n",
    "    },\n",
    "    'region2': {\n",
    "        'M9_7': {\n",
    "            1: [0, 1, 2, 7],\n",
    "        },\n",
    "        'M10_6': {\n",
    "            0: [3, 4, 5, 7],\n",
    "            1: [0, 2, 4, 5, 7],\n",
    "            3: [0, 5, 6],\n",
    "        },\n",
    "        'M15_3': {\n",
    "            1: [4],\n",
    "        },\n",
    "        'M15_7': {\n",
    "            2: [0, 2],\n",
    "            3: [0],\n",
    "        },\n",
    "    }\n",
    "}\n",
    "\n",
    "curated_channel_counts = {}\n",
    "for region, region_curated_channels in curated_channels.items():\n",
    "    count = 0\n",
    "    for subject, subject_curated_channels in region_curated_channels.items():\n",
    "        for shank_curated_channels in subject_curated_channels.values():\n",
    "            count += len(shank_curated_channels)\n",
    "    curated_channel_counts[region] = count\n",
    "curated_channel_counts"
   ]
  },
  {
   "cell_type": "code",
   "execution_count": null,
   "metadata": {},
   "outputs": [],
   "source": [
    "import datetime\n",
    "import matplotlib.pyplot as plt\n",
    "import os\n",
    "import pandas as pd \n",
    "import spikeinterface.core as sc\n",
    "import spikeinterface.extractors as se\n",
    "import sys \n",
    "\n",
    "sys.path.append('src')\n",
    "\n",
    "from src.facts import *\n",
    "from src.multiregion_80pin_channels import *\n",
    "\n",
    "figure_folder = 'figures/multiregion'\n",
    "os.makedirs(figure_folder, exist_ok=True)\n",
    "\n",
    "\n",
    "for region, region_curated_channels in curated_channels.items():\n",
    "    nrow = curated_channel_counts[region]\n",
    "    ncol = 6\n",
    "    fig = plt.figure(figsize=(40, nrow))\n",
    "    fig.suptitle(f'{region}')\n",
    "    row = 0\n",
    "    for subject, subject_curated_channels in region_curated_channels.items():\n",
    "        session_info = pd.read_csv(f'data/processed/{subject}/all/session_info.csv')\n",
    "        n_segment = len(session_info['segment_path'].unique())\n",
    "\n",
    "        recording_dates = [datetime.datetime.strptime(path.split('/')[3], '%y%m%d') for path in session_info['segment_path'].unique()]\n",
    "        surgery_date = datetime.datetime.strptime(surgery_dates[subject], '%Y%m%d')\n",
    "        time_lapses = [round((recording_date - surgery_date).days / n_day_per_week) for recording_date in recording_dates]\n",
    "\n",
    "        recordings = [sc.load_extractor(f'data/processed/{subject}/all/{region}/recording/segment{segment_index}') for segment_index in range(n_segment)]\n",
    "\n",
    "        for shank, shank_curated_channels in subject_curated_channels.items():\n",
    "            slices = curations[region][subject][shank]\n",
    "            \n",
    "            for channel_index_on_shank in shank_curated_channels:\n",
    "                for plot_index, (segment_index, (t_start, t_end)) in enumerate(slices.items()):\n",
    "                    ax = plt.subplot(nrow, ncol, row * ncol + plot_index + 1)\n",
    "                    trace = recordings[segment_index].get_traces(\n",
    "                        start_frame=int(t_start*n_s_per_min*recordings[segment_index].sampling_frequency), \n",
    "                        end_frame=int(t_end*n_s_per_min*recordings[segment_index].sampling_frequency)\n",
    "                    ).T[channel_indices[shank][channel_index_on_shank]]\n",
    "                    ax.plot(trace, linewidth=0.5, color=plt.cm.tab20((row % 20)))\n",
    "                    ax.set_ylim(-75, 75)\n",
    "                    ax.set_axis_off()\n",
    "                    ax.set_title(f'{subject} shank{shank} ch{channel_index_on_shank} {time_lapses[segment_index]} wks')\n",
    "                    # ax.set_axis_on()\n",
    "                    # ax.set_xticks([0, 10*recordings[0].sampling_frequency], [0, 10])\n",
    "                    # ax.set_xlabel('Time (s)')\n",
    "                    # ax.set_ylabel(r'Amplitude ($\\mu$V)')\n",
    "\n",
    "                row += 1\n",
    "            \n",
    "    plt.savefig(f'{figure_folder}/{region}_traces.png')\n",
    "    # plt.show()\n",
    "    plt.close()\n",
    "\n",
    "\n",
    "for region, region_curated_channels in curated_channels.items():\n",
    "    nrow = curated_channel_counts[region]\n",
    "    ncol = 6\n",
    "    fig = plt.figure(figsize=(40, nrow))\n",
    "    fig.suptitle(f'{region}')\n",
    "    row = 0\n",
    "    for subject, subject_curated_channels in region_curated_channels.items():\n",
    "        session_info = pd.read_csv(f'data/processed/{subject}/all/session_info.csv')\n",
    "        n_segment = len(session_info['segment_path'].unique())\n",
    "\n",
    "        recording_dates = [datetime.datetime.strptime(path.split('/')[3], '%y%m%d') for path in session_info['segment_path'].unique()]\n",
    "        surgery_date = datetime.datetime.strptime(surgery_dates[subject], '%Y%m%d')\n",
    "        time_lapses = [round((recording_date - surgery_date).days / n_day_per_week) for recording_date in recording_dates]\n",
    "\n",
    "        recordings = [sc.load_extractor(f'data/processed/{subject}/all/{region}/recording/segment{segment_index}') for segment_index in range(n_segment)]\n",
    "\n",
    "        for shank, shank_curated_channels in subject_curated_channels.items():\n",
    "            slices = curations[region][subject][shank]\n",
    "            \n",
    "            for channel_index_on_shank in shank_curated_channels:\n",
    "                for plot_index, (segment_index, (t_start, t_end)) in enumerate(slices.items()):\n",
    "                    ax = plt.subplot(nrow, ncol, row * ncol + plot_index + 1)\n",
    "                    trace = recordings[segment_index].get_traces(\n",
    "                        start_frame=int(t_start*n_s_per_min*recordings[segment_index].sampling_frequency), \n",
    "                        end_frame=int(t_end*n_s_per_min*recordings[segment_index].sampling_frequency)\n",
    "                    ).T[channel_indices[shank][channel_index_on_shank]]\n",
    "                    ax.plot(trace, linewidth=0.5, color=plt.cm.tab20((row % 20)))\n",
    "                    ax.set_ylim(-75, 75)\n",
    "                    ax.set_axis_off()\n",
    "\n",
    "                row += 1\n",
    "            \n",
    "    ax.set_axis_on()\n",
    "    ax.set_xticks([0, 10*recordings[0].sampling_frequency], [0, 10])\n",
    "    ax.set_xlabel('Time (s)')\n",
    "    ax.set_ylabel(r'Amplitude ($\\mu$V)')\n",
    "    plt.savefig(f'{figure_folder}/{region}_traces.pdf')\n",
    "    # plt.show()\n",
    "    plt.close()"
   ]
  },
  {
   "cell_type": "code",
   "execution_count": null,
   "metadata": {},
   "outputs": [],
   "source": []
  },
  {
   "cell_type": "code",
   "execution_count": null,
   "metadata": {},
   "outputs": [],
   "source": [
    "import datetime\n",
    "import matplotlib.pyplot as plt\n",
    "import os\n",
    "import pandas as pd \n",
    "import spikeinterface.core as sc\n",
    "import spikeinterface.extractors as se\n",
    "import sys \n",
    "\n",
    "sys.path.append('src')\n",
    "\n",
    "from src.facts import *\n",
    "from src.multiregion_80pin_channels import *\n",
    "\n",
    "figure_folder = 'figures/multiregion'\n",
    "os.makedirs(figure_folder, exist_ok=True)\n",
    "\n",
    "representative_subjects = {\n",
    "    'region1': (\n",
    "        'M16_1', \n",
    "        # 1,\n",
    "        # {\n",
    "        #     0: (10.6, 11.6), # w2\n",
    "        #     1: (0, 1), # w4\n",
    "        #     2: (6.5, 7.5), # w6\n",
    "        #     3: (16, 17), # w8\n",
    "        #     5: (16, 17), # w10\n",
    "        #     7: (3, 4), # w12\n",
    "        # },\n",
    "        0,\n",
    "        {\n",
    "            0: (0, 1),\n",
    "            1: (2.8, 3.8),\n",
    "            2: (15, 16),\n",
    "            3: (4, 5),\n",
    "            # 4: (2, 3),\n",
    "            5: (3, 4),\n",
    "            # 6: (2, 3),\n",
    "            7: (3.3, 4.3),\n",
    "        },\n",
    "        ),\n",
    "    'region2': (\n",
    "        'M15_7', \n",
    "        2,\n",
    "        {\n",
    "            0: (2.2, 3.2), # w2\n",
    "            1: (3, 4), # w4\n",
    "            2: (9, 10), # w6\n",
    "            3: (18, 19), # w8\n",
    "            6: (11, 12), # w10\n",
    "            7: (14, 15), # w12\n",
    "        },\n",
    "        # 'M10_6',\n",
    "        # 0,\n",
    "        # {\n",
    "        #     # 0: (1, 2), \n",
    "        #     1: (9, 10), # w2\n",
    "        #     # 2: (12.5, 13.5), \n",
    "        #     3: (1, 2), # w4\n",
    "        #     4: (12, 13), # w6\n",
    "        #     5: (18.1, 19.1), # w7\n",
    "        #     # 6: (8, 9),\n",
    "        #     7: (15, 16), # w11\n",
    "        #     8: (1, 2), # w12\n",
    "        #     # 9: (4, 5),\n",
    "        #     # 10: (18.5, 19.5),\n",
    "        # }\n",
    "        ),\n",
    "}\n",
    "\n",
    "trace_gap = 150\n",
    "\n",
    "for region, (subject, shank, slices) in representative_subjects.items():\n",
    "    session_info = pd.read_csv(f'data/processed/{subject}/all/session_info.csv')\n",
    "    n_segment = len(session_info['segment_path'].unique())\n",
    "\n",
    "    recording_dates = [datetime.datetime.strptime(path.split('/')[3], '%y%m%d') for path in session_info['segment_path'].unique()]\n",
    "    surgery_date = datetime.datetime.strptime(surgery_dates[subject], '%Y%m%d')\n",
    "\n",
    "    time_lapses = [round((recording_date - surgery_date).days / n_day_per_week) for recording_date in recording_dates]\n",
    "\n",
    "    recordings = [sc.load_extractor(f'data/processed/{subject}/all/{region}/recording/segment{segment_index}') for segment_index in range(n_segment)]\n",
    "\n",
    "    fig = plt.figure(figsize=(40, 10))\n",
    "    fig.suptitle(f'{subject} - {region}')\n",
    "    for plot_index, (segment_index, (t_start, t_end)) in enumerate(slices.items()):\n",
    "        ax = plt.subplot(1, len(slices), plot_index + 1)\n",
    "        traces = recordings[segment_index].get_traces(\n",
    "            start_frame=int(t_start*n_s_per_min*recordings[segment_index].sampling_frequency), \n",
    "            end_frame=int(t_end*n_s_per_min*recordings[segment_index].sampling_frequency)\n",
    "        ).T[channel_indices[shank]]\n",
    "        for trace_index, trace in enumerate(traces):\n",
    "            ax.plot(trace + trace_index * trace_gap, linewidth=0.5, color=plt.cm.tab20(trace_index))\n",
    "            ax.set_ylim(-500, 1500)\n",
    "        ax.set_axis_off()\n",
    "        ax.set_title(f'{time_lapses[segment_index]} weeks')\n",
    "    ax.set_axis_on()\n",
    "    ax.set_xticks([0, 10*recordings[0].sampling_frequency], [0, 10])\n",
    "    ax.set_xlabel('Time (s)')\n",
    "    ax.set_ylabel(r'Amplitude ($\\mu$V)')\n",
    "    plt.show()\n",
    "session_info"
   ]
  },
  {
   "cell_type": "code",
   "execution_count": null,
   "metadata": {},
   "outputs": [],
   "source": [
    "import datetime\n",
    "import matplotlib.pyplot as plt\n",
    "import os\n",
    "import pandas as pd \n",
    "import spikeinterface.core as sc\n",
    "import spikeinterface.extractors as se\n",
    "import sys \n",
    "\n",
    "sys.path.append('src')\n",
    "\n",
    "from src.facts import *\n",
    "from src.multiregion_80pin_channels import *\n",
    "\n",
    "figure_folder = 'figures/multiregion'\n",
    "os.makedirs(figure_folder, exist_ok=True)\n",
    "\n",
    "representative_subjects = {\n",
    "    'region1': (\n",
    "        'M16_1', \n",
    "        1,\n",
    "        {\n",
    "            0: (10.6, 11.6), # w2\n",
    "            1: (0, 1), # w4\n",
    "            2: (6.5, 7.5), # w6\n",
    "            3: (16, 17), # w8\n",
    "            5: (16, 17), # w10\n",
    "            7: (3, 4), # w12\n",
    "        },\n",
    "        ),\n",
    "    'region2': (\n",
    "        'M15_7', \n",
    "        2,\n",
    "        {\n",
    "            0: (2.2, 3.2), # w2\n",
    "            1: (3, 4), # w4\n",
    "            2: (9, 10), # w6\n",
    "            3: (18, 19), # w8\n",
    "            6: (11, 12), # w10\n",
    "            7: (14, 15), # w12\n",
    "        },\n",
    "        # 'M10_6',\n",
    "        # 0,\n",
    "        # {\n",
    "        #     # 0: (1, 2), \n",
    "        #     1: (9, 10), # w2\n",
    "        #     # 2: (12.5, 13.5), \n",
    "        #     3: (1, 2), # w4\n",
    "        #     4: (12, 13), # w6\n",
    "        #     5: (18.1, 19.1), # w7\n",
    "        #     # 6: (8, 9),\n",
    "        #     7: (15, 16), # w11\n",
    "        #     8: (1, 2), # w12\n",
    "        #     # 9: (4, 5),\n",
    "        #     # 10: (18.5, 19.5),\n",
    "        # }\n",
    "        ),\n",
    "}\n",
    "\n",
    "colors = [\n",
    "    '#9f4854',\n",
    "    '#b34a59',\n",
    "    '#be5665',\n",
    "    '#c86371',\n",
    "    '#d1707e',\n",
    "    '#da7f8c',\n",
    "    '#df8692',\n",
    "    '#e48d9a']\n",
    "trace_gap = 150\n",
    "\n",
    "for region, (subject, shank, slices) in representative_subjects.items():\n",
    "    session_info = pd.read_csv(f'data/processed/{subject}/all/session_info.csv')\n",
    "    n_segment = len(session_info['segment_path'].unique())\n",
    "\n",
    "    recording_dates = [datetime.datetime.strptime(path.split('/')[3], '%y%m%d') for path in session_info['segment_path'].unique()]\n",
    "    surgery_date = datetime.datetime.strptime(surgery_dates[subject], '%Y%m%d')\n",
    "\n",
    "    time_lapses = [round((recording_date - surgery_date).days / n_day_per_week) for recording_date in recording_dates]\n",
    "\n",
    "    recordings = [sc.load_extractor(f'data/processed/{subject}/all/{region}/recording/segment{segment_index}') for segment_index in range(n_segment)]\n",
    "\n",
    "    fig = plt.figure(figsize=(40, 10))\n",
    "    fig.suptitle(f'{subject} - {region}')\n",
    "    for plot_index, (segment_index, (t_start, t_end)) in enumerate(slices.items()):\n",
    "        ax = plt.subplot(1, len(slices), plot_index + 1)\n",
    "        traces = recordings[segment_index].get_traces(\n",
    "            start_frame=int(t_start*n_s_per_min*recordings[segment_index].sampling_frequency), \n",
    "            end_frame=int(t_end*n_s_per_min*recordings[segment_index].sampling_frequency)\n",
    "        ).T[channel_indices[shank]]\n",
    "        for trace_index, trace in enumerate(traces):\n",
    "            # ax.plot(trace + trace_index * trace_gap, linewidth=0.5, color=colors[trace_index])\n",
    "            ax.plot(trace + trace_index * trace_gap, linewidth=0.5, color=plt.cm.tab20(trace_index))\n",
    "            ax.set_ylim(-500, 1500)\n",
    "        ax.set_axis_off()\n",
    "        ax.set_title(f'{time_lapses[segment_index]} weeks')\n",
    "    ax.set_axis_on()\n",
    "    ax.set_xticks([0, 10*recordings[0].sampling_frequency], [0, 10])\n",
    "    ax.set_xlabel('Time (s)')\n",
    "    ax.set_ylabel(r'Amplitude ($\\mu$V)')\n",
    "    plt.show()\n",
    "session_info"
   ]
  },
  {
   "cell_type": "markdown",
   "metadata": {},
   "source": [
    "# Synced Traces"
   ]
  },
  {
   "cell_type": "code",
   "execution_count": null,
   "metadata": {},
   "outputs": [],
   "source": [
    "import matplotlib.pyplot as plt \n",
    "import spikeinterface.core as sc \n",
    "import spikeinterface.extractors as se \n",
    "import spikeinterface.preprocessing as spre \n",
    "import sys \n",
    "sys.path.append('src')\n",
    "\n",
    "from src.facts import *\n",
    "from src.multiregion_80pin_channels import *\n",
    "from src.process import *\n",
    "\n",
    "subject = 'M15_3'\n",
    "segment_index = 0\n",
    "region1_recording = sc.load_extractor(f'data/processed/{subject}/all/region1/recording/segment{segment_index}')\n",
    "region1_recording = preprocess(region1_recording)\n",
    "region2_recording = sc.load_extractor(f'data/processed/{subject}/all/region2/recording/segment{segment_index}')\n",
    "region2_recording = preprocess(region2_recording)\n",
    "\n",
    "t_start = int(10.6 * region1_recording.sampling_frequency)\n",
    "t_end = int(12.6 * region1_recording.sampling_frequency)\n",
    "\n",
    "region1_traces = region1_recording.get_traces(start_frame=t_start, end_frame=t_end).T\n",
    "region2_traces = region2_recording.get_traces(start_frame=t_start, end_frame=t_end).T\n",
    "\n",
    "trace_gap = 75\n",
    "shank_gap = 100\n",
    "\n",
    "plt.figure(figsize=(20, 20))\n",
    "ax = plt.subplot(1, 2, 1)\n",
    "for shank, shank_channels in enumerate(channel_indices):\n",
    "    for trace_index, trace in enumerate(region1_traces[shank_channels]):\n",
    "        y = trace_index * trace_gap + shank * (shank_gap + len(shank_channels) * trace_gap)\n",
    "        ax.plot(trace + y, color=plt.cm.tab20(trace_index))\n",
    "        ax.text(len(trace), y, f'ch{shank_channels[trace_index]}')\n",
    "ax.set_xticks([0, 0.5*region1_recording.sampling_frequency], [0, 500])\n",
    "ax.set_xlabel('Time (ms)')\n",
    "ax.set_ylabel(r'Amplitude ($\\mu$V)')\n",
    "ax.set_title('Region 1')\n",
    "        \n",
    "ax = plt.subplot(1, 2, 2)\n",
    "for shank, shank_channels in enumerate(channel_indices):\n",
    "    for trace_index, trace in enumerate(region2_traces[shank_channels]):\n",
    "        y = trace_index * trace_gap + shank * (shank_gap + len(shank_channels) * trace_gap)\n",
    "        ax.plot(trace + y, color=plt.cm.tab20(trace_index))\n",
    "        ax.text(len(trace), y, f'ch{shank_channels[trace_index]}')\n",
    "ax.set_xticks([0, 0.5*region1_recording.sampling_frequency], [0, 500])\n",
    "ax.set_xlabel('Time (ms)')\n",
    "ax.set_ylabel(r'Amplitude ($\\mu$V)')\n",
    "ax.set_title('Region 2')\n",
    "plt.savefig(f'{figure_folder}/synced_traces_zoom_out.pdf', transparent=True)\n",
    "plt.show()\n",
    "plt.close()"
   ]
  },
  {
   "cell_type": "code",
   "execution_count": null,
   "metadata": {},
   "outputs": [],
   "source": [
    "import matplotlib.pyplot as plt \n",
    "import spikeinterface.core as sc \n",
    "import spikeinterface.extractors as se \n",
    "import spikeinterface.preprocessing as spre \n",
    "import sys \n",
    "sys.path.append('src')\n",
    "\n",
    "from src.facts import *\n",
    "from src.multiregion_80pin_channels import *\n",
    "from src.process import *\n",
    "\n",
    "subject = 'M15_3'\n",
    "segment_index = 0\n",
    "region1_recording = sc.load_extractor(f'data/processed/{subject}/all/region1/recording/segment{segment_index}')\n",
    "region1_recording = preprocess(region1_recording)\n",
    "region2_recording = sc.load_extractor(f'data/processed/{subject}/all/region2/recording/segment{segment_index}')\n",
    "region2_recording = preprocess(region2_recording)\n",
    "\n",
    "\n",
    "trace_gap = (1000, 75)\n",
    "\n",
    "\n",
    "distance_fold = (350, 4)\n",
    "t_start = int(11 * region1_recording.sampling_frequency)\n",
    "t_end = int(12 * region1_recording.sampling_frequency)\n",
    "\n",
    "trace_locations = np.array([\n",
    "    (0, 0), (0, trace_gap[1]*1), (0, trace_gap[1]*2), (0, trace_gap[1]*3), \n",
    "    ((t_end-t_start)+trace_gap[0], 0), ((t_end-t_start)+trace_gap[0], trace_gap[1]*1), ((t_end-t_start)+trace_gap[0], trace_gap[1]*2), ((t_end-t_start)+trace_gap[0], trace_gap[1]*3)\n",
    "])\n",
    "\n",
    "region1_traces = region1_recording.get_traces(start_frame=t_start, end_frame=t_end).T\n",
    "\n",
    "region2_traces = region2_recording.get_traces(start_frame=t_start, end_frame=t_end).T\n",
    "\n",
    "plt.figure(figsize=(50, 20))\n",
    "ax = plt.subplot(1, 2, 1)\n",
    "for shank, shank_channels in enumerate(channel_indices):\n",
    "    shank_location = shank_locations[shank]\n",
    "    for trace_index, trace in enumerate(region1_traces[shank_channels]):\n",
    "        ax.plot(np.arange(trace.shape[0])+shank_location[0]*distance_fold[0]+trace_locations[trace_index][0], trace + shank_location[1] * distance_fold[1]+trace_locations[trace_index][1], color=plt.cm.tab20(trace_index))\n",
    "ax.set_title('Region 1')\n",
    "        \n",
    "ax = plt.subplot(1, 2, 2)\n",
    "for shank, shank_channels in enumerate(channel_indices):\n",
    "    shank_location = shank_locations[shank]\n",
    "    for trace_index, trace in enumerate(region2_traces[shank_channels]):\n",
    "        ax.plot(np.arange(trace.shape[0])+shank_location[0]*distance_fold[0]+trace_locations[trace_index][0], trace + shank_location[1] * distance_fold[1]+trace_locations[trace_index][1], color=plt.cm.tab20(trace_index))\n",
    "ax.set_title('Region 2')\n",
    "plt.show()"
   ]
  },
  {
   "cell_type": "code",
   "execution_count": null,
   "metadata": {},
   "outputs": [],
   "source": [
    "distance_fold = (11, 2.5)\n",
    "\n",
    "t_start = int(11.255 * region1_recording.sampling_frequency)\n",
    "t_end = int(11.275* region1_recording.sampling_frequency)\n",
    "\n",
    "trace_gap = (200, 75)\n",
    "trace_locations = np.array([\n",
    "    (0, 0), (0, trace_gap[1]*1), (0, trace_gap[1]*2), (0, trace_gap[1]*3), \n",
    "    ((t_end-t_start)+trace_gap[0], 0), ((t_end-t_start)+trace_gap[0], trace_gap[1]*1), ((t_end-t_start)+trace_gap[0], trace_gap[1]*2), ((t_end-t_start)+trace_gap[0], trace_gap[1]*3)\n",
    "])\n",
    "\n",
    "region1_traces = region1_recording.get_traces(start_frame=t_start, end_frame=t_end).T\n",
    "region2_traces = region2_recording.get_traces(start_frame=t_start, end_frame=t_end).T\n",
    "\n",
    "plt.figure(figsize=(50, 20))\n",
    "ax = plt.subplot(1, 2, 1)\n",
    "for shank, shank_channels in enumerate(channel_indices):\n",
    "    shank_location = shank_locations[shank]\n",
    "    for trace_index, trace in enumerate(region1_traces[shank_channels]):\n",
    "        ax.plot(np.arange(trace.shape[0])+shank_location[0]*distance_fold[0]+trace_locations[trace_index][0], trace + shank_location[1] * distance_fold[1]+trace_locations[trace_index][1], color=plt.cm.tab20(trace_index))\n",
    "ax.set_title('Region 1')\n",
    "ax.set_xticks([0, 0.005*region1_recording.sampling_frequency], [0, 5])\n",
    "ax.set_xlabel('Time (ms)')\n",
    "ax.set_ylabel(r'Amplitude ($\\mu$V)')\n",
    "        \n",
    "ax = plt.subplot(1, 2, 2)\n",
    "for shank, shank_channels in enumerate(channel_indices):\n",
    "    shank_location = shank_locations[shank]\n",
    "    for trace_index, trace in enumerate(region2_traces[shank_channels]):\n",
    "        ax.plot(np.arange(trace.shape[0])+shank_location[0]*distance_fold[0]+trace_locations[trace_index][0], trace + shank_location[1] * distance_fold[1]+trace_locations[trace_index][1], color=plt.cm.tab20(trace_index))\n",
    "ax.set_title('Region 2')\n",
    "ax.set_xticks([0, 0.005*region1_recording.sampling_frequency], [0, 5])\n",
    "ax.set_xlabel('Time (ms)')\n",
    "ax.set_ylabel(r'Amplitude ($\\mu$V)')\n",
    "plt.savefig(f'{figure_folder}/synced_traces_zoom_in.pdf', transparent=True)\n",
    "plt.show()"
   ]
  },
  {
   "cell_type": "markdown",
   "metadata": {},
   "source": [
    "# Long-Term Units"
   ]
  },
  {
   "cell_type": "code",
   "execution_count": 5,
   "metadata": {},
   "outputs": [],
   "source": [
    "import datetime\n",
    "import os\n",
    "import pandas as pd\n",
    "import spikeinterface.core as sc \n",
    "import spikeinterface.curation as scu\n",
    "import spikeinterface.extractors as se \n",
    "import spikeinterface.postprocessing as spost \n",
    "import sys \n",
    "\n",
    "sys.path.append('src')\n",
    "\n",
    "from longterm_multiregion_curation import * \n",
    "from src.facts import *\n",
    "from src.multiregion_80pin_channels import *\n",
    "from src.process import *\n",
    "\n",
    "sorted_duration = 15\n",
    "probe = create_multi_shank_probe()\n",
    "\n",
    "\n",
    "segment_gap = 3\n",
    "trace_gap = (150, 50)\n",
    "template_location = [\n",
    "    (0, 0), (0, trace_gap[1]), (0, trace_gap[1]*2), (0, trace_gap[1]*3),\n",
    "    (trace_gap[0], 0), (trace_gap[0], trace_gap[1]), (trace_gap[0], trace_gap[1]*2), (trace_gap[0], trace_gap[1]*3)\n",
    "]\n",
    "\n",
    "for (subject, threshold) in excluded_segments.keys():\n",
    "    subject_folder = f'data/processed/{subject}/all'\n",
    "    session_info = pd.read_csv(f'{subject_folder}/session_info.csv')\n",
    "    n_segment = len(session_info['segment_path'].unique())\n",
    "    recording_dates = [datetime.datetime.strptime(path.split('/')[3], '%y%m%d') for path in session_info['segment_path'].unique()]\n",
    "    surgery_date = datetime.datetime.strptime(surgery_dates[subject], '%Y%m%d')\n",
    "    time_lapses = [round((recording_date - surgery_date).days / n_day_per_week) for recording_date in recording_dates]\n",
    "\n",
    "    for region, region_segments in valid_segments[subject].items():\n",
    "        region_folder = f'{subject_folder}/{region}'\n",
    "\n",
    "        output_folder = f'{figure_folder}/templates/{region}'\n",
    "        os.makedirs(output_folder, exist_ok=True)\n",
    "\n",
    "        recordings = [\n",
    "            sc.load_extractor(f'{region_folder}/recording/segment{segment_index}').set_probe(probe) \n",
    "            for segment_index in range(n_segment)\n",
    "        ]\n",
    "        recordings = [\n",
    "            preprocess(segment_recording) for segment_recording in recordings\n",
    "        ]\n",
    "        recordings = [\n",
    "            segment_recording.frame_slice(\n",
    "                start_frame=0, \n",
    "                end_frame=min(segment_recording.get_num_frames(), int(sorted_duration*n_s_per_min*segment_recording.sampling_frequency))\n",
    "            ) for segment_recording in recordings\n",
    "        ]\n",
    "        recording = sc.concatenate_recordings(recordings).set_probe(probe, in_place=True)\n",
    "\n",
    "        n_frames_per_ms = int(recording.sampling_frequency // n_ms_per_s)\n",
    "\n",
    "        sorting = se.NpzSortingExtractor(f'{region_folder}/sorting{threshold}-{sorted_duration}min/sorter_output/firings.npz')\n",
    "        # spikeinterface https://github.com/SpikeInterface/spikeinterface/pull/1378\n",
    "        sorting = scu.remove_excess_spikes(sorting, recording)  \n",
    "        sorting = sc.split_sorting(sorting, recordings)\n",
    "        sortings = [sc.select_segment_sorting(sorting, segment_indices=segment_index) for segment_index in range(n_segment)]\n",
    "\n",
    "        waveform_extractors = [sc.load_waveforms(folder=f'{region_folder}/waveform{threshold}-{sorted_duration}min/segment{segment_index}', with_recording=False, sorting=sortings[segment_index]) for segment_index in range(n_segment)]\n",
    "\n",
    "        for segment_index, segment_recording in enumerate(recordings):\n",
    "            segment_recording.set_probe(probe, in_place=True)\n",
    "            waveform_extractors[segment_index].set_recording(segment_recording)\n",
    "            spost.compute_unit_locations(waveform_extractors[segment_index], load_if_exists=True)\n",
    "\n",
    "        for unit_id, unit_segments in region_segments.items():\n",
    "            plotted_lapses = [time_lapses[segment_index] for segment_index in unit_segments]\n",
    "            if 11 not in plotted_lapses and 12 not in plotted_lapses: continue\n",
    "            if 9 not in plotted_lapses and 10 not in plotted_lapses and 11 not in plotted_lapses: continue\n",
    "            if 7 not in plotted_lapses and 8 not in plotted_lapses and 9 not in plotted_lapses: continue\n",
    "            if 5 not in plotted_lapses and 6 not in plotted_lapses and 7 not in plotted_lapses: continue\n",
    "            unit_plot_file = f'{output_folder}/{subject}-{unit_id}.pdf'\n",
    "\n",
    "            if not os.path.isfile(unit_plot_file):\n",
    "                fig = plt.figure(figsize=(3, 5))\n",
    "                fig.suptitle(f'{subject} - threshold {threshold} - unit {unit_id}\\nsegments {unit_segments}\\nlapses {[time_lapses[segment_index] for segment_index in unit_segments]} weeks', y=1.03)\n",
    "                for plot_index, segment_index in enumerate(unit_segments):\n",
    "                    extremum_channel = sc.get_template_extremum_channel(waveform_extractors[segment_index], peak_sign='neg')[unit_id]\n",
    "                    shank_channels = channel_indices[find_shank(extremum_channel)]\n",
    "                    templates = waveform_extractors[segment_index].get_template(unit_id)[:, shank_channels].T\n",
    "                    \n",
    "                    for template_index, template in enumerate(templates):\n",
    "                        if template_index == 0:\n",
    "                            plt.plot(\n",
    "                                np.arange(template.shape[0]) + template_location[template_index][0],\n",
    "                                template + template_location[template_index][1] + plot_index * segment_gap,\n",
    "                                color = '#5a82b7', alpha = min(1, 0.4+0.6*time_lapses[segment_index]/12), linewidth=0.5,\n",
    "                                label = time_lapses[segment_index]\n",
    "                            )\n",
    "                        else:\n",
    "                            plt.plot(\n",
    "                                np.arange(template.shape[0]) + template_location[template_index][0],\n",
    "                                template + template_location[template_index][1] + plot_index * segment_gap,\n",
    "                                color = '#5a82b7', alpha = min(1, 0.4+0.6*time_lapses[segment_index]/12), linewidth=0.5,\n",
    "                            )\n",
    "                plt.ylim(-75, 225)\n",
    "                plt.xticks([0, recording.sampling_frequency/n_ms_per_s], [0, 1])\n",
    "                plt.xlabel('Time (ms)')\n",
    "                plt.ylabel(f'Amplitude ($\\mu$V)')\n",
    "                plt.legend(bbox_to_anchor=(1.3, 1))\n",
    "                plt.savefig(unit_plot_file, bbox_inches='tight', transparent=True)\n",
    "                # plt.show()\n",
    "                plt.close()"
   ]
  },
  {
   "cell_type": "markdown",
   "metadata": {},
   "source": [
    "# Long-Term Active Units"
   ]
  },
  {
   "cell_type": "code",
   "execution_count": null,
   "metadata": {},
   "outputs": [],
   "source": [
    "import matplotlib.pyplot as plt\n",
    "import pandas as pd\n",
    "import sys \n",
    "\n",
    "sys.path.append('src')\n",
    "\n",
    "from longterm_multiregion_curation import * \n",
    "from src.facts import *\n",
    "\n",
    "def round_lapse(lapse):\n",
    "    if lapse <= 3: \n",
    "        return 2\n",
    "    elif lapse <= 5:\n",
    "        return 4\n",
    "    elif lapse <= 7:\n",
    "        return 6\n",
    "    elif lapse <= 9:\n",
    "        return 8\n",
    "    elif lapse <= 11:\n",
    "        return 10\n",
    "    elif lapse <= 13:\n",
    "        return 12\n",
    "    else:\n",
    "        return 100\n",
    "    \n",
    "lapses_to_units = {}\n",
    "for subject, subject_valid_segments in valid_segments.items():\n",
    "    session_info = pd.read_csv(f'data/processed/{subject}/all/session_info.csv')\n",
    "    n_segment = len(session_info['segment_path'].unique())\n",
    "    recording_dates = [datetime.datetime.strptime(path.split('/')[3], '%y%m%d') for path in session_info['segment_path'].unique()]\n",
    "    surgery_date = datetime.datetime.strptime(surgery_dates[subject], '%Y%m%d')\n",
    "    time_lapses = [(recording_date - surgery_date).days / n_day_per_week for recording_date in recording_dates]\n",
    "    rounded_lapses = [round_lapse(time_lapse) for time_lapse in time_lapses]\n",
    "    \n",
    "    subject_lapses_to_units = { lapse: set([]) for lapse in [2, 4, 6, 8, 10, 12] }\n",
    "    for region, region_valid_segments in subject_valid_segments.items():\n",
    "        for unit_id, unit_segments in region_valid_segments.items():\n",
    "            for segment_index in unit_segments:\n",
    "                if rounded_lapses[segment_index] in subject_lapses_to_units:\n",
    "                    subject_lapses_to_units[rounded_lapses[segment_index]].add(f'{region}-{unit_id}')\n",
    "    lapses_to_units[subject] = subject_lapses_to_units \n",
    "\n",
    "\n",
    "stats = []\n",
    "for subject, subject_lapses_to_units in lapses_to_units.items():\n",
    "    for lapse, units_in_lapse in subject_lapses_to_units.items():\n",
    "        stats.append({\n",
    "            'subject': subject,\n",
    "            'lapse': lapse,\n",
    "            'unit count': len(units_in_lapse)\n",
    "        })\n",
    "\n",
    "stats = pd.json_normalize(stats)\n",
    "\n",
    "subjects = list(sorted(stats['subject'].unique()))\n",
    "\n",
    "fig = plt.figure(figsize=(5, 5))\n",
    "ax = plt.gca()\n",
    "\n",
    "for subject in subjects:\n",
    "    subject_stats = stats[stats['subject'] == subject]\n",
    "    if sum(subject_stats['unit count']) == 0: continue\n",
    "    ax.scatter(subject_stats['lapse'], subject_stats['unit count'], label=subject, alpha=0.5, color=colors[subject])\n",
    "    plt.plot(subject_stats['lapse'], subject_stats['unit count'], label=subject, alpha=0.3)\n",
    "\n",
    "lapses = sorted(stats['lapse'].unique())\n",
    "mean_counts = []\n",
    "for lapse in lapses:\n",
    "    lapse_stats = stats[stats['lapse'] == lapse]\n",
    "    mean_counts.append(lapse_stats[lapse_stats['unit count'] > 0]['unit count'].mean())\n",
    "ax.plot(lapses, mean_counts, label='mean', color='black', linewidth=2)\n",
    "\n",
    "ax.set_xlabel('Time (week)')\n",
    "ax.set_ylabel('Unit counts')\n",
    "ax.set_title(f'{region} units recorded per lapses')\n",
    "ax.set_ylim(-20, 50)\n",
    "ax.legend(bbox_to_anchor=(0.3, -0.2))\n",
    "# plt.savefig(f'{figure_folder}/units_per_lapse.pdf', transparent=True, bbox_inches='tight')\n",
    "plt.show() \n",
    "plt.close()"
   ]
  },
  {
   "cell_type": "code",
   "execution_count": null,
   "metadata": {},
   "outputs": [],
   "source": [
    "import datetime\n",
    "import matplotlib.pyplot as plt\n",
    "import pandas as pd\n",
    "import seaborn as sns\n",
    "import sys \n",
    "\n",
    "sys.path.append('src')\n",
    "\n",
    "from longterm_multiregion_curation import * \n",
    "from src.facts import *\n",
    "\n",
    "def round_lapse(lapse):\n",
    "    if lapse <= 3: \n",
    "        return 2\n",
    "    elif lapse <= 5:\n",
    "        return 4\n",
    "    elif lapse <= 7:\n",
    "        return 6\n",
    "    elif lapse <= 9:\n",
    "        return 8\n",
    "    elif lapse <= 11:\n",
    "        return 10\n",
    "    elif lapse <= 13:\n",
    "        return 12\n",
    "    else:\n",
    "        return 100\n",
    "    \n",
    "first_lapse = 2\n",
    "lapses_to_units = {}\n",
    "for subject, subject_valid_segments in valid_segments.items():\n",
    "    session_info = pd.read_csv(f'data/processed/{subject}/all/session_info.csv')\n",
    "    n_segment = len(session_info['segment_path'].unique())\n",
    "    recording_dates = [datetime.datetime.strptime(path.split('/')[3], '%y%m%d') for path in session_info['segment_path'].unique()]\n",
    "    surgery_date = datetime.datetime.strptime(surgery_dates[subject], '%Y%m%d')\n",
    "    time_lapses = [(recording_date - surgery_date).days / n_day_per_week for recording_date in recording_dates]\n",
    "    rounded_lapses = [round_lapse(time_lapse) for time_lapse in time_lapses]\n",
    "    \n",
    "    subject_lapses_to_units = { lapse: set([]) for lapse in [2, 4, 6, 8, 10, 12] }\n",
    "    for region, region_valid_segments in subject_valid_segments.items():\n",
    "        for unit_id, unit_segments in region_valid_segments.items():\n",
    "            for segment_index in unit_segments:\n",
    "                if rounded_lapses[segment_index] in subject_lapses_to_units:\n",
    "                    subject_lapses_to_units[rounded_lapses[segment_index]].add(f'{region}-{unit_id}')\n",
    "    lapses_to_units[subject] = subject_lapses_to_units \n",
    "\n",
    "\n",
    "stats = []\n",
    "for subject, subject_lapses_to_units in lapses_to_units.items():\n",
    "    for lapse, units_in_lapse in subject_lapses_to_units.items():\n",
    "        stats.append({\n",
    "            'subject': subject,\n",
    "            'lapse': lapse,\n",
    "            'unit count': len(units_in_lapse),\n",
    "            'unit percent': len(units_in_lapse) / (len(subject_lapses_to_units[first_lapse])+1e-6) * 100,\n",
    "        })\n",
    "\n",
    "stats = pd.json_normalize(stats)\n",
    "\n",
    "subjects = list(sorted(stats['subject'].unique()))\n",
    "colors = { subject: plt.cm.tab20(subjects.index(subject)) for subject in subjects}\n",
    "\n",
    "fig = plt.figure(figsize=(5, 5))\n",
    "ax = plt.gca()\n",
    "\n",
    "for subject in subjects:\n",
    "    subject_stats = stats[stats['subject'] == subject]\n",
    "    if sum(subject_stats['unit percent']) == 0: continue\n",
    "    ax.scatter([lapses.index(lapse) for lapse in subject_stats['lapse']], subject_stats['unit percent'], label=subject, alpha=0.5, color=colors[subject])\n",
    "\n",
    "sns.pointplot(data=stats, x='lapse', y='unit percent', ax=ax, color='black', capsize=0.2)\n",
    "# lapses = sorted(stats['lapse'].unique())\n",
    "# mean_percentages = []\n",
    "# for lapse in lapses:\n",
    "#     lapse_stats = stats[stats['lapse'] == lapse]\n",
    "#     mean_percentages.append(lapse_stats['unit percent'].mean())\n",
    "# ax.plot(lapses, mean_percentages, label='mean', color='black', linewidth=2)\n",
    "\n",
    "ax.set_xlabel('Time (week)')\n",
    "ax.set_ylabel('Unit count / first recording (%)')\n",
    "ax.set_title(f'{region} units recorded per lapses')\n",
    "ax.set_ylim(-100, 500)\n",
    "ax.legend(bbox_to_anchor=(0.3, -0.2))\n",
    "plt.savefig(f'{figure_folder}/units_per_lapse_percent.pdf', transparent=True, bbox_inches='tight')\n",
    "plt.show() \n",
    "plt.close()"
   ]
  },
  {
   "cell_type": "code",
   "execution_count": null,
   "metadata": {},
   "outputs": [],
   "source": [
    "import matplotlib.pyplot as plt\n",
    "import pandas as pd\n",
    "import sys \n",
    "\n",
    "sys.path.append('src')\n",
    "\n",
    "from longterm_multiregion_curation import * \n",
    "from src.facts import *\n",
    "\n",
    "def round_lapse(lapse):\n",
    "    if lapse <= 3: \n",
    "        return 2\n",
    "    elif lapse <= 5:\n",
    "        return 4\n",
    "    elif lapse <= 7:\n",
    "        return 6\n",
    "    elif lapse <= 9:\n",
    "        return 8\n",
    "    elif lapse <= 11:\n",
    "        return 10\n",
    "    elif lapse <= 13:\n",
    "        return 12\n",
    "    else:\n",
    "        return 100\n",
    "    \n",
    "lapses_to_units = {}\n",
    "for subject, subject_valid_segments in valid_segments.items():\n",
    "    session_info = pd.read_csv(f'data/processed/{subject}/all/session_info.csv')\n",
    "    n_segment = len(session_info['segment_path'].unique())\n",
    "    recording_dates = [datetime.datetime.strptime(path.split('/')[3], '%y%m%d') for path in session_info['segment_path'].unique()]\n",
    "    surgery_date = datetime.datetime.strptime(surgery_dates[subject], '%Y%m%d')\n",
    "    time_lapses = [(recording_date - surgery_date).days / n_day_per_week for recording_date in recording_dates]\n",
    "    rounded_lapses = [round_lapse(time_lapse) for time_lapse in time_lapses]\n",
    "    \n",
    "    subject_lapses_to_units = { \n",
    "        'region1': { lapse: set([]) for lapse in [2, 4, 6, 8, 10, 12]}, \n",
    "        'region2': { lapse: set([]) for lapse in [2, 4, 6, 8, 10, 12]}, \n",
    "    }\n",
    "    for region, region_valid_segments in subject_valid_segments.items():\n",
    "        for unit_id, unit_segments in region_valid_segments.items():\n",
    "            for segment_index in unit_segments:\n",
    "                if rounded_lapses[segment_index] in subject_lapses_to_units[region]:\n",
    "                    subject_lapses_to_units[region][rounded_lapses[segment_index]].add(unit_id)\n",
    "    lapses_to_units[subject] = subject_lapses_to_units \n",
    "\n",
    "\n",
    "stats = []\n",
    "for subject, subject_lapses_to_units in lapses_to_units.items():\n",
    "    for region, region_lapses_to_units in subject_lapses_to_units.items():\n",
    "        for lapse, units_in_lapse in region_lapses_to_units.items():\n",
    "            stats.append({\n",
    "                'region': region,\n",
    "                'subject': subject,\n",
    "                'lapse': lapse,\n",
    "                'unit count': len(units_in_lapse)\n",
    "            })\n",
    "\n",
    "stats = pd.json_normalize(stats)\n",
    "\n",
    "subjects = list(sorted(stats['subject'].unique()))\n",
    "\n",
    "fig = plt.figure(figsize=(10, 5))\n",
    "for plot_index, region in enumerate(stats['region'].unique()):\n",
    "    ax = plt.subplot(1, 2, plot_index + 1)\n",
    "\n",
    "    region_stats = stats[stats['region'] == region]\n",
    "\n",
    "    for subject in subjects:\n",
    "        subject_stats = region_stats[region_stats['subject'] == subject]\n",
    "        if sum(subject_stats['unit count']) == 0: continue\n",
    "        ax.scatter(subject_stats['lapse'], subject_stats['unit count'], label=subject, alpha=0.5, color=colors[subject])\n",
    "        plt.plot(subject_stats['lapse'], subject_stats['unit count'], label=subject, alpha=0.3, color=colors[subject])\n",
    "\n",
    "    lapses = sorted(stats['lapse'].unique())\n",
    "    mean_counts = []\n",
    "    for lapse in lapses:\n",
    "        lapse_stats = region_stats[region_stats['lapse'] == lapse]\n",
    "        mean_counts.append(lapse_stats[lapse_stats['unit count'] > 0]['unit count'].mean())\n",
    "    ax.plot(lapses, mean_counts, label='mean', color='black', linewidth=2)\n",
    "\n",
    "    ax.set_xlabel('Time (week)')\n",
    "    ax.set_ylabel('Unit counts')\n",
    "    ax.set_title(f'{region} units recorded per lapses')\n",
    "    ax.set_ylim(-20, 50)\n",
    "    ax.legend(bbox_to_anchor=(0.3, -0.2))\n",
    "# plt.savefig(f'{figure_folder}/units_per_lapse.pdf', transparent=True, bbox_inches='tight')\n",
    "plt.show() \n",
    "plt.close()"
   ]
  },
  {
   "cell_type": "code",
   "execution_count": null,
   "metadata": {},
   "outputs": [],
   "source": [
    "import matplotlib.pyplot as plt\n",
    "import pandas as pd\n",
    "import sys \n",
    "\n",
    "sys.path.append('src')\n",
    "\n",
    "from longterm_multiregion_curation import * \n",
    "from src.facts import *\n",
    "\n",
    "    \n",
    "subject_units = {}\n",
    "lapses_to_units = {}\n",
    "for subject, subject_valid_segments in valid_segments.items():\n",
    "    subject_units[subject] = {}\n",
    "    session_info = pd.read_csv(f'data/processed/{subject}/all/session_info.csv')\n",
    "    n_segment = len(session_info['segment_path'].unique())\n",
    "    recording_dates = [datetime.datetime.strptime(path.split('/')[3], '%y%m%d') for path in session_info['segment_path'].unique()]\n",
    "    surgery_date = datetime.datetime.strptime(surgery_dates[subject], '%Y%m%d')\n",
    "    time_lapses = [(recording_date - surgery_date).days / n_day_per_week for recording_date in recording_dates]\n",
    "    rounded_lapses = [round_lapse(time_lapse) for time_lapse in time_lapses]\n",
    "    \n",
    "    subject_lapses_to_units = { \n",
    "        'region1': { lapse: set([]) for lapse in [2, 4, 6, 8, 10, 12]}, \n",
    "        'region2': { lapse: set([]) for lapse in [2, 4, 6, 8, 10, 12]}, \n",
    "    }\n",
    "    for region, region_valid_segments in subject_valid_segments.items():\n",
    "        subject_units[subject][region] = set([])\n",
    "        for unit_id, unit_segments in region_valid_segments.items():\n",
    "            for segment_index in unit_segments:\n",
    "                if rounded_lapses[segment_index] in subject_lapses_to_units[region]:\n",
    "                    subject_units[subject][region].add(unit_id)\n",
    "                    subject_lapses_to_units[region][rounded_lapses[segment_index]].add(unit_id)\n",
    "    lapses_to_units[subject] = subject_lapses_to_units \n",
    "\n",
    "\n",
    "stats = []\n",
    "for subject, subject_lapses_to_units in lapses_to_units.items():\n",
    "    for region, region_lapses_to_units in subject_lapses_to_units.items():\n",
    "        for lapse, units_in_lapse in region_lapses_to_units.items():\n",
    "            stats.append({\n",
    "                'region': region,\n",
    "                'subject': subject,\n",
    "                'lapse': lapse,\n",
    "                'unit count': len(units_in_lapse),\n",
    "                'unit percentage': len(units_in_lapse) / (len(subject_units[subject][region]) + 1e-6)\n",
    "            })\n",
    "\n",
    "stats = pd.json_normalize(stats)\n",
    "\n",
    "subjects = list(sorted(stats['subject'].unique()))\n",
    "colors = { subject: plt.cm.tab20(subjects.index(subject)) for subject in subjects}\n",
    "\n",
    "fig = plt.figure(figsize=(10, 5))\n",
    "for plot_index, region in enumerate(stats['region'].unique()):\n",
    "    ax = plt.subplot(1, 2, plot_index + 1)\n",
    "\n",
    "    region_stats = stats[stats['region'] == region]\n",
    "\n",
    "    for subject in subjects:\n",
    "        subject_stats = region_stats[region_stats['subject'] == subject]\n",
    "        if sum(subject_stats['unit percentage']) == 0: continue\n",
    "        ax.scatter(subject_stats['lapse'], subject_stats['unit percentage'], label=subject, alpha=0.5, color=colors[subject])\n",
    "        # plt.plot(subject_stats['lapse'], subject_stats['unit percentage'], label=subject, alpha=0.3)\n",
    "\n",
    "    lapses = sorted(stats['lapse'].unique())\n",
    "    mean_counts = []\n",
    "    for lapse in lapses:\n",
    "        lapse_stats = region_stats[region_stats['lapse'] == lapse]\n",
    "        mean_counts.append(lapse_stats[lapse_stats['unit percentage'] > 0]['unit percentage'].mean())\n",
    "    ax.plot(lapses, mean_counts, label='mean', color='black', linewidth=2)\n",
    "\n",
    "    ax.set_xlabel('Time (week)')\n",
    "    ax.set_ylabel('Unit counts (%)')\n",
    "    ax.set_title(f'{region} units recorded per lapses')\n",
    "    # ax.set_ylim(0, 300)\n",
    "    ax.set_ylim(-0.5, 1.5)\n",
    "    ax.legend(bbox_to_anchor=(0.3, -0.2))\n",
    "# plt.savefig(f'{figure_folder}/units_per_lapse_percent.pdf', transparent=True, bbox_inches='tight')\n",
    "plt.show() \n",
    "plt.close()"
   ]
  },
  {
   "cell_type": "markdown",
   "metadata": {},
   "source": [
    "# Metrics"
   ]
  },
  {
   "cell_type": "code",
   "execution_count": null,
   "metadata": {},
   "outputs": [],
   "source": [
    "import datetime\n",
    "import numpy as np\n",
    "import os\n",
    "import pandas as pd\n",
    "import seaborn as sns \n",
    "import spikeinterface.core as sc \n",
    "import spikeinterface.curation as scu\n",
    "import spikeinterface.extractors as se \n",
    "import spikeinterface.postprocessing as spost \n",
    "import spikeinterface.qualitymetrics as sqm\n",
    "import sys \n",
    "\n",
    "sys.path.append('src')\n",
    "\n",
    "from longterm_multiregion_curation import * \n",
    "from src.facts import *\n",
    "from src.multiregion_80pin_channels import *\n",
    "from src.process import *\n",
    "\n",
    "sorted_duration = 15\n",
    "probe = create_multi_shank_probe()\n",
    "\n",
    "lapses = [2, 4, 6, 8, 10, 12]\n",
    "\n",
    "def remove_duplicate_segments(segment_indices, time_lapses, rounded_lapses):\n",
    "    output_segments = []\n",
    "    for lapse in lapses:\n",
    "        if lapse in rounded_lapses:\n",
    "            lapse_indices = [index for index, rounded_lapses in enumerate(rounded_lapses) if rounded_lapses == lapse]\n",
    "            lapse_margin = np.array([abs(time_lapses[index] - lapse) for index in lapse_indices])\n",
    "            output_segments.append([segment_indices[index] for index in lapse_indices][np.argmin(lapse_margin)])\n",
    "    return output_segments\n",
    "\n",
    "features = {}\n",
    "for (subject, threshold) in excluded_segments.keys():\n",
    "    subject_folder = f'data/processed/{subject}/all'\n",
    "    session_info = pd.read_csv(f'{subject_folder}/session_info.csv')\n",
    "    n_segment = len(session_info['segment_path'].unique())\n",
    "    recording_dates = [datetime.datetime.strptime(path.split('/')[3], '%y%m%d') for path in session_info['segment_path'].unique()]\n",
    "    surgery_date = datetime.datetime.strptime(surgery_dates[subject], '%Y%m%d')\n",
    "    time_lapses = [((recording_date - surgery_date).days / n_day_per_week) for recording_date in recording_dates]\n",
    "    rounded_lapses = [round_lapse(time_lapse) for time_lapse in time_lapses]\n",
    "\n",
    "    features[subject] = {}\n",
    "    for region, region_segments in valid_segments[subject].items():\n",
    "        features[subject][region] = {}\n",
    "        region_folder = f'{subject_folder}/{region}'\n",
    "\n",
    "        recordings = [\n",
    "            sc.load_extractor(f'{region_folder}/recording/segment{segment_index}').set_probe(probe) \n",
    "            for segment_index in range(n_segment)\n",
    "        ]\n",
    "        recordings = [\n",
    "            preprocess(segment_recording) for segment_recording in recordings\n",
    "        ]\n",
    "        recordings = [\n",
    "            segment_recording.frame_slice(\n",
    "                start_frame=0, \n",
    "                end_frame=min(segment_recording.get_num_frames(), int(sorted_duration*n_s_per_min*segment_recording.sampling_frequency))\n",
    "            ) for segment_recording in recordings\n",
    "        ]\n",
    "        recording = sc.concatenate_recordings(recordings).set_probe(probe, in_place=True)\n",
    "\n",
    "        n_frames_per_ms = int(recording.sampling_frequency // n_ms_per_s)\n",
    "\n",
    "        sorting = se.NpzSortingExtractor(f'{region_folder}/sorting{threshold}-{sorted_duration}min/sorter_output/firings.npz')\n",
    "        # spikeinterface https://github.com/SpikeInterface/spikeinterface/pull/1378\n",
    "        sorting = scu.remove_excess_spikes(sorting, recording)  \n",
    "        sorting = sc.split_sorting(sorting, recordings)\n",
    "        sortings = [sc.select_segment_sorting(sorting, segment_indices=segment_index) for segment_index in range(n_segment)]\n",
    "\n",
    "        waveform_extractors = [sc.load_waveforms(folder=f'{region_folder}/waveform{threshold}-{sorted_duration}min/segment{segment_index}', with_recording=False, sorting=sortings[segment_index]) for segment_index in range(n_segment)]\n",
    "\n",
    "        for segment_index, segment_recording in enumerate(recordings):\n",
    "            segment_recording.set_probe(probe, in_place=True)\n",
    "            waveform_extractors[segment_index].set_recording(segment_recording)\n",
    "            spost.compute_unit_locations(waveform_extractors[segment_index], load_if_exists=True)\n",
    "\n",
    "        for unit_id, unit_segments in region_segments.items():\n",
    "            unit_time_lapses = [time_lapses[segment_index] for segment_index in unit_segments]\n",
    "            unit_rounded_lapses = [rounded_lapses[segment_index] for segment_index in unit_segments]\n",
    "            unit_segments = remove_duplicate_segments(unit_segments, unit_time_lapses, unit_rounded_lapses)\n",
    "\n",
    "            features[subject][region][unit_id] = {}\n",
    "            for segment_index in unit_segments:\n",
    "                segment_snr = sqm.compute_snrs(waveform_extractors[segment_index], peak_sign='neg', unit_ids=[unit_id])[unit_id]\n",
    "                segment_firing_rate = sqm.compute_firing_rates(waveform_extractors[segment_index], unit_ids=[unit_id])[unit_id]\n",
    "                sqm.compute_\n",
    "                segment_template_metrics = spost.compute_template_metrics(waveform_extractors[unit_segments[0]], peak_sign='neg').loc[[unit_id]]\n",
    "                features[subject][region][unit_id][rounded_lapses[segment_index]] = {\n",
    "                    'snr': segment_snr,\n",
    "                    'firing_rate': segment_firing_rate,\n",
    "                    'peak_to_valley': segment_template_metrics['peak_to_valley'].item() * n_ms_per_s,\n",
    "                    'abs(peak_trough_ratio)': np.abs(segment_template_metrics['peak_trough_ratio'].item()),\n",
    "                    'half_width': segment_template_metrics['half_width'].item() * n_ms_per_s,\n",
    "                    'repolarization_slope': segment_template_metrics['repolarization_slope'].item() / n_uV_per_mV / n_mV_per_V,\n",
    "                    'abs(recovery_slope)': np.abs(segment_template_metrics['recovery_slope'].item() / n_uV_per_mV / n_mV_per_V),\n",
    "                }\n",
    "\n",
    "plot_lims = {\n",
    "    'snr': (-25, 50), \n",
    "    'firing_rate': (-5, 10),\n",
    "    'peak_to_valley': (-0.2, 1), \n",
    "    'abs(peak_trough_ratio)': (-0.3, 1.1), \n",
    "    'half_width': (-0.2, 0.6),\n",
    "    'repolarization_slope': (-2, 3), \n",
    "    'abs(recovery_slope)': (-0.3, 0.4)\n",
    "}\n",
    "\n",
    "stats = []\n",
    "for subject, subject_features in features.items():\n",
    "    for region, region_features in subject_features.items():\n",
    "        for unit_id, unit_features in region_features.items():\n",
    "            for lapse, lapse_feature in unit_features.items():\n",
    "                stats.append({\n",
    "                    'subject': subject,\n",
    "                    'region': region,\n",
    "                    'unit_id': unit_id,\n",
    "                    'lapse': lapse,\n",
    "                    'snr': lapse_feature['snr'],\n",
    "                    'firing_rate': lapse_feature['firing_rate'],\n",
    "                    'peak_to_valley': lapse_feature['peak_to_valley'],\n",
    "                    'abs(peak_trough_ratio)': lapse_feature['abs(peak_trough_ratio)'],\n",
    "                    'half_width': lapse_feature['half_width'],\n",
    "                    'repolarization_slope': lapse_feature['repolarization_slope'],\n",
    "                    'abs(recovery_slope)': lapse_feature['abs(recovery_slope)'],\n",
    "                })\n",
    "stats = pd.json_normalize(stats)\n",
    "\n",
    "for plot_name, lims in plot_lims.items():\n",
    "    plt.figure() \n",
    "    for subject in subjects:\n",
    "        subject_stats = stats[stats['subject'] == subject]\n",
    "        \n",
    "        subject_lapses = []\n",
    "        subject_means = []\n",
    "\n",
    "        for lapse in subject_stats['lapse'].unique(): \n",
    "            subject_lapses.append(lapses.index(lapse))\n",
    "            subject_means.append(subject_stats[subject_stats['lapse'] == lapse][plot_name].mean())\n",
    "        plt.scatter(subject_lapses, subject_means, label=subject, color=colors[subject], alpha=0.5)\n",
    "        \n",
    "    sns.pointplot(data=stats, x='lapse', y=plot_name, capsize=0.2, color='black', linewidth=0.5)\n",
    "    plt.legend(bbox_to_anchor=(1.2, 1))\n",
    "    plt.title(plot_name)\n",
    "    plt.ylim(lims[0], lims[1])\n",
    "    plt.savefig(f'{figure_folder}/{plot_name}.pdf', transparent=True, bbox_inches='tight')\n",
    "    plt.show()\n",
    "    plt.close()"
   ]
  },
  {
   "cell_type": "code",
   "execution_count": 17,
   "metadata": {},
   "outputs": [
    {
     "name": "stderr",
     "output_type": "stream",
     "text": [
      "/home/xinhez/miniconda3/envs/si-0.98.2/lib/python3.8/site-packages/spikeinterface/postprocessing/template_metrics.py:223: RuntimeWarning: invalid value encountered in float_scalars\n",
      "  ptratio = template[peak_idx] / template[trough_idx]\n"
     ]
    },
    {
     "data": {
      "application/vnd.jupyter.widget-view+json": {
       "model_id": "1ec28ce5014b494fa959004d4615f0e7",
       "version_major": 2,
       "version_minor": 0
      },
      "text/plain": [
       "Fitting PCA:   0%|          | 0/40 [00:00<?, ?it/s]"
      ]
     },
     "metadata": {},
     "output_type": "display_data"
    },
    {
     "data": {
      "application/vnd.jupyter.widget-view+json": {
       "model_id": "3b57a4cb21c1401baaeee7535fd5d976",
       "version_major": 2,
       "version_minor": 0
      },
      "text/plain": [
       "Projecting waveforms:   0%|          | 0/40 [00:00<?, ?it/s]"
      ]
     },
     "metadata": {},
     "output_type": "display_data"
    },
    {
     "name": "stderr",
     "output_type": "stream",
     "text": [
      "/home/xinhez/miniconda3/envs/si-0.98.2/lib/python3.8/site-packages/spikeinterface/qualitymetrics/quality_metric_calculator.py:97: UserWarning: Units [ 5 16] are empty. Quality metrcs will be set to NaN for these units.\n",
      " To remove empty units, use `sorting.remove_empty_units()`.\n",
      "  warnings.warn(\n"
     ]
    },
    {
     "data": {
      "application/vnd.jupyter.widget-view+json": {
       "model_id": "572bb347889245f58085b9daa835e982",
       "version_major": 2,
       "version_minor": 0
      },
      "text/plain": [
       "Computing PCA metrics:   0%|          | 0/38 [00:00<?, ?it/s]"
      ]
     },
     "metadata": {},
     "output_type": "display_data"
    },
    {
     "name": "stderr",
     "output_type": "stream",
     "text": [
      "/home/xinhez/miniconda3/envs/si-0.98.2/lib/python3.8/site-packages/spikeinterface/postprocessing/template_metrics.py:223: RuntimeWarning: invalid value encountered in float_scalars\n",
      "  ptratio = template[peak_idx] / template[trough_idx]\n"
     ]
    },
    {
     "data": {
      "application/vnd.jupyter.widget-view+json": {
       "model_id": "26a7cdbf4a2d419985c60a488f568177",
       "version_major": 2,
       "version_minor": 0
      },
      "text/plain": [
       "Fitting PCA:   0%|          | 0/40 [00:00<?, ?it/s]"
      ]
     },
     "metadata": {},
     "output_type": "display_data"
    },
    {
     "data": {
      "application/vnd.jupyter.widget-view+json": {
       "model_id": "f896bf3f504247b2931e04dfc7231cd7",
       "version_major": 2,
       "version_minor": 0
      },
      "text/plain": [
       "Projecting waveforms:   0%|          | 0/40 [00:00<?, ?it/s]"
      ]
     },
     "metadata": {},
     "output_type": "display_data"
    },
    {
     "name": "stderr",
     "output_type": "stream",
     "text": [
      "/home/xinhez/miniconda3/envs/si-0.98.2/lib/python3.8/site-packages/spikeinterface/qualitymetrics/quality_metric_calculator.py:97: UserWarning: Units [ 5 15 16 23 25 27 31 38] are empty. Quality metrcs will be set to NaN for these units.\n",
      " To remove empty units, use `sorting.remove_empty_units()`.\n",
      "  warnings.warn(\n"
     ]
    },
    {
     "data": {
      "application/vnd.jupyter.widget-view+json": {
       "model_id": "fb757d3ab5f64e3e84863670292ee429",
       "version_major": 2,
       "version_minor": 0
      },
      "text/plain": [
       "Computing PCA metrics:   0%|          | 0/32 [00:00<?, ?it/s]"
      ]
     },
     "metadata": {},
     "output_type": "display_data"
    },
    {
     "name": "stderr",
     "output_type": "stream",
     "text": [
      "/home/xinhez/miniconda3/envs/si-0.98.2/lib/python3.8/site-packages/spikeinterface/postprocessing/template_metrics.py:223: RuntimeWarning: invalid value encountered in float_scalars\n",
      "  ptratio = template[peak_idx] / template[trough_idx]\n"
     ]
    },
    {
     "data": {
      "application/vnd.jupyter.widget-view+json": {
       "model_id": "3714f3611c7e4672943c197df4b3c952",
       "version_major": 2,
       "version_minor": 0
      },
      "text/plain": [
       "Fitting PCA:   0%|          | 0/40 [00:00<?, ?it/s]"
      ]
     },
     "metadata": {},
     "output_type": "display_data"
    },
    {
     "data": {
      "application/vnd.jupyter.widget-view+json": {
       "model_id": "21de50513b9f4454ad142325d609fad0",
       "version_major": 2,
       "version_minor": 0
      },
      "text/plain": [
       "Projecting waveforms:   0%|          | 0/40 [00:00<?, ?it/s]"
      ]
     },
     "metadata": {},
     "output_type": "display_data"
    },
    {
     "name": "stderr",
     "output_type": "stream",
     "text": [
      "/home/xinhez/miniconda3/envs/si-0.98.2/lib/python3.8/site-packages/spikeinterface/qualitymetrics/quality_metric_calculator.py:97: UserWarning: Units [ 5 21 23 30 36 38] are empty. Quality metrcs will be set to NaN for these units.\n",
      " To remove empty units, use `sorting.remove_empty_units()`.\n",
      "  warnings.warn(\n"
     ]
    },
    {
     "data": {
      "application/vnd.jupyter.widget-view+json": {
       "model_id": "8ba2ccf43daa4146b3f4d1531d4c2e09",
       "version_major": 2,
       "version_minor": 0
      },
      "text/plain": [
       "Computing PCA metrics:   0%|          | 0/34 [00:00<?, ?it/s]"
      ]
     },
     "metadata": {},
     "output_type": "display_data"
    },
    {
     "name": "stderr",
     "output_type": "stream",
     "text": [
      "/home/xinhez/miniconda3/envs/si-0.98.2/lib/python3.8/site-packages/spikeinterface/qualitymetrics/pca_metrics.py:229: RuntimeWarning: Degrees of freedom <= 0 for slice\n",
      "  VI = np.linalg.inv(np.cov(pcs_for_this_unit.T))\n",
      "/home/xinhez/miniconda3/envs/si-0.98.2/lib/python3.8/site-packages/numpy/lib/function_base.py:2704: RuntimeWarning: divide by zero encountered in divide\n",
      "  c *= np.true_divide(1, fact)\n",
      "/home/xinhez/miniconda3/envs/si-0.98.2/lib/python3.8/site-packages/numpy/lib/function_base.py:2704: RuntimeWarning: invalid value encountered in multiply\n",
      "  c *= np.true_divide(1, fact)\n",
      "/home/xinhez/miniconda3/envs/si-0.98.2/lib/python3.8/site-packages/spikeinterface/postprocessing/template_metrics.py:223: RuntimeWarning: invalid value encountered in float_scalars\n",
      "  ptratio = template[peak_idx] / template[trough_idx]\n"
     ]
    },
    {
     "data": {
      "application/vnd.jupyter.widget-view+json": {
       "model_id": "692057902c0548b58a0eafa75b9f1abf",
       "version_major": 2,
       "version_minor": 0
      },
      "text/plain": [
       "Fitting PCA:   0%|          | 0/40 [00:00<?, ?it/s]"
      ]
     },
     "metadata": {},
     "output_type": "display_data"
    },
    {
     "data": {
      "application/vnd.jupyter.widget-view+json": {
       "model_id": "a7f60c25dc1049d0b48bf79fbb8b0598",
       "version_major": 2,
       "version_minor": 0
      },
      "text/plain": [
       "Projecting waveforms:   0%|          | 0/40 [00:00<?, ?it/s]"
      ]
     },
     "metadata": {},
     "output_type": "display_data"
    },
    {
     "name": "stderr",
     "output_type": "stream",
     "text": [
      "/home/xinhez/miniconda3/envs/si-0.98.2/lib/python3.8/site-packages/spikeinterface/qualitymetrics/quality_metric_calculator.py:97: UserWarning: Units [ 2  8 10 11 12 13 15 16 18 20 22 23 24 25 26 27 28 29 31 38] are empty. Quality metrcs will be set to NaN for these units.\n",
      " To remove empty units, use `sorting.remove_empty_units()`.\n",
      "  warnings.warn(\n"
     ]
    },
    {
     "data": {
      "application/vnd.jupyter.widget-view+json": {
       "model_id": "ad1b2cea8b39481db27d7d0970dff15b",
       "version_major": 2,
       "version_minor": 0
      },
      "text/plain": [
       "Computing PCA metrics:   0%|          | 0/20 [00:00<?, ?it/s]"
      ]
     },
     "metadata": {},
     "output_type": "display_data"
    },
    {
     "name": "stderr",
     "output_type": "stream",
     "text": [
      "/home/xinhez/miniconda3/envs/si-0.98.2/lib/python3.8/site-packages/spikeinterface/postprocessing/template_metrics.py:223: RuntimeWarning: invalid value encountered in float_scalars\n",
      "  ptratio = template[peak_idx] / template[trough_idx]\n"
     ]
    },
    {
     "data": {
      "application/vnd.jupyter.widget-view+json": {
       "model_id": "87ef83b48d5a4bb8b814e90266358256",
       "version_major": 2,
       "version_minor": 0
      },
      "text/plain": [
       "Fitting PCA:   0%|          | 0/52 [00:00<?, ?it/s]"
      ]
     },
     "metadata": {},
     "output_type": "display_data"
    },
    {
     "data": {
      "application/vnd.jupyter.widget-view+json": {
       "model_id": "5717354985a243f6aca3528263ad1fc7",
       "version_major": 2,
       "version_minor": 0
      },
      "text/plain": [
       "Projecting waveforms:   0%|          | 0/52 [00:00<?, ?it/s]"
      ]
     },
     "metadata": {},
     "output_type": "display_data"
    },
    {
     "name": "stderr",
     "output_type": "stream",
     "text": [
      "/home/xinhez/miniconda3/envs/si-0.98.2/lib/python3.8/site-packages/spikeinterface/qualitymetrics/quality_metric_calculator.py:97: UserWarning: Units [ 2  3  4  5  6  7  8  9 10 11 12 13 14 15 16] are empty. Quality metrcs will be set to NaN for these units.\n",
      " To remove empty units, use `sorting.remove_empty_units()`.\n",
      "  warnings.warn(\n"
     ]
    },
    {
     "data": {
      "application/vnd.jupyter.widget-view+json": {
       "model_id": "a9808979071d49fc92c664dc73cd3ce8",
       "version_major": 2,
       "version_minor": 0
      },
      "text/plain": [
       "Computing PCA metrics:   0%|          | 0/37 [00:00<?, ?it/s]"
      ]
     },
     "metadata": {},
     "output_type": "display_data"
    },
    {
     "name": "stderr",
     "output_type": "stream",
     "text": [
      "/home/xinhez/miniconda3/envs/si-0.98.2/lib/python3.8/site-packages/spikeinterface/qualitymetrics/pca_metrics.py:229: RuntimeWarning: Degrees of freedom <= 0 for slice\n",
      "  VI = np.linalg.inv(np.cov(pcs_for_this_unit.T))\n",
      "/home/xinhez/miniconda3/envs/si-0.98.2/lib/python3.8/site-packages/numpy/lib/function_base.py:2704: RuntimeWarning: divide by zero encountered in divide\n",
      "  c *= np.true_divide(1, fact)\n",
      "/home/xinhez/miniconda3/envs/si-0.98.2/lib/python3.8/site-packages/numpy/lib/function_base.py:2704: RuntimeWarning: invalid value encountered in multiply\n",
      "  c *= np.true_divide(1, fact)\n",
      "/home/xinhez/miniconda3/envs/si-0.98.2/lib/python3.8/site-packages/spikeinterface/postprocessing/template_metrics.py:223: RuntimeWarning: invalid value encountered in float_scalars\n",
      "  ptratio = template[peak_idx] / template[trough_idx]\n"
     ]
    },
    {
     "data": {
      "application/vnd.jupyter.widget-view+json": {
       "model_id": "7f7f4a36b59c43e695d79e5471c3e8aa",
       "version_major": 2,
       "version_minor": 0
      },
      "text/plain": [
       "Fitting PCA:   0%|          | 0/52 [00:00<?, ?it/s]"
      ]
     },
     "metadata": {},
     "output_type": "display_data"
    },
    {
     "data": {
      "application/vnd.jupyter.widget-view+json": {
       "model_id": "ab3caefd9d4e48a3b9ce8e50592fa713",
       "version_major": 2,
       "version_minor": 0
      },
      "text/plain": [
       "Projecting waveforms:   0%|          | 0/52 [00:00<?, ?it/s]"
      ]
     },
     "metadata": {},
     "output_type": "display_data"
    },
    {
     "name": "stderr",
     "output_type": "stream",
     "text": [
      "/home/xinhez/miniconda3/envs/si-0.98.2/lib/python3.8/site-packages/spikeinterface/qualitymetrics/quality_metric_calculator.py:97: UserWarning: Units [ 3  5  6  7  8  9 10 11 12 13 50 51] are empty. Quality metrcs will be set to NaN for these units.\n",
      " To remove empty units, use `sorting.remove_empty_units()`.\n",
      "  warnings.warn(\n"
     ]
    },
    {
     "data": {
      "application/vnd.jupyter.widget-view+json": {
       "model_id": "7c41de13e35f4e3db84987190a7c12cd",
       "version_major": 2,
       "version_minor": 0
      },
      "text/plain": [
       "Computing PCA metrics:   0%|          | 0/40 [00:00<?, ?it/s]"
      ]
     },
     "metadata": {},
     "output_type": "display_data"
    },
    {
     "name": "stderr",
     "output_type": "stream",
     "text": [
      "/home/xinhez/miniconda3/envs/si-0.98.2/lib/python3.8/site-packages/spikeinterface/postprocessing/template_metrics.py:223: RuntimeWarning: invalid value encountered in float_scalars\n",
      "  ptratio = template[peak_idx] / template[trough_idx]\n"
     ]
    },
    {
     "data": {
      "application/vnd.jupyter.widget-view+json": {
       "model_id": "5501ecddcdf647649e5ffdb310d3aad0",
       "version_major": 2,
       "version_minor": 0
      },
      "text/plain": [
       "Fitting PCA:   0%|          | 0/52 [00:00<?, ?it/s]"
      ]
     },
     "metadata": {},
     "output_type": "display_data"
    },
    {
     "data": {
      "application/vnd.jupyter.widget-view+json": {
       "model_id": "5e56c27c665d420cabee43b5111390d5",
       "version_major": 2,
       "version_minor": 0
      },
      "text/plain": [
       "Projecting waveforms:   0%|          | 0/52 [00:00<?, ?it/s]"
      ]
     },
     "metadata": {},
     "output_type": "display_data"
    },
    {
     "name": "stderr",
     "output_type": "stream",
     "text": [
      "/home/xinhez/miniconda3/envs/si-0.98.2/lib/python3.8/site-packages/spikeinterface/qualitymetrics/quality_metric_calculator.py:97: UserWarning: Units [ 3  5  6  7  8  9 10 11 12 13 15 50 51] are empty. Quality metrcs will be set to NaN for these units.\n",
      " To remove empty units, use `sorting.remove_empty_units()`.\n",
      "  warnings.warn(\n"
     ]
    },
    {
     "data": {
      "application/vnd.jupyter.widget-view+json": {
       "model_id": "cd40b6bfc2424e99b0303bbec20d1b4b",
       "version_major": 2,
       "version_minor": 0
      },
      "text/plain": [
       "Computing PCA metrics:   0%|          | 0/39 [00:00<?, ?it/s]"
      ]
     },
     "metadata": {},
     "output_type": "display_data"
    },
    {
     "name": "stderr",
     "output_type": "stream",
     "text": [
      "/home/xinhez/miniconda3/envs/si-0.98.2/lib/python3.8/site-packages/spikeinterface/postprocessing/template_metrics.py:223: RuntimeWarning: invalid value encountered in float_scalars\n",
      "  ptratio = template[peak_idx] / template[trough_idx]\n"
     ]
    },
    {
     "data": {
      "application/vnd.jupyter.widget-view+json": {
       "model_id": "15ec72fa5b2c4f84af031610cac7bf63",
       "version_major": 2,
       "version_minor": 0
      },
      "text/plain": [
       "Fitting PCA:   0%|          | 0/52 [00:00<?, ?it/s]"
      ]
     },
     "metadata": {},
     "output_type": "display_data"
    },
    {
     "data": {
      "application/vnd.jupyter.widget-view+json": {
       "model_id": "f9628589d9c34a228a2417917ef3b7a3",
       "version_major": 2,
       "version_minor": 0
      },
      "text/plain": [
       "Projecting waveforms:   0%|          | 0/52 [00:00<?, ?it/s]"
      ]
     },
     "metadata": {},
     "output_type": "display_data"
    },
    {
     "name": "stderr",
     "output_type": "stream",
     "text": [
      "/home/xinhez/miniconda3/envs/si-0.98.2/lib/python3.8/site-packages/spikeinterface/qualitymetrics/quality_metric_calculator.py:97: UserWarning: Units [ 5  6  7  8  9 10 11 12 13 39 42 43 44 45 46 47 48 49 50] are empty. Quality metrcs will be set to NaN for these units.\n",
      " To remove empty units, use `sorting.remove_empty_units()`.\n",
      "  warnings.warn(\n"
     ]
    },
    {
     "data": {
      "application/vnd.jupyter.widget-view+json": {
       "model_id": "bee6570a061d497fb824f11f14f2cba7",
       "version_major": 2,
       "version_minor": 0
      },
      "text/plain": [
       "Computing PCA metrics:   0%|          | 0/33 [00:00<?, ?it/s]"
      ]
     },
     "metadata": {},
     "output_type": "display_data"
    },
    {
     "name": "stderr",
     "output_type": "stream",
     "text": [
      "/home/xinhez/miniconda3/envs/si-0.98.2/lib/python3.8/site-packages/spikeinterface/postprocessing/template_metrics.py:223: RuntimeWarning: invalid value encountered in float_scalars\n",
      "  ptratio = template[peak_idx] / template[trough_idx]\n"
     ]
    },
    {
     "data": {
      "application/vnd.jupyter.widget-view+json": {
       "model_id": "2a78b068021b4c7ba15e479f1ddeee3b",
       "version_major": 2,
       "version_minor": 0
      },
      "text/plain": [
       "Fitting PCA:   0%|          | 0/52 [00:00<?, ?it/s]"
      ]
     },
     "metadata": {},
     "output_type": "display_data"
    },
    {
     "data": {
      "application/vnd.jupyter.widget-view+json": {
       "model_id": "01bb32a8fa2d4092bc788d80abafc0e4",
       "version_major": 2,
       "version_minor": 0
      },
      "text/plain": [
       "Projecting waveforms:   0%|          | 0/52 [00:00<?, ?it/s]"
      ]
     },
     "metadata": {},
     "output_type": "display_data"
    },
    {
     "name": "stderr",
     "output_type": "stream",
     "text": [
      "/home/xinhez/miniconda3/envs/si-0.98.2/lib/python3.8/site-packages/spikeinterface/qualitymetrics/quality_metric_calculator.py:97: UserWarning: Units [18 33 36 37 40 50] are empty. Quality metrcs will be set to NaN for these units.\n",
      " To remove empty units, use `sorting.remove_empty_units()`.\n",
      "  warnings.warn(\n"
     ]
    },
    {
     "data": {
      "application/vnd.jupyter.widget-view+json": {
       "model_id": "572ee4a49b9b4a63b0e20814d081c773",
       "version_major": 2,
       "version_minor": 0
      },
      "text/plain": [
       "Computing PCA metrics:   0%|          | 0/46 [00:00<?, ?it/s]"
      ]
     },
     "metadata": {},
     "output_type": "display_data"
    },
    {
     "name": "stderr",
     "output_type": "stream",
     "text": [
      "/home/xinhez/miniconda3/envs/si-0.98.2/lib/python3.8/site-packages/spikeinterface/qualitymetrics/pca_metrics.py:229: RuntimeWarning: Degrees of freedom <= 0 for slice\n",
      "  VI = np.linalg.inv(np.cov(pcs_for_this_unit.T))\n",
      "/home/xinhez/miniconda3/envs/si-0.98.2/lib/python3.8/site-packages/numpy/lib/function_base.py:2704: RuntimeWarning: divide by zero encountered in divide\n",
      "  c *= np.true_divide(1, fact)\n",
      "/home/xinhez/miniconda3/envs/si-0.98.2/lib/python3.8/site-packages/numpy/lib/function_base.py:2704: RuntimeWarning: invalid value encountered in multiply\n",
      "  c *= np.true_divide(1, fact)\n",
      "/home/xinhez/miniconda3/envs/si-0.98.2/lib/python3.8/site-packages/spikeinterface/postprocessing/template_metrics.py:223: RuntimeWarning: invalid value encountered in float_scalars\n",
      "  ptratio = template[peak_idx] / template[trough_idx]\n"
     ]
    },
    {
     "data": {
      "application/vnd.jupyter.widget-view+json": {
       "model_id": "293770866e4b4d14b3ee9e448830a03b",
       "version_major": 2,
       "version_minor": 0
      },
      "text/plain": [
       "Fitting PCA:   0%|          | 0/52 [00:00<?, ?it/s]"
      ]
     },
     "metadata": {},
     "output_type": "display_data"
    },
    {
     "data": {
      "application/vnd.jupyter.widget-view+json": {
       "model_id": "b082dcad6fc74a86adfee811b2804fe4",
       "version_major": 2,
       "version_minor": 0
      },
      "text/plain": [
       "Projecting waveforms:   0%|          | 0/52 [00:00<?, ?it/s]"
      ]
     },
     "metadata": {},
     "output_type": "display_data"
    },
    {
     "name": "stderr",
     "output_type": "stream",
     "text": [
      "/home/xinhez/miniconda3/envs/si-0.98.2/lib/python3.8/site-packages/spikeinterface/qualitymetrics/quality_metric_calculator.py:97: UserWarning: Units [ 5  6  7  8 10 11 12 13 15 50 51] are empty. Quality metrcs will be set to NaN for these units.\n",
      " To remove empty units, use `sorting.remove_empty_units()`.\n",
      "  warnings.warn(\n"
     ]
    },
    {
     "data": {
      "application/vnd.jupyter.widget-view+json": {
       "model_id": "e8f5cc3850344a74ac6c982ac5e50f1e",
       "version_major": 2,
       "version_minor": 0
      },
      "text/plain": [
       "Computing PCA metrics:   0%|          | 0/41 [00:00<?, ?it/s]"
      ]
     },
     "metadata": {},
     "output_type": "display_data"
    },
    {
     "name": "stderr",
     "output_type": "stream",
     "text": [
      "/home/xinhez/miniconda3/envs/si-0.98.2/lib/python3.8/site-packages/spikeinterface/qualitymetrics/pca_metrics.py:229: RuntimeWarning: Degrees of freedom <= 0 for slice\n",
      "  VI = np.linalg.inv(np.cov(pcs_for_this_unit.T))\n",
      "/home/xinhez/miniconda3/envs/si-0.98.2/lib/python3.8/site-packages/numpy/lib/function_base.py:2704: RuntimeWarning: divide by zero encountered in divide\n",
      "  c *= np.true_divide(1, fact)\n",
      "/home/xinhez/miniconda3/envs/si-0.98.2/lib/python3.8/site-packages/numpy/lib/function_base.py:2704: RuntimeWarning: invalid value encountered in multiply\n",
      "  c *= np.true_divide(1, fact)\n",
      "/home/xinhez/miniconda3/envs/si-0.98.2/lib/python3.8/site-packages/spikeinterface/postprocessing/template_metrics.py:223: RuntimeWarning: invalid value encountered in float_scalars\n",
      "  ptratio = template[peak_idx] / template[trough_idx]\n"
     ]
    },
    {
     "data": {
      "application/vnd.jupyter.widget-view+json": {
       "model_id": "015d32a189a74958a9ee8e4e9b40b57b",
       "version_major": 2,
       "version_minor": 0
      },
      "text/plain": [
       "Fitting PCA:   0%|          | 0/52 [00:00<?, ?it/s]"
      ]
     },
     "metadata": {},
     "output_type": "display_data"
    },
    {
     "data": {
      "application/vnd.jupyter.widget-view+json": {
       "model_id": "df01a8478b7e42eab251fe0fc5b71e84",
       "version_major": 2,
       "version_minor": 0
      },
      "text/plain": [
       "Projecting waveforms:   0%|          | 0/52 [00:00<?, ?it/s]"
      ]
     },
     "metadata": {},
     "output_type": "display_data"
    },
    {
     "name": "stderr",
     "output_type": "stream",
     "text": [
      "/home/xinhez/miniconda3/envs/si-0.98.2/lib/python3.8/site-packages/spikeinterface/qualitymetrics/quality_metric_calculator.py:97: UserWarning: Units [ 1  2  3  4  5  6  7  8  9 10 11 12 13 14 15 16 20 24 28 29 31 32 50 51] are empty. Quality metrcs will be set to NaN for these units.\n",
      " To remove empty units, use `sorting.remove_empty_units()`.\n",
      "  warnings.warn(\n"
     ]
    },
    {
     "data": {
      "application/vnd.jupyter.widget-view+json": {
       "model_id": "aa0b10aac59941a097c903d256a0886c",
       "version_major": 2,
       "version_minor": 0
      },
      "text/plain": [
       "Computing PCA metrics:   0%|          | 0/28 [00:00<?, ?it/s]"
      ]
     },
     "metadata": {},
     "output_type": "display_data"
    },
    {
     "name": "stderr",
     "output_type": "stream",
     "text": [
      "/home/xinhez/miniconda3/envs/si-0.98.2/lib/python3.8/site-packages/spikeinterface/qualitymetrics/pca_metrics.py:229: RuntimeWarning: Degrees of freedom <= 0 for slice\n",
      "  VI = np.linalg.inv(np.cov(pcs_for_this_unit.T))\n",
      "/home/xinhez/miniconda3/envs/si-0.98.2/lib/python3.8/site-packages/numpy/lib/function_base.py:2704: RuntimeWarning: divide by zero encountered in divide\n",
      "  c *= np.true_divide(1, fact)\n",
      "/home/xinhez/miniconda3/envs/si-0.98.2/lib/python3.8/site-packages/numpy/lib/function_base.py:2704: RuntimeWarning: invalid value encountered in multiply\n",
      "  c *= np.true_divide(1, fact)\n",
      "/home/xinhez/miniconda3/envs/si-0.98.2/lib/python3.8/site-packages/spikeinterface/postprocessing/template_metrics.py:223: RuntimeWarning: invalid value encountered in float_scalars\n",
      "  ptratio = template[peak_idx] / template[trough_idx]\n"
     ]
    },
    {
     "data": {
      "application/vnd.jupyter.widget-view+json": {
       "model_id": "e40564b532e44fb78dac0ed25a93d7f7",
       "version_major": 2,
       "version_minor": 0
      },
      "text/plain": [
       "Fitting PCA:   0%|          | 0/52 [00:00<?, ?it/s]"
      ]
     },
     "metadata": {},
     "output_type": "display_data"
    },
    {
     "data": {
      "application/vnd.jupyter.widget-view+json": {
       "model_id": "155a790295394d2e9328137b14c5d449",
       "version_major": 2,
       "version_minor": 0
      },
      "text/plain": [
       "Projecting waveforms:   0%|          | 0/52 [00:00<?, ?it/s]"
      ]
     },
     "metadata": {},
     "output_type": "display_data"
    },
    {
     "name": "stderr",
     "output_type": "stream",
     "text": [
      "/home/xinhez/miniconda3/envs/si-0.98.2/lib/python3.8/site-packages/spikeinterface/qualitymetrics/quality_metric_calculator.py:97: UserWarning: Units [ 1  2  3  4  5  6  7  8  9 10 11 12 13 14 15 16 18 19 22 25 26 27 28 29\n",
      " 30 31 32 33 34 36 37 38 39 40 42 43 44 45 47 48 51] are empty. Quality metrcs will be set to NaN for these units.\n",
      " To remove empty units, use `sorting.remove_empty_units()`.\n",
      "  warnings.warn(\n"
     ]
    },
    {
     "data": {
      "application/vnd.jupyter.widget-view+json": {
       "model_id": "0fe2a63299464849b0476a360f3c2030",
       "version_major": 2,
       "version_minor": 0
      },
      "text/plain": [
       "Computing PCA metrics:   0%|          | 0/11 [00:00<?, ?it/s]"
      ]
     },
     "metadata": {},
     "output_type": "display_data"
    },
    {
     "name": "stderr",
     "output_type": "stream",
     "text": [
      "/home/xinhez/miniconda3/envs/si-0.98.2/lib/python3.8/site-packages/spikeinterface/qualitymetrics/pca_metrics.py:229: RuntimeWarning: Degrees of freedom <= 0 for slice\n",
      "  VI = np.linalg.inv(np.cov(pcs_for_this_unit.T))\n",
      "/home/xinhez/miniconda3/envs/si-0.98.2/lib/python3.8/site-packages/numpy/lib/function_base.py:2704: RuntimeWarning: divide by zero encountered in divide\n",
      "  c *= np.true_divide(1, fact)\n",
      "/home/xinhez/miniconda3/envs/si-0.98.2/lib/python3.8/site-packages/numpy/lib/function_base.py:2704: RuntimeWarning: invalid value encountered in multiply\n",
      "  c *= np.true_divide(1, fact)\n",
      "/home/xinhez/miniconda3/envs/si-0.98.2/lib/python3.8/site-packages/spikeinterface/postprocessing/template_metrics.py:223: RuntimeWarning: invalid value encountered in float_scalars\n",
      "  ptratio = template[peak_idx] / template[trough_idx]\n"
     ]
    },
    {
     "data": {
      "application/vnd.jupyter.widget-view+json": {
       "model_id": "32f89392e2d04f0d980b42e6ac511a13",
       "version_major": 2,
       "version_minor": 0
      },
      "text/plain": [
       "Fitting PCA:   0%|          | 0/52 [00:00<?, ?it/s]"
      ]
     },
     "metadata": {},
     "output_type": "display_data"
    },
    {
     "data": {
      "application/vnd.jupyter.widget-view+json": {
       "model_id": "bfc5dec2f9524a31851144299400973b",
       "version_major": 2,
       "version_minor": 0
      },
      "text/plain": [
       "Projecting waveforms:   0%|          | 0/52 [00:00<?, ?it/s]"
      ]
     },
     "metadata": {},
     "output_type": "display_data"
    },
    {
     "name": "stderr",
     "output_type": "stream",
     "text": [
      "/home/xinhez/miniconda3/envs/si-0.98.2/lib/python3.8/site-packages/spikeinterface/qualitymetrics/quality_metric_calculator.py:97: UserWarning: Units [ 5  6  7  8  9 10 11 12 13] are empty. Quality metrcs will be set to NaN for these units.\n",
      " To remove empty units, use `sorting.remove_empty_units()`.\n",
      "  warnings.warn(\n"
     ]
    },
    {
     "data": {
      "application/vnd.jupyter.widget-view+json": {
       "model_id": "bc28db5f608045d3831e27fa0be44147",
       "version_major": 2,
       "version_minor": 0
      },
      "text/plain": [
       "Computing PCA metrics:   0%|          | 0/43 [00:00<?, ?it/s]"
      ]
     },
     "metadata": {},
     "output_type": "display_data"
    },
    {
     "name": "stderr",
     "output_type": "stream",
     "text": [
      "/home/xinhez/miniconda3/envs/si-0.98.2/lib/python3.8/site-packages/spikeinterface/qualitymetrics/pca_metrics.py:229: RuntimeWarning: Degrees of freedom <= 0 for slice\n",
      "  VI = np.linalg.inv(np.cov(pcs_for_this_unit.T))\n",
      "/home/xinhez/miniconda3/envs/si-0.98.2/lib/python3.8/site-packages/numpy/lib/function_base.py:2704: RuntimeWarning: divide by zero encountered in divide\n",
      "  c *= np.true_divide(1, fact)\n",
      "/home/xinhez/miniconda3/envs/si-0.98.2/lib/python3.8/site-packages/numpy/lib/function_base.py:2704: RuntimeWarning: invalid value encountered in multiply\n",
      "  c *= np.true_divide(1, fact)\n",
      "/home/xinhez/miniconda3/envs/si-0.98.2/lib/python3.8/site-packages/spikeinterface/postprocessing/template_metrics.py:223: RuntimeWarning: invalid value encountered in float_scalars\n",
      "  ptratio = template[peak_idx] / template[trough_idx]\n"
     ]
    },
    {
     "data": {
      "application/vnd.jupyter.widget-view+json": {
       "model_id": "cb665e1c1103477d97cb44c62bb70332",
       "version_major": 2,
       "version_minor": 0
      },
      "text/plain": [
       "Fitting PCA:   0%|          | 0/52 [00:00<?, ?it/s]"
      ]
     },
     "metadata": {},
     "output_type": "display_data"
    },
    {
     "data": {
      "application/vnd.jupyter.widget-view+json": {
       "model_id": "d97348fe8b2f436cb2e930af36027097",
       "version_major": 2,
       "version_minor": 0
      },
      "text/plain": [
       "Projecting waveforms:   0%|          | 0/52 [00:00<?, ?it/s]"
      ]
     },
     "metadata": {},
     "output_type": "display_data"
    },
    {
     "name": "stderr",
     "output_type": "stream",
     "text": [
      "/home/xinhez/miniconda3/envs/si-0.98.2/lib/python3.8/site-packages/spikeinterface/qualitymetrics/quality_metric_calculator.py:97: UserWarning: Units [ 3  5  6  7  8  9 10 11 12 13 15 33] are empty. Quality metrcs will be set to NaN for these units.\n",
      " To remove empty units, use `sorting.remove_empty_units()`.\n",
      "  warnings.warn(\n"
     ]
    },
    {
     "data": {
      "application/vnd.jupyter.widget-view+json": {
       "model_id": "b51c52943fce4e4a9fc8a51e10fc9153",
       "version_major": 2,
       "version_minor": 0
      },
      "text/plain": [
       "Computing PCA metrics:   0%|          | 0/40 [00:00<?, ?it/s]"
      ]
     },
     "metadata": {},
     "output_type": "display_data"
    },
    {
     "name": "stderr",
     "output_type": "stream",
     "text": [
      "/home/xinhez/miniconda3/envs/si-0.98.2/lib/python3.8/site-packages/spikeinterface/postprocessing/template_metrics.py:223: RuntimeWarning: invalid value encountered in float_scalars\n",
      "  ptratio = template[peak_idx] / template[trough_idx]\n"
     ]
    },
    {
     "data": {
      "application/vnd.jupyter.widget-view+json": {
       "model_id": "901f05f663144e3ab4ce2f7810b4505c",
       "version_major": 2,
       "version_minor": 0
      },
      "text/plain": [
       "Fitting PCA:   0%|          | 0/30 [00:00<?, ?it/s]"
      ]
     },
     "metadata": {},
     "output_type": "display_data"
    },
    {
     "data": {
      "application/vnd.jupyter.widget-view+json": {
       "model_id": "7ec1f11e27cf450fb149cf3fc6176ecd",
       "version_major": 2,
       "version_minor": 0
      },
      "text/plain": [
       "Projecting waveforms:   0%|          | 0/30 [00:00<?, ?it/s]"
      ]
     },
     "metadata": {},
     "output_type": "display_data"
    },
    {
     "name": "stderr",
     "output_type": "stream",
     "text": [
      "/home/xinhez/miniconda3/envs/si-0.98.2/lib/python3.8/site-packages/spikeinterface/qualitymetrics/quality_metric_calculator.py:97: UserWarning: Units [ 5 14 16 23 25 26 27 29 30] are empty. Quality metrcs will be set to NaN for these units.\n",
      " To remove empty units, use `sorting.remove_empty_units()`.\n",
      "  warnings.warn(\n"
     ]
    },
    {
     "data": {
      "application/vnd.jupyter.widget-view+json": {
       "model_id": "13474f5b88e74571b8c348ffa1925d5d",
       "version_major": 2,
       "version_minor": 0
      },
      "text/plain": [
       "Computing PCA metrics:   0%|          | 0/21 [00:00<?, ?it/s]"
      ]
     },
     "metadata": {},
     "output_type": "display_data"
    },
    {
     "name": "stderr",
     "output_type": "stream",
     "text": [
      "/home/xinhez/miniconda3/envs/si-0.98.2/lib/python3.8/site-packages/spikeinterface/qualitymetrics/pca_metrics.py:229: RuntimeWarning: Degrees of freedom <= 0 for slice\n",
      "  VI = np.linalg.inv(np.cov(pcs_for_this_unit.T))\n",
      "/home/xinhez/miniconda3/envs/si-0.98.2/lib/python3.8/site-packages/numpy/lib/function_base.py:2704: RuntimeWarning: divide by zero encountered in divide\n",
      "  c *= np.true_divide(1, fact)\n",
      "/home/xinhez/miniconda3/envs/si-0.98.2/lib/python3.8/site-packages/numpy/lib/function_base.py:2704: RuntimeWarning: invalid value encountered in multiply\n",
      "  c *= np.true_divide(1, fact)\n",
      "/home/xinhez/miniconda3/envs/si-0.98.2/lib/python3.8/site-packages/spikeinterface/postprocessing/template_metrics.py:223: RuntimeWarning: invalid value encountered in float_scalars\n",
      "  ptratio = template[peak_idx] / template[trough_idx]\n"
     ]
    },
    {
     "data": {
      "application/vnd.jupyter.widget-view+json": {
       "model_id": "4ee7d6e070494be5bc4953f9540f4aea",
       "version_major": 2,
       "version_minor": 0
      },
      "text/plain": [
       "Fitting PCA:   0%|          | 0/30 [00:00<?, ?it/s]"
      ]
     },
     "metadata": {},
     "output_type": "display_data"
    },
    {
     "data": {
      "application/vnd.jupyter.widget-view+json": {
       "model_id": "484b7ba3acde4d0a9780efe992d83272",
       "version_major": 2,
       "version_minor": 0
      },
      "text/plain": [
       "Projecting waveforms:   0%|          | 0/30 [00:00<?, ?it/s]"
      ]
     },
     "metadata": {},
     "output_type": "display_data"
    },
    {
     "name": "stderr",
     "output_type": "stream",
     "text": [
      "/home/xinhez/miniconda3/envs/si-0.98.2/lib/python3.8/site-packages/spikeinterface/qualitymetrics/quality_metric_calculator.py:97: UserWarning: Units [ 6  8 10 11 12 13 14 15 16 18 23 25 27 28 29 30] are empty. Quality metrcs will be set to NaN for these units.\n",
      " To remove empty units, use `sorting.remove_empty_units()`.\n",
      "  warnings.warn(\n"
     ]
    },
    {
     "data": {
      "application/vnd.jupyter.widget-view+json": {
       "model_id": "af73255a4bc7468898cf412d0b940dd0",
       "version_major": 2,
       "version_minor": 0
      },
      "text/plain": [
       "Computing PCA metrics:   0%|          | 0/14 [00:00<?, ?it/s]"
      ]
     },
     "metadata": {},
     "output_type": "display_data"
    },
    {
     "name": "stderr",
     "output_type": "stream",
     "text": [
      "/home/xinhez/miniconda3/envs/si-0.98.2/lib/python3.8/site-packages/spikeinterface/postprocessing/template_metrics.py:223: RuntimeWarning: invalid value encountered in float_scalars\n",
      "  ptratio = template[peak_idx] / template[trough_idx]\n"
     ]
    },
    {
     "data": {
      "application/vnd.jupyter.widget-view+json": {
       "model_id": "b506a0660e384069828194639c41289a",
       "version_major": 2,
       "version_minor": 0
      },
      "text/plain": [
       "Fitting PCA:   0%|          | 0/30 [00:00<?, ?it/s]"
      ]
     },
     "metadata": {},
     "output_type": "display_data"
    },
    {
     "data": {
      "application/vnd.jupyter.widget-view+json": {
       "model_id": "41ed2d6fcdb74154a09c4d84774bbe08",
       "version_major": 2,
       "version_minor": 0
      },
      "text/plain": [
       "Projecting waveforms:   0%|          | 0/30 [00:00<?, ?it/s]"
      ]
     },
     "metadata": {},
     "output_type": "display_data"
    },
    {
     "name": "stderr",
     "output_type": "stream",
     "text": [
      "/home/xinhez/miniconda3/envs/si-0.98.2/lib/python3.8/site-packages/spikeinterface/qualitymetrics/quality_metric_calculator.py:97: UserWarning: Units [ 3  4  5  6  9 10 13 14 16 18 20 21 24 25 26 27 28 29 30] are empty. Quality metrcs will be set to NaN for these units.\n",
      " To remove empty units, use `sorting.remove_empty_units()`.\n",
      "  warnings.warn(\n"
     ]
    },
    {
     "data": {
      "application/vnd.jupyter.widget-view+json": {
       "model_id": "471e5907f80c4591aa3bd19549ced392",
       "version_major": 2,
       "version_minor": 0
      },
      "text/plain": [
       "Computing PCA metrics:   0%|          | 0/11 [00:00<?, ?it/s]"
      ]
     },
     "metadata": {},
     "output_type": "display_data"
    },
    {
     "name": "stderr",
     "output_type": "stream",
     "text": [
      "/home/xinhez/miniconda3/envs/si-0.98.2/lib/python3.8/site-packages/spikeinterface/postprocessing/template_metrics.py:223: RuntimeWarning: invalid value encountered in float_scalars\n",
      "  ptratio = template[peak_idx] / template[trough_idx]\n"
     ]
    },
    {
     "data": {
      "application/vnd.jupyter.widget-view+json": {
       "model_id": "40c9c5a151fb4db694ca2d631eb7256b",
       "version_major": 2,
       "version_minor": 0
      },
      "text/plain": [
       "Fitting PCA:   0%|          | 0/30 [00:00<?, ?it/s]"
      ]
     },
     "metadata": {},
     "output_type": "display_data"
    },
    {
     "data": {
      "application/vnd.jupyter.widget-view+json": {
       "model_id": "ed8bc8e6ef2d46d29b5099e48a94f316",
       "version_major": 2,
       "version_minor": 0
      },
      "text/plain": [
       "Projecting waveforms:   0%|          | 0/30 [00:00<?, ?it/s]"
      ]
     },
     "metadata": {},
     "output_type": "display_data"
    },
    {
     "name": "stderr",
     "output_type": "stream",
     "text": [
      "/home/xinhez/miniconda3/envs/si-0.98.2/lib/python3.8/site-packages/spikeinterface/qualitymetrics/quality_metric_calculator.py:97: UserWarning: Units [ 3  4  5  6  9 10 11 12 13 15 16 26 27 28 29 30] are empty. Quality metrcs will be set to NaN for these units.\n",
      " To remove empty units, use `sorting.remove_empty_units()`.\n",
      "  warnings.warn(\n"
     ]
    },
    {
     "data": {
      "application/vnd.jupyter.widget-view+json": {
       "model_id": "dce14abaa6544b1a9b90b12129ba47dd",
       "version_major": 2,
       "version_minor": 0
      },
      "text/plain": [
       "Computing PCA metrics:   0%|          | 0/14 [00:00<?, ?it/s]"
      ]
     },
     "metadata": {},
     "output_type": "display_data"
    },
    {
     "name": "stderr",
     "output_type": "stream",
     "text": [
      "/home/xinhez/miniconda3/envs/si-0.98.2/lib/python3.8/site-packages/spikeinterface/qualitymetrics/pca_metrics.py:229: RuntimeWarning: Degrees of freedom <= 0 for slice\n",
      "  VI = np.linalg.inv(np.cov(pcs_for_this_unit.T))\n",
      "/home/xinhez/miniconda3/envs/si-0.98.2/lib/python3.8/site-packages/numpy/lib/function_base.py:2704: RuntimeWarning: divide by zero encountered in divide\n",
      "  c *= np.true_divide(1, fact)\n",
      "/home/xinhez/miniconda3/envs/si-0.98.2/lib/python3.8/site-packages/numpy/lib/function_base.py:2704: RuntimeWarning: invalid value encountered in multiply\n",
      "  c *= np.true_divide(1, fact)\n",
      "/home/xinhez/miniconda3/envs/si-0.98.2/lib/python3.8/site-packages/spikeinterface/postprocessing/template_metrics.py:223: RuntimeWarning: invalid value encountered in float_scalars\n",
      "  ptratio = template[peak_idx] / template[trough_idx]\n"
     ]
    },
    {
     "data": {
      "application/vnd.jupyter.widget-view+json": {
       "model_id": "921cb491547b46b4addcda39b3686569",
       "version_major": 2,
       "version_minor": 0
      },
      "text/plain": [
       "Fitting PCA:   0%|          | 0/38 [00:00<?, ?it/s]"
      ]
     },
     "metadata": {},
     "output_type": "display_data"
    },
    {
     "data": {
      "application/vnd.jupyter.widget-view+json": {
       "model_id": "cde5f1bf966741978f3d199c4be431a6",
       "version_major": 2,
       "version_minor": 0
      },
      "text/plain": [
       "Projecting waveforms:   0%|          | 0/38 [00:00<?, ?it/s]"
      ]
     },
     "metadata": {},
     "output_type": "display_data"
    },
    {
     "name": "stderr",
     "output_type": "stream",
     "text": [
      "/home/xinhez/miniconda3/envs/si-0.98.2/lib/python3.8/site-packages/spikeinterface/qualitymetrics/quality_metric_calculator.py:97: UserWarning: Units [ 5  6  7  8  9 10 11 12 13 14 15 16 17 18 19 21 23 25 28 29 30 31 33 34\n",
      " 35 36 37 38] are empty. Quality metrcs will be set to NaN for these units.\n",
      " To remove empty units, use `sorting.remove_empty_units()`.\n",
      "  warnings.warn(\n"
     ]
    },
    {
     "data": {
      "application/vnd.jupyter.widget-view+json": {
       "model_id": "6d7bba4415d3435ab2cfd97b598864f3",
       "version_major": 2,
       "version_minor": 0
      },
      "text/plain": [
       "Computing PCA metrics:   0%|          | 0/10 [00:00<?, ?it/s]"
      ]
     },
     "metadata": {},
     "output_type": "display_data"
    },
    {
     "name": "stderr",
     "output_type": "stream",
     "text": [
      "/home/xinhez/miniconda3/envs/si-0.98.2/lib/python3.8/site-packages/spikeinterface/qualitymetrics/pca_metrics.py:229: RuntimeWarning: Degrees of freedom <= 0 for slice\n",
      "  VI = np.linalg.inv(np.cov(pcs_for_this_unit.T))\n",
      "/home/xinhez/miniconda3/envs/si-0.98.2/lib/python3.8/site-packages/numpy/lib/function_base.py:2704: RuntimeWarning: divide by zero encountered in divide\n",
      "  c *= np.true_divide(1, fact)\n",
      "/home/xinhez/miniconda3/envs/si-0.98.2/lib/python3.8/site-packages/numpy/lib/function_base.py:2704: RuntimeWarning: invalid value encountered in multiply\n",
      "  c *= np.true_divide(1, fact)\n",
      "/home/xinhez/miniconda3/envs/si-0.98.2/lib/python3.8/site-packages/spikeinterface/postprocessing/template_metrics.py:223: RuntimeWarning: invalid value encountered in float_scalars\n",
      "  ptratio = template[peak_idx] / template[trough_idx]\n"
     ]
    },
    {
     "data": {
      "application/vnd.jupyter.widget-view+json": {
       "model_id": "86b89f93ffb6450abcaebb6fc236386a",
       "version_major": 2,
       "version_minor": 0
      },
      "text/plain": [
       "Fitting PCA:   0%|          | 0/38 [00:00<?, ?it/s]"
      ]
     },
     "metadata": {},
     "output_type": "display_data"
    },
    {
     "data": {
      "application/vnd.jupyter.widget-view+json": {
       "model_id": "0bbb82187e014788850fd5a277caef12",
       "version_major": 2,
       "version_minor": 0
      },
      "text/plain": [
       "Projecting waveforms:   0%|          | 0/38 [00:00<?, ?it/s]"
      ]
     },
     "metadata": {},
     "output_type": "display_data"
    },
    {
     "name": "stderr",
     "output_type": "stream",
     "text": [
      "/home/xinhez/miniconda3/envs/si-0.98.2/lib/python3.8/site-packages/spikeinterface/qualitymetrics/quality_metric_calculator.py:97: UserWarning: Units [ 5 10 12 14 15 16 18 20 22 23 25 28 34 36 37] are empty. Quality metrcs will be set to NaN for these units.\n",
      " To remove empty units, use `sorting.remove_empty_units()`.\n",
      "  warnings.warn(\n"
     ]
    },
    {
     "data": {
      "application/vnd.jupyter.widget-view+json": {
       "model_id": "512354702aad49eb985f354caaa12898",
       "version_major": 2,
       "version_minor": 0
      },
      "text/plain": [
       "Computing PCA metrics:   0%|          | 0/23 [00:00<?, ?it/s]"
      ]
     },
     "metadata": {},
     "output_type": "display_data"
    },
    {
     "name": "stderr",
     "output_type": "stream",
     "text": [
      "/home/xinhez/miniconda3/envs/si-0.98.2/lib/python3.8/site-packages/spikeinterface/qualitymetrics/pca_metrics.py:229: RuntimeWarning: Degrees of freedom <= 0 for slice\n",
      "  VI = np.linalg.inv(np.cov(pcs_for_this_unit.T))\n",
      "/home/xinhez/miniconda3/envs/si-0.98.2/lib/python3.8/site-packages/numpy/lib/function_base.py:2704: RuntimeWarning: divide by zero encountered in divide\n",
      "  c *= np.true_divide(1, fact)\n",
      "/home/xinhez/miniconda3/envs/si-0.98.2/lib/python3.8/site-packages/numpy/lib/function_base.py:2704: RuntimeWarning: invalid value encountered in multiply\n",
      "  c *= np.true_divide(1, fact)\n",
      "/home/xinhez/miniconda3/envs/si-0.98.2/lib/python3.8/site-packages/spikeinterface/postprocessing/template_metrics.py:223: RuntimeWarning: invalid value encountered in float_scalars\n",
      "  ptratio = template[peak_idx] / template[trough_idx]\n"
     ]
    },
    {
     "data": {
      "application/vnd.jupyter.widget-view+json": {
       "model_id": "2f03b12ff56044ebbfce104b14784ce6",
       "version_major": 2,
       "version_minor": 0
      },
      "text/plain": [
       "Fitting PCA:   0%|          | 0/38 [00:00<?, ?it/s]"
      ]
     },
     "metadata": {},
     "output_type": "display_data"
    },
    {
     "data": {
      "application/vnd.jupyter.widget-view+json": {
       "model_id": "14fd727458a24c989a48272ed4e0947d",
       "version_major": 2,
       "version_minor": 0
      },
      "text/plain": [
       "Projecting waveforms:   0%|          | 0/38 [00:00<?, ?it/s]"
      ]
     },
     "metadata": {},
     "output_type": "display_data"
    },
    {
     "name": "stderr",
     "output_type": "stream",
     "text": [
      "/home/xinhez/miniconda3/envs/si-0.98.2/lib/python3.8/site-packages/spikeinterface/qualitymetrics/quality_metric_calculator.py:97: UserWarning: Units [ 4  8 10 12 14 18 20 22 28 34] are empty. Quality metrcs will be set to NaN for these units.\n",
      " To remove empty units, use `sorting.remove_empty_units()`.\n",
      "  warnings.warn(\n"
     ]
    },
    {
     "data": {
      "application/vnd.jupyter.widget-view+json": {
       "model_id": "059a4941bda5437c8d3f48e1a2f1f3da",
       "version_major": 2,
       "version_minor": 0
      },
      "text/plain": [
       "Computing PCA metrics:   0%|          | 0/28 [00:00<?, ?it/s]"
      ]
     },
     "metadata": {},
     "output_type": "display_data"
    },
    {
     "name": "stderr",
     "output_type": "stream",
     "text": [
      "/home/xinhez/miniconda3/envs/si-0.98.2/lib/python3.8/site-packages/spikeinterface/qualitymetrics/pca_metrics.py:229: RuntimeWarning: Degrees of freedom <= 0 for slice\n",
      "  VI = np.linalg.inv(np.cov(pcs_for_this_unit.T))\n",
      "/home/xinhez/miniconda3/envs/si-0.98.2/lib/python3.8/site-packages/numpy/lib/function_base.py:2704: RuntimeWarning: divide by zero encountered in divide\n",
      "  c *= np.true_divide(1, fact)\n",
      "/home/xinhez/miniconda3/envs/si-0.98.2/lib/python3.8/site-packages/numpy/lib/function_base.py:2704: RuntimeWarning: invalid value encountered in multiply\n",
      "  c *= np.true_divide(1, fact)\n",
      "/home/xinhez/miniconda3/envs/si-0.98.2/lib/python3.8/site-packages/spikeinterface/postprocessing/template_metrics.py:223: RuntimeWarning: invalid value encountered in float_scalars\n",
      "  ptratio = template[peak_idx] / template[trough_idx]\n"
     ]
    },
    {
     "data": {
      "application/vnd.jupyter.widget-view+json": {
       "model_id": "96e4fa928ac5487684348d628cc5940e",
       "version_major": 2,
       "version_minor": 0
      },
      "text/plain": [
       "Fitting PCA:   0%|          | 0/38 [00:00<?, ?it/s]"
      ]
     },
     "metadata": {},
     "output_type": "display_data"
    },
    {
     "data": {
      "application/vnd.jupyter.widget-view+json": {
       "model_id": "ee419ad099074cffacfe60574f8c1ad0",
       "version_major": 2,
       "version_minor": 0
      },
      "text/plain": [
       "Projecting waveforms:   0%|          | 0/38 [00:00<?, ?it/s]"
      ]
     },
     "metadata": {},
     "output_type": "display_data"
    },
    {
     "name": "stderr",
     "output_type": "stream",
     "text": [
      "/home/xinhez/miniconda3/envs/si-0.98.2/lib/python3.8/site-packages/spikeinterface/qualitymetrics/quality_metric_calculator.py:97: UserWarning: Units [ 4  5  6 10 12 13 14 15 16 17 19 21 23 29 31 33 35 36 37] are empty. Quality metrcs will be set to NaN for these units.\n",
      " To remove empty units, use `sorting.remove_empty_units()`.\n",
      "  warnings.warn(\n"
     ]
    },
    {
     "data": {
      "application/vnd.jupyter.widget-view+json": {
       "model_id": "82671f8e86964a68b131d5e0f1a7bbb6",
       "version_major": 2,
       "version_minor": 0
      },
      "text/plain": [
       "Computing PCA metrics:   0%|          | 0/19 [00:00<?, ?it/s]"
      ]
     },
     "metadata": {},
     "output_type": "display_data"
    },
    {
     "name": "stderr",
     "output_type": "stream",
     "text": [
      "/home/xinhez/miniconda3/envs/si-0.98.2/lib/python3.8/site-packages/spikeinterface/qualitymetrics/pca_metrics.py:229: RuntimeWarning: Degrees of freedom <= 0 for slice\n",
      "  VI = np.linalg.inv(np.cov(pcs_for_this_unit.T))\n",
      "/home/xinhez/miniconda3/envs/si-0.98.2/lib/python3.8/site-packages/numpy/lib/function_base.py:2704: RuntimeWarning: divide by zero encountered in divide\n",
      "  c *= np.true_divide(1, fact)\n",
      "/home/xinhez/miniconda3/envs/si-0.98.2/lib/python3.8/site-packages/numpy/lib/function_base.py:2704: RuntimeWarning: invalid value encountered in multiply\n",
      "  c *= np.true_divide(1, fact)\n",
      "/home/xinhez/miniconda3/envs/si-0.98.2/lib/python3.8/site-packages/spikeinterface/postprocessing/template_metrics.py:223: RuntimeWarning: invalid value encountered in float_scalars\n",
      "  ptratio = template[peak_idx] / template[trough_idx]\n"
     ]
    },
    {
     "data": {
      "application/vnd.jupyter.widget-view+json": {
       "model_id": "d18ef314cd5146128e33ff12ceb6a964",
       "version_major": 2,
       "version_minor": 0
      },
      "text/plain": [
       "Fitting PCA:   0%|          | 0/38 [00:00<?, ?it/s]"
      ]
     },
     "metadata": {},
     "output_type": "display_data"
    },
    {
     "data": {
      "application/vnd.jupyter.widget-view+json": {
       "model_id": "0901c9a79e4e4389858fe36728d97e7c",
       "version_major": 2,
       "version_minor": 0
      },
      "text/plain": [
       "Projecting waveforms:   0%|          | 0/38 [00:00<?, ?it/s]"
      ]
     },
     "metadata": {},
     "output_type": "display_data"
    },
    {
     "name": "stderr",
     "output_type": "stream",
     "text": [
      "/home/xinhez/miniconda3/envs/si-0.98.2/lib/python3.8/site-packages/spikeinterface/qualitymetrics/quality_metric_calculator.py:97: UserWarning: Units [ 4  5 10 12 14 16 18 20 28 36] are empty. Quality metrcs will be set to NaN for these units.\n",
      " To remove empty units, use `sorting.remove_empty_units()`.\n",
      "  warnings.warn(\n"
     ]
    },
    {
     "data": {
      "application/vnd.jupyter.widget-view+json": {
       "model_id": "432ba563bb094197ac5ffac2a69f1f7e",
       "version_major": 2,
       "version_minor": 0
      },
      "text/plain": [
       "Computing PCA metrics:   0%|          | 0/28 [00:00<?, ?it/s]"
      ]
     },
     "metadata": {},
     "output_type": "display_data"
    },
    {
     "name": "stderr",
     "output_type": "stream",
     "text": [
      "/home/xinhez/miniconda3/envs/si-0.98.2/lib/python3.8/site-packages/spikeinterface/qualitymetrics/pca_metrics.py:229: RuntimeWarning: Degrees of freedom <= 0 for slice\n",
      "  VI = np.linalg.inv(np.cov(pcs_for_this_unit.T))\n",
      "/home/xinhez/miniconda3/envs/si-0.98.2/lib/python3.8/site-packages/numpy/lib/function_base.py:2704: RuntimeWarning: divide by zero encountered in divide\n",
      "  c *= np.true_divide(1, fact)\n",
      "/home/xinhez/miniconda3/envs/si-0.98.2/lib/python3.8/site-packages/numpy/lib/function_base.py:2704: RuntimeWarning: invalid value encountered in multiply\n",
      "  c *= np.true_divide(1, fact)\n",
      "/home/xinhez/miniconda3/envs/si-0.98.2/lib/python3.8/site-packages/spikeinterface/postprocessing/template_metrics.py:223: RuntimeWarning: invalid value encountered in float_scalars\n",
      "  ptratio = template[peak_idx] / template[trough_idx]\n"
     ]
    },
    {
     "data": {
      "application/vnd.jupyter.widget-view+json": {
       "model_id": "fc4a1bbef76144499d61e29b69b4540d",
       "version_major": 2,
       "version_minor": 0
      },
      "text/plain": [
       "Fitting PCA:   0%|          | 0/38 [00:00<?, ?it/s]"
      ]
     },
     "metadata": {},
     "output_type": "display_data"
    },
    {
     "data": {
      "application/vnd.jupyter.widget-view+json": {
       "model_id": "13200da1c32e4c80a44b4b0497073b60",
       "version_major": 2,
       "version_minor": 0
      },
      "text/plain": [
       "Projecting waveforms:   0%|          | 0/38 [00:00<?, ?it/s]"
      ]
     },
     "metadata": {},
     "output_type": "display_data"
    },
    {
     "name": "stderr",
     "output_type": "stream",
     "text": [
      "/home/xinhez/miniconda3/envs/si-0.98.2/lib/python3.8/site-packages/spikeinterface/qualitymetrics/quality_metric_calculator.py:97: UserWarning: Units [ 4  5  6  8 10 11 12 13 16 17 18 19 21 22 23 25 27 28 29 30 34 37 38] are empty. Quality metrcs will be set to NaN for these units.\n",
      " To remove empty units, use `sorting.remove_empty_units()`.\n",
      "  warnings.warn(\n"
     ]
    },
    {
     "data": {
      "application/vnd.jupyter.widget-view+json": {
       "model_id": "79a11a11604c48b0a4a6a761c9ab4131",
       "version_major": 2,
       "version_minor": 0
      },
      "text/plain": [
       "Computing PCA metrics:   0%|          | 0/15 [00:00<?, ?it/s]"
      ]
     },
     "metadata": {},
     "output_type": "display_data"
    },
    {
     "name": "stderr",
     "output_type": "stream",
     "text": [
      "/home/xinhez/miniconda3/envs/si-0.98.2/lib/python3.8/site-packages/spikeinterface/qualitymetrics/pca_metrics.py:229: RuntimeWarning: Degrees of freedom <= 0 for slice\n",
      "  VI = np.linalg.inv(np.cov(pcs_for_this_unit.T))\n",
      "/home/xinhez/miniconda3/envs/si-0.98.2/lib/python3.8/site-packages/numpy/lib/function_base.py:2704: RuntimeWarning: divide by zero encountered in divide\n",
      "  c *= np.true_divide(1, fact)\n",
      "/home/xinhez/miniconda3/envs/si-0.98.2/lib/python3.8/site-packages/numpy/lib/function_base.py:2704: RuntimeWarning: invalid value encountered in multiply\n",
      "  c *= np.true_divide(1, fact)\n",
      "/home/xinhez/miniconda3/envs/si-0.98.2/lib/python3.8/site-packages/spikeinterface/postprocessing/template_metrics.py:223: RuntimeWarning: invalid value encountered in float_scalars\n",
      "  ptratio = template[peak_idx] / template[trough_idx]\n"
     ]
    },
    {
     "data": {
      "application/vnd.jupyter.widget-view+json": {
       "model_id": "26051db7dd394834a37563b33be3faf8",
       "version_major": 2,
       "version_minor": 0
      },
      "text/plain": [
       "Fitting PCA:   0%|          | 0/53 [00:00<?, ?it/s]"
      ]
     },
     "metadata": {},
     "output_type": "display_data"
    },
    {
     "data": {
      "application/vnd.jupyter.widget-view+json": {
       "model_id": "e41bd7b8b90c4e68b6969e5af94747fd",
       "version_major": 2,
       "version_minor": 0
      },
      "text/plain": [
       "Projecting waveforms:   0%|          | 0/53 [00:00<?, ?it/s]"
      ]
     },
     "metadata": {},
     "output_type": "display_data"
    },
    {
     "name": "stderr",
     "output_type": "stream",
     "text": [
      "/home/xinhez/miniconda3/envs/si-0.98.2/lib/python3.8/site-packages/spikeinterface/qualitymetrics/quality_metric_calculator.py:97: UserWarning: Units [ 3  5  6  7  8  9 12 15 16 18 19 22 23 24 25 26 27 32 34 40 44] are empty. Quality metrcs will be set to NaN for these units.\n",
      " To remove empty units, use `sorting.remove_empty_units()`.\n",
      "  warnings.warn(\n"
     ]
    },
    {
     "data": {
      "application/vnd.jupyter.widget-view+json": {
       "model_id": "2154b55d0b924843986c28ab7755a759",
       "version_major": 2,
       "version_minor": 0
      },
      "text/plain": [
       "Computing PCA metrics:   0%|          | 0/32 [00:00<?, ?it/s]"
      ]
     },
     "metadata": {},
     "output_type": "display_data"
    },
    {
     "name": "stderr",
     "output_type": "stream",
     "text": [
      "/home/xinhez/miniconda3/envs/si-0.98.2/lib/python3.8/site-packages/spikeinterface/qualitymetrics/pca_metrics.py:229: RuntimeWarning: Degrees of freedom <= 0 for slice\n",
      "  VI = np.linalg.inv(np.cov(pcs_for_this_unit.T))\n",
      "/home/xinhez/miniconda3/envs/si-0.98.2/lib/python3.8/site-packages/numpy/lib/function_base.py:2704: RuntimeWarning: divide by zero encountered in divide\n",
      "  c *= np.true_divide(1, fact)\n",
      "/home/xinhez/miniconda3/envs/si-0.98.2/lib/python3.8/site-packages/numpy/lib/function_base.py:2704: RuntimeWarning: invalid value encountered in multiply\n",
      "  c *= np.true_divide(1, fact)\n",
      "/home/xinhez/miniconda3/envs/si-0.98.2/lib/python3.8/site-packages/spikeinterface/postprocessing/template_metrics.py:223: RuntimeWarning: invalid value encountered in float_scalars\n",
      "  ptratio = template[peak_idx] / template[trough_idx]\n"
     ]
    },
    {
     "data": {
      "application/vnd.jupyter.widget-view+json": {
       "model_id": "d93668ed4c334ace8b0f1d3535718e6d",
       "version_major": 2,
       "version_minor": 0
      },
      "text/plain": [
       "Fitting PCA:   0%|          | 0/53 [00:00<?, ?it/s]"
      ]
     },
     "metadata": {},
     "output_type": "display_data"
    },
    {
     "data": {
      "application/vnd.jupyter.widget-view+json": {
       "model_id": "b7d14778972740cb9512171331dfde7d",
       "version_major": 2,
       "version_minor": 0
      },
      "text/plain": [
       "Projecting waveforms:   0%|          | 0/53 [00:00<?, ?it/s]"
      ]
     },
     "metadata": {},
     "output_type": "display_data"
    },
    {
     "name": "stderr",
     "output_type": "stream",
     "text": [
      "/home/xinhez/miniconda3/envs/si-0.98.2/lib/python3.8/site-packages/spikeinterface/qualitymetrics/quality_metric_calculator.py:97: UserWarning: Units [ 3  5  7  8  9 10 11 13 14 15 16 17 18 19 20 21 22 23 24 25 26 27 28 29\n",
      " 31 32 39 41 45 51] are empty. Quality metrcs will be set to NaN for these units.\n",
      " To remove empty units, use `sorting.remove_empty_units()`.\n",
      "  warnings.warn(\n"
     ]
    },
    {
     "data": {
      "application/vnd.jupyter.widget-view+json": {
       "model_id": "8ed2e6e4231441e294df81e721d59afe",
       "version_major": 2,
       "version_minor": 0
      },
      "text/plain": [
       "Computing PCA metrics:   0%|          | 0/23 [00:00<?, ?it/s]"
      ]
     },
     "metadata": {},
     "output_type": "display_data"
    },
    {
     "name": "stderr",
     "output_type": "stream",
     "text": [
      "/home/xinhez/miniconda3/envs/si-0.98.2/lib/python3.8/site-packages/spikeinterface/qualitymetrics/pca_metrics.py:229: RuntimeWarning: Degrees of freedom <= 0 for slice\n",
      "  VI = np.linalg.inv(np.cov(pcs_for_this_unit.T))\n",
      "/home/xinhez/miniconda3/envs/si-0.98.2/lib/python3.8/site-packages/numpy/lib/function_base.py:2704: RuntimeWarning: divide by zero encountered in divide\n",
      "  c *= np.true_divide(1, fact)\n",
      "/home/xinhez/miniconda3/envs/si-0.98.2/lib/python3.8/site-packages/numpy/lib/function_base.py:2704: RuntimeWarning: invalid value encountered in multiply\n",
      "  c *= np.true_divide(1, fact)\n",
      "/home/xinhez/miniconda3/envs/si-0.98.2/lib/python3.8/site-packages/spikeinterface/postprocessing/template_metrics.py:223: RuntimeWarning: invalid value encountered in float_scalars\n",
      "  ptratio = template[peak_idx] / template[trough_idx]\n"
     ]
    },
    {
     "data": {
      "application/vnd.jupyter.widget-view+json": {
       "model_id": "fa4190efefb045428ddd8a0db317d49c",
       "version_major": 2,
       "version_minor": 0
      },
      "text/plain": [
       "Fitting PCA:   0%|          | 0/53 [00:00<?, ?it/s]"
      ]
     },
     "metadata": {},
     "output_type": "display_data"
    },
    {
     "data": {
      "application/vnd.jupyter.widget-view+json": {
       "model_id": "e3a003f0f6e948398539c6d8aac70112",
       "version_major": 2,
       "version_minor": 0
      },
      "text/plain": [
       "Projecting waveforms:   0%|          | 0/53 [00:00<?, ?it/s]"
      ]
     },
     "metadata": {},
     "output_type": "display_data"
    },
    {
     "name": "stderr",
     "output_type": "stream",
     "text": [
      "/home/xinhez/miniconda3/envs/si-0.98.2/lib/python3.8/site-packages/spikeinterface/qualitymetrics/quality_metric_calculator.py:97: UserWarning: Units [ 6 19 23 24 28 32 39 44 49 50 51 52] are empty. Quality metrcs will be set to NaN for these units.\n",
      " To remove empty units, use `sorting.remove_empty_units()`.\n",
      "  warnings.warn(\n"
     ]
    },
    {
     "data": {
      "application/vnd.jupyter.widget-view+json": {
       "model_id": "7b1d38481e394ba5b7a23299f9829552",
       "version_major": 2,
       "version_minor": 0
      },
      "text/plain": [
       "Computing PCA metrics:   0%|          | 0/41 [00:00<?, ?it/s]"
      ]
     },
     "metadata": {},
     "output_type": "display_data"
    },
    {
     "name": "stderr",
     "output_type": "stream",
     "text": [
      "/home/xinhez/miniconda3/envs/si-0.98.2/lib/python3.8/site-packages/spikeinterface/qualitymetrics/pca_metrics.py:229: RuntimeWarning: Degrees of freedom <= 0 for slice\n",
      "  VI = np.linalg.inv(np.cov(pcs_for_this_unit.T))\n",
      "/home/xinhez/miniconda3/envs/si-0.98.2/lib/python3.8/site-packages/numpy/lib/function_base.py:2704: RuntimeWarning: divide by zero encountered in divide\n",
      "  c *= np.true_divide(1, fact)\n",
      "/home/xinhez/miniconda3/envs/si-0.98.2/lib/python3.8/site-packages/numpy/lib/function_base.py:2704: RuntimeWarning: invalid value encountered in multiply\n",
      "  c *= np.true_divide(1, fact)\n",
      "/home/xinhez/miniconda3/envs/si-0.98.2/lib/python3.8/site-packages/spikeinterface/postprocessing/template_metrics.py:223: RuntimeWarning: invalid value encountered in float_scalars\n",
      "  ptratio = template[peak_idx] / template[trough_idx]\n"
     ]
    },
    {
     "data": {
      "application/vnd.jupyter.widget-view+json": {
       "model_id": "c304ea68a3a04249ad0b0b6ea2b6eb48",
       "version_major": 2,
       "version_minor": 0
      },
      "text/plain": [
       "Fitting PCA:   0%|          | 0/51 [00:00<?, ?it/s]"
      ]
     },
     "metadata": {},
     "output_type": "display_data"
    },
    {
     "data": {
      "application/vnd.jupyter.widget-view+json": {
       "model_id": "2e7881f50ffa484f8dffbce266b4dc3c",
       "version_major": 2,
       "version_minor": 0
      },
      "text/plain": [
       "Projecting waveforms:   0%|          | 0/51 [00:00<?, ?it/s]"
      ]
     },
     "metadata": {},
     "output_type": "display_data"
    },
    {
     "name": "stderr",
     "output_type": "stream",
     "text": [
      "/home/xinhez/miniconda3/envs/si-0.98.2/lib/python3.8/site-packages/spikeinterface/qualitymetrics/quality_metric_calculator.py:97: UserWarning: Units [ 7 11 16 20 22 24 25 26 28 29 32 33 34 37 39 49] are empty. Quality metrcs will be set to NaN for these units.\n",
      " To remove empty units, use `sorting.remove_empty_units()`.\n",
      "  warnings.warn(\n"
     ]
    },
    {
     "data": {
      "application/vnd.jupyter.widget-view+json": {
       "model_id": "475231e254464e5494edb1b867d48ba8",
       "version_major": 2,
       "version_minor": 0
      },
      "text/plain": [
       "Computing PCA metrics:   0%|          | 0/35 [00:00<?, ?it/s]"
      ]
     },
     "metadata": {},
     "output_type": "display_data"
    },
    {
     "name": "stderr",
     "output_type": "stream",
     "text": [
      "/home/xinhez/miniconda3/envs/si-0.98.2/lib/python3.8/site-packages/spikeinterface/qualitymetrics/pca_metrics.py:229: RuntimeWarning: Degrees of freedom <= 0 for slice\n",
      "  VI = np.linalg.inv(np.cov(pcs_for_this_unit.T))\n",
      "/home/xinhez/miniconda3/envs/si-0.98.2/lib/python3.8/site-packages/numpy/lib/function_base.py:2704: RuntimeWarning: divide by zero encountered in divide\n",
      "  c *= np.true_divide(1, fact)\n",
      "/home/xinhez/miniconda3/envs/si-0.98.2/lib/python3.8/site-packages/numpy/lib/function_base.py:2704: RuntimeWarning: invalid value encountered in multiply\n",
      "  c *= np.true_divide(1, fact)\n",
      "/home/xinhez/miniconda3/envs/si-0.98.2/lib/python3.8/site-packages/spikeinterface/postprocessing/template_metrics.py:223: RuntimeWarning: invalid value encountered in float_scalars\n",
      "  ptratio = template[peak_idx] / template[trough_idx]\n"
     ]
    },
    {
     "data": {
      "application/vnd.jupyter.widget-view+json": {
       "model_id": "916e5440f8384b679611b909182c6f4f",
       "version_major": 2,
       "version_minor": 0
      },
      "text/plain": [
       "Fitting PCA:   0%|          | 0/51 [00:00<?, ?it/s]"
      ]
     },
     "metadata": {},
     "output_type": "display_data"
    },
    {
     "data": {
      "application/vnd.jupyter.widget-view+json": {
       "model_id": "da48ea2d599748419acd0567a2d05c5b",
       "version_major": 2,
       "version_minor": 0
      },
      "text/plain": [
       "Projecting waveforms:   0%|          | 0/51 [00:00<?, ?it/s]"
      ]
     },
     "metadata": {},
     "output_type": "display_data"
    },
    {
     "name": "stderr",
     "output_type": "stream",
     "text": [
      "/home/xinhez/miniconda3/envs/si-0.98.2/lib/python3.8/site-packages/spikeinterface/qualitymetrics/quality_metric_calculator.py:97: UserWarning: Units [ 7 11 20 22 24 25 26 28 29] are empty. Quality metrcs will be set to NaN for these units.\n",
      " To remove empty units, use `sorting.remove_empty_units()`.\n",
      "  warnings.warn(\n"
     ]
    },
    {
     "data": {
      "application/vnd.jupyter.widget-view+json": {
       "model_id": "df457e1ad33a4214843baf9f98ed6e23",
       "version_major": 2,
       "version_minor": 0
      },
      "text/plain": [
       "Computing PCA metrics:   0%|          | 0/42 [00:00<?, ?it/s]"
      ]
     },
     "metadata": {},
     "output_type": "display_data"
    },
    {
     "name": "stderr",
     "output_type": "stream",
     "text": [
      "/home/xinhez/miniconda3/envs/si-0.98.2/lib/python3.8/site-packages/spikeinterface/qualitymetrics/pca_metrics.py:229: RuntimeWarning: Degrees of freedom <= 0 for slice\n",
      "  VI = np.linalg.inv(np.cov(pcs_for_this_unit.T))\n",
      "/home/xinhez/miniconda3/envs/si-0.98.2/lib/python3.8/site-packages/numpy/lib/function_base.py:2704: RuntimeWarning: divide by zero encountered in divide\n",
      "  c *= np.true_divide(1, fact)\n",
      "/home/xinhez/miniconda3/envs/si-0.98.2/lib/python3.8/site-packages/numpy/lib/function_base.py:2704: RuntimeWarning: invalid value encountered in multiply\n",
      "  c *= np.true_divide(1, fact)\n",
      "/home/xinhez/miniconda3/envs/si-0.98.2/lib/python3.8/site-packages/spikeinterface/postprocessing/template_metrics.py:223: RuntimeWarning: invalid value encountered in float_scalars\n",
      "  ptratio = template[peak_idx] / template[trough_idx]\n"
     ]
    },
    {
     "data": {
      "application/vnd.jupyter.widget-view+json": {
       "model_id": "e3cbb7069a624e5ebd87a4e9a43ec58d",
       "version_major": 2,
       "version_minor": 0
      },
      "text/plain": [
       "Fitting PCA:   0%|          | 0/51 [00:00<?, ?it/s]"
      ]
     },
     "metadata": {},
     "output_type": "display_data"
    },
    {
     "data": {
      "application/vnd.jupyter.widget-view+json": {
       "model_id": "5a15a7cec4654e9d86a8fac8ffe2925e",
       "version_major": 2,
       "version_minor": 0
      },
      "text/plain": [
       "Projecting waveforms:   0%|          | 0/51 [00:00<?, ?it/s]"
      ]
     },
     "metadata": {},
     "output_type": "display_data"
    },
    {
     "name": "stderr",
     "output_type": "stream",
     "text": [
      "/home/xinhez/miniconda3/envs/si-0.98.2/lib/python3.8/site-packages/spikeinterface/qualitymetrics/quality_metric_calculator.py:97: UserWarning: Units [ 7 11 16 20 22 24 25 26 28 29 37 51] are empty. Quality metrcs will be set to NaN for these units.\n",
      " To remove empty units, use `sorting.remove_empty_units()`.\n",
      "  warnings.warn(\n"
     ]
    },
    {
     "data": {
      "application/vnd.jupyter.widget-view+json": {
       "model_id": "6761899c3c97436487fc09ac9574aad7",
       "version_major": 2,
       "version_minor": 0
      },
      "text/plain": [
       "Computing PCA metrics:   0%|          | 0/39 [00:00<?, ?it/s]"
      ]
     },
     "metadata": {},
     "output_type": "display_data"
    },
    {
     "name": "stderr",
     "output_type": "stream",
     "text": [
      "/home/xinhez/miniconda3/envs/si-0.98.2/lib/python3.8/site-packages/spikeinterface/qualitymetrics/pca_metrics.py:229: RuntimeWarning: Degrees of freedom <= 0 for slice\n",
      "  VI = np.linalg.inv(np.cov(pcs_for_this_unit.T))\n",
      "/home/xinhez/miniconda3/envs/si-0.98.2/lib/python3.8/site-packages/numpy/lib/function_base.py:2704: RuntimeWarning: divide by zero encountered in divide\n",
      "  c *= np.true_divide(1, fact)\n",
      "/home/xinhez/miniconda3/envs/si-0.98.2/lib/python3.8/site-packages/numpy/lib/function_base.py:2704: RuntimeWarning: invalid value encountered in multiply\n",
      "  c *= np.true_divide(1, fact)\n",
      "/home/xinhez/miniconda3/envs/si-0.98.2/lib/python3.8/site-packages/spikeinterface/postprocessing/template_metrics.py:223: RuntimeWarning: invalid value encountered in float_scalars\n",
      "  ptratio = template[peak_idx] / template[trough_idx]\n"
     ]
    },
    {
     "data": {
      "application/vnd.jupyter.widget-view+json": {
       "model_id": "1b6855febaa14fc28da08434c5dd0c6c",
       "version_major": 2,
       "version_minor": 0
      },
      "text/plain": [
       "Fitting PCA:   0%|          | 0/51 [00:00<?, ?it/s]"
      ]
     },
     "metadata": {},
     "output_type": "display_data"
    },
    {
     "data": {
      "application/vnd.jupyter.widget-view+json": {
       "model_id": "095dc03d3503485a9cc46c1337015b18",
       "version_major": 2,
       "version_minor": 0
      },
      "text/plain": [
       "Projecting waveforms:   0%|          | 0/51 [00:00<?, ?it/s]"
      ]
     },
     "metadata": {},
     "output_type": "display_data"
    },
    {
     "name": "stderr",
     "output_type": "stream",
     "text": [
      "/home/xinhez/miniconda3/envs/si-0.98.2/lib/python3.8/site-packages/spikeinterface/qualitymetrics/quality_metric_calculator.py:97: UserWarning: Units [ 2  7  8 16 20 25 26 27 29 30 34 37 41 42 43 44 45 46 47] are empty. Quality metrcs will be set to NaN for these units.\n",
      " To remove empty units, use `sorting.remove_empty_units()`.\n",
      "  warnings.warn(\n"
     ]
    },
    {
     "data": {
      "application/vnd.jupyter.widget-view+json": {
       "model_id": "a5a0f52d268248ce8ba0f8acc49bb107",
       "version_major": 2,
       "version_minor": 0
      },
      "text/plain": [
       "Computing PCA metrics:   0%|          | 0/32 [00:00<?, ?it/s]"
      ]
     },
     "metadata": {},
     "output_type": "display_data"
    },
    {
     "name": "stderr",
     "output_type": "stream",
     "text": [
      "/home/xinhez/miniconda3/envs/si-0.98.2/lib/python3.8/site-packages/spikeinterface/postprocessing/template_metrics.py:223: RuntimeWarning: invalid value encountered in float_scalars\n",
      "  ptratio = template[peak_idx] / template[trough_idx]\n"
     ]
    },
    {
     "data": {
      "application/vnd.jupyter.widget-view+json": {
       "model_id": "fb9c0f9918de4fbd917801e309a8e2e3",
       "version_major": 2,
       "version_minor": 0
      },
      "text/plain": [
       "Fitting PCA:   0%|          | 0/51 [00:00<?, ?it/s]"
      ]
     },
     "metadata": {},
     "output_type": "display_data"
    },
    {
     "data": {
      "application/vnd.jupyter.widget-view+json": {
       "model_id": "39d75f95da0043309bace95520e434a6",
       "version_major": 2,
       "version_minor": 0
      },
      "text/plain": [
       "Projecting waveforms:   0%|          | 0/51 [00:00<?, ?it/s]"
      ]
     },
     "metadata": {},
     "output_type": "display_data"
    },
    {
     "name": "stderr",
     "output_type": "stream",
     "text": [
      "/home/xinhez/miniconda3/envs/si-0.98.2/lib/python3.8/site-packages/spikeinterface/qualitymetrics/quality_metric_calculator.py:97: UserWarning: Units [ 7 11 16 20 26 34 36] are empty. Quality metrcs will be set to NaN for these units.\n",
      " To remove empty units, use `sorting.remove_empty_units()`.\n",
      "  warnings.warn(\n"
     ]
    },
    {
     "data": {
      "application/vnd.jupyter.widget-view+json": {
       "model_id": "2217719947ac430fb5f778adbf73483c",
       "version_major": 2,
       "version_minor": 0
      },
      "text/plain": [
       "Computing PCA metrics:   0%|          | 0/44 [00:00<?, ?it/s]"
      ]
     },
     "metadata": {},
     "output_type": "display_data"
    },
    {
     "name": "stderr",
     "output_type": "stream",
     "text": [
      "/home/xinhez/miniconda3/envs/si-0.98.2/lib/python3.8/site-packages/spikeinterface/qualitymetrics/pca_metrics.py:229: RuntimeWarning: Degrees of freedom <= 0 for slice\n",
      "  VI = np.linalg.inv(np.cov(pcs_for_this_unit.T))\n",
      "/home/xinhez/miniconda3/envs/si-0.98.2/lib/python3.8/site-packages/numpy/lib/function_base.py:2704: RuntimeWarning: divide by zero encountered in divide\n",
      "  c *= np.true_divide(1, fact)\n",
      "/home/xinhez/miniconda3/envs/si-0.98.2/lib/python3.8/site-packages/numpy/lib/function_base.py:2704: RuntimeWarning: invalid value encountered in multiply\n",
      "  c *= np.true_divide(1, fact)\n",
      "/home/xinhez/miniconda3/envs/si-0.98.2/lib/python3.8/site-packages/spikeinterface/postprocessing/template_metrics.py:223: RuntimeWarning: invalid value encountered in float_scalars\n",
      "  ptratio = template[peak_idx] / template[trough_idx]\n"
     ]
    },
    {
     "data": {
      "application/vnd.jupyter.widget-view+json": {
       "model_id": "e4ba977b48734b9b810c130e3b0f476e",
       "version_major": 2,
       "version_minor": 0
      },
      "text/plain": [
       "Fitting PCA:   0%|          | 0/51 [00:00<?, ?it/s]"
      ]
     },
     "metadata": {},
     "output_type": "display_data"
    },
    {
     "data": {
      "application/vnd.jupyter.widget-view+json": {
       "model_id": "58b6cc06f3864276a5715ede026b7412",
       "version_major": 2,
       "version_minor": 0
      },
      "text/plain": [
       "Projecting waveforms:   0%|          | 0/51 [00:00<?, ?it/s]"
      ]
     },
     "metadata": {},
     "output_type": "display_data"
    },
    {
     "name": "stderr",
     "output_type": "stream",
     "text": [
      "/home/xinhez/miniconda3/envs/si-0.98.2/lib/python3.8/site-packages/spikeinterface/qualitymetrics/quality_metric_calculator.py:97: UserWarning: Units [ 1 11 16 20 24 25 26 28 29 34 42 43 44 45 48 49 50] are empty. Quality metrcs will be set to NaN for these units.\n",
      " To remove empty units, use `sorting.remove_empty_units()`.\n",
      "  warnings.warn(\n"
     ]
    },
    {
     "data": {
      "application/vnd.jupyter.widget-view+json": {
       "model_id": "5efef14a2ab14ac4b4b42315a81fe08f",
       "version_major": 2,
       "version_minor": 0
      },
      "text/plain": [
       "Computing PCA metrics:   0%|          | 0/34 [00:00<?, ?it/s]"
      ]
     },
     "metadata": {},
     "output_type": "display_data"
    },
    {
     "name": "stderr",
     "output_type": "stream",
     "text": [
      "/home/xinhez/miniconda3/envs/si-0.98.2/lib/python3.8/site-packages/spikeinterface/qualitymetrics/pca_metrics.py:229: RuntimeWarning: Degrees of freedom <= 0 for slice\n",
      "  VI = np.linalg.inv(np.cov(pcs_for_this_unit.T))\n",
      "/home/xinhez/miniconda3/envs/si-0.98.2/lib/python3.8/site-packages/numpy/lib/function_base.py:2704: RuntimeWarning: divide by zero encountered in divide\n",
      "  c *= np.true_divide(1, fact)\n",
      "/home/xinhez/miniconda3/envs/si-0.98.2/lib/python3.8/site-packages/numpy/lib/function_base.py:2704: RuntimeWarning: invalid value encountered in multiply\n",
      "  c *= np.true_divide(1, fact)\n",
      "/home/xinhez/miniconda3/envs/si-0.98.2/lib/python3.8/site-packages/spikeinterface/postprocessing/template_metrics.py:223: RuntimeWarning: invalid value encountered in float_scalars\n",
      "  ptratio = template[peak_idx] / template[trough_idx]\n"
     ]
    },
    {
     "data": {
      "application/vnd.jupyter.widget-view+json": {
       "model_id": "0acbf98dfb494d60a80475c6c528579e",
       "version_major": 2,
       "version_minor": 0
      },
      "text/plain": [
       "Fitting PCA:   0%|          | 0/51 [00:00<?, ?it/s]"
      ]
     },
     "metadata": {},
     "output_type": "display_data"
    },
    {
     "data": {
      "application/vnd.jupyter.widget-view+json": {
       "model_id": "3660fdd464e443a0854bda25cf8e9129",
       "version_major": 2,
       "version_minor": 0
      },
      "text/plain": [
       "Projecting waveforms:   0%|          | 0/51 [00:00<?, ?it/s]"
      ]
     },
     "metadata": {},
     "output_type": "display_data"
    },
    {
     "name": "stderr",
     "output_type": "stream",
     "text": [
      "/home/xinhez/miniconda3/envs/si-0.98.2/lib/python3.8/site-packages/spikeinterface/qualitymetrics/quality_metric_calculator.py:97: UserWarning: Units [ 2 29 44 45 50 51] are empty. Quality metrcs will be set to NaN for these units.\n",
      " To remove empty units, use `sorting.remove_empty_units()`.\n",
      "  warnings.warn(\n"
     ]
    },
    {
     "data": {
      "application/vnd.jupyter.widget-view+json": {
       "model_id": "a97356ac8390458995acef5a47f0a70d",
       "version_major": 2,
       "version_minor": 0
      },
      "text/plain": [
       "Computing PCA metrics:   0%|          | 0/45 [00:00<?, ?it/s]"
      ]
     },
     "metadata": {},
     "output_type": "display_data"
    },
    {
     "name": "stderr",
     "output_type": "stream",
     "text": [
      "/home/xinhez/miniconda3/envs/si-0.98.2/lib/python3.8/site-packages/spikeinterface/qualitymetrics/pca_metrics.py:229: RuntimeWarning: Degrees of freedom <= 0 for slice\n",
      "  VI = np.linalg.inv(np.cov(pcs_for_this_unit.T))\n",
      "/home/xinhez/miniconda3/envs/si-0.98.2/lib/python3.8/site-packages/numpy/lib/function_base.py:2704: RuntimeWarning: divide by zero encountered in divide\n",
      "  c *= np.true_divide(1, fact)\n",
      "/home/xinhez/miniconda3/envs/si-0.98.2/lib/python3.8/site-packages/numpy/lib/function_base.py:2704: RuntimeWarning: invalid value encountered in multiply\n",
      "  c *= np.true_divide(1, fact)\n",
      "/home/xinhez/miniconda3/envs/si-0.98.2/lib/python3.8/site-packages/spikeinterface/postprocessing/template_metrics.py:223: RuntimeWarning: invalid value encountered in float_scalars\n",
      "  ptratio = template[peak_idx] / template[trough_idx]\n"
     ]
    },
    {
     "data": {
      "application/vnd.jupyter.widget-view+json": {
       "model_id": "adfa0e39177949da9107cd992f793c93",
       "version_major": 2,
       "version_minor": 0
      },
      "text/plain": [
       "Fitting PCA:   0%|          | 0/51 [00:00<?, ?it/s]"
      ]
     },
     "metadata": {},
     "output_type": "display_data"
    },
    {
     "data": {
      "application/vnd.jupyter.widget-view+json": {
       "model_id": "adbd5b63a86a4645bc5500dba4f0ce08",
       "version_major": 2,
       "version_minor": 0
      },
      "text/plain": [
       "Projecting waveforms:   0%|          | 0/51 [00:00<?, ?it/s]"
      ]
     },
     "metadata": {},
     "output_type": "display_data"
    },
    {
     "name": "stderr",
     "output_type": "stream",
     "text": [
      "/home/xinhez/miniconda3/envs/si-0.98.2/lib/python3.8/site-packages/spikeinterface/qualitymetrics/quality_metric_calculator.py:97: UserWarning: Units [ 7 11 16 20 22 26 32 33 40 43 49 50] are empty. Quality metrcs will be set to NaN for these units.\n",
      " To remove empty units, use `sorting.remove_empty_units()`.\n",
      "  warnings.warn(\n"
     ]
    },
    {
     "data": {
      "application/vnd.jupyter.widget-view+json": {
       "model_id": "578d694d7b874c0f88a471fa93496144",
       "version_major": 2,
       "version_minor": 0
      },
      "text/plain": [
       "Computing PCA metrics:   0%|          | 0/39 [00:00<?, ?it/s]"
      ]
     },
     "metadata": {},
     "output_type": "display_data"
    },
    {
     "name": "stderr",
     "output_type": "stream",
     "text": [
      "/home/xinhez/miniconda3/envs/si-0.98.2/lib/python3.8/site-packages/spikeinterface/qualitymetrics/pca_metrics.py:229: RuntimeWarning: Degrees of freedom <= 0 for slice\n",
      "  VI = np.linalg.inv(np.cov(pcs_for_this_unit.T))\n",
      "/home/xinhez/miniconda3/envs/si-0.98.2/lib/python3.8/site-packages/numpy/lib/function_base.py:2704: RuntimeWarning: divide by zero encountered in divide\n",
      "  c *= np.true_divide(1, fact)\n",
      "/home/xinhez/miniconda3/envs/si-0.98.2/lib/python3.8/site-packages/numpy/lib/function_base.py:2704: RuntimeWarning: invalid value encountered in multiply\n",
      "  c *= np.true_divide(1, fact)\n",
      "/home/xinhez/miniconda3/envs/si-0.98.2/lib/python3.8/site-packages/spikeinterface/postprocessing/template_metrics.py:223: RuntimeWarning: invalid value encountered in float_scalars\n",
      "  ptratio = template[peak_idx] / template[trough_idx]\n"
     ]
    },
    {
     "data": {
      "application/vnd.jupyter.widget-view+json": {
       "model_id": "77d5c7a4dc714b9780fed94a93060c71",
       "version_major": 2,
       "version_minor": 0
      },
      "text/plain": [
       "Fitting PCA:   0%|          | 0/51 [00:00<?, ?it/s]"
      ]
     },
     "metadata": {},
     "output_type": "display_data"
    },
    {
     "data": {
      "application/vnd.jupyter.widget-view+json": {
       "model_id": "6e10aea6ae5a45cababcd79ba446428b",
       "version_major": 2,
       "version_minor": 0
      },
      "text/plain": [
       "Projecting waveforms:   0%|          | 0/51 [00:00<?, ?it/s]"
      ]
     },
     "metadata": {},
     "output_type": "display_data"
    },
    {
     "name": "stderr",
     "output_type": "stream",
     "text": [
      "/home/xinhez/miniconda3/envs/si-0.98.2/lib/python3.8/site-packages/spikeinterface/qualitymetrics/quality_metric_calculator.py:97: UserWarning: Units [ 7 11 14 16 20 22 24 25 26 28 29 30 33 34 37 39 49] are empty. Quality metrcs will be set to NaN for these units.\n",
      " To remove empty units, use `sorting.remove_empty_units()`.\n",
      "  warnings.warn(\n"
     ]
    },
    {
     "data": {
      "application/vnd.jupyter.widget-view+json": {
       "model_id": "47b0c41478c949e8a6476590709baec6",
       "version_major": 2,
       "version_minor": 0
      },
      "text/plain": [
       "Computing PCA metrics:   0%|          | 0/34 [00:00<?, ?it/s]"
      ]
     },
     "metadata": {},
     "output_type": "display_data"
    },
    {
     "name": "stderr",
     "output_type": "stream",
     "text": [
      "/home/xinhez/miniconda3/envs/si-0.98.2/lib/python3.8/site-packages/spikeinterface/qualitymetrics/pca_metrics.py:229: RuntimeWarning: Degrees of freedom <= 0 for slice\n",
      "  VI = np.linalg.inv(np.cov(pcs_for_this_unit.T))\n",
      "/home/xinhez/miniconda3/envs/si-0.98.2/lib/python3.8/site-packages/numpy/lib/function_base.py:2704: RuntimeWarning: divide by zero encountered in divide\n",
      "  c *= np.true_divide(1, fact)\n",
      "/home/xinhez/miniconda3/envs/si-0.98.2/lib/python3.8/site-packages/numpy/lib/function_base.py:2704: RuntimeWarning: invalid value encountered in multiply\n",
      "  c *= np.true_divide(1, fact)\n",
      "/home/xinhez/miniconda3/envs/si-0.98.2/lib/python3.8/site-packages/spikeinterface/postprocessing/template_metrics.py:223: RuntimeWarning: invalid value encountered in float_scalars\n",
      "  ptratio = template[peak_idx] / template[trough_idx]\n"
     ]
    },
    {
     "data": {
      "application/vnd.jupyter.widget-view+json": {
       "model_id": "335fec4a1c6141f58539711bac66f62f",
       "version_major": 2,
       "version_minor": 0
      },
      "text/plain": [
       "Fitting PCA:   0%|          | 0/71 [00:00<?, ?it/s]"
      ]
     },
     "metadata": {},
     "output_type": "display_data"
    },
    {
     "data": {
      "application/vnd.jupyter.widget-view+json": {
       "model_id": "524b5a432c364a34ac70f1c833dba464",
       "version_major": 2,
       "version_minor": 0
      },
      "text/plain": [
       "Projecting waveforms:   0%|          | 0/71 [00:00<?, ?it/s]"
      ]
     },
     "metadata": {},
     "output_type": "display_data"
    },
    {
     "name": "stderr",
     "output_type": "stream",
     "text": [
      "/home/xinhez/miniconda3/envs/si-0.98.2/lib/python3.8/site-packages/spikeinterface/qualitymetrics/quality_metric_calculator.py:97: UserWarning: Units [13 16 17 18 19 20 21 22 23 26 27 28 29 30 31 32 33 34 35 37 38 39 40 41\n",
      " 43 44 58 61 64 66] are empty. Quality metrcs will be set to NaN for these units.\n",
      " To remove empty units, use `sorting.remove_empty_units()`.\n",
      "  warnings.warn(\n"
     ]
    },
    {
     "data": {
      "application/vnd.jupyter.widget-view+json": {
       "model_id": "c1d15a9eaab24ba9b4118ed2cc0b6505",
       "version_major": 2,
       "version_minor": 0
      },
      "text/plain": [
       "Computing PCA metrics:   0%|          | 0/41 [00:00<?, ?it/s]"
      ]
     },
     "metadata": {},
     "output_type": "display_data"
    },
    {
     "name": "stderr",
     "output_type": "stream",
     "text": [
      "/home/xinhez/miniconda3/envs/si-0.98.2/lib/python3.8/site-packages/spikeinterface/qualitymetrics/pca_metrics.py:229: RuntimeWarning: Degrees of freedom <= 0 for slice\n",
      "  VI = np.linalg.inv(np.cov(pcs_for_this_unit.T))\n",
      "/home/xinhez/miniconda3/envs/si-0.98.2/lib/python3.8/site-packages/numpy/lib/function_base.py:2704: RuntimeWarning: divide by zero encountered in divide\n",
      "  c *= np.true_divide(1, fact)\n",
      "/home/xinhez/miniconda3/envs/si-0.98.2/lib/python3.8/site-packages/numpy/lib/function_base.py:2704: RuntimeWarning: invalid value encountered in multiply\n",
      "  c *= np.true_divide(1, fact)\n",
      "/home/xinhez/miniconda3/envs/si-0.98.2/lib/python3.8/site-packages/spikeinterface/postprocessing/template_metrics.py:223: RuntimeWarning: invalid value encountered in float_scalars\n",
      "  ptratio = template[peak_idx] / template[trough_idx]\n"
     ]
    },
    {
     "data": {
      "application/vnd.jupyter.widget-view+json": {
       "model_id": "5b09b439f88048e1a806211942a7c39a",
       "version_major": 2,
       "version_minor": 0
      },
      "text/plain": [
       "Fitting PCA:   0%|          | 0/71 [00:00<?, ?it/s]"
      ]
     },
     "metadata": {},
     "output_type": "display_data"
    },
    {
     "data": {
      "application/vnd.jupyter.widget-view+json": {
       "model_id": "24ed43b8ec9d430e9821a363236a6549",
       "version_major": 2,
       "version_minor": 0
      },
      "text/plain": [
       "Projecting waveforms:   0%|          | 0/71 [00:00<?, ?it/s]"
      ]
     },
     "metadata": {},
     "output_type": "display_data"
    },
    {
     "name": "stderr",
     "output_type": "stream",
     "text": [
      "/home/xinhez/miniconda3/envs/si-0.98.2/lib/python3.8/site-packages/spikeinterface/qualitymetrics/quality_metric_calculator.py:97: UserWarning: Units [13 16 17 18 20 21 22 23 25 26 27 28 29 32 33 35 41 43] are empty. Quality metrcs will be set to NaN for these units.\n",
      " To remove empty units, use `sorting.remove_empty_units()`.\n",
      "  warnings.warn(\n"
     ]
    },
    {
     "data": {
      "application/vnd.jupyter.widget-view+json": {
       "model_id": "bdf86d0adbcb4396bba9f7ae5079bd1d",
       "version_major": 2,
       "version_minor": 0
      },
      "text/plain": [
       "Computing PCA metrics:   0%|          | 0/53 [00:00<?, ?it/s]"
      ]
     },
     "metadata": {},
     "output_type": "display_data"
    },
    {
     "name": "stderr",
     "output_type": "stream",
     "text": [
      "/home/xinhez/miniconda3/envs/si-0.98.2/lib/python3.8/site-packages/spikeinterface/qualitymetrics/pca_metrics.py:229: RuntimeWarning: Degrees of freedom <= 0 for slice\n",
      "  VI = np.linalg.inv(np.cov(pcs_for_this_unit.T))\n",
      "/home/xinhez/miniconda3/envs/si-0.98.2/lib/python3.8/site-packages/numpy/lib/function_base.py:2704: RuntimeWarning: divide by zero encountered in divide\n",
      "  c *= np.true_divide(1, fact)\n",
      "/home/xinhez/miniconda3/envs/si-0.98.2/lib/python3.8/site-packages/numpy/lib/function_base.py:2704: RuntimeWarning: invalid value encountered in multiply\n",
      "  c *= np.true_divide(1, fact)\n",
      "/home/xinhez/miniconda3/envs/si-0.98.2/lib/python3.8/site-packages/spikeinterface/postprocessing/template_metrics.py:223: RuntimeWarning: invalid value encountered in float_scalars\n",
      "  ptratio = template[peak_idx] / template[trough_idx]\n"
     ]
    },
    {
     "data": {
      "application/vnd.jupyter.widget-view+json": {
       "model_id": "897299e64e0e46b682a13a250b6d4529",
       "version_major": 2,
       "version_minor": 0
      },
      "text/plain": [
       "Fitting PCA:   0%|          | 0/71 [00:00<?, ?it/s]"
      ]
     },
     "metadata": {},
     "output_type": "display_data"
    },
    {
     "data": {
      "application/vnd.jupyter.widget-view+json": {
       "model_id": "ab925785cd684d9cad12a4cb40cae51a",
       "version_major": 2,
       "version_minor": 0
      },
      "text/plain": [
       "Projecting waveforms:   0%|          | 0/71 [00:00<?, ?it/s]"
      ]
     },
     "metadata": {},
     "output_type": "display_data"
    },
    {
     "name": "stderr",
     "output_type": "stream",
     "text": [
      "/home/xinhez/miniconda3/envs/si-0.98.2/lib/python3.8/site-packages/spikeinterface/qualitymetrics/quality_metric_calculator.py:97: UserWarning: Units [17 19 20 21 23 25 26 27 29 30 31 32 33 35 38 41 43] are empty. Quality metrcs will be set to NaN for these units.\n",
      " To remove empty units, use `sorting.remove_empty_units()`.\n",
      "  warnings.warn(\n"
     ]
    },
    {
     "data": {
      "application/vnd.jupyter.widget-view+json": {
       "model_id": "962ea1a12ef44746bbfdfd1cc1924cb5",
       "version_major": 2,
       "version_minor": 0
      },
      "text/plain": [
       "Computing PCA metrics:   0%|          | 0/54 [00:00<?, ?it/s]"
      ]
     },
     "metadata": {},
     "output_type": "display_data"
    },
    {
     "name": "stderr",
     "output_type": "stream",
     "text": [
      "/home/xinhez/miniconda3/envs/si-0.98.2/lib/python3.8/site-packages/spikeinterface/qualitymetrics/pca_metrics.py:229: RuntimeWarning: Degrees of freedom <= 0 for slice\n",
      "  VI = np.linalg.inv(np.cov(pcs_for_this_unit.T))\n",
      "/home/xinhez/miniconda3/envs/si-0.98.2/lib/python3.8/site-packages/numpy/lib/function_base.py:2704: RuntimeWarning: divide by zero encountered in divide\n",
      "  c *= np.true_divide(1, fact)\n",
      "/home/xinhez/miniconda3/envs/si-0.98.2/lib/python3.8/site-packages/numpy/lib/function_base.py:2704: RuntimeWarning: invalid value encountered in multiply\n",
      "  c *= np.true_divide(1, fact)\n",
      "/home/xinhez/miniconda3/envs/si-0.98.2/lib/python3.8/site-packages/spikeinterface/postprocessing/template_metrics.py:223: RuntimeWarning: invalid value encountered in float_scalars\n",
      "  ptratio = template[peak_idx] / template[trough_idx]\n"
     ]
    },
    {
     "data": {
      "application/vnd.jupyter.widget-view+json": {
       "model_id": "978ebfd73a4d4690ac847abd926618ba",
       "version_major": 2,
       "version_minor": 0
      },
      "text/plain": [
       "Fitting PCA:   0%|          | 0/71 [00:00<?, ?it/s]"
      ]
     },
     "metadata": {},
     "output_type": "display_data"
    },
    {
     "data": {
      "application/vnd.jupyter.widget-view+json": {
       "model_id": "abf1727dcb44458ca348e0191e884fb4",
       "version_major": 2,
       "version_minor": 0
      },
      "text/plain": [
       "Projecting waveforms:   0%|          | 0/71 [00:00<?, ?it/s]"
      ]
     },
     "metadata": {},
     "output_type": "display_data"
    },
    {
     "name": "stderr",
     "output_type": "stream",
     "text": [
      "/home/xinhez/miniconda3/envs/si-0.98.2/lib/python3.8/site-packages/spikeinterface/qualitymetrics/quality_metric_calculator.py:97: UserWarning: Units [ 7  8 15 16 23 25 26 27 30 31 32 38 39 43 55 70] are empty. Quality metrcs will be set to NaN for these units.\n",
      " To remove empty units, use `sorting.remove_empty_units()`.\n",
      "  warnings.warn(\n"
     ]
    },
    {
     "data": {
      "application/vnd.jupyter.widget-view+json": {
       "model_id": "7146bde9dc76419f93b244ffe6ac7494",
       "version_major": 2,
       "version_minor": 0
      },
      "text/plain": [
       "Computing PCA metrics:   0%|          | 0/55 [00:00<?, ?it/s]"
      ]
     },
     "metadata": {},
     "output_type": "display_data"
    },
    {
     "name": "stderr",
     "output_type": "stream",
     "text": [
      "/home/xinhez/miniconda3/envs/si-0.98.2/lib/python3.8/site-packages/spikeinterface/qualitymetrics/pca_metrics.py:229: RuntimeWarning: Degrees of freedom <= 0 for slice\n",
      "  VI = np.linalg.inv(np.cov(pcs_for_this_unit.T))\n",
      "/home/xinhez/miniconda3/envs/si-0.98.2/lib/python3.8/site-packages/numpy/lib/function_base.py:2704: RuntimeWarning: divide by zero encountered in divide\n",
      "  c *= np.true_divide(1, fact)\n",
      "/home/xinhez/miniconda3/envs/si-0.98.2/lib/python3.8/site-packages/numpy/lib/function_base.py:2704: RuntimeWarning: invalid value encountered in multiply\n",
      "  c *= np.true_divide(1, fact)\n",
      "/home/xinhez/miniconda3/envs/si-0.98.2/lib/python3.8/site-packages/spikeinterface/postprocessing/template_metrics.py:223: RuntimeWarning: invalid value encountered in float_scalars\n",
      "  ptratio = template[peak_idx] / template[trough_idx]\n"
     ]
    },
    {
     "data": {
      "application/vnd.jupyter.widget-view+json": {
       "model_id": "0aa77f03dd7849cb89589a039ab14c56",
       "version_major": 2,
       "version_minor": 0
      },
      "text/plain": [
       "Fitting PCA:   0%|          | 0/71 [00:00<?, ?it/s]"
      ]
     },
     "metadata": {},
     "output_type": "display_data"
    },
    {
     "data": {
      "application/vnd.jupyter.widget-view+json": {
       "model_id": "580b3782888545d5af6dbbf2c5b5b688",
       "version_major": 2,
       "version_minor": 0
      },
      "text/plain": [
       "Projecting waveforms:   0%|          | 0/71 [00:00<?, ?it/s]"
      ]
     },
     "metadata": {},
     "output_type": "display_data"
    },
    {
     "name": "stderr",
     "output_type": "stream",
     "text": [
      "/home/xinhez/miniconda3/envs/si-0.98.2/lib/python3.8/site-packages/spikeinterface/qualitymetrics/quality_metric_calculator.py:97: UserWarning: Units [ 4  7 15 16 17 19 23 25 26 27 28 29 30 31 33 35 38 39 41 63] are empty. Quality metrcs will be set to NaN for these units.\n",
      " To remove empty units, use `sorting.remove_empty_units()`.\n",
      "  warnings.warn(\n"
     ]
    },
    {
     "data": {
      "application/vnd.jupyter.widget-view+json": {
       "model_id": "62e940b99c4440f881b02a5aa9349f63",
       "version_major": 2,
       "version_minor": 0
      },
      "text/plain": [
       "Computing PCA metrics:   0%|          | 0/51 [00:00<?, ?it/s]"
      ]
     },
     "metadata": {},
     "output_type": "display_data"
    },
    {
     "name": "stderr",
     "output_type": "stream",
     "text": [
      "/home/xinhez/miniconda3/envs/si-0.98.2/lib/python3.8/site-packages/spikeinterface/qualitymetrics/pca_metrics.py:229: RuntimeWarning: Degrees of freedom <= 0 for slice\n",
      "  VI = np.linalg.inv(np.cov(pcs_for_this_unit.T))\n",
      "/home/xinhez/miniconda3/envs/si-0.98.2/lib/python3.8/site-packages/numpy/lib/function_base.py:2704: RuntimeWarning: divide by zero encountered in divide\n",
      "  c *= np.true_divide(1, fact)\n",
      "/home/xinhez/miniconda3/envs/si-0.98.2/lib/python3.8/site-packages/numpy/lib/function_base.py:2704: RuntimeWarning: invalid value encountered in multiply\n",
      "  c *= np.true_divide(1, fact)\n",
      "/home/xinhez/miniconda3/envs/si-0.98.2/lib/python3.8/site-packages/spikeinterface/postprocessing/template_metrics.py:223: RuntimeWarning: invalid value encountered in float_scalars\n",
      "  ptratio = template[peak_idx] / template[trough_idx]\n"
     ]
    },
    {
     "data": {
      "application/vnd.jupyter.widget-view+json": {
       "model_id": "cf1af177a2f14cdda6fcbadf2abf3776",
       "version_major": 2,
       "version_minor": 0
      },
      "text/plain": [
       "Fitting PCA:   0%|          | 0/71 [00:00<?, ?it/s]"
      ]
     },
     "metadata": {},
     "output_type": "display_data"
    },
    {
     "data": {
      "application/vnd.jupyter.widget-view+json": {
       "model_id": "77c7efc7112e47cb8e283ca2148e0c2f",
       "version_major": 2,
       "version_minor": 0
      },
      "text/plain": [
       "Projecting waveforms:   0%|          | 0/71 [00:00<?, ?it/s]"
      ]
     },
     "metadata": {},
     "output_type": "display_data"
    },
    {
     "name": "stderr",
     "output_type": "stream",
     "text": [
      "/home/xinhez/miniconda3/envs/si-0.98.2/lib/python3.8/site-packages/spikeinterface/qualitymetrics/quality_metric_calculator.py:97: UserWarning: Units [ 3  7  8 15 16 23 25 28 29 32 33 37 38 39 43 47 49] are empty. Quality metrcs will be set to NaN for these units.\n",
      " To remove empty units, use `sorting.remove_empty_units()`.\n",
      "  warnings.warn(\n"
     ]
    },
    {
     "data": {
      "application/vnd.jupyter.widget-view+json": {
       "model_id": "94163c3406f24fadb9be627659ddd28b",
       "version_major": 2,
       "version_minor": 0
      },
      "text/plain": [
       "Computing PCA metrics:   0%|          | 0/54 [00:00<?, ?it/s]"
      ]
     },
     "metadata": {},
     "output_type": "display_data"
    },
    {
     "name": "stderr",
     "output_type": "stream",
     "text": [
      "/home/xinhez/miniconda3/envs/si-0.98.2/lib/python3.8/site-packages/spikeinterface/qualitymetrics/pca_metrics.py:229: RuntimeWarning: Degrees of freedom <= 0 for slice\n",
      "  VI = np.linalg.inv(np.cov(pcs_for_this_unit.T))\n",
      "/home/xinhez/miniconda3/envs/si-0.98.2/lib/python3.8/site-packages/numpy/lib/function_base.py:2704: RuntimeWarning: divide by zero encountered in divide\n",
      "  c *= np.true_divide(1, fact)\n",
      "/home/xinhez/miniconda3/envs/si-0.98.2/lib/python3.8/site-packages/numpy/lib/function_base.py:2704: RuntimeWarning: invalid value encountered in multiply\n",
      "  c *= np.true_divide(1, fact)\n",
      "/home/xinhez/miniconda3/envs/si-0.98.2/lib/python3.8/site-packages/spikeinterface/postprocessing/template_metrics.py:223: RuntimeWarning: invalid value encountered in float_scalars\n",
      "  ptratio = template[peak_idx] / template[trough_idx]\n",
      "/home/xinhez/miniconda3/envs/si-0.98.2/lib/python3.8/site-packages/scipy/stats/_stats_mstats_common.py:182: RuntimeWarning: invalid value encountered in double_scalars\n",
      "  slope = ssxym / ssxm\n",
      "/home/xinhez/miniconda3/envs/si-0.98.2/lib/python3.8/site-packages/scipy/stats/_stats_mstats_common.py:196: RuntimeWarning: invalid value encountered in sqrt\n",
      "  t = r * np.sqrt(df / ((1.0 - r + TINY)*(1.0 + r + TINY)))\n",
      "/home/xinhez/miniconda3/envs/si-0.98.2/lib/python3.8/site-packages/scipy/stats/_stats_mstats_common.py:199: RuntimeWarning: invalid value encountered in double_scalars\n",
      "  slope_stderr = np.sqrt((1 - r**2) * ssym / ssxm / df)\n"
     ]
    },
    {
     "data": {
      "application/vnd.jupyter.widget-view+json": {
       "model_id": "72796f3171d94d99b1190aa1deb9359e",
       "version_major": 2,
       "version_minor": 0
      },
      "text/plain": [
       "Fitting PCA:   0%|          | 0/71 [00:00<?, ?it/s]"
      ]
     },
     "metadata": {},
     "output_type": "display_data"
    },
    {
     "data": {
      "application/vnd.jupyter.widget-view+json": {
       "model_id": "7ee575747f7b4068b70837b953f20833",
       "version_major": 2,
       "version_minor": 0
      },
      "text/plain": [
       "Projecting waveforms:   0%|          | 0/71 [00:00<?, ?it/s]"
      ]
     },
     "metadata": {},
     "output_type": "display_data"
    },
    {
     "name": "stderr",
     "output_type": "stream",
     "text": [
      "/home/xinhez/miniconda3/envs/si-0.98.2/lib/python3.8/site-packages/spikeinterface/qualitymetrics/quality_metric_calculator.py:97: UserWarning: Units [ 7  8 16 19 20 22 25 28 29 32 33 37 38 39 41 43 49 70] are empty. Quality metrcs will be set to NaN for these units.\n",
      " To remove empty units, use `sorting.remove_empty_units()`.\n",
      "  warnings.warn(\n"
     ]
    },
    {
     "data": {
      "application/vnd.jupyter.widget-view+json": {
       "model_id": "f2b5fca10b0b4b6c8a052ccde5a6edd7",
       "version_major": 2,
       "version_minor": 0
      },
      "text/plain": [
       "Computing PCA metrics:   0%|          | 0/53 [00:00<?, ?it/s]"
      ]
     },
     "metadata": {},
     "output_type": "display_data"
    },
    {
     "name": "stderr",
     "output_type": "stream",
     "text": [
      "/home/xinhez/miniconda3/envs/si-0.98.2/lib/python3.8/site-packages/spikeinterface/qualitymetrics/pca_metrics.py:229: RuntimeWarning: Degrees of freedom <= 0 for slice\n",
      "  VI = np.linalg.inv(np.cov(pcs_for_this_unit.T))\n",
      "/home/xinhez/miniconda3/envs/si-0.98.2/lib/python3.8/site-packages/numpy/lib/function_base.py:2704: RuntimeWarning: divide by zero encountered in divide\n",
      "  c *= np.true_divide(1, fact)\n",
      "/home/xinhez/miniconda3/envs/si-0.98.2/lib/python3.8/site-packages/numpy/lib/function_base.py:2704: RuntimeWarning: invalid value encountered in multiply\n",
      "  c *= np.true_divide(1, fact)\n",
      "/home/xinhez/miniconda3/envs/si-0.98.2/lib/python3.8/site-packages/spikeinterface/postprocessing/template_metrics.py:223: RuntimeWarning: invalid value encountered in float_scalars\n",
      "  ptratio = template[peak_idx] / template[trough_idx]\n"
     ]
    },
    {
     "data": {
      "application/vnd.jupyter.widget-view+json": {
       "model_id": "d9eb486f6d5e4da1bd8687e69a35eb14",
       "version_major": 2,
       "version_minor": 0
      },
      "text/plain": [
       "Fitting PCA:   0%|          | 0/71 [00:00<?, ?it/s]"
      ]
     },
     "metadata": {},
     "output_type": "display_data"
    },
    {
     "data": {
      "application/vnd.jupyter.widget-view+json": {
       "model_id": "ccc9ff533bac48c1abf06bf68008d69e",
       "version_major": 2,
       "version_minor": 0
      },
      "text/plain": [
       "Projecting waveforms:   0%|          | 0/71 [00:00<?, ?it/s]"
      ]
     },
     "metadata": {},
     "output_type": "display_data"
    },
    {
     "name": "stderr",
     "output_type": "stream",
     "text": [
      "/home/xinhez/miniconda3/envs/si-0.98.2/lib/python3.8/site-packages/spikeinterface/qualitymetrics/quality_metric_calculator.py:97: UserWarning: Units [ 9 15 16 17 23 25 26 27 28 29 30 31 33 37 38 39 41 43] are empty. Quality metrcs will be set to NaN for these units.\n",
      " To remove empty units, use `sorting.remove_empty_units()`.\n",
      "  warnings.warn(\n"
     ]
    },
    {
     "data": {
      "application/vnd.jupyter.widget-view+json": {
       "model_id": "4507e4e093ef4dfc99784489b6b912b4",
       "version_major": 2,
       "version_minor": 0
      },
      "text/plain": [
       "Computing PCA metrics:   0%|          | 0/53 [00:00<?, ?it/s]"
      ]
     },
     "metadata": {},
     "output_type": "display_data"
    },
    {
     "name": "stderr",
     "output_type": "stream",
     "text": [
      "/home/xinhez/miniconda3/envs/si-0.98.2/lib/python3.8/site-packages/spikeinterface/qualitymetrics/pca_metrics.py:229: RuntimeWarning: Degrees of freedom <= 0 for slice\n",
      "  VI = np.linalg.inv(np.cov(pcs_for_this_unit.T))\n",
      "/home/xinhez/miniconda3/envs/si-0.98.2/lib/python3.8/site-packages/numpy/lib/function_base.py:2704: RuntimeWarning: divide by zero encountered in divide\n",
      "  c *= np.true_divide(1, fact)\n",
      "/home/xinhez/miniconda3/envs/si-0.98.2/lib/python3.8/site-packages/numpy/lib/function_base.py:2704: RuntimeWarning: invalid value encountered in multiply\n",
      "  c *= np.true_divide(1, fact)\n",
      "/home/xinhez/miniconda3/envs/si-0.98.2/lib/python3.8/site-packages/spikeinterface/postprocessing/template_metrics.py:223: RuntimeWarning: invalid value encountered in float_scalars\n",
      "  ptratio = template[peak_idx] / template[trough_idx]\n"
     ]
    },
    {
     "data": {
      "application/vnd.jupyter.widget-view+json": {
       "model_id": "71f8e1c81d5c4ec8b667903e24f49a6a",
       "version_major": 2,
       "version_minor": 0
      },
      "text/plain": [
       "Fitting PCA:   0%|          | 0/43 [00:00<?, ?it/s]"
      ]
     },
     "metadata": {},
     "output_type": "display_data"
    },
    {
     "data": {
      "application/vnd.jupyter.widget-view+json": {
       "model_id": "7e1c3386d18d429f9efef37bc39cf25b",
       "version_major": 2,
       "version_minor": 0
      },
      "text/plain": [
       "Projecting waveforms:   0%|          | 0/43 [00:00<?, ?it/s]"
      ]
     },
     "metadata": {},
     "output_type": "display_data"
    },
    {
     "name": "stderr",
     "output_type": "stream",
     "text": [
      "/home/xinhez/miniconda3/envs/si-0.98.2/lib/python3.8/site-packages/spikeinterface/qualitymetrics/quality_metric_calculator.py:97: UserWarning: Units [ 2  3  4  5  6  7 10 12 13 14 16 18 20 26 29 31 34 41 42] are empty. Quality metrcs will be set to NaN for these units.\n",
      " To remove empty units, use `sorting.remove_empty_units()`.\n",
      "  warnings.warn(\n"
     ]
    },
    {
     "data": {
      "application/vnd.jupyter.widget-view+json": {
       "model_id": "63c9b3be13a04e29b1b06bbb3c223733",
       "version_major": 2,
       "version_minor": 0
      },
      "text/plain": [
       "Computing PCA metrics:   0%|          | 0/24 [00:00<?, ?it/s]"
      ]
     },
     "metadata": {},
     "output_type": "display_data"
    },
    {
     "name": "stderr",
     "output_type": "stream",
     "text": [
      "/home/xinhez/miniconda3/envs/si-0.98.2/lib/python3.8/site-packages/spikeinterface/qualitymetrics/pca_metrics.py:229: RuntimeWarning: Degrees of freedom <= 0 for slice\n",
      "  VI = np.linalg.inv(np.cov(pcs_for_this_unit.T))\n",
      "/home/xinhez/miniconda3/envs/si-0.98.2/lib/python3.8/site-packages/numpy/lib/function_base.py:2704: RuntimeWarning: divide by zero encountered in divide\n",
      "  c *= np.true_divide(1, fact)\n",
      "/home/xinhez/miniconda3/envs/si-0.98.2/lib/python3.8/site-packages/numpy/lib/function_base.py:2704: RuntimeWarning: invalid value encountered in multiply\n",
      "  c *= np.true_divide(1, fact)\n",
      "/home/xinhez/miniconda3/envs/si-0.98.2/lib/python3.8/site-packages/spikeinterface/postprocessing/template_metrics.py:223: RuntimeWarning: invalid value encountered in float_scalars\n",
      "  ptratio = template[peak_idx] / template[trough_idx]\n"
     ]
    },
    {
     "data": {
      "application/vnd.jupyter.widget-view+json": {
       "model_id": "36315a8ca9d04bc4a5f9e4ae46ba2ef4",
       "version_major": 2,
       "version_minor": 0
      },
      "text/plain": [
       "Fitting PCA:   0%|          | 0/49 [00:00<?, ?it/s]"
      ]
     },
     "metadata": {},
     "output_type": "display_data"
    },
    {
     "data": {
      "application/vnd.jupyter.widget-view+json": {
       "model_id": "c751584e450c4804be54138b84331a94",
       "version_major": 2,
       "version_minor": 0
      },
      "text/plain": [
       "Projecting waveforms:   0%|          | 0/49 [00:00<?, ?it/s]"
      ]
     },
     "metadata": {},
     "output_type": "display_data"
    },
    {
     "name": "stderr",
     "output_type": "stream",
     "text": [
      "/home/xinhez/miniconda3/envs/si-0.98.2/lib/python3.8/site-packages/spikeinterface/qualitymetrics/quality_metric_calculator.py:97: UserWarning: Units [ 3  5  7 13 14 15 16 17 18 19 20 22 23 24 25 27 28 29 30 31 37 38 41 43\n",
      " 45] are empty. Quality metrcs will be set to NaN for these units.\n",
      " To remove empty units, use `sorting.remove_empty_units()`.\n",
      "  warnings.warn(\n"
     ]
    },
    {
     "data": {
      "application/vnd.jupyter.widget-view+json": {
       "model_id": "f6d313a024354ca1974d3975654bd2d4",
       "version_major": 2,
       "version_minor": 0
      },
      "text/plain": [
       "Computing PCA metrics:   0%|          | 0/24 [00:00<?, ?it/s]"
      ]
     },
     "metadata": {},
     "output_type": "display_data"
    },
    {
     "name": "stderr",
     "output_type": "stream",
     "text": [
      "/home/xinhez/miniconda3/envs/si-0.98.2/lib/python3.8/site-packages/spikeinterface/qualitymetrics/pca_metrics.py:229: RuntimeWarning: Degrees of freedom <= 0 for slice\n",
      "  VI = np.linalg.inv(np.cov(pcs_for_this_unit.T))\n",
      "/home/xinhez/miniconda3/envs/si-0.98.2/lib/python3.8/site-packages/numpy/lib/function_base.py:2704: RuntimeWarning: divide by zero encountered in divide\n",
      "  c *= np.true_divide(1, fact)\n",
      "/home/xinhez/miniconda3/envs/si-0.98.2/lib/python3.8/site-packages/numpy/lib/function_base.py:2704: RuntimeWarning: invalid value encountered in multiply\n",
      "  c *= np.true_divide(1, fact)\n",
      "/home/xinhez/miniconda3/envs/si-0.98.2/lib/python3.8/site-packages/scipy/stats/_stats_mstats_common.py:182: RuntimeWarning: invalid value encountered in double_scalars\n",
      "  slope = ssxym / ssxm\n",
      "/home/xinhez/miniconda3/envs/si-0.98.2/lib/python3.8/site-packages/scipy/stats/_stats_mstats_common.py:196: RuntimeWarning: invalid value encountered in sqrt\n",
      "  t = r * np.sqrt(df / ((1.0 - r + TINY)*(1.0 + r + TINY)))\n",
      "/home/xinhez/miniconda3/envs/si-0.98.2/lib/python3.8/site-packages/scipy/stats/_stats_mstats_common.py:199: RuntimeWarning: invalid value encountered in double_scalars\n",
      "  slope_stderr = np.sqrt((1 - r**2) * ssym / ssxm / df)\n",
      "/home/xinhez/miniconda3/envs/si-0.98.2/lib/python3.8/site-packages/spikeinterface/postprocessing/template_metrics.py:223: RuntimeWarning: invalid value encountered in float_scalars\n",
      "  ptratio = template[peak_idx] / template[trough_idx]\n"
     ]
    },
    {
     "data": {
      "application/vnd.jupyter.widget-view+json": {
       "model_id": "ed8d2f2cf84049bb912e6fc8425a6595",
       "version_major": 2,
       "version_minor": 0
      },
      "text/plain": [
       "Fitting PCA:   0%|          | 0/49 [00:00<?, ?it/s]"
      ]
     },
     "metadata": {},
     "output_type": "display_data"
    },
    {
     "data": {
      "application/vnd.jupyter.widget-view+json": {
       "model_id": "b1329eeaf19b49eba9d4d4d2324e46a0",
       "version_major": 2,
       "version_minor": 0
      },
      "text/plain": [
       "Projecting waveforms:   0%|          | 0/49 [00:00<?, ?it/s]"
      ]
     },
     "metadata": {},
     "output_type": "display_data"
    },
    {
     "name": "stderr",
     "output_type": "stream",
     "text": [
      "/home/xinhez/miniconda3/envs/si-0.98.2/lib/python3.8/site-packages/spikeinterface/qualitymetrics/quality_metric_calculator.py:97: UserWarning: Units [ 2  4 10 14 16 18 20 21 22 23 24 25 29 31 43 45] are empty. Quality metrcs will be set to NaN for these units.\n",
      " To remove empty units, use `sorting.remove_empty_units()`.\n",
      "  warnings.warn(\n"
     ]
    },
    {
     "data": {
      "application/vnd.jupyter.widget-view+json": {
       "model_id": "1ebf746af61e4b64a51723631f0cd28e",
       "version_major": 2,
       "version_minor": 0
      },
      "text/plain": [
       "Computing PCA metrics:   0%|          | 0/33 [00:00<?, ?it/s]"
      ]
     },
     "metadata": {},
     "output_type": "display_data"
    },
    {
     "name": "stderr",
     "output_type": "stream",
     "text": [
      "/home/xinhez/miniconda3/envs/si-0.98.2/lib/python3.8/site-packages/spikeinterface/qualitymetrics/pca_metrics.py:229: RuntimeWarning: Degrees of freedom <= 0 for slice\n",
      "  VI = np.linalg.inv(np.cov(pcs_for_this_unit.T))\n",
      "/home/xinhez/miniconda3/envs/si-0.98.2/lib/python3.8/site-packages/numpy/lib/function_base.py:2704: RuntimeWarning: divide by zero encountered in divide\n",
      "  c *= np.true_divide(1, fact)\n",
      "/home/xinhez/miniconda3/envs/si-0.98.2/lib/python3.8/site-packages/numpy/lib/function_base.py:2704: RuntimeWarning: invalid value encountered in multiply\n",
      "  c *= np.true_divide(1, fact)\n",
      "/home/xinhez/miniconda3/envs/si-0.98.2/lib/python3.8/site-packages/scipy/stats/_stats_mstats_common.py:182: RuntimeWarning: invalid value encountered in double_scalars\n",
      "  slope = ssxym / ssxm\n",
      "/home/xinhez/miniconda3/envs/si-0.98.2/lib/python3.8/site-packages/scipy/stats/_stats_mstats_common.py:196: RuntimeWarning: invalid value encountered in sqrt\n",
      "  t = r * np.sqrt(df / ((1.0 - r + TINY)*(1.0 + r + TINY)))\n",
      "/home/xinhez/miniconda3/envs/si-0.98.2/lib/python3.8/site-packages/scipy/stats/_stats_mstats_common.py:199: RuntimeWarning: invalid value encountered in double_scalars\n",
      "  slope_stderr = np.sqrt((1 - r**2) * ssym / ssxm / df)\n",
      "/home/xinhez/miniconda3/envs/si-0.98.2/lib/python3.8/site-packages/spikeinterface/postprocessing/template_metrics.py:223: RuntimeWarning: invalid value encountered in float_scalars\n",
      "  ptratio = template[peak_idx] / template[trough_idx]\n"
     ]
    },
    {
     "data": {
      "application/vnd.jupyter.widget-view+json": {
       "model_id": "77065c307eed46a799ee0bc5268252fb",
       "version_major": 2,
       "version_minor": 0
      },
      "text/plain": [
       "Fitting PCA:   0%|          | 0/49 [00:00<?, ?it/s]"
      ]
     },
     "metadata": {},
     "output_type": "display_data"
    },
    {
     "data": {
      "application/vnd.jupyter.widget-view+json": {
       "model_id": "0ae9ef9fe6a043399777a3328b0a517e",
       "version_major": 2,
       "version_minor": 0
      },
      "text/plain": [
       "Projecting waveforms:   0%|          | 0/49 [00:00<?, ?it/s]"
      ]
     },
     "metadata": {},
     "output_type": "display_data"
    },
    {
     "name": "stderr",
     "output_type": "stream",
     "text": [
      "/home/xinhez/miniconda3/envs/si-0.98.2/lib/python3.8/site-packages/spikeinterface/qualitymetrics/quality_metric_calculator.py:97: UserWarning: Units [ 5  8 10 18 20 22 24 26 28 29 30 34 37 40 41 42 43] are empty. Quality metrcs will be set to NaN for these units.\n",
      " To remove empty units, use `sorting.remove_empty_units()`.\n",
      "  warnings.warn(\n"
     ]
    },
    {
     "data": {
      "application/vnd.jupyter.widget-view+json": {
       "model_id": "3126cf738c9d4728912360401e1c2fa3",
       "version_major": 2,
       "version_minor": 0
      },
      "text/plain": [
       "Computing PCA metrics:   0%|          | 0/32 [00:00<?, ?it/s]"
      ]
     },
     "metadata": {},
     "output_type": "display_data"
    },
    {
     "name": "stderr",
     "output_type": "stream",
     "text": [
      "/home/xinhez/miniconda3/envs/si-0.98.2/lib/python3.8/site-packages/spikeinterface/qualitymetrics/pca_metrics.py:229: RuntimeWarning: Degrees of freedom <= 0 for slice\n",
      "  VI = np.linalg.inv(np.cov(pcs_for_this_unit.T))\n",
      "/home/xinhez/miniconda3/envs/si-0.98.2/lib/python3.8/site-packages/numpy/lib/function_base.py:2704: RuntimeWarning: divide by zero encountered in divide\n",
      "  c *= np.true_divide(1, fact)\n",
      "/home/xinhez/miniconda3/envs/si-0.98.2/lib/python3.8/site-packages/numpy/lib/function_base.py:2704: RuntimeWarning: invalid value encountered in multiply\n",
      "  c *= np.true_divide(1, fact)\n",
      "/home/xinhez/miniconda3/envs/si-0.98.2/lib/python3.8/site-packages/scipy/stats/_stats_mstats_common.py:182: RuntimeWarning: invalid value encountered in double_scalars\n",
      "  slope = ssxym / ssxm\n",
      "/home/xinhez/miniconda3/envs/si-0.98.2/lib/python3.8/site-packages/scipy/stats/_stats_mstats_common.py:196: RuntimeWarning: invalid value encountered in sqrt\n",
      "  t = r * np.sqrt(df / ((1.0 - r + TINY)*(1.0 + r + TINY)))\n",
      "/home/xinhez/miniconda3/envs/si-0.98.2/lib/python3.8/site-packages/scipy/stats/_stats_mstats_common.py:199: RuntimeWarning: invalid value encountered in double_scalars\n",
      "  slope_stderr = np.sqrt((1 - r**2) * ssym / ssxm / df)\n",
      "/home/xinhez/miniconda3/envs/si-0.98.2/lib/python3.8/site-packages/spikeinterface/postprocessing/template_metrics.py:223: RuntimeWarning: invalid value encountered in float_scalars\n",
      "  ptratio = template[peak_idx] / template[trough_idx]\n"
     ]
    },
    {
     "data": {
      "application/vnd.jupyter.widget-view+json": {
       "model_id": "013a25eee7714f839f854a25ee5d7d3c",
       "version_major": 2,
       "version_minor": 0
      },
      "text/plain": [
       "Fitting PCA:   0%|          | 0/49 [00:00<?, ?it/s]"
      ]
     },
     "metadata": {},
     "output_type": "display_data"
    },
    {
     "data": {
      "application/vnd.jupyter.widget-view+json": {
       "model_id": "0847bbafd41e45b1a71f0502685cb570",
       "version_major": 2,
       "version_minor": 0
      },
      "text/plain": [
       "Projecting waveforms:   0%|          | 0/49 [00:00<?, ?it/s]"
      ]
     },
     "metadata": {},
     "output_type": "display_data"
    },
    {
     "name": "stderr",
     "output_type": "stream",
     "text": [
      "/home/xinhez/miniconda3/envs/si-0.98.2/lib/python3.8/site-packages/spikeinterface/qualitymetrics/quality_metric_calculator.py:97: UserWarning: Units [20 22 24 26 28 30 37 40 41 42 43 49] are empty. Quality metrcs will be set to NaN for these units.\n",
      " To remove empty units, use `sorting.remove_empty_units()`.\n",
      "  warnings.warn(\n"
     ]
    },
    {
     "data": {
      "application/vnd.jupyter.widget-view+json": {
       "model_id": "51eccdb5a740427da08e13dda6773a81",
       "version_major": 2,
       "version_minor": 0
      },
      "text/plain": [
       "Computing PCA metrics:   0%|          | 0/37 [00:00<?, ?it/s]"
      ]
     },
     "metadata": {},
     "output_type": "display_data"
    },
    {
     "name": "stderr",
     "output_type": "stream",
     "text": [
      "/home/xinhez/miniconda3/envs/si-0.98.2/lib/python3.8/site-packages/spikeinterface/postprocessing/template_metrics.py:223: RuntimeWarning: invalid value encountered in float_scalars\n",
      "  ptratio = template[peak_idx] / template[trough_idx]\n"
     ]
    },
    {
     "data": {
      "application/vnd.jupyter.widget-view+json": {
       "model_id": "c9042955278540beabf24660d3c7e3c3",
       "version_major": 2,
       "version_minor": 0
      },
      "text/plain": [
       "Fitting PCA:   0%|          | 0/49 [00:00<?, ?it/s]"
      ]
     },
     "metadata": {},
     "output_type": "display_data"
    },
    {
     "data": {
      "application/vnd.jupyter.widget-view+json": {
       "model_id": "c26ee9b0c8f34b5b98b29071b2a9774f",
       "version_major": 2,
       "version_minor": 0
      },
      "text/plain": [
       "Projecting waveforms:   0%|          | 0/49 [00:00<?, ?it/s]"
      ]
     },
     "metadata": {},
     "output_type": "display_data"
    },
    {
     "name": "stderr",
     "output_type": "stream",
     "text": [
      "/home/xinhez/miniconda3/envs/si-0.98.2/lib/python3.8/site-packages/spikeinterface/qualitymetrics/quality_metric_calculator.py:97: UserWarning: Units [ 2  4  6  7 10 12 13 14 16 17 18 40 41 49] are empty. Quality metrcs will be set to NaN for these units.\n",
      " To remove empty units, use `sorting.remove_empty_units()`.\n",
      "  warnings.warn(\n"
     ]
    },
    {
     "data": {
      "application/vnd.jupyter.widget-view+json": {
       "model_id": "52fad8a797b04282a93c53ecb580663c",
       "version_major": 2,
       "version_minor": 0
      },
      "text/plain": [
       "Computing PCA metrics:   0%|          | 0/35 [00:00<?, ?it/s]"
      ]
     },
     "metadata": {},
     "output_type": "display_data"
    },
    {
     "name": "stderr",
     "output_type": "stream",
     "text": [
      "/home/xinhez/miniconda3/envs/si-0.98.2/lib/python3.8/site-packages/spikeinterface/qualitymetrics/pca_metrics.py:229: RuntimeWarning: Degrees of freedom <= 0 for slice\n",
      "  VI = np.linalg.inv(np.cov(pcs_for_this_unit.T))\n",
      "/home/xinhez/miniconda3/envs/si-0.98.2/lib/python3.8/site-packages/numpy/lib/function_base.py:2704: RuntimeWarning: divide by zero encountered in divide\n",
      "  c *= np.true_divide(1, fact)\n",
      "/home/xinhez/miniconda3/envs/si-0.98.2/lib/python3.8/site-packages/numpy/lib/function_base.py:2704: RuntimeWarning: invalid value encountered in multiply\n",
      "  c *= np.true_divide(1, fact)\n",
      "/home/xinhez/miniconda3/envs/si-0.98.2/lib/python3.8/site-packages/spikeinterface/postprocessing/template_metrics.py:223: RuntimeWarning: invalid value encountered in float_scalars\n",
      "  ptratio = template[peak_idx] / template[trough_idx]\n"
     ]
    },
    {
     "data": {
      "application/vnd.jupyter.widget-view+json": {
       "model_id": "1e12fa314691439eae74f4e14fdb7865",
       "version_major": 2,
       "version_minor": 0
      },
      "text/plain": [
       "Fitting PCA:   0%|          | 0/49 [00:00<?, ?it/s]"
      ]
     },
     "metadata": {},
     "output_type": "display_data"
    },
    {
     "data": {
      "application/vnd.jupyter.widget-view+json": {
       "model_id": "b0a2e82585a249cdb1d7476eb409a964",
       "version_major": 2,
       "version_minor": 0
      },
      "text/plain": [
       "Projecting waveforms:   0%|          | 0/49 [00:00<?, ?it/s]"
      ]
     },
     "metadata": {},
     "output_type": "display_data"
    },
    {
     "name": "stderr",
     "output_type": "stream",
     "text": [
      "/home/xinhez/miniconda3/envs/si-0.98.2/lib/python3.8/site-packages/spikeinterface/qualitymetrics/quality_metric_calculator.py:97: UserWarning: Units [ 2  4 10 14 15 17 18 19 20 21 22 23 25 30 31 33 43 45] are empty. Quality metrcs will be set to NaN for these units.\n",
      " To remove empty units, use `sorting.remove_empty_units()`.\n",
      "  warnings.warn(\n"
     ]
    },
    {
     "data": {
      "application/vnd.jupyter.widget-view+json": {
       "model_id": "3cf2d890ce604257b2cd3b4d7ff5e97f",
       "version_major": 2,
       "version_minor": 0
      },
      "text/plain": [
       "Computing PCA metrics:   0%|          | 0/31 [00:00<?, ?it/s]"
      ]
     },
     "metadata": {},
     "output_type": "display_data"
    },
    {
     "name": "stderr",
     "output_type": "stream",
     "text": [
      "/home/xinhez/miniconda3/envs/si-0.98.2/lib/python3.8/site-packages/spikeinterface/qualitymetrics/pca_metrics.py:229: RuntimeWarning: Degrees of freedom <= 0 for slice\n",
      "  VI = np.linalg.inv(np.cov(pcs_for_this_unit.T))\n",
      "/home/xinhez/miniconda3/envs/si-0.98.2/lib/python3.8/site-packages/numpy/lib/function_base.py:2704: RuntimeWarning: divide by zero encountered in divide\n",
      "  c *= np.true_divide(1, fact)\n",
      "/home/xinhez/miniconda3/envs/si-0.98.2/lib/python3.8/site-packages/numpy/lib/function_base.py:2704: RuntimeWarning: invalid value encountered in multiply\n",
      "  c *= np.true_divide(1, fact)\n",
      "/home/xinhez/miniconda3/envs/si-0.98.2/lib/python3.8/site-packages/scipy/stats/_stats_mstats_common.py:182: RuntimeWarning: invalid value encountered in double_scalars\n",
      "  slope = ssxym / ssxm\n",
      "/home/xinhez/miniconda3/envs/si-0.98.2/lib/python3.8/site-packages/scipy/stats/_stats_mstats_common.py:196: RuntimeWarning: invalid value encountered in sqrt\n",
      "  t = r * np.sqrt(df / ((1.0 - r + TINY)*(1.0 + r + TINY)))\n",
      "/home/xinhez/miniconda3/envs/si-0.98.2/lib/python3.8/site-packages/scipy/stats/_stats_mstats_common.py:199: RuntimeWarning: invalid value encountered in double_scalars\n",
      "  slope_stderr = np.sqrt((1 - r**2) * ssym / ssxm / df)\n",
      "/home/xinhez/miniconda3/envs/si-0.98.2/lib/python3.8/site-packages/spikeinterface/postprocessing/template_metrics.py:223: RuntimeWarning: invalid value encountered in float_scalars\n",
      "  ptratio = template[peak_idx] / template[trough_idx]\n"
     ]
    },
    {
     "data": {
      "application/vnd.jupyter.widget-view+json": {
       "model_id": "8df9009c6bd345208dcc1514c8a82ce0",
       "version_major": 2,
       "version_minor": 0
      },
      "text/plain": [
       "Fitting PCA:   0%|          | 0/49 [00:00<?, ?it/s]"
      ]
     },
     "metadata": {},
     "output_type": "display_data"
    },
    {
     "data": {
      "application/vnd.jupyter.widget-view+json": {
       "model_id": "da75df15bd7d4984992ef18f03f9a0fd",
       "version_major": 2,
       "version_minor": 0
      },
      "text/plain": [
       "Projecting waveforms:   0%|          | 0/49 [00:00<?, ?it/s]"
      ]
     },
     "metadata": {},
     "output_type": "display_data"
    },
    {
     "name": "stderr",
     "output_type": "stream",
     "text": [
      "/home/xinhez/miniconda3/envs/si-0.98.2/lib/python3.8/site-packages/spikeinterface/qualitymetrics/quality_metric_calculator.py:97: UserWarning: Units [ 1  2  3  4  5  6  7  8 13 14 15 16 17 18 19 20 21 22 26 27 28 29 30 31\n",
      " 32 34 37 38 43 45] are empty. Quality metrcs will be set to NaN for these units.\n",
      " To remove empty units, use `sorting.remove_empty_units()`.\n",
      "  warnings.warn(\n"
     ]
    },
    {
     "data": {
      "application/vnd.jupyter.widget-view+json": {
       "model_id": "1b4a49bcb13b4c9c99cd04262519fd52",
       "version_major": 2,
       "version_minor": 0
      },
      "text/plain": [
       "Computing PCA metrics:   0%|          | 0/19 [00:00<?, ?it/s]"
      ]
     },
     "metadata": {},
     "output_type": "display_data"
    },
    {
     "name": "stderr",
     "output_type": "stream",
     "text": [
      "/home/xinhez/miniconda3/envs/si-0.98.2/lib/python3.8/site-packages/spikeinterface/qualitymetrics/pca_metrics.py:229: RuntimeWarning: Degrees of freedom <= 0 for slice\n",
      "  VI = np.linalg.inv(np.cov(pcs_for_this_unit.T))\n",
      "/home/xinhez/miniconda3/envs/si-0.98.2/lib/python3.8/site-packages/numpy/lib/function_base.py:2704: RuntimeWarning: divide by zero encountered in divide\n",
      "  c *= np.true_divide(1, fact)\n",
      "/home/xinhez/miniconda3/envs/si-0.98.2/lib/python3.8/site-packages/numpy/lib/function_base.py:2704: RuntimeWarning: invalid value encountered in multiply\n",
      "  c *= np.true_divide(1, fact)\n",
      "/home/xinhez/miniconda3/envs/si-0.98.2/lib/python3.8/site-packages/scipy/stats/_stats_mstats_common.py:182: RuntimeWarning: invalid value encountered in double_scalars\n",
      "  slope = ssxym / ssxm\n",
      "/home/xinhez/miniconda3/envs/si-0.98.2/lib/python3.8/site-packages/scipy/stats/_stats_mstats_common.py:196: RuntimeWarning: invalid value encountered in sqrt\n",
      "  t = r * np.sqrt(df / ((1.0 - r + TINY)*(1.0 + r + TINY)))\n",
      "/home/xinhez/miniconda3/envs/si-0.98.2/lib/python3.8/site-packages/scipy/stats/_stats_mstats_common.py:199: RuntimeWarning: invalid value encountered in double_scalars\n",
      "  slope_stderr = np.sqrt((1 - r**2) * ssym / ssxm / df)\n",
      "/home/xinhez/miniconda3/envs/si-0.98.2/lib/python3.8/site-packages/spikeinterface/postprocessing/template_metrics.py:223: RuntimeWarning: invalid value encountered in float_scalars\n",
      "  ptratio = template[peak_idx] / template[trough_idx]\n"
     ]
    },
    {
     "data": {
      "application/vnd.jupyter.widget-view+json": {
       "model_id": "926871808064478fbfbba417370a1e2e",
       "version_major": 2,
       "version_minor": 0
      },
      "text/plain": [
       "Fitting PCA:   0%|          | 0/49 [00:00<?, ?it/s]"
      ]
     },
     "metadata": {},
     "output_type": "display_data"
    },
    {
     "data": {
      "application/vnd.jupyter.widget-view+json": {
       "model_id": "f03c3a70b4314269b0558f5178dd30f8",
       "version_major": 2,
       "version_minor": 0
      },
      "text/plain": [
       "Projecting waveforms:   0%|          | 0/49 [00:00<?, ?it/s]"
      ]
     },
     "metadata": {},
     "output_type": "display_data"
    },
    {
     "name": "stderr",
     "output_type": "stream",
     "text": [
      "/home/xinhez/miniconda3/envs/si-0.98.2/lib/python3.8/site-packages/spikeinterface/qualitymetrics/quality_metric_calculator.py:97: UserWarning: Units [ 5  8 12 20 26 28 37 40 41 42 43 48] are empty. Quality metrcs will be set to NaN for these units.\n",
      " To remove empty units, use `sorting.remove_empty_units()`.\n",
      "  warnings.warn(\n"
     ]
    },
    {
     "data": {
      "application/vnd.jupyter.widget-view+json": {
       "model_id": "c655748e4bab43f98205a6ff5f638077",
       "version_major": 2,
       "version_minor": 0
      },
      "text/plain": [
       "Computing PCA metrics:   0%|          | 0/37 [00:00<?, ?it/s]"
      ]
     },
     "metadata": {},
     "output_type": "display_data"
    },
    {
     "name": "stderr",
     "output_type": "stream",
     "text": [
      "/home/xinhez/miniconda3/envs/si-0.98.2/lib/python3.8/site-packages/spikeinterface/qualitymetrics/pca_metrics.py:229: RuntimeWarning: Degrees of freedom <= 0 for slice\n",
      "  VI = np.linalg.inv(np.cov(pcs_for_this_unit.T))\n",
      "/home/xinhez/miniconda3/envs/si-0.98.2/lib/python3.8/site-packages/numpy/lib/function_base.py:2704: RuntimeWarning: divide by zero encountered in divide\n",
      "  c *= np.true_divide(1, fact)\n",
      "/home/xinhez/miniconda3/envs/si-0.98.2/lib/python3.8/site-packages/numpy/lib/function_base.py:2704: RuntimeWarning: invalid value encountered in multiply\n",
      "  c *= np.true_divide(1, fact)\n",
      "/home/xinhez/miniconda3/envs/si-0.98.2/lib/python3.8/site-packages/spikeinterface/postprocessing/template_metrics.py:223: RuntimeWarning: invalid value encountered in float_scalars\n",
      "  ptratio = template[peak_idx] / template[trough_idx]\n"
     ]
    },
    {
     "data": {
      "application/vnd.jupyter.widget-view+json": {
       "model_id": "eabaa5faa8db451181c0357a05fc1ced",
       "version_major": 2,
       "version_minor": 0
      },
      "text/plain": [
       "Fitting PCA:   0%|          | 0/52 [00:00<?, ?it/s]"
      ]
     },
     "metadata": {},
     "output_type": "display_data"
    },
    {
     "data": {
      "application/vnd.jupyter.widget-view+json": {
       "model_id": "d44c485440a14b9da55ec12a1e30b15a",
       "version_major": 2,
       "version_minor": 0
      },
      "text/plain": [
       "Projecting waveforms:   0%|          | 0/52 [00:00<?, ?it/s]"
      ]
     },
     "metadata": {},
     "output_type": "display_data"
    },
    {
     "name": "stderr",
     "output_type": "stream",
     "text": [
      "/home/xinhez/miniconda3/envs/si-0.98.2/lib/python3.8/site-packages/spikeinterface/qualitymetrics/quality_metric_calculator.py:97: UserWarning: Units [ 3  4  5  6  7 10 13 14 18 19 20 22 24 27 28 34 38 44 46 47 48 52] are empty. Quality metrcs will be set to NaN for these units.\n",
      " To remove empty units, use `sorting.remove_empty_units()`.\n",
      "  warnings.warn(\n"
     ]
    },
    {
     "data": {
      "application/vnd.jupyter.widget-view+json": {
       "model_id": "2bd1123d40094cefa21fe7ed2f6f1439",
       "version_major": 2,
       "version_minor": 0
      },
      "text/plain": [
       "Computing PCA metrics:   0%|          | 0/30 [00:00<?, ?it/s]"
      ]
     },
     "metadata": {},
     "output_type": "display_data"
    },
    {
     "name": "stderr",
     "output_type": "stream",
     "text": [
      "/home/xinhez/miniconda3/envs/si-0.98.2/lib/python3.8/site-packages/spikeinterface/qualitymetrics/pca_metrics.py:229: RuntimeWarning: Degrees of freedom <= 0 for slice\n",
      "  VI = np.linalg.inv(np.cov(pcs_for_this_unit.T))\n",
      "/home/xinhez/miniconda3/envs/si-0.98.2/lib/python3.8/site-packages/numpy/lib/function_base.py:2704: RuntimeWarning: divide by zero encountered in divide\n",
      "  c *= np.true_divide(1, fact)\n",
      "/home/xinhez/miniconda3/envs/si-0.98.2/lib/python3.8/site-packages/numpy/lib/function_base.py:2704: RuntimeWarning: invalid value encountered in multiply\n",
      "  c *= np.true_divide(1, fact)\n",
      "/home/xinhez/miniconda3/envs/si-0.98.2/lib/python3.8/site-packages/spikeinterface/postprocessing/template_metrics.py:223: RuntimeWarning: invalid value encountered in float_scalars\n",
      "  ptratio = template[peak_idx] / template[trough_idx]\n"
     ]
    },
    {
     "data": {
      "application/vnd.jupyter.widget-view+json": {
       "model_id": "005cc114828847e5942945c5afc37489",
       "version_major": 2,
       "version_minor": 0
      },
      "text/plain": [
       "Fitting PCA:   0%|          | 0/52 [00:00<?, ?it/s]"
      ]
     },
     "metadata": {},
     "output_type": "display_data"
    },
    {
     "data": {
      "application/vnd.jupyter.widget-view+json": {
       "model_id": "1edce8d0d97c4497b84db8a801247c61",
       "version_major": 2,
       "version_minor": 0
      },
      "text/plain": [
       "Projecting waveforms:   0%|          | 0/52 [00:00<?, ?it/s]"
      ]
     },
     "metadata": {},
     "output_type": "display_data"
    },
    {
     "name": "stderr",
     "output_type": "stream",
     "text": [
      "/home/xinhez/miniconda3/envs/si-0.98.2/lib/python3.8/site-packages/spikeinterface/qualitymetrics/quality_metric_calculator.py:97: UserWarning: Units [ 3  4  5  6  7  9 10 13 14 16 19 22 27 28 34 38 44 46 47] are empty. Quality metrcs will be set to NaN for these units.\n",
      " To remove empty units, use `sorting.remove_empty_units()`.\n",
      "  warnings.warn(\n"
     ]
    },
    {
     "data": {
      "application/vnd.jupyter.widget-view+json": {
       "model_id": "65347a9a86ce46e9bd95d9c08e9b0320",
       "version_major": 2,
       "version_minor": 0
      },
      "text/plain": [
       "Computing PCA metrics:   0%|          | 0/33 [00:00<?, ?it/s]"
      ]
     },
     "metadata": {},
     "output_type": "display_data"
    },
    {
     "name": "stderr",
     "output_type": "stream",
     "text": [
      "/home/xinhez/miniconda3/envs/si-0.98.2/lib/python3.8/site-packages/spikeinterface/qualitymetrics/pca_metrics.py:229: RuntimeWarning: Degrees of freedom <= 0 for slice\n",
      "  VI = np.linalg.inv(np.cov(pcs_for_this_unit.T))\n",
      "/home/xinhez/miniconda3/envs/si-0.98.2/lib/python3.8/site-packages/numpy/lib/function_base.py:2704: RuntimeWarning: divide by zero encountered in divide\n",
      "  c *= np.true_divide(1, fact)\n",
      "/home/xinhez/miniconda3/envs/si-0.98.2/lib/python3.8/site-packages/numpy/lib/function_base.py:2704: RuntimeWarning: invalid value encountered in multiply\n",
      "  c *= np.true_divide(1, fact)\n",
      "/home/xinhez/miniconda3/envs/si-0.98.2/lib/python3.8/site-packages/spikeinterface/postprocessing/template_metrics.py:223: RuntimeWarning: invalid value encountered in float_scalars\n",
      "  ptratio = template[peak_idx] / template[trough_idx]\n"
     ]
    },
    {
     "data": {
      "application/vnd.jupyter.widget-view+json": {
       "model_id": "647d3ef06ab54d83bb65a3d196129a67",
       "version_major": 2,
       "version_minor": 0
      },
      "text/plain": [
       "Fitting PCA:   0%|          | 0/52 [00:00<?, ?it/s]"
      ]
     },
     "metadata": {},
     "output_type": "display_data"
    },
    {
     "data": {
      "application/vnd.jupyter.widget-view+json": {
       "model_id": "70d71b9346fd4ea9b2d794fd8b9f2ae8",
       "version_major": 2,
       "version_minor": 0
      },
      "text/plain": [
       "Projecting waveforms:   0%|          | 0/52 [00:00<?, ?it/s]"
      ]
     },
     "metadata": {},
     "output_type": "display_data"
    },
    {
     "name": "stderr",
     "output_type": "stream",
     "text": [
      "/home/xinhez/miniconda3/envs/si-0.98.2/lib/python3.8/site-packages/spikeinterface/qualitymetrics/quality_metric_calculator.py:97: UserWarning: Units [ 1  2  6  9 11 13 20 24 31 35 37 41 43 50] are empty. Quality metrcs will be set to NaN for these units.\n",
      " To remove empty units, use `sorting.remove_empty_units()`.\n",
      "  warnings.warn(\n"
     ]
    },
    {
     "data": {
      "application/vnd.jupyter.widget-view+json": {
       "model_id": "fd4b693e95a44d459d01c8756375b928",
       "version_major": 2,
       "version_minor": 0
      },
      "text/plain": [
       "Computing PCA metrics:   0%|          | 0/38 [00:00<?, ?it/s]"
      ]
     },
     "metadata": {},
     "output_type": "display_data"
    },
    {
     "name": "stderr",
     "output_type": "stream",
     "text": [
      "/home/xinhez/miniconda3/envs/si-0.98.2/lib/python3.8/site-packages/spikeinterface/qualitymetrics/pca_metrics.py:229: RuntimeWarning: Degrees of freedom <= 0 for slice\n",
      "  VI = np.linalg.inv(np.cov(pcs_for_this_unit.T))\n",
      "/home/xinhez/miniconda3/envs/si-0.98.2/lib/python3.8/site-packages/numpy/lib/function_base.py:2704: RuntimeWarning: divide by zero encountered in divide\n",
      "  c *= np.true_divide(1, fact)\n",
      "/home/xinhez/miniconda3/envs/si-0.98.2/lib/python3.8/site-packages/numpy/lib/function_base.py:2704: RuntimeWarning: invalid value encountered in multiply\n",
      "  c *= np.true_divide(1, fact)\n",
      "/home/xinhez/miniconda3/envs/si-0.98.2/lib/python3.8/site-packages/spikeinterface/postprocessing/template_metrics.py:223: RuntimeWarning: invalid value encountered in float_scalars\n",
      "  ptratio = template[peak_idx] / template[trough_idx]\n"
     ]
    },
    {
     "data": {
      "application/vnd.jupyter.widget-view+json": {
       "model_id": "6e6e7ee531824309ab0cda30801b4203",
       "version_major": 2,
       "version_minor": 0
      },
      "text/plain": [
       "Fitting PCA:   0%|          | 0/52 [00:00<?, ?it/s]"
      ]
     },
     "metadata": {},
     "output_type": "display_data"
    },
    {
     "data": {
      "application/vnd.jupyter.widget-view+json": {
       "model_id": "9d7c6c4772564ab8a5086b62fa38388d",
       "version_major": 2,
       "version_minor": 0
      },
      "text/plain": [
       "Projecting waveforms:   0%|          | 0/52 [00:00<?, ?it/s]"
      ]
     },
     "metadata": {},
     "output_type": "display_data"
    },
    {
     "name": "stderr",
     "output_type": "stream",
     "text": [
      "/home/xinhez/miniconda3/envs/si-0.98.2/lib/python3.8/site-packages/spikeinterface/qualitymetrics/quality_metric_calculator.py:97: UserWarning: Units [ 1  2  7  9 12 20 28 29 31 32 33 35 37 38 39 40 41 43 45 46 48 49 50] are empty. Quality metrcs will be set to NaN for these units.\n",
      " To remove empty units, use `sorting.remove_empty_units()`.\n",
      "  warnings.warn(\n"
     ]
    },
    {
     "data": {
      "application/vnd.jupyter.widget-view+json": {
       "model_id": "847705616f0640dc9def1a3488bb3810",
       "version_major": 2,
       "version_minor": 0
      },
      "text/plain": [
       "Computing PCA metrics:   0%|          | 0/29 [00:00<?, ?it/s]"
      ]
     },
     "metadata": {},
     "output_type": "display_data"
    },
    {
     "name": "stderr",
     "output_type": "stream",
     "text": [
      "/home/xinhez/miniconda3/envs/si-0.98.2/lib/python3.8/site-packages/spikeinterface/qualitymetrics/pca_metrics.py:229: RuntimeWarning: Degrees of freedom <= 0 for slice\n",
      "  VI = np.linalg.inv(np.cov(pcs_for_this_unit.T))\n",
      "/home/xinhez/miniconda3/envs/si-0.98.2/lib/python3.8/site-packages/numpy/lib/function_base.py:2704: RuntimeWarning: divide by zero encountered in divide\n",
      "  c *= np.true_divide(1, fact)\n",
      "/home/xinhez/miniconda3/envs/si-0.98.2/lib/python3.8/site-packages/numpy/lib/function_base.py:2704: RuntimeWarning: invalid value encountered in multiply\n",
      "  c *= np.true_divide(1, fact)\n",
      "/home/xinhez/miniconda3/envs/si-0.98.2/lib/python3.8/site-packages/spikeinterface/postprocessing/template_metrics.py:223: RuntimeWarning: invalid value encountered in float_scalars\n",
      "  ptratio = template[peak_idx] / template[trough_idx]\n"
     ]
    },
    {
     "data": {
      "application/vnd.jupyter.widget-view+json": {
       "model_id": "7a8460273a10481384f397ddf5d32935",
       "version_major": 2,
       "version_minor": 0
      },
      "text/plain": [
       "Fitting PCA:   0%|          | 0/52 [00:00<?, ?it/s]"
      ]
     },
     "metadata": {},
     "output_type": "display_data"
    },
    {
     "data": {
      "application/vnd.jupyter.widget-view+json": {
       "model_id": "ed88b0aa93c540bebf38d33b32907875",
       "version_major": 2,
       "version_minor": 0
      },
      "text/plain": [
       "Projecting waveforms:   0%|          | 0/52 [00:00<?, ?it/s]"
      ]
     },
     "metadata": {},
     "output_type": "display_data"
    },
    {
     "name": "stderr",
     "output_type": "stream",
     "text": [
      "/home/xinhez/miniconda3/envs/si-0.98.2/lib/python3.8/site-packages/spikeinterface/qualitymetrics/quality_metric_calculator.py:97: UserWarning: Units [ 1  2  5  7  8 11 12 13 14 15 16 18 19 21 22 23 27 28 29 30 31 33 35 36\n",
      " 37 38 39 41 43 44 45 46 48 49 50 51] are empty. Quality metrcs will be set to NaN for these units.\n",
      " To remove empty units, use `sorting.remove_empty_units()`.\n",
      "  warnings.warn(\n"
     ]
    },
    {
     "data": {
      "application/vnd.jupyter.widget-view+json": {
       "model_id": "cca831172e7247d4b996046c1a23abec",
       "version_major": 2,
       "version_minor": 0
      },
      "text/plain": [
       "Computing PCA metrics:   0%|          | 0/16 [00:00<?, ?it/s]"
      ]
     },
     "metadata": {},
     "output_type": "display_data"
    },
    {
     "name": "stderr",
     "output_type": "stream",
     "text": [
      "/home/xinhez/miniconda3/envs/si-0.98.2/lib/python3.8/site-packages/spikeinterface/qualitymetrics/pca_metrics.py:229: RuntimeWarning: Degrees of freedom <= 0 for slice\n",
      "  VI = np.linalg.inv(np.cov(pcs_for_this_unit.T))\n",
      "/home/xinhez/miniconda3/envs/si-0.98.2/lib/python3.8/site-packages/numpy/lib/function_base.py:2704: RuntimeWarning: divide by zero encountered in divide\n",
      "  c *= np.true_divide(1, fact)\n",
      "/home/xinhez/miniconda3/envs/si-0.98.2/lib/python3.8/site-packages/numpy/lib/function_base.py:2704: RuntimeWarning: invalid value encountered in multiply\n",
      "  c *= np.true_divide(1, fact)\n",
      "/home/xinhez/miniconda3/envs/si-0.98.2/lib/python3.8/site-packages/spikeinterface/postprocessing/template_metrics.py:223: RuntimeWarning: invalid value encountered in float_scalars\n",
      "  ptratio = template[peak_idx] / template[trough_idx]\n"
     ]
    },
    {
     "data": {
      "application/vnd.jupyter.widget-view+json": {
       "model_id": "c308437ef6b549fe8a0d1d8a89300b05",
       "version_major": 2,
       "version_minor": 0
      },
      "text/plain": [
       "Fitting PCA:   0%|          | 0/52 [00:00<?, ?it/s]"
      ]
     },
     "metadata": {},
     "output_type": "display_data"
    },
    {
     "data": {
      "application/vnd.jupyter.widget-view+json": {
       "model_id": "e1f1eafdb3a04cabbe9b22dcaaacfd25",
       "version_major": 2,
       "version_minor": 0
      },
      "text/plain": [
       "Projecting waveforms:   0%|          | 0/52 [00:00<?, ?it/s]"
      ]
     },
     "metadata": {},
     "output_type": "display_data"
    },
    {
     "name": "stderr",
     "output_type": "stream",
     "text": [
      "/home/xinhez/miniconda3/envs/si-0.98.2/lib/python3.8/site-packages/spikeinterface/qualitymetrics/quality_metric_calculator.py:97: UserWarning: Units [ 6  9 11 13 24 28 29 31 32 35 39 44 45 46 47 48 49] are empty. Quality metrcs will be set to NaN for these units.\n",
      " To remove empty units, use `sorting.remove_empty_units()`.\n",
      "  warnings.warn(\n"
     ]
    },
    {
     "data": {
      "application/vnd.jupyter.widget-view+json": {
       "model_id": "d02cc1d799924eecb3656a0d0d277f0b",
       "version_major": 2,
       "version_minor": 0
      },
      "text/plain": [
       "Computing PCA metrics:   0%|          | 0/35 [00:00<?, ?it/s]"
      ]
     },
     "metadata": {},
     "output_type": "display_data"
    },
    {
     "name": "stderr",
     "output_type": "stream",
     "text": [
      "/home/xinhez/miniconda3/envs/si-0.98.2/lib/python3.8/site-packages/spikeinterface/qualitymetrics/pca_metrics.py:229: RuntimeWarning: Degrees of freedom <= 0 for slice\n",
      "  VI = np.linalg.inv(np.cov(pcs_for_this_unit.T))\n",
      "/home/xinhez/miniconda3/envs/si-0.98.2/lib/python3.8/site-packages/numpy/lib/function_base.py:2704: RuntimeWarning: divide by zero encountered in divide\n",
      "  c *= np.true_divide(1, fact)\n",
      "/home/xinhez/miniconda3/envs/si-0.98.2/lib/python3.8/site-packages/numpy/lib/function_base.py:2704: RuntimeWarning: invalid value encountered in multiply\n",
      "  c *= np.true_divide(1, fact)\n",
      "/home/xinhez/miniconda3/envs/si-0.98.2/lib/python3.8/site-packages/spikeinterface/postprocessing/template_metrics.py:223: RuntimeWarning: invalid value encountered in float_scalars\n",
      "  ptratio = template[peak_idx] / template[trough_idx]\n"
     ]
    },
    {
     "data": {
      "application/vnd.jupyter.widget-view+json": {
       "model_id": "57e8ba012b424ddebb311d3ff1b60d27",
       "version_major": 2,
       "version_minor": 0
      },
      "text/plain": [
       "Fitting PCA:   0%|          | 0/52 [00:00<?, ?it/s]"
      ]
     },
     "metadata": {},
     "output_type": "display_data"
    },
    {
     "data": {
      "application/vnd.jupyter.widget-view+json": {
       "model_id": "eb49d82c2cd140aba2e5d8ceea575a11",
       "version_major": 2,
       "version_minor": 0
      },
      "text/plain": [
       "Projecting waveforms:   0%|          | 0/52 [00:00<?, ?it/s]"
      ]
     },
     "metadata": {},
     "output_type": "display_data"
    },
    {
     "name": "stderr",
     "output_type": "stream",
     "text": [
      "/home/xinhez/miniconda3/envs/si-0.98.2/lib/python3.8/site-packages/spikeinterface/qualitymetrics/quality_metric_calculator.py:97: UserWarning: Units [ 3  4  5  6  7 13 14 16 18 19 22 27 28 34 36 40 44 46 47 48] are empty. Quality metrcs will be set to NaN for these units.\n",
      " To remove empty units, use `sorting.remove_empty_units()`.\n",
      "  warnings.warn(\n"
     ]
    },
    {
     "data": {
      "application/vnd.jupyter.widget-view+json": {
       "model_id": "88f76efd9729419c913a347e4f7bcc3f",
       "version_major": 2,
       "version_minor": 0
      },
      "text/plain": [
       "Computing PCA metrics:   0%|          | 0/32 [00:00<?, ?it/s]"
      ]
     },
     "metadata": {},
     "output_type": "display_data"
    },
    {
     "name": "stderr",
     "output_type": "stream",
     "text": [
      "/home/xinhez/miniconda3/envs/si-0.98.2/lib/python3.8/site-packages/spikeinterface/qualitymetrics/pca_metrics.py:229: RuntimeWarning: Degrees of freedom <= 0 for slice\n",
      "  VI = np.linalg.inv(np.cov(pcs_for_this_unit.T))\n",
      "/home/xinhez/miniconda3/envs/si-0.98.2/lib/python3.8/site-packages/numpy/lib/function_base.py:2704: RuntimeWarning: divide by zero encountered in divide\n",
      "  c *= np.true_divide(1, fact)\n",
      "/home/xinhez/miniconda3/envs/si-0.98.2/lib/python3.8/site-packages/numpy/lib/function_base.py:2704: RuntimeWarning: invalid value encountered in multiply\n",
      "  c *= np.true_divide(1, fact)\n",
      "/home/xinhez/miniconda3/envs/si-0.98.2/lib/python3.8/site-packages/spikeinterface/postprocessing/template_metrics.py:223: RuntimeWarning: invalid value encountered in float_scalars\n",
      "  ptratio = template[peak_idx] / template[trough_idx]\n"
     ]
    },
    {
     "data": {
      "application/vnd.jupyter.widget-view+json": {
       "model_id": "e5fb2d7b41a34424811a14b3bc8df16f",
       "version_major": 2,
       "version_minor": 0
      },
      "text/plain": [
       "Fitting PCA:   0%|          | 0/43 [00:00<?, ?it/s]"
      ]
     },
     "metadata": {},
     "output_type": "display_data"
    },
    {
     "data": {
      "application/vnd.jupyter.widget-view+json": {
       "model_id": "388a0bf83e484c3daacdf061f8199b35",
       "version_major": 2,
       "version_minor": 0
      },
      "text/plain": [
       "Projecting waveforms:   0%|          | 0/43 [00:00<?, ?it/s]"
      ]
     },
     "metadata": {},
     "output_type": "display_data"
    },
    {
     "name": "stderr",
     "output_type": "stream",
     "text": [
      "/home/xinhez/miniconda3/envs/si-0.98.2/lib/python3.8/site-packages/spikeinterface/qualitymetrics/quality_metric_calculator.py:97: UserWarning: Units [ 2  7 11 12 13 14 15 16 21 24 25 27 29 31 32 33 38 39 40 41 42] are empty. Quality metrcs will be set to NaN for these units.\n",
      " To remove empty units, use `sorting.remove_empty_units()`.\n",
      "  warnings.warn(\n"
     ]
    },
    {
     "data": {
      "application/vnd.jupyter.widget-view+json": {
       "model_id": "132a9bfcad534ebf9db9315b6a504e36",
       "version_major": 2,
       "version_minor": 0
      },
      "text/plain": [
       "Computing PCA metrics:   0%|          | 0/22 [00:00<?, ?it/s]"
      ]
     },
     "metadata": {},
     "output_type": "display_data"
    },
    {
     "name": "stderr",
     "output_type": "stream",
     "text": [
      "/home/xinhez/miniconda3/envs/si-0.98.2/lib/python3.8/site-packages/spikeinterface/qualitymetrics/pca_metrics.py:229: RuntimeWarning: Degrees of freedom <= 0 for slice\n",
      "  VI = np.linalg.inv(np.cov(pcs_for_this_unit.T))\n",
      "/home/xinhez/miniconda3/envs/si-0.98.2/lib/python3.8/site-packages/numpy/lib/function_base.py:2704: RuntimeWarning: divide by zero encountered in divide\n",
      "  c *= np.true_divide(1, fact)\n",
      "/home/xinhez/miniconda3/envs/si-0.98.2/lib/python3.8/site-packages/numpy/lib/function_base.py:2704: RuntimeWarning: invalid value encountered in multiply\n",
      "  c *= np.true_divide(1, fact)\n",
      "/home/xinhez/miniconda3/envs/si-0.98.2/lib/python3.8/site-packages/spikeinterface/postprocessing/template_metrics.py:223: RuntimeWarning: invalid value encountered in float_scalars\n",
      "  ptratio = template[peak_idx] / template[trough_idx]\n"
     ]
    },
    {
     "data": {
      "application/vnd.jupyter.widget-view+json": {
       "model_id": "1929414658d8442494bb6fed9b0c6c6f",
       "version_major": 2,
       "version_minor": 0
      },
      "text/plain": [
       "Fitting PCA:   0%|          | 0/43 [00:00<?, ?it/s]"
      ]
     },
     "metadata": {},
     "output_type": "display_data"
    },
    {
     "data": {
      "application/vnd.jupyter.widget-view+json": {
       "model_id": "dab0a9c0379e44268a54d0e3f129de60",
       "version_major": 2,
       "version_minor": 0
      },
      "text/plain": [
       "Projecting waveforms:   0%|          | 0/43 [00:00<?, ?it/s]"
      ]
     },
     "metadata": {},
     "output_type": "display_data"
    },
    {
     "name": "stderr",
     "output_type": "stream",
     "text": [
      "/home/xinhez/miniconda3/envs/si-0.98.2/lib/python3.8/site-packages/spikeinterface/qualitymetrics/quality_metric_calculator.py:97: UserWarning: Units [ 7 12 13 14 15 16 18 19 21 22 23 27 29 30 31 35 38 42] are empty. Quality metrcs will be set to NaN for these units.\n",
      " To remove empty units, use `sorting.remove_empty_units()`.\n",
      "  warnings.warn(\n"
     ]
    },
    {
     "data": {
      "application/vnd.jupyter.widget-view+json": {
       "model_id": "f0dcc83eb6ed4d588f1bbabf78f2f5e0",
       "version_major": 2,
       "version_minor": 0
      },
      "text/plain": [
       "Computing PCA metrics:   0%|          | 0/25 [00:00<?, ?it/s]"
      ]
     },
     "metadata": {},
     "output_type": "display_data"
    },
    {
     "name": "stderr",
     "output_type": "stream",
     "text": [
      "/home/xinhez/miniconda3/envs/si-0.98.2/lib/python3.8/site-packages/spikeinterface/qualitymetrics/pca_metrics.py:229: RuntimeWarning: Degrees of freedom <= 0 for slice\n",
      "  VI = np.linalg.inv(np.cov(pcs_for_this_unit.T))\n",
      "/home/xinhez/miniconda3/envs/si-0.98.2/lib/python3.8/site-packages/numpy/lib/function_base.py:2704: RuntimeWarning: divide by zero encountered in divide\n",
      "  c *= np.true_divide(1, fact)\n",
      "/home/xinhez/miniconda3/envs/si-0.98.2/lib/python3.8/site-packages/numpy/lib/function_base.py:2704: RuntimeWarning: invalid value encountered in multiply\n",
      "  c *= np.true_divide(1, fact)\n",
      "/home/xinhez/miniconda3/envs/si-0.98.2/lib/python3.8/site-packages/spikeinterface/postprocessing/template_metrics.py:223: RuntimeWarning: invalid value encountered in float_scalars\n",
      "  ptratio = template[peak_idx] / template[trough_idx]\n"
     ]
    },
    {
     "data": {
      "application/vnd.jupyter.widget-view+json": {
       "model_id": "17fac28cfe624470b1a32d00950dc3e9",
       "version_major": 2,
       "version_minor": 0
      },
      "text/plain": [
       "Fitting PCA:   0%|          | 0/43 [00:00<?, ?it/s]"
      ]
     },
     "metadata": {},
     "output_type": "display_data"
    },
    {
     "data": {
      "application/vnd.jupyter.widget-view+json": {
       "model_id": "63bbeb9c350a4cd49756a72411808540",
       "version_major": 2,
       "version_minor": 0
      },
      "text/plain": [
       "Projecting waveforms:   0%|          | 0/43 [00:00<?, ?it/s]"
      ]
     },
     "metadata": {},
     "output_type": "display_data"
    },
    {
     "name": "stderr",
     "output_type": "stream",
     "text": [
      "/home/xinhez/miniconda3/envs/si-0.98.2/lib/python3.8/site-packages/spikeinterface/qualitymetrics/quality_metric_calculator.py:97: UserWarning: Units [ 2  5  7 12 13 14 15 16 17 19 20 21 22 23 25 27 29 30 31 34 35 36 38 40\n",
      " 42] are empty. Quality metrcs will be set to NaN for these units.\n",
      " To remove empty units, use `sorting.remove_empty_units()`.\n",
      "  warnings.warn(\n"
     ]
    },
    {
     "data": {
      "application/vnd.jupyter.widget-view+json": {
       "model_id": "86d3843521534ea78d0920187cacdd2a",
       "version_major": 2,
       "version_minor": 0
      },
      "text/plain": [
       "Computing PCA metrics:   0%|          | 0/18 [00:00<?, ?it/s]"
      ]
     },
     "metadata": {},
     "output_type": "display_data"
    },
    {
     "name": "stderr",
     "output_type": "stream",
     "text": [
      "/home/xinhez/miniconda3/envs/si-0.98.2/lib/python3.8/site-packages/spikeinterface/qualitymetrics/pca_metrics.py:229: RuntimeWarning: Degrees of freedom <= 0 for slice\n",
      "  VI = np.linalg.inv(np.cov(pcs_for_this_unit.T))\n",
      "/home/xinhez/miniconda3/envs/si-0.98.2/lib/python3.8/site-packages/numpy/lib/function_base.py:2704: RuntimeWarning: divide by zero encountered in divide\n",
      "  c *= np.true_divide(1, fact)\n",
      "/home/xinhez/miniconda3/envs/si-0.98.2/lib/python3.8/site-packages/numpy/lib/function_base.py:2704: RuntimeWarning: invalid value encountered in multiply\n",
      "  c *= np.true_divide(1, fact)\n",
      "/home/xinhez/miniconda3/envs/si-0.98.2/lib/python3.8/site-packages/spikeinterface/postprocessing/template_metrics.py:223: RuntimeWarning: invalid value encountered in float_scalars\n",
      "  ptratio = template[peak_idx] / template[trough_idx]\n"
     ]
    },
    {
     "data": {
      "application/vnd.jupyter.widget-view+json": {
       "model_id": "ae61a861293e4085a7976b28534bef3e",
       "version_major": 2,
       "version_minor": 0
      },
      "text/plain": [
       "Fitting PCA:   0%|          | 0/43 [00:00<?, ?it/s]"
      ]
     },
     "metadata": {},
     "output_type": "display_data"
    },
    {
     "data": {
      "application/vnd.jupyter.widget-view+json": {
       "model_id": "58fba031bd584eb396e8b86d08ec3bf0",
       "version_major": 2,
       "version_minor": 0
      },
      "text/plain": [
       "Projecting waveforms:   0%|          | 0/43 [00:00<?, ?it/s]"
      ]
     },
     "metadata": {},
     "output_type": "display_data"
    },
    {
     "name": "stderr",
     "output_type": "stream",
     "text": [
      "/home/xinhez/miniconda3/envs/si-0.98.2/lib/python3.8/site-packages/spikeinterface/qualitymetrics/quality_metric_calculator.py:97: UserWarning: Units [ 5 12 13 15 16 18 19 20 21 22 23 25 27 29 30 32 34 35 36] are empty. Quality metrcs will be set to NaN for these units.\n",
      " To remove empty units, use `sorting.remove_empty_units()`.\n",
      "  warnings.warn(\n"
     ]
    },
    {
     "data": {
      "application/vnd.jupyter.widget-view+json": {
       "model_id": "1e55099450b24668a8a8dc688e70ed5f",
       "version_major": 2,
       "version_minor": 0
      },
      "text/plain": [
       "Computing PCA metrics:   0%|          | 0/24 [00:00<?, ?it/s]"
      ]
     },
     "metadata": {},
     "output_type": "display_data"
    },
    {
     "name": "stderr",
     "output_type": "stream",
     "text": [
      "/home/xinhez/miniconda3/envs/si-0.98.2/lib/python3.8/site-packages/spikeinterface/qualitymetrics/pca_metrics.py:229: RuntimeWarning: Degrees of freedom <= 0 for slice\n",
      "  VI = np.linalg.inv(np.cov(pcs_for_this_unit.T))\n",
      "/home/xinhez/miniconda3/envs/si-0.98.2/lib/python3.8/site-packages/numpy/lib/function_base.py:2704: RuntimeWarning: divide by zero encountered in divide\n",
      "  c *= np.true_divide(1, fact)\n",
      "/home/xinhez/miniconda3/envs/si-0.98.2/lib/python3.8/site-packages/numpy/lib/function_base.py:2704: RuntimeWarning: invalid value encountered in multiply\n",
      "  c *= np.true_divide(1, fact)\n",
      "/home/xinhez/miniconda3/envs/si-0.98.2/lib/python3.8/site-packages/spikeinterface/postprocessing/template_metrics.py:223: RuntimeWarning: invalid value encountered in float_scalars\n",
      "  ptratio = template[peak_idx] / template[trough_idx]\n",
      "/home/xinhez/miniconda3/envs/si-0.98.2/lib/python3.8/site-packages/scipy/stats/_stats_mstats_common.py:182: RuntimeWarning: invalid value encountered in double_scalars\n",
      "  slope = ssxym / ssxm\n",
      "/home/xinhez/miniconda3/envs/si-0.98.2/lib/python3.8/site-packages/scipy/stats/_stats_mstats_common.py:196: RuntimeWarning: invalid value encountered in sqrt\n",
      "  t = r * np.sqrt(df / ((1.0 - r + TINY)*(1.0 + r + TINY)))\n",
      "/home/xinhez/miniconda3/envs/si-0.98.2/lib/python3.8/site-packages/scipy/stats/_stats_mstats_common.py:199: RuntimeWarning: invalid value encountered in double_scalars\n",
      "  slope_stderr = np.sqrt((1 - r**2) * ssym / ssxm / df)\n"
     ]
    },
    {
     "data": {
      "application/vnd.jupyter.widget-view+json": {
       "model_id": "e3edac2417684224818d55a424dff577",
       "version_major": 2,
       "version_minor": 0
      },
      "text/plain": [
       "Fitting PCA:   0%|          | 0/43 [00:00<?, ?it/s]"
      ]
     },
     "metadata": {},
     "output_type": "display_data"
    },
    {
     "data": {
      "application/vnd.jupyter.widget-view+json": {
       "model_id": "ec96f0dbf14d4f0b83854d1bc5eb3067",
       "version_major": 2,
       "version_minor": 0
      },
      "text/plain": [
       "Projecting waveforms:   0%|          | 0/43 [00:00<?, ?it/s]"
      ]
     },
     "metadata": {},
     "output_type": "display_data"
    },
    {
     "name": "stderr",
     "output_type": "stream",
     "text": [
      "/home/xinhez/miniconda3/envs/si-0.98.2/lib/python3.8/site-packages/spikeinterface/qualitymetrics/quality_metric_calculator.py:97: UserWarning: Units [ 3  4  5  8 10 28] are empty. Quality metrcs will be set to NaN for these units.\n",
      " To remove empty units, use `sorting.remove_empty_units()`.\n",
      "  warnings.warn(\n"
     ]
    },
    {
     "data": {
      "application/vnd.jupyter.widget-view+json": {
       "model_id": "0b70b76152ac488da9719a42ce2fb473",
       "version_major": 2,
       "version_minor": 0
      },
      "text/plain": [
       "Computing PCA metrics:   0%|          | 0/37 [00:00<?, ?it/s]"
      ]
     },
     "metadata": {},
     "output_type": "display_data"
    },
    {
     "name": "stderr",
     "output_type": "stream",
     "text": [
      "/home/xinhez/miniconda3/envs/si-0.98.2/lib/python3.8/site-packages/spikeinterface/postprocessing/template_metrics.py:223: RuntimeWarning: invalid value encountered in float_scalars\n",
      "  ptratio = template[peak_idx] / template[trough_idx]\n"
     ]
    },
    {
     "data": {
      "application/vnd.jupyter.widget-view+json": {
       "model_id": "0afc9ce2d0184cc3b580f97c1ebfa265",
       "version_major": 2,
       "version_minor": 0
      },
      "text/plain": [
       "Fitting PCA:   0%|          | 0/47 [00:00<?, ?it/s]"
      ]
     },
     "metadata": {},
     "output_type": "display_data"
    },
    {
     "data": {
      "application/vnd.jupyter.widget-view+json": {
       "model_id": "29eb168a284c4e34bfccd2d9b9a7fc0b",
       "version_major": 2,
       "version_minor": 0
      },
      "text/plain": [
       "Projecting waveforms:   0%|          | 0/47 [00:00<?, ?it/s]"
      ]
     },
     "metadata": {},
     "output_type": "display_data"
    },
    {
     "name": "stderr",
     "output_type": "stream",
     "text": [
      "/home/xinhez/miniconda3/envs/si-0.98.2/lib/python3.8/site-packages/spikeinterface/qualitymetrics/quality_metric_calculator.py:97: UserWarning: Units [ 7 13 41 42] are empty. Quality metrcs will be set to NaN for these units.\n",
      " To remove empty units, use `sorting.remove_empty_units()`.\n",
      "  warnings.warn(\n"
     ]
    },
    {
     "data": {
      "application/vnd.jupyter.widget-view+json": {
       "model_id": "1fddb1a6a60c42ce938a4bb9d845dae7",
       "version_major": 2,
       "version_minor": 0
      },
      "text/plain": [
       "Computing PCA metrics:   0%|          | 0/43 [00:00<?, ?it/s]"
      ]
     },
     "metadata": {},
     "output_type": "display_data"
    },
    {
     "name": "stderr",
     "output_type": "stream",
     "text": [
      "/home/xinhez/miniconda3/envs/si-0.98.2/lib/python3.8/site-packages/spikeinterface/postprocessing/template_metrics.py:223: RuntimeWarning: invalid value encountered in float_scalars\n",
      "  ptratio = template[peak_idx] / template[trough_idx]\n"
     ]
    },
    {
     "data": {
      "application/vnd.jupyter.widget-view+json": {
       "model_id": "a2e8fccf385c4a8bbacb78a8644ceb10",
       "version_major": 2,
       "version_minor": 0
      },
      "text/plain": [
       "Fitting PCA:   0%|          | 0/47 [00:00<?, ?it/s]"
      ]
     },
     "metadata": {},
     "output_type": "display_data"
    },
    {
     "data": {
      "application/vnd.jupyter.widget-view+json": {
       "model_id": "de891c2ed5a14c09aab41e10fabb952a",
       "version_major": 2,
       "version_minor": 0
      },
      "text/plain": [
       "Projecting waveforms:   0%|          | 0/47 [00:00<?, ?it/s]"
      ]
     },
     "metadata": {},
     "output_type": "display_data"
    },
    {
     "name": "stderr",
     "output_type": "stream",
     "text": [
      "/home/xinhez/miniconda3/envs/si-0.98.2/lib/python3.8/site-packages/spikeinterface/qualitymetrics/quality_metric_calculator.py:97: UserWarning: Units [ 1  2  4  6  8 10 11 14 16 17 20 22 24 26] are empty. Quality metrcs will be set to NaN for these units.\n",
      " To remove empty units, use `sorting.remove_empty_units()`.\n",
      "  warnings.warn(\n"
     ]
    },
    {
     "data": {
      "application/vnd.jupyter.widget-view+json": {
       "model_id": "325089314241408eab62829807291990",
       "version_major": 2,
       "version_minor": 0
      },
      "text/plain": [
       "Computing PCA metrics:   0%|          | 0/33 [00:00<?, ?it/s]"
      ]
     },
     "metadata": {},
     "output_type": "display_data"
    },
    {
     "name": "stderr",
     "output_type": "stream",
     "text": [
      "/home/xinhez/miniconda3/envs/si-0.98.2/lib/python3.8/site-packages/spikeinterface/qualitymetrics/pca_metrics.py:229: RuntimeWarning: Degrees of freedom <= 0 for slice\n",
      "  VI = np.linalg.inv(np.cov(pcs_for_this_unit.T))\n",
      "/home/xinhez/miniconda3/envs/si-0.98.2/lib/python3.8/site-packages/numpy/lib/function_base.py:2704: RuntimeWarning: divide by zero encountered in divide\n",
      "  c *= np.true_divide(1, fact)\n",
      "/home/xinhez/miniconda3/envs/si-0.98.2/lib/python3.8/site-packages/numpy/lib/function_base.py:2704: RuntimeWarning: invalid value encountered in multiply\n",
      "  c *= np.true_divide(1, fact)\n",
      "/home/xinhez/miniconda3/envs/si-0.98.2/lib/python3.8/site-packages/spikeinterface/postprocessing/template_metrics.py:223: RuntimeWarning: invalid value encountered in float_scalars\n",
      "  ptratio = template[peak_idx] / template[trough_idx]\n"
     ]
    },
    {
     "data": {
      "application/vnd.jupyter.widget-view+json": {
       "model_id": "f0154ae99ab24ee9b6a1cb90758183f9",
       "version_major": 2,
       "version_minor": 0
      },
      "text/plain": [
       "Fitting PCA:   0%|          | 0/47 [00:00<?, ?it/s]"
      ]
     },
     "metadata": {},
     "output_type": "display_data"
    },
    {
     "data": {
      "application/vnd.jupyter.widget-view+json": {
       "model_id": "eda5807d074040fc98f44f20c5281c60",
       "version_major": 2,
       "version_minor": 0
      },
      "text/plain": [
       "Projecting waveforms:   0%|          | 0/47 [00:00<?, ?it/s]"
      ]
     },
     "metadata": {},
     "output_type": "display_data"
    },
    {
     "name": "stderr",
     "output_type": "stream",
     "text": [
      "/home/xinhez/miniconda3/envs/si-0.98.2/lib/python3.8/site-packages/spikeinterface/qualitymetrics/quality_metric_calculator.py:97: UserWarning: Units [ 7 13 41 42] are empty. Quality metrcs will be set to NaN for these units.\n",
      " To remove empty units, use `sorting.remove_empty_units()`.\n",
      "  warnings.warn(\n"
     ]
    },
    {
     "data": {
      "application/vnd.jupyter.widget-view+json": {
       "model_id": "dea79b9a494c48b392556e5dfb8abf5d",
       "version_major": 2,
       "version_minor": 0
      },
      "text/plain": [
       "Computing PCA metrics:   0%|          | 0/43 [00:00<?, ?it/s]"
      ]
     },
     "metadata": {},
     "output_type": "display_data"
    },
    {
     "name": "stderr",
     "output_type": "stream",
     "text": [
      "/home/xinhez/miniconda3/envs/si-0.98.2/lib/python3.8/site-packages/spikeinterface/postprocessing/template_metrics.py:223: RuntimeWarning: invalid value encountered in float_scalars\n",
      "  ptratio = template[peak_idx] / template[trough_idx]\n"
     ]
    },
    {
     "data": {
      "application/vnd.jupyter.widget-view+json": {
       "model_id": "1b44b8b0cb7d4b5abfaee06411545977",
       "version_major": 2,
       "version_minor": 0
      },
      "text/plain": [
       "Fitting PCA:   0%|          | 0/47 [00:00<?, ?it/s]"
      ]
     },
     "metadata": {},
     "output_type": "display_data"
    },
    {
     "data": {
      "application/vnd.jupyter.widget-view+json": {
       "model_id": "3f439313308f41e6a3bc1d8e8044ad0e",
       "version_major": 2,
       "version_minor": 0
      },
      "text/plain": [
       "Projecting waveforms:   0%|          | 0/47 [00:00<?, ?it/s]"
      ]
     },
     "metadata": {},
     "output_type": "display_data"
    },
    {
     "name": "stderr",
     "output_type": "stream",
     "text": [
      "/home/xinhez/miniconda3/envs/si-0.98.2/lib/python3.8/site-packages/spikeinterface/qualitymetrics/quality_metric_calculator.py:97: UserWarning: Units [1 2 3 6 8] are empty. Quality metrcs will be set to NaN for these units.\n",
      " To remove empty units, use `sorting.remove_empty_units()`.\n",
      "  warnings.warn(\n"
     ]
    },
    {
     "data": {
      "application/vnd.jupyter.widget-view+json": {
       "model_id": "f4a24f86c7de4150bf06f08152982d3a",
       "version_major": 2,
       "version_minor": 0
      },
      "text/plain": [
       "Computing PCA metrics:   0%|          | 0/42 [00:00<?, ?it/s]"
      ]
     },
     "metadata": {},
     "output_type": "display_data"
    },
    {
     "name": "stderr",
     "output_type": "stream",
     "text": [
      "/home/xinhez/miniconda3/envs/si-0.98.2/lib/python3.8/site-packages/spikeinterface/qualitymetrics/pca_metrics.py:229: RuntimeWarning: Degrees of freedom <= 0 for slice\n",
      "  VI = np.linalg.inv(np.cov(pcs_for_this_unit.T))\n",
      "/home/xinhez/miniconda3/envs/si-0.98.2/lib/python3.8/site-packages/numpy/lib/function_base.py:2704: RuntimeWarning: divide by zero encountered in divide\n",
      "  c *= np.true_divide(1, fact)\n",
      "/home/xinhez/miniconda3/envs/si-0.98.2/lib/python3.8/site-packages/numpy/lib/function_base.py:2704: RuntimeWarning: invalid value encountered in multiply\n",
      "  c *= np.true_divide(1, fact)\n",
      "/home/xinhez/miniconda3/envs/si-0.98.2/lib/python3.8/site-packages/spikeinterface/postprocessing/template_metrics.py:223: RuntimeWarning: invalid value encountered in float_scalars\n",
      "  ptratio = template[peak_idx] / template[trough_idx]\n"
     ]
    },
    {
     "data": {
      "application/vnd.jupyter.widget-view+json": {
       "model_id": "135eac402027451ea5b235461f11687e",
       "version_major": 2,
       "version_minor": 0
      },
      "text/plain": [
       "Fitting PCA:   0%|          | 0/47 [00:00<?, ?it/s]"
      ]
     },
     "metadata": {},
     "output_type": "display_data"
    },
    {
     "data": {
      "application/vnd.jupyter.widget-view+json": {
       "model_id": "180854723f60486dabeebf0c9edcc468",
       "version_major": 2,
       "version_minor": 0
      },
      "text/plain": [
       "Projecting waveforms:   0%|          | 0/47 [00:00<?, ?it/s]"
      ]
     },
     "metadata": {},
     "output_type": "display_data"
    },
    {
     "name": "stderr",
     "output_type": "stream",
     "text": [
      "/home/xinhez/miniconda3/envs/si-0.98.2/lib/python3.8/site-packages/spikeinterface/qualitymetrics/quality_metric_calculator.py:97: UserWarning: Units [ 2  3  6 42] are empty. Quality metrcs will be set to NaN for these units.\n",
      " To remove empty units, use `sorting.remove_empty_units()`.\n",
      "  warnings.warn(\n"
     ]
    },
    {
     "data": {
      "application/vnd.jupyter.widget-view+json": {
       "model_id": "0dc3622bcf544a61b198bcdc6f15f9c6",
       "version_major": 2,
       "version_minor": 0
      },
      "text/plain": [
       "Computing PCA metrics:   0%|          | 0/43 [00:00<?, ?it/s]"
      ]
     },
     "metadata": {},
     "output_type": "display_data"
    },
    {
     "name": "stderr",
     "output_type": "stream",
     "text": [
      "/home/xinhez/miniconda3/envs/si-0.98.2/lib/python3.8/site-packages/spikeinterface/qualitymetrics/pca_metrics.py:229: RuntimeWarning: Degrees of freedom <= 0 for slice\n",
      "  VI = np.linalg.inv(np.cov(pcs_for_this_unit.T))\n",
      "/home/xinhez/miniconda3/envs/si-0.98.2/lib/python3.8/site-packages/numpy/lib/function_base.py:2704: RuntimeWarning: divide by zero encountered in divide\n",
      "  c *= np.true_divide(1, fact)\n",
      "/home/xinhez/miniconda3/envs/si-0.98.2/lib/python3.8/site-packages/numpy/lib/function_base.py:2704: RuntimeWarning: invalid value encountered in multiply\n",
      "  c *= np.true_divide(1, fact)\n",
      "/home/xinhez/miniconda3/envs/si-0.98.2/lib/python3.8/site-packages/spikeinterface/postprocessing/template_metrics.py:223: RuntimeWarning: invalid value encountered in float_scalars\n",
      "  ptratio = template[peak_idx] / template[trough_idx]\n"
     ]
    },
    {
     "data": {
      "application/vnd.jupyter.widget-view+json": {
       "model_id": "b13812f138e248f2b9b4338d6c3a284f",
       "version_major": 2,
       "version_minor": 0
      },
      "text/plain": [
       "Fitting PCA:   0%|          | 0/47 [00:00<?, ?it/s]"
      ]
     },
     "metadata": {},
     "output_type": "display_data"
    },
    {
     "data": {
      "application/vnd.jupyter.widget-view+json": {
       "model_id": "94721c775e6c4f3ca83c0a97892e9b60",
       "version_major": 2,
       "version_minor": 0
      },
      "text/plain": [
       "Projecting waveforms:   0%|          | 0/47 [00:00<?, ?it/s]"
      ]
     },
     "metadata": {},
     "output_type": "display_data"
    },
    {
     "name": "stderr",
     "output_type": "stream",
     "text": [
      "/home/xinhez/miniconda3/envs/si-0.98.2/lib/python3.8/site-packages/spikeinterface/qualitymetrics/quality_metric_calculator.py:97: UserWarning: Units [ 7 41 42] are empty. Quality metrcs will be set to NaN for these units.\n",
      " To remove empty units, use `sorting.remove_empty_units()`.\n",
      "  warnings.warn(\n"
     ]
    },
    {
     "data": {
      "application/vnd.jupyter.widget-view+json": {
       "model_id": "230c31181a914955abd260a0576d4d64",
       "version_major": 2,
       "version_minor": 0
      },
      "text/plain": [
       "Computing PCA metrics:   0%|          | 0/44 [00:00<?, ?it/s]"
      ]
     },
     "metadata": {},
     "output_type": "display_data"
    },
    {
     "name": "stderr",
     "output_type": "stream",
     "text": [
      "/home/xinhez/miniconda3/envs/si-0.98.2/lib/python3.8/site-packages/spikeinterface/postprocessing/template_metrics.py:223: RuntimeWarning: invalid value encountered in float_scalars\n",
      "  ptratio = template[peak_idx] / template[trough_idx]\n"
     ]
    },
    {
     "data": {
      "application/vnd.jupyter.widget-view+json": {
       "model_id": "158a07b3e56d4ce8990087c2b72a3ee1",
       "version_major": 2,
       "version_minor": 0
      },
      "text/plain": [
       "Fitting PCA:   0%|          | 0/47 [00:00<?, ?it/s]"
      ]
     },
     "metadata": {},
     "output_type": "display_data"
    },
    {
     "data": {
      "application/vnd.jupyter.widget-view+json": {
       "model_id": "548d491f623247d48334bedf63e50a52",
       "version_major": 2,
       "version_minor": 0
      },
      "text/plain": [
       "Projecting waveforms:   0%|          | 0/47 [00:00<?, ?it/s]"
      ]
     },
     "metadata": {},
     "output_type": "display_data"
    },
    {
     "name": "stderr",
     "output_type": "stream",
     "text": [
      "/home/xinhez/miniconda3/envs/si-0.98.2/lib/python3.8/site-packages/spikeinterface/qualitymetrics/quality_metric_calculator.py:97: UserWarning: Units [ 2 12 14 16 18 20 21 22 24 26 40] are empty. Quality metrcs will be set to NaN for these units.\n",
      " To remove empty units, use `sorting.remove_empty_units()`.\n",
      "  warnings.warn(\n"
     ]
    },
    {
     "data": {
      "application/vnd.jupyter.widget-view+json": {
       "model_id": "bb417ea1238743df8e5aa253133a9a94",
       "version_major": 2,
       "version_minor": 0
      },
      "text/plain": [
       "Computing PCA metrics:   0%|          | 0/36 [00:00<?, ?it/s]"
      ]
     },
     "metadata": {},
     "output_type": "display_data"
    },
    {
     "name": "stderr",
     "output_type": "stream",
     "text": [
      "/home/xinhez/miniconda3/envs/si-0.98.2/lib/python3.8/site-packages/spikeinterface/qualitymetrics/pca_metrics.py:229: RuntimeWarning: Degrees of freedom <= 0 for slice\n",
      "  VI = np.linalg.inv(np.cov(pcs_for_this_unit.T))\n",
      "/home/xinhez/miniconda3/envs/si-0.98.2/lib/python3.8/site-packages/numpy/lib/function_base.py:2704: RuntimeWarning: divide by zero encountered in divide\n",
      "  c *= np.true_divide(1, fact)\n",
      "/home/xinhez/miniconda3/envs/si-0.98.2/lib/python3.8/site-packages/numpy/lib/function_base.py:2704: RuntimeWarning: invalid value encountered in multiply\n",
      "  c *= np.true_divide(1, fact)\n",
      "/home/xinhez/miniconda3/envs/si-0.98.2/lib/python3.8/site-packages/spikeinterface/postprocessing/template_metrics.py:223: RuntimeWarning: invalid value encountered in float_scalars\n",
      "  ptratio = template[peak_idx] / template[trough_idx]\n"
     ]
    },
    {
     "data": {
      "application/vnd.jupyter.widget-view+json": {
       "model_id": "5130738bebc54f44822217c3245cc053",
       "version_major": 2,
       "version_minor": 0
      },
      "text/plain": [
       "Fitting PCA:   0%|          | 0/42 [00:00<?, ?it/s]"
      ]
     },
     "metadata": {},
     "output_type": "display_data"
    },
    {
     "data": {
      "application/vnd.jupyter.widget-view+json": {
       "model_id": "791c7efb155b4310a89453dc9e9aa111",
       "version_major": 2,
       "version_minor": 0
      },
      "text/plain": [
       "Projecting waveforms:   0%|          | 0/42 [00:00<?, ?it/s]"
      ]
     },
     "metadata": {},
     "output_type": "display_data"
    },
    {
     "name": "stderr",
     "output_type": "stream",
     "text": [
      "/home/xinhez/miniconda3/envs/si-0.98.2/lib/python3.8/site-packages/spikeinterface/qualitymetrics/quality_metric_calculator.py:97: UserWarning: Units [11 13 14 15 19 21 23 24 25 26 27 28 29 30 31 34 39 40 41 42] are empty. Quality metrcs will be set to NaN for these units.\n",
      " To remove empty units, use `sorting.remove_empty_units()`.\n",
      "  warnings.warn(\n"
     ]
    },
    {
     "data": {
      "application/vnd.jupyter.widget-view+json": {
       "model_id": "036d4213d5ea41388f47653bec582884",
       "version_major": 2,
       "version_minor": 0
      },
      "text/plain": [
       "Computing PCA metrics:   0%|          | 0/22 [00:00<?, ?it/s]"
      ]
     },
     "metadata": {},
     "output_type": "display_data"
    },
    {
     "name": "stderr",
     "output_type": "stream",
     "text": [
      "/home/xinhez/miniconda3/envs/si-0.98.2/lib/python3.8/site-packages/spikeinterface/qualitymetrics/pca_metrics.py:229: RuntimeWarning: Degrees of freedom <= 0 for slice\n",
      "  VI = np.linalg.inv(np.cov(pcs_for_this_unit.T))\n",
      "/home/xinhez/miniconda3/envs/si-0.98.2/lib/python3.8/site-packages/numpy/lib/function_base.py:2704: RuntimeWarning: divide by zero encountered in divide\n",
      "  c *= np.true_divide(1, fact)\n",
      "/home/xinhez/miniconda3/envs/si-0.98.2/lib/python3.8/site-packages/numpy/lib/function_base.py:2704: RuntimeWarning: invalid value encountered in multiply\n",
      "  c *= np.true_divide(1, fact)\n",
      "/home/xinhez/miniconda3/envs/si-0.98.2/lib/python3.8/site-packages/spikeinterface/postprocessing/template_metrics.py:223: RuntimeWarning: invalid value encountered in float_scalars\n",
      "  ptratio = template[peak_idx] / template[trough_idx]\n"
     ]
    },
    {
     "data": {
      "application/vnd.jupyter.widget-view+json": {
       "model_id": "2d875140f30941608c129a77d6f3a0c5",
       "version_major": 2,
       "version_minor": 0
      },
      "text/plain": [
       "Fitting PCA:   0%|          | 0/42 [00:00<?, ?it/s]"
      ]
     },
     "metadata": {},
     "output_type": "display_data"
    },
    {
     "data": {
      "application/vnd.jupyter.widget-view+json": {
       "model_id": "4aa38e3c1ea54b14829e4bda66242188",
       "version_major": 2,
       "version_minor": 0
      },
      "text/plain": [
       "Projecting waveforms:   0%|          | 0/42 [00:00<?, ?it/s]"
      ]
     },
     "metadata": {},
     "output_type": "display_data"
    },
    {
     "name": "stderr",
     "output_type": "stream",
     "text": [
      "/home/xinhez/miniconda3/envs/si-0.98.2/lib/python3.8/site-packages/spikeinterface/qualitymetrics/quality_metric_calculator.py:97: UserWarning: Units [ 3  6  7 15 19 21 23 25 26 27 28 29 31 32 33 34 35 36 37 38 39 41] are empty. Quality metrcs will be set to NaN for these units.\n",
      " To remove empty units, use `sorting.remove_empty_units()`.\n",
      "  warnings.warn(\n"
     ]
    },
    {
     "data": {
      "application/vnd.jupyter.widget-view+json": {
       "model_id": "bee10e0b04804da884aa9c45cf4d975f",
       "version_major": 2,
       "version_minor": 0
      },
      "text/plain": [
       "Computing PCA metrics:   0%|          | 0/20 [00:00<?, ?it/s]"
      ]
     },
     "metadata": {},
     "output_type": "display_data"
    },
    {
     "name": "stderr",
     "output_type": "stream",
     "text": [
      "/home/xinhez/miniconda3/envs/si-0.98.2/lib/python3.8/site-packages/spikeinterface/qualitymetrics/pca_metrics.py:229: RuntimeWarning: Degrees of freedom <= 0 for slice\n",
      "  VI = np.linalg.inv(np.cov(pcs_for_this_unit.T))\n",
      "/home/xinhez/miniconda3/envs/si-0.98.2/lib/python3.8/site-packages/numpy/lib/function_base.py:2704: RuntimeWarning: divide by zero encountered in divide\n",
      "  c *= np.true_divide(1, fact)\n",
      "/home/xinhez/miniconda3/envs/si-0.98.2/lib/python3.8/site-packages/numpy/lib/function_base.py:2704: RuntimeWarning: invalid value encountered in multiply\n",
      "  c *= np.true_divide(1, fact)\n",
      "/home/xinhez/miniconda3/envs/si-0.98.2/lib/python3.8/site-packages/spikeinterface/postprocessing/template_metrics.py:223: RuntimeWarning: invalid value encountered in float_scalars\n",
      "  ptratio = template[peak_idx] / template[trough_idx]\n"
     ]
    },
    {
     "data": {
      "application/vnd.jupyter.widget-view+json": {
       "model_id": "215d363c1e4b4016a69332e01c768df0",
       "version_major": 2,
       "version_minor": 0
      },
      "text/plain": [
       "Fitting PCA:   0%|          | 0/42 [00:00<?, ?it/s]"
      ]
     },
     "metadata": {},
     "output_type": "display_data"
    },
    {
     "data": {
      "application/vnd.jupyter.widget-view+json": {
       "model_id": "8ead839c565747d3845bed302491cfcd",
       "version_major": 2,
       "version_minor": 0
      },
      "text/plain": [
       "Projecting waveforms:   0%|          | 0/42 [00:00<?, ?it/s]"
      ]
     },
     "metadata": {},
     "output_type": "display_data"
    },
    {
     "name": "stderr",
     "output_type": "stream",
     "text": [
      "/home/xinhez/miniconda3/envs/si-0.98.2/lib/python3.8/site-packages/spikeinterface/qualitymetrics/quality_metric_calculator.py:97: UserWarning: Units [12 14 15 23 25] are empty. Quality metrcs will be set to NaN for these units.\n",
      " To remove empty units, use `sorting.remove_empty_units()`.\n",
      "  warnings.warn(\n"
     ]
    },
    {
     "data": {
      "application/vnd.jupyter.widget-view+json": {
       "model_id": "0d1d5c0b3db240ed98f5039d252ffc06",
       "version_major": 2,
       "version_minor": 0
      },
      "text/plain": [
       "Computing PCA metrics:   0%|          | 0/37 [00:00<?, ?it/s]"
      ]
     },
     "metadata": {},
     "output_type": "display_data"
    },
    {
     "name": "stderr",
     "output_type": "stream",
     "text": [
      "/home/xinhez/miniconda3/envs/si-0.98.2/lib/python3.8/site-packages/spikeinterface/qualitymetrics/pca_metrics.py:229: RuntimeWarning: Degrees of freedom <= 0 for slice\n",
      "  VI = np.linalg.inv(np.cov(pcs_for_this_unit.T))\n",
      "/home/xinhez/miniconda3/envs/si-0.98.2/lib/python3.8/site-packages/numpy/lib/function_base.py:2704: RuntimeWarning: divide by zero encountered in divide\n",
      "  c *= np.true_divide(1, fact)\n",
      "/home/xinhez/miniconda3/envs/si-0.98.2/lib/python3.8/site-packages/numpy/lib/function_base.py:2704: RuntimeWarning: invalid value encountered in multiply\n",
      "  c *= np.true_divide(1, fact)\n",
      "/home/xinhez/miniconda3/envs/si-0.98.2/lib/python3.8/site-packages/spikeinterface/postprocessing/template_metrics.py:223: RuntimeWarning: invalid value encountered in float_scalars\n",
      "  ptratio = template[peak_idx] / template[trough_idx]\n"
     ]
    },
    {
     "data": {
      "application/vnd.jupyter.widget-view+json": {
       "model_id": "f754e9ad55f745d4aa3671c9138e0d73",
       "version_major": 2,
       "version_minor": 0
      },
      "text/plain": [
       "Fitting PCA:   0%|          | 0/42 [00:00<?, ?it/s]"
      ]
     },
     "metadata": {},
     "output_type": "display_data"
    },
    {
     "data": {
      "application/vnd.jupyter.widget-view+json": {
       "model_id": "a0371a3b852441c88e1eefb1e24493d8",
       "version_major": 2,
       "version_minor": 0
      },
      "text/plain": [
       "Projecting waveforms:   0%|          | 0/42 [00:00<?, ?it/s]"
      ]
     },
     "metadata": {},
     "output_type": "display_data"
    },
    {
     "name": "stderr",
     "output_type": "stream",
     "text": [
      "/home/xinhez/miniconda3/envs/si-0.98.2/lib/python3.8/site-packages/spikeinterface/qualitymetrics/quality_metric_calculator.py:97: UserWarning: Units [11 12 13 14 15 19 20 21 25 29 30 31 32 33 35 36 37 38 39 40 41 42] are empty. Quality metrcs will be set to NaN for these units.\n",
      " To remove empty units, use `sorting.remove_empty_units()`.\n",
      "  warnings.warn(\n"
     ]
    },
    {
     "data": {
      "application/vnd.jupyter.widget-view+json": {
       "model_id": "c2570f781d6a403ca0ad477853369658",
       "version_major": 2,
       "version_minor": 0
      },
      "text/plain": [
       "Computing PCA metrics:   0%|          | 0/20 [00:00<?, ?it/s]"
      ]
     },
     "metadata": {},
     "output_type": "display_data"
    },
    {
     "name": "stderr",
     "output_type": "stream",
     "text": [
      "/home/xinhez/miniconda3/envs/si-0.98.2/lib/python3.8/site-packages/spikeinterface/qualitymetrics/pca_metrics.py:229: RuntimeWarning: Degrees of freedom <= 0 for slice\n",
      "  VI = np.linalg.inv(np.cov(pcs_for_this_unit.T))\n",
      "/home/xinhez/miniconda3/envs/si-0.98.2/lib/python3.8/site-packages/numpy/lib/function_base.py:2704: RuntimeWarning: divide by zero encountered in divide\n",
      "  c *= np.true_divide(1, fact)\n",
      "/home/xinhez/miniconda3/envs/si-0.98.2/lib/python3.8/site-packages/numpy/lib/function_base.py:2704: RuntimeWarning: invalid value encountered in multiply\n",
      "  c *= np.true_divide(1, fact)\n",
      "/home/xinhez/miniconda3/envs/si-0.98.2/lib/python3.8/site-packages/spikeinterface/postprocessing/template_metrics.py:223: RuntimeWarning: invalid value encountered in float_scalars\n",
      "  ptratio = template[peak_idx] / template[trough_idx]\n"
     ]
    },
    {
     "data": {
      "application/vnd.jupyter.widget-view+json": {
       "model_id": "8a34c585df2b430785b9787a2a75f435",
       "version_major": 2,
       "version_minor": 0
      },
      "text/plain": [
       "Fitting PCA:   0%|          | 0/42 [00:00<?, ?it/s]"
      ]
     },
     "metadata": {},
     "output_type": "display_data"
    },
    {
     "data": {
      "application/vnd.jupyter.widget-view+json": {
       "model_id": "b6096b4751554132b122f6f21df66f98",
       "version_major": 2,
       "version_minor": 0
      },
      "text/plain": [
       "Projecting waveforms:   0%|          | 0/42 [00:00<?, ?it/s]"
      ]
     },
     "metadata": {},
     "output_type": "display_data"
    },
    {
     "name": "stderr",
     "output_type": "stream",
     "text": [
      "/home/xinhez/miniconda3/envs/si-0.98.2/lib/python3.8/site-packages/spikeinterface/qualitymetrics/quality_metric_calculator.py:97: UserWarning: Units [29] are empty. Quality metrcs will be set to NaN for these units.\n",
      " To remove empty units, use `sorting.remove_empty_units()`.\n",
      "  warnings.warn(\n"
     ]
    },
    {
     "data": {
      "application/vnd.jupyter.widget-view+json": {
       "model_id": "4521383bcb3749d39dc79a8af1a85500",
       "version_major": 2,
       "version_minor": 0
      },
      "text/plain": [
       "Computing PCA metrics:   0%|          | 0/41 [00:00<?, ?it/s]"
      ]
     },
     "metadata": {},
     "output_type": "display_data"
    },
    {
     "name": "stderr",
     "output_type": "stream",
     "text": [
      "/home/xinhez/miniconda3/envs/si-0.98.2/lib/python3.8/site-packages/spikeinterface/qualitymetrics/pca_metrics.py:229: RuntimeWarning: Degrees of freedom <= 0 for slice\n",
      "  VI = np.linalg.inv(np.cov(pcs_for_this_unit.T))\n",
      "/home/xinhez/miniconda3/envs/si-0.98.2/lib/python3.8/site-packages/numpy/lib/function_base.py:2704: RuntimeWarning: divide by zero encountered in divide\n",
      "  c *= np.true_divide(1, fact)\n",
      "/home/xinhez/miniconda3/envs/si-0.98.2/lib/python3.8/site-packages/numpy/lib/function_base.py:2704: RuntimeWarning: invalid value encountered in multiply\n",
      "  c *= np.true_divide(1, fact)\n",
      "/home/xinhez/miniconda3/envs/si-0.98.2/lib/python3.8/site-packages/spikeinterface/postprocessing/template_metrics.py:223: RuntimeWarning: invalid value encountered in float_scalars\n",
      "  ptratio = template[peak_idx] / template[trough_idx]\n"
     ]
    },
    {
     "data": {
      "application/vnd.jupyter.widget-view+json": {
       "model_id": "9e6ba537df7f478da74be8a7844a6d5e",
       "version_major": 2,
       "version_minor": 0
      },
      "text/plain": [
       "Fitting PCA:   0%|          | 0/42 [00:00<?, ?it/s]"
      ]
     },
     "metadata": {},
     "output_type": "display_data"
    },
    {
     "data": {
      "application/vnd.jupyter.widget-view+json": {
       "model_id": "e9d0b0b73b8149db9468de9c98b217ee",
       "version_major": 2,
       "version_minor": 0
      },
      "text/plain": [
       "Projecting waveforms:   0%|          | 0/42 [00:00<?, ?it/s]"
      ]
     },
     "metadata": {},
     "output_type": "display_data"
    },
    {
     "name": "stderr",
     "output_type": "stream",
     "text": [
      "/home/xinhez/miniconda3/envs/si-0.98.2/lib/python3.8/site-packages/spikeinterface/qualitymetrics/quality_metric_calculator.py:97: UserWarning: Units [7] are empty. Quality metrcs will be set to NaN for these units.\n",
      " To remove empty units, use `sorting.remove_empty_units()`.\n",
      "  warnings.warn(\n"
     ]
    },
    {
     "data": {
      "application/vnd.jupyter.widget-view+json": {
       "model_id": "88d9c3ee31954e0994f47f58deb8629d",
       "version_major": 2,
       "version_minor": 0
      },
      "text/plain": [
       "Computing PCA metrics:   0%|          | 0/41 [00:00<?, ?it/s]"
      ]
     },
     "metadata": {},
     "output_type": "display_data"
    },
    {
     "name": "stderr",
     "output_type": "stream",
     "text": [
      "/home/xinhez/miniconda3/envs/si-0.98.2/lib/python3.8/site-packages/spikeinterface/postprocessing/template_metrics.py:223: RuntimeWarning: invalid value encountered in float_scalars\n",
      "  ptratio = template[peak_idx] / template[trough_idx]\n"
     ]
    },
    {
     "data": {
      "application/vnd.jupyter.widget-view+json": {
       "model_id": "f160782db2514f0d8f85f49abd8d5f70",
       "version_major": 2,
       "version_minor": 0
      },
      "text/plain": [
       "Fitting PCA:   0%|          | 0/62 [00:00<?, ?it/s]"
      ]
     },
     "metadata": {},
     "output_type": "display_data"
    },
    {
     "data": {
      "application/vnd.jupyter.widget-view+json": {
       "model_id": "5ae1c6a6f99c40c99934569ee506c801",
       "version_major": 2,
       "version_minor": 0
      },
      "text/plain": [
       "Projecting waveforms:   0%|          | 0/62 [00:00<?, ?it/s]"
      ]
     },
     "metadata": {},
     "output_type": "display_data"
    },
    {
     "name": "stderr",
     "output_type": "stream",
     "text": [
      "/home/xinhez/miniconda3/envs/si-0.98.2/lib/python3.8/site-packages/spikeinterface/qualitymetrics/quality_metric_calculator.py:97: UserWarning: Units [13 14 32 37] are empty. Quality metrcs will be set to NaN for these units.\n",
      " To remove empty units, use `sorting.remove_empty_units()`.\n",
      "  warnings.warn(\n"
     ]
    },
    {
     "data": {
      "application/vnd.jupyter.widget-view+json": {
       "model_id": "eb758e17f541433f8939aea0d72aa92a",
       "version_major": 2,
       "version_minor": 0
      },
      "text/plain": [
       "Computing PCA metrics:   0%|          | 0/58 [00:00<?, ?it/s]"
      ]
     },
     "metadata": {},
     "output_type": "display_data"
    },
    {
     "name": "stderr",
     "output_type": "stream",
     "text": [
      "/home/xinhez/miniconda3/envs/si-0.98.2/lib/python3.8/site-packages/spikeinterface/postprocessing/template_metrics.py:223: RuntimeWarning: invalid value encountered in float_scalars\n",
      "  ptratio = template[peak_idx] / template[trough_idx]\n"
     ]
    },
    {
     "data": {
      "application/vnd.jupyter.widget-view+json": {
       "model_id": "1529e7e46f184fefa2db011c4e539411",
       "version_major": 2,
       "version_minor": 0
      },
      "text/plain": [
       "Fitting PCA:   0%|          | 0/62 [00:00<?, ?it/s]"
      ]
     },
     "metadata": {},
     "output_type": "display_data"
    },
    {
     "data": {
      "application/vnd.jupyter.widget-view+json": {
       "model_id": "7e5e6e29fc9b4d91a96ab4a8b253e1dd",
       "version_major": 2,
       "version_minor": 0
      },
      "text/plain": [
       "Projecting waveforms:   0%|          | 0/62 [00:00<?, ?it/s]"
      ]
     },
     "metadata": {},
     "output_type": "display_data"
    },
    {
     "name": "stderr",
     "output_type": "stream",
     "text": [
      "/home/xinhez/miniconda3/envs/si-0.98.2/lib/python3.8/site-packages/spikeinterface/qualitymetrics/quality_metric_calculator.py:97: UserWarning: Units [ 3  4 14 18 25 31 37 46 47 52 53 56 57 58 59 61] are empty. Quality metrcs will be set to NaN for these units.\n",
      " To remove empty units, use `sorting.remove_empty_units()`.\n",
      "  warnings.warn(\n"
     ]
    },
    {
     "data": {
      "application/vnd.jupyter.widget-view+json": {
       "model_id": "ecc935db98e44078aba1bc7d5cc90632",
       "version_major": 2,
       "version_minor": 0
      },
      "text/plain": [
       "Computing PCA metrics:   0%|          | 0/46 [00:00<?, ?it/s]"
      ]
     },
     "metadata": {},
     "output_type": "display_data"
    },
    {
     "name": "stderr",
     "output_type": "stream",
     "text": [
      "/home/xinhez/miniconda3/envs/si-0.98.2/lib/python3.8/site-packages/spikeinterface/qualitymetrics/pca_metrics.py:229: RuntimeWarning: Degrees of freedom <= 0 for slice\n",
      "  VI = np.linalg.inv(np.cov(pcs_for_this_unit.T))\n",
      "/home/xinhez/miniconda3/envs/si-0.98.2/lib/python3.8/site-packages/numpy/lib/function_base.py:2704: RuntimeWarning: divide by zero encountered in divide\n",
      "  c *= np.true_divide(1, fact)\n",
      "/home/xinhez/miniconda3/envs/si-0.98.2/lib/python3.8/site-packages/numpy/lib/function_base.py:2704: RuntimeWarning: invalid value encountered in multiply\n",
      "  c *= np.true_divide(1, fact)\n",
      "/home/xinhez/miniconda3/envs/si-0.98.2/lib/python3.8/site-packages/spikeinterface/postprocessing/template_metrics.py:223: RuntimeWarning: invalid value encountered in float_scalars\n",
      "  ptratio = template[peak_idx] / template[trough_idx]\n"
     ]
    },
    {
     "data": {
      "application/vnd.jupyter.widget-view+json": {
       "model_id": "9ca933933c454489893a26817e0b5f6c",
       "version_major": 2,
       "version_minor": 0
      },
      "text/plain": [
       "Fitting PCA:   0%|          | 0/62 [00:00<?, ?it/s]"
      ]
     },
     "metadata": {},
     "output_type": "display_data"
    },
    {
     "data": {
      "application/vnd.jupyter.widget-view+json": {
       "model_id": "c46a580d31d749968330982c13a1d66b",
       "version_major": 2,
       "version_minor": 0
      },
      "text/plain": [
       "Projecting waveforms:   0%|          | 0/62 [00:00<?, ?it/s]"
      ]
     },
     "metadata": {},
     "output_type": "display_data"
    },
    {
     "name": "stderr",
     "output_type": "stream",
     "text": [
      "/home/xinhez/miniconda3/envs/si-0.98.2/lib/python3.8/site-packages/spikeinterface/qualitymetrics/quality_metric_calculator.py:97: UserWarning: Units [ 3  4  9 22 28 29 30 31 32 34 35 42 43 47 48 52 53 55 56 58 59 61 62] are empty. Quality metrcs will be set to NaN for these units.\n",
      " To remove empty units, use `sorting.remove_empty_units()`.\n",
      "  warnings.warn(\n"
     ]
    },
    {
     "data": {
      "application/vnd.jupyter.widget-view+json": {
       "model_id": "49cc345bf0de4dedbed882b8fcb5efdf",
       "version_major": 2,
       "version_minor": 0
      },
      "text/plain": [
       "Computing PCA metrics:   0%|          | 0/39 [00:00<?, ?it/s]"
      ]
     },
     "metadata": {},
     "output_type": "display_data"
    },
    {
     "name": "stderr",
     "output_type": "stream",
     "text": [
      "/home/xinhez/miniconda3/envs/si-0.98.2/lib/python3.8/site-packages/spikeinterface/qualitymetrics/pca_metrics.py:229: RuntimeWarning: Degrees of freedom <= 0 for slice\n",
      "  VI = np.linalg.inv(np.cov(pcs_for_this_unit.T))\n",
      "/home/xinhez/miniconda3/envs/si-0.98.2/lib/python3.8/site-packages/numpy/lib/function_base.py:2704: RuntimeWarning: divide by zero encountered in divide\n",
      "  c *= np.true_divide(1, fact)\n",
      "/home/xinhez/miniconda3/envs/si-0.98.2/lib/python3.8/site-packages/numpy/lib/function_base.py:2704: RuntimeWarning: invalid value encountered in multiply\n",
      "  c *= np.true_divide(1, fact)\n",
      "/home/xinhez/miniconda3/envs/si-0.98.2/lib/python3.8/site-packages/spikeinterface/postprocessing/template_metrics.py:223: RuntimeWarning: invalid value encountered in float_scalars\n",
      "  ptratio = template[peak_idx] / template[trough_idx]\n"
     ]
    },
    {
     "data": {
      "application/vnd.jupyter.widget-view+json": {
       "model_id": "ab94748fada74b4eb6d56e2d74d36162",
       "version_major": 2,
       "version_minor": 0
      },
      "text/plain": [
       "Fitting PCA:   0%|          | 0/62 [00:00<?, ?it/s]"
      ]
     },
     "metadata": {},
     "output_type": "display_data"
    },
    {
     "data": {
      "application/vnd.jupyter.widget-view+json": {
       "model_id": "23ef003a50714196beaa4b817179c572",
       "version_major": 2,
       "version_minor": 0
      },
      "text/plain": [
       "Projecting waveforms:   0%|          | 0/62 [00:00<?, ?it/s]"
      ]
     },
     "metadata": {},
     "output_type": "display_data"
    },
    {
     "name": "stderr",
     "output_type": "stream",
     "text": [
      "/home/xinhez/miniconda3/envs/si-0.98.2/lib/python3.8/site-packages/spikeinterface/qualitymetrics/quality_metric_calculator.py:97: UserWarning: Units [ 4  6  9 22 28 29 30 34 35 36 42 43 45 47 48 50 52 55 56 58 61] are empty. Quality metrcs will be set to NaN for these units.\n",
      " To remove empty units, use `sorting.remove_empty_units()`.\n",
      "  warnings.warn(\n"
     ]
    },
    {
     "data": {
      "application/vnd.jupyter.widget-view+json": {
       "model_id": "da1987b58c014250b8f1b2cb6a06ef8c",
       "version_major": 2,
       "version_minor": 0
      },
      "text/plain": [
       "Computing PCA metrics:   0%|          | 0/41 [00:00<?, ?it/s]"
      ]
     },
     "metadata": {},
     "output_type": "display_data"
    },
    {
     "name": "stderr",
     "output_type": "stream",
     "text": [
      "/home/xinhez/miniconda3/envs/si-0.98.2/lib/python3.8/site-packages/spikeinterface/qualitymetrics/pca_metrics.py:229: RuntimeWarning: Degrees of freedom <= 0 for slice\n",
      "  VI = np.linalg.inv(np.cov(pcs_for_this_unit.T))\n",
      "/home/xinhez/miniconda3/envs/si-0.98.2/lib/python3.8/site-packages/numpy/lib/function_base.py:2704: RuntimeWarning: divide by zero encountered in divide\n",
      "  c *= np.true_divide(1, fact)\n",
      "/home/xinhez/miniconda3/envs/si-0.98.2/lib/python3.8/site-packages/numpy/lib/function_base.py:2704: RuntimeWarning: invalid value encountered in multiply\n",
      "  c *= np.true_divide(1, fact)\n",
      "/home/xinhez/miniconda3/envs/si-0.98.2/lib/python3.8/site-packages/spikeinterface/postprocessing/template_metrics.py:223: RuntimeWarning: invalid value encountered in float_scalars\n",
      "  ptratio = template[peak_idx] / template[trough_idx]\n"
     ]
    },
    {
     "data": {
      "application/vnd.jupyter.widget-view+json": {
       "model_id": "5308851ed8544566a7bae11a92b4b992",
       "version_major": 2,
       "version_minor": 0
      },
      "text/plain": [
       "Fitting PCA:   0%|          | 0/62 [00:00<?, ?it/s]"
      ]
     },
     "metadata": {},
     "output_type": "display_data"
    },
    {
     "data": {
      "application/vnd.jupyter.widget-view+json": {
       "model_id": "49b064d27a3a488a987e42d98ac90bfd",
       "version_major": 2,
       "version_minor": 0
      },
      "text/plain": [
       "Projecting waveforms:   0%|          | 0/62 [00:00<?, ?it/s]"
      ]
     },
     "metadata": {},
     "output_type": "display_data"
    },
    {
     "name": "stderr",
     "output_type": "stream",
     "text": [
      "/home/xinhez/miniconda3/envs/si-0.98.2/lib/python3.8/site-packages/spikeinterface/qualitymetrics/quality_metric_calculator.py:97: UserWarning: Units [ 9 22 29 30 31 32 34 35 36 37 42 43 45 47 50 52 55 56 58] are empty. Quality metrcs will be set to NaN for these units.\n",
      " To remove empty units, use `sorting.remove_empty_units()`.\n",
      "  warnings.warn(\n"
     ]
    },
    {
     "data": {
      "application/vnd.jupyter.widget-view+json": {
       "model_id": "fcd13703c9b148248f4ca7d886ead06d",
       "version_major": 2,
       "version_minor": 0
      },
      "text/plain": [
       "Computing PCA metrics:   0%|          | 0/43 [00:00<?, ?it/s]"
      ]
     },
     "metadata": {},
     "output_type": "display_data"
    },
    {
     "name": "stderr",
     "output_type": "stream",
     "text": [
      "/home/xinhez/miniconda3/envs/si-0.98.2/lib/python3.8/site-packages/spikeinterface/postprocessing/template_metrics.py:223: RuntimeWarning: invalid value encountered in float_scalars\n",
      "  ptratio = template[peak_idx] / template[trough_idx]\n"
     ]
    },
    {
     "data": {
      "application/vnd.jupyter.widget-view+json": {
       "model_id": "265fd89e2c3c47e9b79a5b7cd97dced3",
       "version_major": 2,
       "version_minor": 0
      },
      "text/plain": [
       "Fitting PCA:   0%|          | 0/62 [00:00<?, ?it/s]"
      ]
     },
     "metadata": {},
     "output_type": "display_data"
    },
    {
     "data": {
      "application/vnd.jupyter.widget-view+json": {
       "model_id": "ea8e81e306f849d5b2d2c5f243bdc030",
       "version_major": 2,
       "version_minor": 0
      },
      "text/plain": [
       "Projecting waveforms:   0%|          | 0/62 [00:00<?, ?it/s]"
      ]
     },
     "metadata": {},
     "output_type": "display_data"
    },
    {
     "name": "stderr",
     "output_type": "stream",
     "text": [
      "/home/xinhez/miniconda3/envs/si-0.98.2/lib/python3.8/site-packages/spikeinterface/qualitymetrics/quality_metric_calculator.py:97: UserWarning: Units [ 2  4  9 12 13 14 17 24 25 29 31 32 37 38] are empty. Quality metrcs will be set to NaN for these units.\n",
      " To remove empty units, use `sorting.remove_empty_units()`.\n",
      "  warnings.warn(\n"
     ]
    },
    {
     "data": {
      "application/vnd.jupyter.widget-view+json": {
       "model_id": "617b6c9aa7b04a0ca594607359317e35",
       "version_major": 2,
       "version_minor": 0
      },
      "text/plain": [
       "Computing PCA metrics:   0%|          | 0/48 [00:00<?, ?it/s]"
      ]
     },
     "metadata": {},
     "output_type": "display_data"
    },
    {
     "name": "stderr",
     "output_type": "stream",
     "text": [
      "/home/xinhez/miniconda3/envs/si-0.98.2/lib/python3.8/site-packages/spikeinterface/qualitymetrics/pca_metrics.py:229: RuntimeWarning: Degrees of freedom <= 0 for slice\n",
      "  VI = np.linalg.inv(np.cov(pcs_for_this_unit.T))\n",
      "/home/xinhez/miniconda3/envs/si-0.98.2/lib/python3.8/site-packages/numpy/lib/function_base.py:2704: RuntimeWarning: divide by zero encountered in divide\n",
      "  c *= np.true_divide(1, fact)\n",
      "/home/xinhez/miniconda3/envs/si-0.98.2/lib/python3.8/site-packages/numpy/lib/function_base.py:2704: RuntimeWarning: invalid value encountered in multiply\n",
      "  c *= np.true_divide(1, fact)\n",
      "/home/xinhez/miniconda3/envs/si-0.98.2/lib/python3.8/site-packages/spikeinterface/postprocessing/template_metrics.py:223: RuntimeWarning: invalid value encountered in float_scalars\n",
      "  ptratio = template[peak_idx] / template[trough_idx]\n"
     ]
    },
    {
     "data": {
      "application/vnd.jupyter.widget-view+json": {
       "model_id": "e14e02bd0023456dad20f37bb2122cfb",
       "version_major": 2,
       "version_minor": 0
      },
      "text/plain": [
       "Fitting PCA:   0%|          | 0/62 [00:00<?, ?it/s]"
      ]
     },
     "metadata": {},
     "output_type": "display_data"
    },
    {
     "data": {
      "application/vnd.jupyter.widget-view+json": {
       "model_id": "190c1c2737a64150808bb60c1ab95cca",
       "version_major": 2,
       "version_minor": 0
      },
      "text/plain": [
       "Projecting waveforms:   0%|          | 0/62 [00:00<?, ?it/s]"
      ]
     },
     "metadata": {},
     "output_type": "display_data"
    },
    {
     "name": "stderr",
     "output_type": "stream",
     "text": [
      "/home/xinhez/miniconda3/envs/si-0.98.2/lib/python3.8/site-packages/spikeinterface/qualitymetrics/quality_metric_calculator.py:97: UserWarning: Units [ 2  9 13 14 17 25 29 30 31 32 33 37 52 53] are empty. Quality metrcs will be set to NaN for these units.\n",
      " To remove empty units, use `sorting.remove_empty_units()`.\n",
      "  warnings.warn(\n"
     ]
    },
    {
     "data": {
      "application/vnd.jupyter.widget-view+json": {
       "model_id": "82be6bdadd0e431eb44c0a0b8102c5e3",
       "version_major": 2,
       "version_minor": 0
      },
      "text/plain": [
       "Computing PCA metrics:   0%|          | 0/48 [00:00<?, ?it/s]"
      ]
     },
     "metadata": {},
     "output_type": "display_data"
    },
    {
     "name": "stderr",
     "output_type": "stream",
     "text": [
      "/home/xinhez/miniconda3/envs/si-0.98.2/lib/python3.8/site-packages/spikeinterface/qualitymetrics/pca_metrics.py:229: RuntimeWarning: Degrees of freedom <= 0 for slice\n",
      "  VI = np.linalg.inv(np.cov(pcs_for_this_unit.T))\n",
      "/home/xinhez/miniconda3/envs/si-0.98.2/lib/python3.8/site-packages/numpy/lib/function_base.py:2704: RuntimeWarning: divide by zero encountered in divide\n",
      "  c *= np.true_divide(1, fact)\n",
      "/home/xinhez/miniconda3/envs/si-0.98.2/lib/python3.8/site-packages/numpy/lib/function_base.py:2704: RuntimeWarning: invalid value encountered in multiply\n",
      "  c *= np.true_divide(1, fact)\n",
      "/home/xinhez/miniconda3/envs/si-0.98.2/lib/python3.8/site-packages/spikeinterface/postprocessing/template_metrics.py:223: RuntimeWarning: invalid value encountered in float_scalars\n",
      "  ptratio = template[peak_idx] / template[trough_idx]\n"
     ]
    },
    {
     "data": {
      "application/vnd.jupyter.widget-view+json": {
       "model_id": "cf05f233ea084159812f7350aaaf261a",
       "version_major": 2,
       "version_minor": 0
      },
      "text/plain": [
       "Fitting PCA:   0%|          | 0/62 [00:00<?, ?it/s]"
      ]
     },
     "metadata": {},
     "output_type": "display_data"
    },
    {
     "data": {
      "application/vnd.jupyter.widget-view+json": {
       "model_id": "f16c7c0f24914687a1c185034d583d68",
       "version_major": 2,
       "version_minor": 0
      },
      "text/plain": [
       "Projecting waveforms:   0%|          | 0/62 [00:00<?, ?it/s]"
      ]
     },
     "metadata": {},
     "output_type": "display_data"
    },
    {
     "name": "stderr",
     "output_type": "stream",
     "text": [
      "/home/xinhez/miniconda3/envs/si-0.98.2/lib/python3.8/site-packages/spikeinterface/qualitymetrics/quality_metric_calculator.py:97: UserWarning: Units [ 2  3  4 22 29 30 34 35 47 52 56 59 61] are empty. Quality metrcs will be set to NaN for these units.\n",
      " To remove empty units, use `sorting.remove_empty_units()`.\n",
      "  warnings.warn(\n"
     ]
    },
    {
     "data": {
      "application/vnd.jupyter.widget-view+json": {
       "model_id": "427d26dcc27245a78cb3c3a23811951d",
       "version_major": 2,
       "version_minor": 0
      },
      "text/plain": [
       "Computing PCA metrics:   0%|          | 0/49 [00:00<?, ?it/s]"
      ]
     },
     "metadata": {},
     "output_type": "display_data"
    },
    {
     "name": "stderr",
     "output_type": "stream",
     "text": [
      "/home/xinhez/miniconda3/envs/si-0.98.2/lib/python3.8/site-packages/spikeinterface/qualitymetrics/pca_metrics.py:229: RuntimeWarning: Degrees of freedom <= 0 for slice\n",
      "  VI = np.linalg.inv(np.cov(pcs_for_this_unit.T))\n",
      "/home/xinhez/miniconda3/envs/si-0.98.2/lib/python3.8/site-packages/numpy/lib/function_base.py:2704: RuntimeWarning: divide by zero encountered in divide\n",
      "  c *= np.true_divide(1, fact)\n",
      "/home/xinhez/miniconda3/envs/si-0.98.2/lib/python3.8/site-packages/numpy/lib/function_base.py:2704: RuntimeWarning: invalid value encountered in multiply\n",
      "  c *= np.true_divide(1, fact)\n",
      "/home/xinhez/miniconda3/envs/si-0.98.2/lib/python3.8/site-packages/spikeinterface/postprocessing/template_metrics.py:223: RuntimeWarning: invalid value encountered in float_scalars\n",
      "  ptratio = template[peak_idx] / template[trough_idx]\n"
     ]
    },
    {
     "data": {
      "application/vnd.jupyter.widget-view+json": {
       "model_id": "554574c21bb24809b3c5486eab537f8f",
       "version_major": 2,
       "version_minor": 0
      },
      "text/plain": [
       "Fitting PCA:   0%|          | 0/87 [00:00<?, ?it/s]"
      ]
     },
     "metadata": {},
     "output_type": "display_data"
    },
    {
     "data": {
      "application/vnd.jupyter.widget-view+json": {
       "model_id": "e4e73d8efa424c99b0543cecdf0684db",
       "version_major": 2,
       "version_minor": 0
      },
      "text/plain": [
       "Projecting waveforms:   0%|          | 0/87 [00:00<?, ?it/s]"
      ]
     },
     "metadata": {},
     "output_type": "display_data"
    },
    {
     "name": "stderr",
     "output_type": "stream",
     "text": [
      "/home/xinhez/miniconda3/envs/si-0.98.2/lib/python3.8/site-packages/spikeinterface/qualitymetrics/quality_metric_calculator.py:97: UserWarning: Units [ 5  6  7 17 21 26 27 28 29 30 31 32 33 34 38 39 40 46 47 53 57 63 69 71\n",
      " 72 76 77 78 79 80 81 82 83 84 85 86 87] are empty. Quality metrcs will be set to NaN for these units.\n",
      " To remove empty units, use `sorting.remove_empty_units()`.\n",
      "  warnings.warn(\n"
     ]
    },
    {
     "data": {
      "application/vnd.jupyter.widget-view+json": {
       "model_id": "b167ea20aa4a4a2c962458ba02404c76",
       "version_major": 2,
       "version_minor": 0
      },
      "text/plain": [
       "Computing PCA metrics:   0%|          | 0/50 [00:00<?, ?it/s]"
      ]
     },
     "metadata": {},
     "output_type": "display_data"
    },
    {
     "name": "stderr",
     "output_type": "stream",
     "text": [
      "/home/xinhez/miniconda3/envs/si-0.98.2/lib/python3.8/site-packages/spikeinterface/qualitymetrics/pca_metrics.py:229: RuntimeWarning: Degrees of freedom <= 0 for slice\n",
      "  VI = np.linalg.inv(np.cov(pcs_for_this_unit.T))\n",
      "/home/xinhez/miniconda3/envs/si-0.98.2/lib/python3.8/site-packages/numpy/lib/function_base.py:2704: RuntimeWarning: divide by zero encountered in divide\n",
      "  c *= np.true_divide(1, fact)\n",
      "/home/xinhez/miniconda3/envs/si-0.98.2/lib/python3.8/site-packages/numpy/lib/function_base.py:2704: RuntimeWarning: invalid value encountered in multiply\n",
      "  c *= np.true_divide(1, fact)\n",
      "/home/xinhez/miniconda3/envs/si-0.98.2/lib/python3.8/site-packages/spikeinterface/postprocessing/template_metrics.py:223: RuntimeWarning: invalid value encountered in float_scalars\n",
      "  ptratio = template[peak_idx] / template[trough_idx]\n"
     ]
    },
    {
     "data": {
      "application/vnd.jupyter.widget-view+json": {
       "model_id": "82dd4c8ceaf84fdb85a10721bab645b9",
       "version_major": 2,
       "version_minor": 0
      },
      "text/plain": [
       "Fitting PCA:   0%|          | 0/87 [00:00<?, ?it/s]"
      ]
     },
     "metadata": {},
     "output_type": "display_data"
    },
    {
     "data": {
      "application/vnd.jupyter.widget-view+json": {
       "model_id": "444cae4af5714758ba542508d8b7f8d1",
       "version_major": 2,
       "version_minor": 0
      },
      "text/plain": [
       "Projecting waveforms:   0%|          | 0/87 [00:00<?, ?it/s]"
      ]
     },
     "metadata": {},
     "output_type": "display_data"
    },
    {
     "name": "stderr",
     "output_type": "stream",
     "text": [
      "/home/xinhez/miniconda3/envs/si-0.98.2/lib/python3.8/site-packages/spikeinterface/qualitymetrics/quality_metric_calculator.py:97: UserWarning: Units [ 7 17 27 31 34 62 63 65 66 67 69 70 72 76 77 78 79 82 83 84 85 86 87] are empty. Quality metrcs will be set to NaN for these units.\n",
      " To remove empty units, use `sorting.remove_empty_units()`.\n",
      "  warnings.warn(\n"
     ]
    },
    {
     "data": {
      "application/vnd.jupyter.widget-view+json": {
       "model_id": "3a8a49e9f3494a008e42146adaede630",
       "version_major": 2,
       "version_minor": 0
      },
      "text/plain": [
       "Computing PCA metrics:   0%|          | 0/64 [00:00<?, ?it/s]"
      ]
     },
     "metadata": {},
     "output_type": "display_data"
    },
    {
     "name": "stderr",
     "output_type": "stream",
     "text": [
      "/home/xinhez/miniconda3/envs/si-0.98.2/lib/python3.8/site-packages/spikeinterface/qualitymetrics/pca_metrics.py:229: RuntimeWarning: Degrees of freedom <= 0 for slice\n",
      "  VI = np.linalg.inv(np.cov(pcs_for_this_unit.T))\n",
      "/home/xinhez/miniconda3/envs/si-0.98.2/lib/python3.8/site-packages/numpy/lib/function_base.py:2704: RuntimeWarning: divide by zero encountered in divide\n",
      "  c *= np.true_divide(1, fact)\n",
      "/home/xinhez/miniconda3/envs/si-0.98.2/lib/python3.8/site-packages/numpy/lib/function_base.py:2704: RuntimeWarning: invalid value encountered in multiply\n",
      "  c *= np.true_divide(1, fact)\n",
      "/home/xinhez/miniconda3/envs/si-0.98.2/lib/python3.8/site-packages/spikeinterface/postprocessing/template_metrics.py:223: RuntimeWarning: invalid value encountered in float_scalars\n",
      "  ptratio = template[peak_idx] / template[trough_idx]\n"
     ]
    },
    {
     "data": {
      "application/vnd.jupyter.widget-view+json": {
       "model_id": "19e01e5904a64aa18304c4371f850b82",
       "version_major": 2,
       "version_minor": 0
      },
      "text/plain": [
       "Fitting PCA:   0%|          | 0/87 [00:00<?, ?it/s]"
      ]
     },
     "metadata": {},
     "output_type": "display_data"
    },
    {
     "data": {
      "application/vnd.jupyter.widget-view+json": {
       "model_id": "c1f67e445313440db4f8172b5281a0bd",
       "version_major": 2,
       "version_minor": 0
      },
      "text/plain": [
       "Projecting waveforms:   0%|          | 0/87 [00:00<?, ?it/s]"
      ]
     },
     "metadata": {},
     "output_type": "display_data"
    },
    {
     "name": "stderr",
     "output_type": "stream",
     "text": [
      "/home/xinhez/miniconda3/envs/si-0.98.2/lib/python3.8/site-packages/spikeinterface/qualitymetrics/quality_metric_calculator.py:97: UserWarning: Units [ 5  6 10 17 21 22 27 31 34 47 66 68 70] are empty. Quality metrcs will be set to NaN for these units.\n",
      " To remove empty units, use `sorting.remove_empty_units()`.\n",
      "  warnings.warn(\n"
     ]
    },
    {
     "data": {
      "application/vnd.jupyter.widget-view+json": {
       "model_id": "99edb07bf4c44ac7a2f45bae4f73f091",
       "version_major": 2,
       "version_minor": 0
      },
      "text/plain": [
       "Computing PCA metrics:   0%|          | 0/74 [00:00<?, ?it/s]"
      ]
     },
     "metadata": {},
     "output_type": "display_data"
    },
    {
     "name": "stderr",
     "output_type": "stream",
     "text": [
      "/home/xinhez/miniconda3/envs/si-0.98.2/lib/python3.8/site-packages/spikeinterface/qualitymetrics/pca_metrics.py:229: RuntimeWarning: Degrees of freedom <= 0 for slice\n",
      "  VI = np.linalg.inv(np.cov(pcs_for_this_unit.T))\n",
      "/home/xinhez/miniconda3/envs/si-0.98.2/lib/python3.8/site-packages/numpy/lib/function_base.py:2704: RuntimeWarning: divide by zero encountered in divide\n",
      "  c *= np.true_divide(1, fact)\n",
      "/home/xinhez/miniconda3/envs/si-0.98.2/lib/python3.8/site-packages/numpy/lib/function_base.py:2704: RuntimeWarning: invalid value encountered in multiply\n",
      "  c *= np.true_divide(1, fact)\n",
      "/home/xinhez/miniconda3/envs/si-0.98.2/lib/python3.8/site-packages/spikeinterface/postprocessing/template_metrics.py:223: RuntimeWarning: invalid value encountered in float_scalars\n",
      "  ptratio = template[peak_idx] / template[trough_idx]\n"
     ]
    },
    {
     "data": {
      "application/vnd.jupyter.widget-view+json": {
       "model_id": "380e343c86464048af2f54ea1de862ce",
       "version_major": 2,
       "version_minor": 0
      },
      "text/plain": [
       "Fitting PCA:   0%|          | 0/87 [00:00<?, ?it/s]"
      ]
     },
     "metadata": {},
     "output_type": "display_data"
    },
    {
     "data": {
      "application/vnd.jupyter.widget-view+json": {
       "model_id": "dfa62554cabd44818f9256b6678136b5",
       "version_major": 2,
       "version_minor": 0
      },
      "text/plain": [
       "Projecting waveforms:   0%|          | 0/87 [00:00<?, ?it/s]"
      ]
     },
     "metadata": {},
     "output_type": "display_data"
    },
    {
     "name": "stderr",
     "output_type": "stream",
     "text": [
      "/home/xinhez/miniconda3/envs/si-0.98.2/lib/python3.8/site-packages/spikeinterface/qualitymetrics/quality_metric_calculator.py:97: UserWarning: Units [ 3  5  6 10 15 16 27 29] are empty. Quality metrcs will be set to NaN for these units.\n",
      " To remove empty units, use `sorting.remove_empty_units()`.\n",
      "  warnings.warn(\n"
     ]
    },
    {
     "data": {
      "application/vnd.jupyter.widget-view+json": {
       "model_id": "0aee83370fe74b9f81e8d59f1d351eaf",
       "version_major": 2,
       "version_minor": 0
      },
      "text/plain": [
       "Computing PCA metrics:   0%|          | 0/79 [00:00<?, ?it/s]"
      ]
     },
     "metadata": {},
     "output_type": "display_data"
    },
    {
     "name": "stderr",
     "output_type": "stream",
     "text": [
      "/home/xinhez/miniconda3/envs/si-0.98.2/lib/python3.8/site-packages/spikeinterface/qualitymetrics/pca_metrics.py:229: RuntimeWarning: Degrees of freedom <= 0 for slice\n",
      "  VI = np.linalg.inv(np.cov(pcs_for_this_unit.T))\n",
      "/home/xinhez/miniconda3/envs/si-0.98.2/lib/python3.8/site-packages/numpy/lib/function_base.py:2704: RuntimeWarning: divide by zero encountered in divide\n",
      "  c *= np.true_divide(1, fact)\n",
      "/home/xinhez/miniconda3/envs/si-0.98.2/lib/python3.8/site-packages/numpy/lib/function_base.py:2704: RuntimeWarning: invalid value encountered in multiply\n",
      "  c *= np.true_divide(1, fact)\n",
      "/home/xinhez/miniconda3/envs/si-0.98.2/lib/python3.8/site-packages/spikeinterface/postprocessing/template_metrics.py:223: RuntimeWarning: invalid value encountered in float_scalars\n",
      "  ptratio = template[peak_idx] / template[trough_idx]\n"
     ]
    },
    {
     "data": {
      "application/vnd.jupyter.widget-view+json": {
       "model_id": "03714f5ceede4446b4144e9a83a8c17b",
       "version_major": 2,
       "version_minor": 0
      },
      "text/plain": [
       "Fitting PCA:   0%|          | 0/87 [00:00<?, ?it/s]"
      ]
     },
     "metadata": {},
     "output_type": "display_data"
    },
    {
     "data": {
      "application/vnd.jupyter.widget-view+json": {
       "model_id": "1ba04545d1bf4c4694eeaa15651b6b6d",
       "version_major": 2,
       "version_minor": 0
      },
      "text/plain": [
       "Projecting waveforms:   0%|          | 0/87 [00:00<?, ?it/s]"
      ]
     },
     "metadata": {},
     "output_type": "display_data"
    },
    {
     "name": "stderr",
     "output_type": "stream",
     "text": [
      "/home/xinhez/miniconda3/envs/si-0.98.2/lib/python3.8/site-packages/spikeinterface/qualitymetrics/quality_metric_calculator.py:97: UserWarning: Units [ 2  3  5  6  7 10 17 25 26 27 28 29 30 31 32 33 34 35 37 38 39 40 41 46\n",
      " 47 52 53 56 57 58 61 63 65 66 67 68 69 70 71 72 74 75 76 77 79 80 81 82\n",
      " 85 86 87] are empty. Quality metrcs will be set to NaN for these units.\n",
      " To remove empty units, use `sorting.remove_empty_units()`.\n",
      "  warnings.warn(\n"
     ]
    },
    {
     "data": {
      "application/vnd.jupyter.widget-view+json": {
       "model_id": "df9dcedbb5fa4eeb841a4be0c87e7bea",
       "version_major": 2,
       "version_minor": 0
      },
      "text/plain": [
       "Computing PCA metrics:   0%|          | 0/36 [00:00<?, ?it/s]"
      ]
     },
     "metadata": {},
     "output_type": "display_data"
    },
    {
     "name": "stderr",
     "output_type": "stream",
     "text": [
      "/home/xinhez/miniconda3/envs/si-0.98.2/lib/python3.8/site-packages/spikeinterface/qualitymetrics/pca_metrics.py:229: RuntimeWarning: Degrees of freedom <= 0 for slice\n",
      "  VI = np.linalg.inv(np.cov(pcs_for_this_unit.T))\n",
      "/home/xinhez/miniconda3/envs/si-0.98.2/lib/python3.8/site-packages/numpy/lib/function_base.py:2704: RuntimeWarning: divide by zero encountered in divide\n",
      "  c *= np.true_divide(1, fact)\n",
      "/home/xinhez/miniconda3/envs/si-0.98.2/lib/python3.8/site-packages/numpy/lib/function_base.py:2704: RuntimeWarning: invalid value encountered in multiply\n",
      "  c *= np.true_divide(1, fact)\n",
      "/home/xinhez/miniconda3/envs/si-0.98.2/lib/python3.8/site-packages/spikeinterface/postprocessing/template_metrics.py:223: RuntimeWarning: invalid value encountered in float_scalars\n",
      "  ptratio = template[peak_idx] / template[trough_idx]\n"
     ]
    },
    {
     "data": {
      "application/vnd.jupyter.widget-view+json": {
       "model_id": "b8b7bc9100084f3d8f7820aab2f308be",
       "version_major": 2,
       "version_minor": 0
      },
      "text/plain": [
       "Fitting PCA:   0%|          | 0/87 [00:00<?, ?it/s]"
      ]
     },
     "metadata": {},
     "output_type": "display_data"
    },
    {
     "data": {
      "application/vnd.jupyter.widget-view+json": {
       "model_id": "05f5f52cee0642299096e482ec4bc236",
       "version_major": 2,
       "version_minor": 0
      },
      "text/plain": [
       "Projecting waveforms:   0%|          | 0/87 [00:00<?, ?it/s]"
      ]
     },
     "metadata": {},
     "output_type": "display_data"
    },
    {
     "name": "stderr",
     "output_type": "stream",
     "text": [
      "/home/xinhez/miniconda3/envs/si-0.98.2/lib/python3.8/site-packages/spikeinterface/qualitymetrics/quality_metric_calculator.py:97: UserWarning: Units [ 7 17 22 28 29 30 31 33 34 38 40 46 47 52 58 66 67 68 69 79 80 81 82 85\n",
      " 86 87] are empty. Quality metrcs will be set to NaN for these units.\n",
      " To remove empty units, use `sorting.remove_empty_units()`.\n",
      "  warnings.warn(\n"
     ]
    },
    {
     "data": {
      "application/vnd.jupyter.widget-view+json": {
       "model_id": "01c6bda0e0f94abf85bd04168f9fa546",
       "version_major": 2,
       "version_minor": 0
      },
      "text/plain": [
       "Computing PCA metrics:   0%|          | 0/61 [00:00<?, ?it/s]"
      ]
     },
     "metadata": {},
     "output_type": "display_data"
    },
    {
     "name": "stderr",
     "output_type": "stream",
     "text": [
      "/home/xinhez/miniconda3/envs/si-0.98.2/lib/python3.8/site-packages/spikeinterface/qualitymetrics/pca_metrics.py:229: RuntimeWarning: Degrees of freedom <= 0 for slice\n",
      "  VI = np.linalg.inv(np.cov(pcs_for_this_unit.T))\n",
      "/home/xinhez/miniconda3/envs/si-0.98.2/lib/python3.8/site-packages/numpy/lib/function_base.py:2704: RuntimeWarning: divide by zero encountered in divide\n",
      "  c *= np.true_divide(1, fact)\n",
      "/home/xinhez/miniconda3/envs/si-0.98.2/lib/python3.8/site-packages/numpy/lib/function_base.py:2704: RuntimeWarning: invalid value encountered in multiply\n",
      "  c *= np.true_divide(1, fact)\n",
      "/home/xinhez/miniconda3/envs/si-0.98.2/lib/python3.8/site-packages/spikeinterface/postprocessing/template_metrics.py:223: RuntimeWarning: invalid value encountered in float_scalars\n",
      "  ptratio = template[peak_idx] / template[trough_idx]\n"
     ]
    },
    {
     "data": {
      "application/vnd.jupyter.widget-view+json": {
       "model_id": "c18953a28bc94dbebfb06689299ddc9b",
       "version_major": 2,
       "version_minor": 0
      },
      "text/plain": [
       "Fitting PCA:   0%|          | 0/87 [00:00<?, ?it/s]"
      ]
     },
     "metadata": {},
     "output_type": "display_data"
    },
    {
     "data": {
      "application/vnd.jupyter.widget-view+json": {
       "model_id": "81ad988d04c14a438b1908a4de49662e",
       "version_major": 2,
       "version_minor": 0
      },
      "text/plain": [
       "Projecting waveforms:   0%|          | 0/87 [00:00<?, ?it/s]"
      ]
     },
     "metadata": {},
     "output_type": "display_data"
    },
    {
     "name": "stderr",
     "output_type": "stream",
     "text": [
      "/home/xinhez/miniconda3/envs/si-0.98.2/lib/python3.8/site-packages/spikeinterface/qualitymetrics/quality_metric_calculator.py:97: UserWarning: Units [ 5  6 17 29 31 47] are empty. Quality metrcs will be set to NaN for these units.\n",
      " To remove empty units, use `sorting.remove_empty_units()`.\n",
      "  warnings.warn(\n"
     ]
    },
    {
     "data": {
      "application/vnd.jupyter.widget-view+json": {
       "model_id": "bce285ee1a324ff89c73cc427beeb077",
       "version_major": 2,
       "version_minor": 0
      },
      "text/plain": [
       "Computing PCA metrics:   0%|          | 0/81 [00:00<?, ?it/s]"
      ]
     },
     "metadata": {},
     "output_type": "display_data"
    },
    {
     "name": "stderr",
     "output_type": "stream",
     "text": [
      "/home/xinhez/miniconda3/envs/si-0.98.2/lib/python3.8/site-packages/spikeinterface/qualitymetrics/pca_metrics.py:229: RuntimeWarning: Degrees of freedom <= 0 for slice\n",
      "  VI = np.linalg.inv(np.cov(pcs_for_this_unit.T))\n",
      "/home/xinhez/miniconda3/envs/si-0.98.2/lib/python3.8/site-packages/numpy/lib/function_base.py:2704: RuntimeWarning: divide by zero encountered in divide\n",
      "  c *= np.true_divide(1, fact)\n",
      "/home/xinhez/miniconda3/envs/si-0.98.2/lib/python3.8/site-packages/numpy/lib/function_base.py:2704: RuntimeWarning: invalid value encountered in multiply\n",
      "  c *= np.true_divide(1, fact)\n",
      "/home/xinhez/miniconda3/envs/si-0.98.2/lib/python3.8/site-packages/spikeinterface/postprocessing/template_metrics.py:223: RuntimeWarning: invalid value encountered in float_scalars\n",
      "  ptratio = template[peak_idx] / template[trough_idx]\n"
     ]
    },
    {
     "data": {
      "application/vnd.jupyter.widget-view+json": {
       "model_id": "8aef2332a2af4ce3b80f083a847b87e6",
       "version_major": 2,
       "version_minor": 0
      },
      "text/plain": [
       "Fitting PCA:   0%|          | 0/87 [00:00<?, ?it/s]"
      ]
     },
     "metadata": {},
     "output_type": "display_data"
    },
    {
     "data": {
      "application/vnd.jupyter.widget-view+json": {
       "model_id": "66221bfd03504535b9a6dce6977d9e18",
       "version_major": 2,
       "version_minor": 0
      },
      "text/plain": [
       "Projecting waveforms:   0%|          | 0/87 [00:00<?, ?it/s]"
      ]
     },
     "metadata": {},
     "output_type": "display_data"
    },
    {
     "name": "stderr",
     "output_type": "stream",
     "text": [
      "/home/xinhez/miniconda3/envs/si-0.98.2/lib/python3.8/site-packages/spikeinterface/qualitymetrics/quality_metric_calculator.py:97: UserWarning: Units [10 17 22 27 31 32 34 68 70] are empty. Quality metrcs will be set to NaN for these units.\n",
      " To remove empty units, use `sorting.remove_empty_units()`.\n",
      "  warnings.warn(\n"
     ]
    },
    {
     "data": {
      "application/vnd.jupyter.widget-view+json": {
       "model_id": "d688a4ad1e4c4a00ae8bf77ac2b9a8c9",
       "version_major": 2,
       "version_minor": 0
      },
      "text/plain": [
       "Computing PCA metrics:   0%|          | 0/78 [00:00<?, ?it/s]"
      ]
     },
     "metadata": {},
     "output_type": "display_data"
    },
    {
     "name": "stderr",
     "output_type": "stream",
     "text": [
      "/home/xinhez/miniconda3/envs/si-0.98.2/lib/python3.8/site-packages/spikeinterface/qualitymetrics/pca_metrics.py:229: RuntimeWarning: Degrees of freedom <= 0 for slice\n",
      "  VI = np.linalg.inv(np.cov(pcs_for_this_unit.T))\n",
      "/home/xinhez/miniconda3/envs/si-0.98.2/lib/python3.8/site-packages/numpy/lib/function_base.py:2704: RuntimeWarning: divide by zero encountered in divide\n",
      "  c *= np.true_divide(1, fact)\n",
      "/home/xinhez/miniconda3/envs/si-0.98.2/lib/python3.8/site-packages/numpy/lib/function_base.py:2704: RuntimeWarning: invalid value encountered in multiply\n",
      "  c *= np.true_divide(1, fact)\n",
      "/home/xinhez/miniconda3/envs/si-0.98.2/lib/python3.8/site-packages/spikeinterface/postprocessing/template_metrics.py:223: RuntimeWarning: invalid value encountered in float_scalars\n",
      "  ptratio = template[peak_idx] / template[trough_idx]\n"
     ]
    },
    {
     "data": {
      "application/vnd.jupyter.widget-view+json": {
       "model_id": "3d24bcfbbf1e4530b6136cc3bb1b648a",
       "version_major": 2,
       "version_minor": 0
      },
      "text/plain": [
       "Fitting PCA:   0%|          | 0/40 [00:00<?, ?it/s]"
      ]
     },
     "metadata": {},
     "output_type": "display_data"
    },
    {
     "data": {
      "application/vnd.jupyter.widget-view+json": {
       "model_id": "5d0b84f5afbf413eaf06a522f7e1c9ca",
       "version_major": 2,
       "version_minor": 0
      },
      "text/plain": [
       "Projecting waveforms:   0%|          | 0/40 [00:00<?, ?it/s]"
      ]
     },
     "metadata": {},
     "output_type": "display_data"
    },
    {
     "name": "stderr",
     "output_type": "stream",
     "text": [
      "/home/xinhez/miniconda3/envs/si-0.98.2/lib/python3.8/site-packages/spikeinterface/qualitymetrics/quality_metric_calculator.py:97: UserWarning: Units [ 1  2  3  4 10 11 12 14 16 17 18 20 22 25 26 28 30 34 35 36 37 38 40] are empty. Quality metrcs will be set to NaN for these units.\n",
      " To remove empty units, use `sorting.remove_empty_units()`.\n",
      "  warnings.warn(\n"
     ]
    },
    {
     "data": {
      "application/vnd.jupyter.widget-view+json": {
       "model_id": "528d18f276524ddcbda4fa8467d46141",
       "version_major": 2,
       "version_minor": 0
      },
      "text/plain": [
       "Computing PCA metrics:   0%|          | 0/17 [00:00<?, ?it/s]"
      ]
     },
     "metadata": {},
     "output_type": "display_data"
    },
    {
     "name": "stderr",
     "output_type": "stream",
     "text": [
      "/home/xinhez/miniconda3/envs/si-0.98.2/lib/python3.8/site-packages/spikeinterface/qualitymetrics/pca_metrics.py:229: RuntimeWarning: Degrees of freedom <= 0 for slice\n",
      "  VI = np.linalg.inv(np.cov(pcs_for_this_unit.T))\n",
      "/home/xinhez/miniconda3/envs/si-0.98.2/lib/python3.8/site-packages/numpy/lib/function_base.py:2704: RuntimeWarning: divide by zero encountered in divide\n",
      "  c *= np.true_divide(1, fact)\n",
      "/home/xinhez/miniconda3/envs/si-0.98.2/lib/python3.8/site-packages/numpy/lib/function_base.py:2704: RuntimeWarning: invalid value encountered in multiply\n",
      "  c *= np.true_divide(1, fact)\n",
      "/home/xinhez/miniconda3/envs/si-0.98.2/lib/python3.8/site-packages/spikeinterface/postprocessing/template_metrics.py:223: RuntimeWarning: invalid value encountered in float_scalars\n",
      "  ptratio = template[peak_idx] / template[trough_idx]\n"
     ]
    },
    {
     "data": {
      "application/vnd.jupyter.widget-view+json": {
       "model_id": "9b7460b8c3884ae89b9a8907cf04be00",
       "version_major": 2,
       "version_minor": 0
      },
      "text/plain": [
       "Fitting PCA:   0%|          | 0/41 [00:00<?, ?it/s]"
      ]
     },
     "metadata": {},
     "output_type": "display_data"
    },
    {
     "data": {
      "application/vnd.jupyter.widget-view+json": {
       "model_id": "89fe29fd6f2642628209149d07c2fea8",
       "version_major": 2,
       "version_minor": 0
      },
      "text/plain": [
       "Projecting waveforms:   0%|          | 0/41 [00:00<?, ?it/s]"
      ]
     },
     "metadata": {},
     "output_type": "display_data"
    },
    {
     "name": "stderr",
     "output_type": "stream",
     "text": [
      "/home/xinhez/miniconda3/envs/si-0.98.2/lib/python3.8/site-packages/spikeinterface/qualitymetrics/quality_metric_calculator.py:97: UserWarning: Units [ 3  5  6  8  9 11 12 13 14 15 16 20 24 26 28 31 32 33 34 35 37 38 40] are empty. Quality metrcs will be set to NaN for these units.\n",
      " To remove empty units, use `sorting.remove_empty_units()`.\n",
      "  warnings.warn(\n"
     ]
    },
    {
     "data": {
      "application/vnd.jupyter.widget-view+json": {
       "model_id": "f9d018353a2c412bbdde89b79a7f65e9",
       "version_major": 2,
       "version_minor": 0
      },
      "text/plain": [
       "Computing PCA metrics:   0%|          | 0/18 [00:00<?, ?it/s]"
      ]
     },
     "metadata": {},
     "output_type": "display_data"
    },
    {
     "name": "stderr",
     "output_type": "stream",
     "text": [
      "/home/xinhez/miniconda3/envs/si-0.98.2/lib/python3.8/site-packages/spikeinterface/qualitymetrics/pca_metrics.py:229: RuntimeWarning: Degrees of freedom <= 0 for slice\n",
      "  VI = np.linalg.inv(np.cov(pcs_for_this_unit.T))\n",
      "/home/xinhez/miniconda3/envs/si-0.98.2/lib/python3.8/site-packages/numpy/lib/function_base.py:2704: RuntimeWarning: divide by zero encountered in divide\n",
      "  c *= np.true_divide(1, fact)\n",
      "/home/xinhez/miniconda3/envs/si-0.98.2/lib/python3.8/site-packages/numpy/lib/function_base.py:2704: RuntimeWarning: invalid value encountered in multiply\n",
      "  c *= np.true_divide(1, fact)\n",
      "/home/xinhez/miniconda3/envs/si-0.98.2/lib/python3.8/site-packages/spikeinterface/postprocessing/template_metrics.py:223: RuntimeWarning: invalid value encountered in float_scalars\n",
      "  ptratio = template[peak_idx] / template[trough_idx]\n"
     ]
    },
    {
     "data": {
      "application/vnd.jupyter.widget-view+json": {
       "model_id": "f2c9a32a15e9461d893ebb16149daaff",
       "version_major": 2,
       "version_minor": 0
      },
      "text/plain": [
       "Fitting PCA:   0%|          | 0/54 [00:00<?, ?it/s]"
      ]
     },
     "metadata": {},
     "output_type": "display_data"
    },
    {
     "data": {
      "application/vnd.jupyter.widget-view+json": {
       "model_id": "bd4c93a08fe24e63bf23bb3b140a2cd3",
       "version_major": 2,
       "version_minor": 0
      },
      "text/plain": [
       "Projecting waveforms:   0%|          | 0/54 [00:00<?, ?it/s]"
      ]
     },
     "metadata": {},
     "output_type": "display_data"
    },
    {
     "name": "stderr",
     "output_type": "stream",
     "text": [
      "/home/xinhez/miniconda3/envs/si-0.98.2/lib/python3.8/site-packages/spikeinterface/qualitymetrics/quality_metric_calculator.py:97: UserWarning: Units [ 1  6  7  9 10 17 25 31 41 47 53] are empty. Quality metrcs will be set to NaN for these units.\n",
      " To remove empty units, use `sorting.remove_empty_units()`.\n",
      "  warnings.warn(\n"
     ]
    },
    {
     "data": {
      "application/vnd.jupyter.widget-view+json": {
       "model_id": "9932694f564c412399f2971b9de24304",
       "version_major": 2,
       "version_minor": 0
      },
      "text/plain": [
       "Computing PCA metrics:   0%|          | 0/43 [00:00<?, ?it/s]"
      ]
     },
     "metadata": {},
     "output_type": "display_data"
    },
    {
     "name": "stderr",
     "output_type": "stream",
     "text": [
      "/home/xinhez/miniconda3/envs/si-0.98.2/lib/python3.8/site-packages/spikeinterface/qualitymetrics/pca_metrics.py:229: RuntimeWarning: Degrees of freedom <= 0 for slice\n",
      "  VI = np.linalg.inv(np.cov(pcs_for_this_unit.T))\n",
      "/home/xinhez/miniconda3/envs/si-0.98.2/lib/python3.8/site-packages/numpy/lib/function_base.py:2704: RuntimeWarning: divide by zero encountered in divide\n",
      "  c *= np.true_divide(1, fact)\n",
      "/home/xinhez/miniconda3/envs/si-0.98.2/lib/python3.8/site-packages/numpy/lib/function_base.py:2704: RuntimeWarning: invalid value encountered in multiply\n",
      "  c *= np.true_divide(1, fact)\n",
      "/home/xinhez/miniconda3/envs/si-0.98.2/lib/python3.8/site-packages/spikeinterface/postprocessing/template_metrics.py:223: RuntimeWarning: invalid value encountered in float_scalars\n",
      "  ptratio = template[peak_idx] / template[trough_idx]\n"
     ]
    },
    {
     "data": {
      "application/vnd.jupyter.widget-view+json": {
       "model_id": "c8f89718c177436ab3cdc47a82fc74c6",
       "version_major": 2,
       "version_minor": 0
      },
      "text/plain": [
       "Fitting PCA:   0%|          | 0/54 [00:00<?, ?it/s]"
      ]
     },
     "metadata": {},
     "output_type": "display_data"
    },
    {
     "data": {
      "application/vnd.jupyter.widget-view+json": {
       "model_id": "8dac6fde2f1541ee9eff532fbb0eb33d",
       "version_major": 2,
       "version_minor": 0
      },
      "text/plain": [
       "Projecting waveforms:   0%|          | 0/54 [00:00<?, ?it/s]"
      ]
     },
     "metadata": {},
     "output_type": "display_data"
    },
    {
     "name": "stderr",
     "output_type": "stream",
     "text": [
      "/home/xinhez/miniconda3/envs/si-0.98.2/lib/python3.8/site-packages/spikeinterface/qualitymetrics/quality_metric_calculator.py:97: UserWarning: Units [ 1  6  7  9 10 16 17 31 38 41 50 52 53] are empty. Quality metrcs will be set to NaN for these units.\n",
      " To remove empty units, use `sorting.remove_empty_units()`.\n",
      "  warnings.warn(\n"
     ]
    },
    {
     "data": {
      "application/vnd.jupyter.widget-view+json": {
       "model_id": "71f1df890605400e898ba5799593b071",
       "version_major": 2,
       "version_minor": 0
      },
      "text/plain": [
       "Computing PCA metrics:   0%|          | 0/41 [00:00<?, ?it/s]"
      ]
     },
     "metadata": {},
     "output_type": "display_data"
    },
    {
     "name": "stderr",
     "output_type": "stream",
     "text": [
      "/home/xinhez/miniconda3/envs/si-0.98.2/lib/python3.8/site-packages/spikeinterface/qualitymetrics/pca_metrics.py:229: RuntimeWarning: Degrees of freedom <= 0 for slice\n",
      "  VI = np.linalg.inv(np.cov(pcs_for_this_unit.T))\n",
      "/home/xinhez/miniconda3/envs/si-0.98.2/lib/python3.8/site-packages/numpy/lib/function_base.py:2704: RuntimeWarning: divide by zero encountered in divide\n",
      "  c *= np.true_divide(1, fact)\n",
      "/home/xinhez/miniconda3/envs/si-0.98.2/lib/python3.8/site-packages/numpy/lib/function_base.py:2704: RuntimeWarning: invalid value encountered in multiply\n",
      "  c *= np.true_divide(1, fact)\n",
      "/home/xinhez/miniconda3/envs/si-0.98.2/lib/python3.8/site-packages/spikeinterface/postprocessing/template_metrics.py:223: RuntimeWarning: invalid value encountered in float_scalars\n",
      "  ptratio = template[peak_idx] / template[trough_idx]\n"
     ]
    },
    {
     "data": {
      "application/vnd.jupyter.widget-view+json": {
       "model_id": "e7ebdc3c528e44d682e7f641b5a5f0e9",
       "version_major": 2,
       "version_minor": 0
      },
      "text/plain": [
       "Fitting PCA:   0%|          | 0/54 [00:00<?, ?it/s]"
      ]
     },
     "metadata": {},
     "output_type": "display_data"
    },
    {
     "data": {
      "application/vnd.jupyter.widget-view+json": {
       "model_id": "8c258de439144f09baffea55f3e89c6b",
       "version_major": 2,
       "version_minor": 0
      },
      "text/plain": [
       "Projecting waveforms:   0%|          | 0/54 [00:00<?, ?it/s]"
      ]
     },
     "metadata": {},
     "output_type": "display_data"
    },
    {
     "name": "stderr",
     "output_type": "stream",
     "text": [
      "/home/xinhez/miniconda3/envs/si-0.98.2/lib/python3.8/site-packages/spikeinterface/qualitymetrics/quality_metric_calculator.py:97: UserWarning: Units [ 1  2  6  7  8  9 10 17 18 31 38 41] are empty. Quality metrcs will be set to NaN for these units.\n",
      " To remove empty units, use `sorting.remove_empty_units()`.\n",
      "  warnings.warn(\n"
     ]
    },
    {
     "data": {
      "application/vnd.jupyter.widget-view+json": {
       "model_id": "45564a4f7ede474289263a918fdc5715",
       "version_major": 2,
       "version_minor": 0
      },
      "text/plain": [
       "Computing PCA metrics:   0%|          | 0/42 [00:00<?, ?it/s]"
      ]
     },
     "metadata": {},
     "output_type": "display_data"
    },
    {
     "name": "stderr",
     "output_type": "stream",
     "text": [
      "/home/xinhez/miniconda3/envs/si-0.98.2/lib/python3.8/site-packages/spikeinterface/postprocessing/template_metrics.py:223: RuntimeWarning: invalid value encountered in float_scalars\n",
      "  ptratio = template[peak_idx] / template[trough_idx]\n"
     ]
    },
    {
     "data": {
      "application/vnd.jupyter.widget-view+json": {
       "model_id": "3e0dd02471134b0fa5f3bb7eef486c0a",
       "version_major": 2,
       "version_minor": 0
      },
      "text/plain": [
       "Fitting PCA:   0%|          | 0/54 [00:00<?, ?it/s]"
      ]
     },
     "metadata": {},
     "output_type": "display_data"
    },
    {
     "data": {
      "application/vnd.jupyter.widget-view+json": {
       "model_id": "f31107b9f81d4ae89b1f7a6c68dbb7d5",
       "version_major": 2,
       "version_minor": 0
      },
      "text/plain": [
       "Projecting waveforms:   0%|          | 0/54 [00:00<?, ?it/s]"
      ]
     },
     "metadata": {},
     "output_type": "display_data"
    },
    {
     "name": "stderr",
     "output_type": "stream",
     "text": [
      "/home/xinhez/miniconda3/envs/si-0.98.2/lib/python3.8/site-packages/spikeinterface/qualitymetrics/quality_metric_calculator.py:97: UserWarning: Units [ 2  3  5  6  9 10 16 17 25 31 43 44 50] are empty. Quality metrcs will be set to NaN for these units.\n",
      " To remove empty units, use `sorting.remove_empty_units()`.\n",
      "  warnings.warn(\n"
     ]
    },
    {
     "data": {
      "application/vnd.jupyter.widget-view+json": {
       "model_id": "ec1a227f56134622873dbe131d2a94ce",
       "version_major": 2,
       "version_minor": 0
      },
      "text/plain": [
       "Computing PCA metrics:   0%|          | 0/41 [00:00<?, ?it/s]"
      ]
     },
     "metadata": {},
     "output_type": "display_data"
    },
    {
     "name": "stderr",
     "output_type": "stream",
     "text": [
      "/home/xinhez/miniconda3/envs/si-0.98.2/lib/python3.8/site-packages/spikeinterface/qualitymetrics/pca_metrics.py:229: RuntimeWarning: Degrees of freedom <= 0 for slice\n",
      "  VI = np.linalg.inv(np.cov(pcs_for_this_unit.T))\n",
      "/home/xinhez/miniconda3/envs/si-0.98.2/lib/python3.8/site-packages/numpy/lib/function_base.py:2704: RuntimeWarning: divide by zero encountered in divide\n",
      "  c *= np.true_divide(1, fact)\n",
      "/home/xinhez/miniconda3/envs/si-0.98.2/lib/python3.8/site-packages/numpy/lib/function_base.py:2704: RuntimeWarning: invalid value encountered in multiply\n",
      "  c *= np.true_divide(1, fact)\n",
      "/home/xinhez/miniconda3/envs/si-0.98.2/lib/python3.8/site-packages/spikeinterface/postprocessing/template_metrics.py:223: RuntimeWarning: invalid value encountered in float_scalars\n",
      "  ptratio = template[peak_idx] / template[trough_idx]\n"
     ]
    },
    {
     "data": {
      "application/vnd.jupyter.widget-view+json": {
       "model_id": "26fefcc86d0c4abc8a49125ddd68c8b5",
       "version_major": 2,
       "version_minor": 0
      },
      "text/plain": [
       "Fitting PCA:   0%|          | 0/54 [00:00<?, ?it/s]"
      ]
     },
     "metadata": {},
     "output_type": "display_data"
    },
    {
     "data": {
      "application/vnd.jupyter.widget-view+json": {
       "model_id": "a0cda62a27bd4055b17138491d7d4f6b",
       "version_major": 2,
       "version_minor": 0
      },
      "text/plain": [
       "Projecting waveforms:   0%|          | 0/54 [00:00<?, ?it/s]"
      ]
     },
     "metadata": {},
     "output_type": "display_data"
    },
    {
     "name": "stderr",
     "output_type": "stream",
     "text": [
      "/home/xinhez/miniconda3/envs/si-0.98.2/lib/python3.8/site-packages/spikeinterface/qualitymetrics/quality_metric_calculator.py:97: UserWarning: Units [ 2  3  5  7 10 16 27 44] are empty. Quality metrcs will be set to NaN for these units.\n",
      " To remove empty units, use `sorting.remove_empty_units()`.\n",
      "  warnings.warn(\n"
     ]
    },
    {
     "data": {
      "application/vnd.jupyter.widget-view+json": {
       "model_id": "c8c435063bd747f08075dec03f5a6f30",
       "version_major": 2,
       "version_minor": 0
      },
      "text/plain": [
       "Computing PCA metrics:   0%|          | 0/46 [00:00<?, ?it/s]"
      ]
     },
     "metadata": {},
     "output_type": "display_data"
    },
    {
     "name": "stderr",
     "output_type": "stream",
     "text": [
      "/home/xinhez/miniconda3/envs/si-0.98.2/lib/python3.8/site-packages/spikeinterface/qualitymetrics/pca_metrics.py:229: RuntimeWarning: Degrees of freedom <= 0 for slice\n",
      "  VI = np.linalg.inv(np.cov(pcs_for_this_unit.T))\n",
      "/home/xinhez/miniconda3/envs/si-0.98.2/lib/python3.8/site-packages/numpy/lib/function_base.py:2704: RuntimeWarning: divide by zero encountered in divide\n",
      "  c *= np.true_divide(1, fact)\n",
      "/home/xinhez/miniconda3/envs/si-0.98.2/lib/python3.8/site-packages/numpy/lib/function_base.py:2704: RuntimeWarning: invalid value encountered in multiply\n",
      "  c *= np.true_divide(1, fact)\n",
      "/home/xinhez/miniconda3/envs/si-0.98.2/lib/python3.8/site-packages/spikeinterface/postprocessing/template_metrics.py:223: RuntimeWarning: invalid value encountered in float_scalars\n",
      "  ptratio = template[peak_idx] / template[trough_idx]\n"
     ]
    },
    {
     "data": {
      "application/vnd.jupyter.widget-view+json": {
       "model_id": "ba6addfa85444d069f909e36a5fd5492",
       "version_major": 2,
       "version_minor": 0
      },
      "text/plain": [
       "Fitting PCA:   0%|          | 0/54 [00:00<?, ?it/s]"
      ]
     },
     "metadata": {},
     "output_type": "display_data"
    },
    {
     "data": {
      "application/vnd.jupyter.widget-view+json": {
       "model_id": "10d94821f26b4174b5648f76f9bba8ce",
       "version_major": 2,
       "version_minor": 0
      },
      "text/plain": [
       "Projecting waveforms:   0%|          | 0/54 [00:00<?, ?it/s]"
      ]
     },
     "metadata": {},
     "output_type": "display_data"
    },
    {
     "name": "stderr",
     "output_type": "stream",
     "text": [
      "/home/xinhez/miniconda3/envs/si-0.98.2/lib/python3.8/site-packages/spikeinterface/qualitymetrics/quality_metric_calculator.py:97: UserWarning: Units [ 2  3  5  7  9 16 27 28 30 37 38 42 45] are empty. Quality metrcs will be set to NaN for these units.\n",
      " To remove empty units, use `sorting.remove_empty_units()`.\n",
      "  warnings.warn(\n"
     ]
    },
    {
     "data": {
      "application/vnd.jupyter.widget-view+json": {
       "model_id": "b826fa089ab24a898f7470f9b5152e28",
       "version_major": 2,
       "version_minor": 0
      },
      "text/plain": [
       "Computing PCA metrics:   0%|          | 0/41 [00:00<?, ?it/s]"
      ]
     },
     "metadata": {},
     "output_type": "display_data"
    },
    {
     "name": "stderr",
     "output_type": "stream",
     "text": [
      "/home/xinhez/miniconda3/envs/si-0.98.2/lib/python3.8/site-packages/spikeinterface/qualitymetrics/pca_metrics.py:229: RuntimeWarning: Degrees of freedom <= 0 for slice\n",
      "  VI = np.linalg.inv(np.cov(pcs_for_this_unit.T))\n",
      "/home/xinhez/miniconda3/envs/si-0.98.2/lib/python3.8/site-packages/numpy/lib/function_base.py:2704: RuntimeWarning: divide by zero encountered in divide\n",
      "  c *= np.true_divide(1, fact)\n",
      "/home/xinhez/miniconda3/envs/si-0.98.2/lib/python3.8/site-packages/numpy/lib/function_base.py:2704: RuntimeWarning: invalid value encountered in multiply\n",
      "  c *= np.true_divide(1, fact)\n",
      "/home/xinhez/miniconda3/envs/si-0.98.2/lib/python3.8/site-packages/spikeinterface/postprocessing/template_metrics.py:223: RuntimeWarning: invalid value encountered in float_scalars\n",
      "  ptratio = template[peak_idx] / template[trough_idx]\n"
     ]
    },
    {
     "data": {
      "application/vnd.jupyter.widget-view+json": {
       "model_id": "83ae18b1f7054a19a09ee06cd1888e1b",
       "version_major": 2,
       "version_minor": 0
      },
      "text/plain": [
       "Fitting PCA:   0%|          | 0/54 [00:00<?, ?it/s]"
      ]
     },
     "metadata": {},
     "output_type": "display_data"
    },
    {
     "data": {
      "application/vnd.jupyter.widget-view+json": {
       "model_id": "5a4eceeb134e48df99f52ad4ee7e97dc",
       "version_major": 2,
       "version_minor": 0
      },
      "text/plain": [
       "Projecting waveforms:   0%|          | 0/54 [00:00<?, ?it/s]"
      ]
     },
     "metadata": {},
     "output_type": "display_data"
    },
    {
     "name": "stderr",
     "output_type": "stream",
     "text": [
      "/home/xinhez/miniconda3/envs/si-0.98.2/lib/python3.8/site-packages/spikeinterface/qualitymetrics/quality_metric_calculator.py:97: UserWarning: Units [ 2  3  5  6  8  9 10 16 27 28 44 47 49 51 52] are empty. Quality metrcs will be set to NaN for these units.\n",
      " To remove empty units, use `sorting.remove_empty_units()`.\n",
      "  warnings.warn(\n"
     ]
    },
    {
     "data": {
      "application/vnd.jupyter.widget-view+json": {
       "model_id": "ef870093cd454b40b1803dfcb79800f1",
       "version_major": 2,
       "version_minor": 0
      },
      "text/plain": [
       "Computing PCA metrics:   0%|          | 0/39 [00:00<?, ?it/s]"
      ]
     },
     "metadata": {},
     "output_type": "display_data"
    },
    {
     "name": "stderr",
     "output_type": "stream",
     "text": [
      "/home/xinhez/miniconda3/envs/si-0.98.2/lib/python3.8/site-packages/spikeinterface/qualitymetrics/pca_metrics.py:229: RuntimeWarning: Degrees of freedom <= 0 for slice\n",
      "  VI = np.linalg.inv(np.cov(pcs_for_this_unit.T))\n",
      "/home/xinhez/miniconda3/envs/si-0.98.2/lib/python3.8/site-packages/numpy/lib/function_base.py:2704: RuntimeWarning: divide by zero encountered in divide\n",
      "  c *= np.true_divide(1, fact)\n",
      "/home/xinhez/miniconda3/envs/si-0.98.2/lib/python3.8/site-packages/numpy/lib/function_base.py:2704: RuntimeWarning: invalid value encountered in multiply\n",
      "  c *= np.true_divide(1, fact)\n",
      "/home/xinhez/miniconda3/envs/si-0.98.2/lib/python3.8/site-packages/spikeinterface/postprocessing/template_metrics.py:223: RuntimeWarning: invalid value encountered in float_scalars\n",
      "  ptratio = template[peak_idx] / template[trough_idx]\n"
     ]
    },
    {
     "data": {
      "application/vnd.jupyter.widget-view+json": {
       "model_id": "a5e4f35aff3b4e378e84699434da35d1",
       "version_major": 2,
       "version_minor": 0
      },
      "text/plain": [
       "Fitting PCA:   0%|          | 0/54 [00:00<?, ?it/s]"
      ]
     },
     "metadata": {},
     "output_type": "display_data"
    },
    {
     "data": {
      "application/vnd.jupyter.widget-view+json": {
       "model_id": "c46379ea620f466988776b456c273123",
       "version_major": 2,
       "version_minor": 0
      },
      "text/plain": [
       "Projecting waveforms:   0%|          | 0/54 [00:00<?, ?it/s]"
      ]
     },
     "metadata": {},
     "output_type": "display_data"
    },
    {
     "name": "stderr",
     "output_type": "stream",
     "text": [
      "/home/xinhez/miniconda3/envs/si-0.98.2/lib/python3.8/site-packages/spikeinterface/qualitymetrics/quality_metric_calculator.py:97: UserWarning: Units [ 2  3  5  7  9 16 27 28 36 37 38 44 45] are empty. Quality metrcs will be set to NaN for these units.\n",
      " To remove empty units, use `sorting.remove_empty_units()`.\n",
      "  warnings.warn(\n"
     ]
    },
    {
     "data": {
      "application/vnd.jupyter.widget-view+json": {
       "model_id": "25d6d40e17264f4cb0ecc75aa1fd537b",
       "version_major": 2,
       "version_minor": 0
      },
      "text/plain": [
       "Computing PCA metrics:   0%|          | 0/41 [00:00<?, ?it/s]"
      ]
     },
     "metadata": {},
     "output_type": "display_data"
    },
    {
     "name": "stderr",
     "output_type": "stream",
     "text": [
      "/home/xinhez/miniconda3/envs/si-0.98.2/lib/python3.8/site-packages/spikeinterface/postprocessing/template_metrics.py:223: RuntimeWarning: invalid value encountered in float_scalars\n",
      "  ptratio = template[peak_idx] / template[trough_idx]\n"
     ]
    },
    {
     "data": {
      "application/vnd.jupyter.widget-view+json": {
       "model_id": "d178084375104eb398aaea8fc8548a35",
       "version_major": 2,
       "version_minor": 0
      },
      "text/plain": [
       "Fitting PCA:   0%|          | 0/41 [00:00<?, ?it/s]"
      ]
     },
     "metadata": {},
     "output_type": "display_data"
    },
    {
     "data": {
      "application/vnd.jupyter.widget-view+json": {
       "model_id": "c5ac851696a046339e9eebd985ec5f28",
       "version_major": 2,
       "version_minor": 0
      },
      "text/plain": [
       "Projecting waveforms:   0%|          | 0/41 [00:00<?, ?it/s]"
      ]
     },
     "metadata": {},
     "output_type": "display_data"
    },
    {
     "name": "stderr",
     "output_type": "stream",
     "text": [
      "/home/xinhez/miniconda3/envs/si-0.98.2/lib/python3.8/site-packages/spikeinterface/qualitymetrics/quality_metric_calculator.py:97: UserWarning: Units [ 4  6 12 13 14 15 16 17 18 20 21 24 25 27 30 33 39 40 41] are empty. Quality metrcs will be set to NaN for these units.\n",
      " To remove empty units, use `sorting.remove_empty_units()`.\n",
      "  warnings.warn(\n"
     ]
    },
    {
     "data": {
      "application/vnd.jupyter.widget-view+json": {
       "model_id": "8c3227df3a364e689bfa5c9d473ad7aa",
       "version_major": 2,
       "version_minor": 0
      },
      "text/plain": [
       "Computing PCA metrics:   0%|          | 0/22 [00:00<?, ?it/s]"
      ]
     },
     "metadata": {},
     "output_type": "display_data"
    },
    {
     "name": "stderr",
     "output_type": "stream",
     "text": [
      "/home/xinhez/miniconda3/envs/si-0.98.2/lib/python3.8/site-packages/spikeinterface/qualitymetrics/pca_metrics.py:229: RuntimeWarning: Degrees of freedom <= 0 for slice\n",
      "  VI = np.linalg.inv(np.cov(pcs_for_this_unit.T))\n",
      "/home/xinhez/miniconda3/envs/si-0.98.2/lib/python3.8/site-packages/numpy/lib/function_base.py:2704: RuntimeWarning: divide by zero encountered in divide\n",
      "  c *= np.true_divide(1, fact)\n",
      "/home/xinhez/miniconda3/envs/si-0.98.2/lib/python3.8/site-packages/numpy/lib/function_base.py:2704: RuntimeWarning: invalid value encountered in multiply\n",
      "  c *= np.true_divide(1, fact)\n",
      "/home/xinhez/miniconda3/envs/si-0.98.2/lib/python3.8/site-packages/spikeinterface/postprocessing/template_metrics.py:223: RuntimeWarning: invalid value encountered in float_scalars\n",
      "  ptratio = template[peak_idx] / template[trough_idx]\n"
     ]
    },
    {
     "data": {
      "application/vnd.jupyter.widget-view+json": {
       "model_id": "66a7a4880e854cbdb805d6d5029c8903",
       "version_major": 2,
       "version_minor": 0
      },
      "text/plain": [
       "Fitting PCA:   0%|          | 0/41 [00:00<?, ?it/s]"
      ]
     },
     "metadata": {},
     "output_type": "display_data"
    },
    {
     "data": {
      "application/vnd.jupyter.widget-view+json": {
       "model_id": "be45358faff7475cade2a4cd3b7b93a8",
       "version_major": 2,
       "version_minor": 0
      },
      "text/plain": [
       "Projecting waveforms:   0%|          | 0/41 [00:00<?, ?it/s]"
      ]
     },
     "metadata": {},
     "output_type": "display_data"
    },
    {
     "name": "stderr",
     "output_type": "stream",
     "text": [
      "/home/xinhez/miniconda3/envs/si-0.98.2/lib/python3.8/site-packages/spikeinterface/qualitymetrics/quality_metric_calculator.py:97: UserWarning: Units [ 3  4  6  7 13 14 15 16 17 18 19 20 21 22 23 25 26 27 29 33 34 35 36 37\n",
      " 39 40 41] are empty. Quality metrcs will be set to NaN for these units.\n",
      " To remove empty units, use `sorting.remove_empty_units()`.\n",
      "  warnings.warn(\n"
     ]
    },
    {
     "data": {
      "application/vnd.jupyter.widget-view+json": {
       "model_id": "a7f7694f281c4f1096cde41dad4684cd",
       "version_major": 2,
       "version_minor": 0
      },
      "text/plain": [
       "Computing PCA metrics:   0%|          | 0/14 [00:00<?, ?it/s]"
      ]
     },
     "metadata": {},
     "output_type": "display_data"
    },
    {
     "name": "stderr",
     "output_type": "stream",
     "text": [
      "/home/xinhez/miniconda3/envs/si-0.98.2/lib/python3.8/site-packages/spikeinterface/qualitymetrics/pca_metrics.py:229: RuntimeWarning: Degrees of freedom <= 0 for slice\n",
      "  VI = np.linalg.inv(np.cov(pcs_for_this_unit.T))\n",
      "/home/xinhez/miniconda3/envs/si-0.98.2/lib/python3.8/site-packages/numpy/lib/function_base.py:2704: RuntimeWarning: divide by zero encountered in divide\n",
      "  c *= np.true_divide(1, fact)\n",
      "/home/xinhez/miniconda3/envs/si-0.98.2/lib/python3.8/site-packages/numpy/lib/function_base.py:2704: RuntimeWarning: invalid value encountered in multiply\n",
      "  c *= np.true_divide(1, fact)\n",
      "/home/xinhez/miniconda3/envs/si-0.98.2/lib/python3.8/site-packages/spikeinterface/postprocessing/template_metrics.py:223: RuntimeWarning: invalid value encountered in float_scalars\n",
      "  ptratio = template[peak_idx] / template[trough_idx]\n",
      "/home/xinhez/miniconda3/envs/si-0.98.2/lib/python3.8/site-packages/scipy/stats/_stats_mstats_common.py:182: RuntimeWarning: invalid value encountered in double_scalars\n",
      "  slope = ssxym / ssxm\n",
      "/home/xinhez/miniconda3/envs/si-0.98.2/lib/python3.8/site-packages/scipy/stats/_stats_mstats_common.py:196: RuntimeWarning: invalid value encountered in sqrt\n",
      "  t = r * np.sqrt(df / ((1.0 - r + TINY)*(1.0 + r + TINY)))\n",
      "/home/xinhez/miniconda3/envs/si-0.98.2/lib/python3.8/site-packages/scipy/stats/_stats_mstats_common.py:199: RuntimeWarning: invalid value encountered in double_scalars\n",
      "  slope_stderr = np.sqrt((1 - r**2) * ssym / ssxm / df)\n"
     ]
    },
    {
     "data": {
      "application/vnd.jupyter.widget-view+json": {
       "model_id": "4dddf40e95c74006b6164b14223cccee",
       "version_major": 2,
       "version_minor": 0
      },
      "text/plain": [
       "Fitting PCA:   0%|          | 0/41 [00:00<?, ?it/s]"
      ]
     },
     "metadata": {},
     "output_type": "display_data"
    },
    {
     "data": {
      "application/vnd.jupyter.widget-view+json": {
       "model_id": "54cca1b69e8541a9b649eaa60811dd46",
       "version_major": 2,
       "version_minor": 0
      },
      "text/plain": [
       "Projecting waveforms:   0%|          | 0/41 [00:00<?, ?it/s]"
      ]
     },
     "metadata": {},
     "output_type": "display_data"
    },
    {
     "name": "stderr",
     "output_type": "stream",
     "text": [
      "/home/xinhez/miniconda3/envs/si-0.98.2/lib/python3.8/site-packages/spikeinterface/qualitymetrics/quality_metric_calculator.py:97: UserWarning: Units [ 2  4  5  6  7  8  9 11 12 13 14 15 16 17 18 20 22 25 27 31 33 38 39 40\n",
      " 41] are empty. Quality metrcs will be set to NaN for these units.\n",
      " To remove empty units, use `sorting.remove_empty_units()`.\n",
      "  warnings.warn(\n"
     ]
    },
    {
     "data": {
      "application/vnd.jupyter.widget-view+json": {
       "model_id": "6f98a0da022845a5bb05d4ba271b8a82",
       "version_major": 2,
       "version_minor": 0
      },
      "text/plain": [
       "Computing PCA metrics:   0%|          | 0/16 [00:00<?, ?it/s]"
      ]
     },
     "metadata": {},
     "output_type": "display_data"
    },
    {
     "name": "stderr",
     "output_type": "stream",
     "text": [
      "/home/xinhez/miniconda3/envs/si-0.98.2/lib/python3.8/site-packages/spikeinterface/qualitymetrics/pca_metrics.py:229: RuntimeWarning: Degrees of freedom <= 0 for slice\n",
      "  VI = np.linalg.inv(np.cov(pcs_for_this_unit.T))\n",
      "/home/xinhez/miniconda3/envs/si-0.98.2/lib/python3.8/site-packages/numpy/lib/function_base.py:2704: RuntimeWarning: divide by zero encountered in divide\n",
      "  c *= np.true_divide(1, fact)\n",
      "/home/xinhez/miniconda3/envs/si-0.98.2/lib/python3.8/site-packages/numpy/lib/function_base.py:2704: RuntimeWarning: invalid value encountered in multiply\n",
      "  c *= np.true_divide(1, fact)\n",
      "/home/xinhez/miniconda3/envs/si-0.98.2/lib/python3.8/site-packages/spikeinterface/postprocessing/template_metrics.py:223: RuntimeWarning: invalid value encountered in float_scalars\n",
      "  ptratio = template[peak_idx] / template[trough_idx]\n",
      "/home/xinhez/miniconda3/envs/si-0.98.2/lib/python3.8/site-packages/scipy/stats/_stats_mstats_common.py:182: RuntimeWarning: invalid value encountered in double_scalars\n",
      "  slope = ssxym / ssxm\n",
      "/home/xinhez/miniconda3/envs/si-0.98.2/lib/python3.8/site-packages/scipy/stats/_stats_mstats_common.py:196: RuntimeWarning: invalid value encountered in sqrt\n",
      "  t = r * np.sqrt(df / ((1.0 - r + TINY)*(1.0 + r + TINY)))\n",
      "/home/xinhez/miniconda3/envs/si-0.98.2/lib/python3.8/site-packages/scipy/stats/_stats_mstats_common.py:199: RuntimeWarning: invalid value encountered in double_scalars\n",
      "  slope_stderr = np.sqrt((1 - r**2) * ssym / ssxm / df)\n"
     ]
    },
    {
     "data": {
      "application/vnd.jupyter.widget-view+json": {
       "model_id": "ccaeb0ed9b0148739220fbb24df51212",
       "version_major": 2,
       "version_minor": 0
      },
      "text/plain": [
       "Fitting PCA:   0%|          | 0/41 [00:00<?, ?it/s]"
      ]
     },
     "metadata": {},
     "output_type": "display_data"
    },
    {
     "data": {
      "application/vnd.jupyter.widget-view+json": {
       "model_id": "6934f600f7ff472fb76c7f3432301fd9",
       "version_major": 2,
       "version_minor": 0
      },
      "text/plain": [
       "Projecting waveforms:   0%|          | 0/41 [00:00<?, ?it/s]"
      ]
     },
     "metadata": {},
     "output_type": "display_data"
    },
    {
     "name": "stderr",
     "output_type": "stream",
     "text": [
      "/home/xinhez/miniconda3/envs/si-0.98.2/lib/python3.8/site-packages/spikeinterface/qualitymetrics/quality_metric_calculator.py:97: UserWarning: Units [ 5  8 10 11 35 36 37] are empty. Quality metrcs will be set to NaN for these units.\n",
      " To remove empty units, use `sorting.remove_empty_units()`.\n",
      "  warnings.warn(\n"
     ]
    },
    {
     "data": {
      "application/vnd.jupyter.widget-view+json": {
       "model_id": "c7b9b7b0cf98490697b950286840cce0",
       "version_major": 2,
       "version_minor": 0
      },
      "text/plain": [
       "Computing PCA metrics:   0%|          | 0/34 [00:00<?, ?it/s]"
      ]
     },
     "metadata": {},
     "output_type": "display_data"
    },
    {
     "name": "stderr",
     "output_type": "stream",
     "text": [
      "/home/xinhez/miniconda3/envs/si-0.98.2/lib/python3.8/site-packages/spikeinterface/qualitymetrics/pca_metrics.py:229: RuntimeWarning: Degrees of freedom <= 0 for slice\n",
      "  VI = np.linalg.inv(np.cov(pcs_for_this_unit.T))\n",
      "/home/xinhez/miniconda3/envs/si-0.98.2/lib/python3.8/site-packages/numpy/lib/function_base.py:2704: RuntimeWarning: divide by zero encountered in divide\n",
      "  c *= np.true_divide(1, fact)\n",
      "/home/xinhez/miniconda3/envs/si-0.98.2/lib/python3.8/site-packages/numpy/lib/function_base.py:2704: RuntimeWarning: invalid value encountered in multiply\n",
      "  c *= np.true_divide(1, fact)\n",
      "/home/xinhez/miniconda3/envs/si-0.98.2/lib/python3.8/site-packages/spikeinterface/postprocessing/template_metrics.py:223: RuntimeWarning: invalid value encountered in float_scalars\n",
      "  ptratio = template[peak_idx] / template[trough_idx]\n"
     ]
    },
    {
     "data": {
      "application/vnd.jupyter.widget-view+json": {
       "model_id": "3c06f54b40c94810a93435c416c0ca3c",
       "version_major": 2,
       "version_minor": 0
      },
      "text/plain": [
       "Fitting PCA:   0%|          | 0/41 [00:00<?, ?it/s]"
      ]
     },
     "metadata": {},
     "output_type": "display_data"
    },
    {
     "data": {
      "application/vnd.jupyter.widget-view+json": {
       "model_id": "6fcf5a21756a441ca31c03101216d5f1",
       "version_major": 2,
       "version_minor": 0
      },
      "text/plain": [
       "Projecting waveforms:   0%|          | 0/41 [00:00<?, ?it/s]"
      ]
     },
     "metadata": {},
     "output_type": "display_data"
    },
    {
     "name": "stderr",
     "output_type": "stream",
     "text": [
      "/home/xinhez/miniconda3/envs/si-0.98.2/lib/python3.8/site-packages/spikeinterface/qualitymetrics/quality_metric_calculator.py:97: UserWarning: Units [ 2  5  6  7  8  9 12 13 14 15 17 18 20 21 22 23 25 26 27 38 39 40 41] are empty. Quality metrcs will be set to NaN for these units.\n",
      " To remove empty units, use `sorting.remove_empty_units()`.\n",
      "  warnings.warn(\n"
     ]
    },
    {
     "data": {
      "application/vnd.jupyter.widget-view+json": {
       "model_id": "aae9303e7501457bb115fb4c1121fe86",
       "version_major": 2,
       "version_minor": 0
      },
      "text/plain": [
       "Computing PCA metrics:   0%|          | 0/18 [00:00<?, ?it/s]"
      ]
     },
     "metadata": {},
     "output_type": "display_data"
    },
    {
     "name": "stderr",
     "output_type": "stream",
     "text": [
      "/home/xinhez/miniconda3/envs/si-0.98.2/lib/python3.8/site-packages/spikeinterface/qualitymetrics/pca_metrics.py:229: RuntimeWarning: Degrees of freedom <= 0 for slice\n",
      "  VI = np.linalg.inv(np.cov(pcs_for_this_unit.T))\n",
      "/home/xinhez/miniconda3/envs/si-0.98.2/lib/python3.8/site-packages/numpy/lib/function_base.py:2704: RuntimeWarning: divide by zero encountered in divide\n",
      "  c *= np.true_divide(1, fact)\n",
      "/home/xinhez/miniconda3/envs/si-0.98.2/lib/python3.8/site-packages/numpy/lib/function_base.py:2704: RuntimeWarning: invalid value encountered in multiply\n",
      "  c *= np.true_divide(1, fact)\n",
      "/home/xinhez/miniconda3/envs/si-0.98.2/lib/python3.8/site-packages/spikeinterface/postprocessing/template_metrics.py:223: RuntimeWarning: invalid value encountered in float_scalars\n",
      "  ptratio = template[peak_idx] / template[trough_idx]\n"
     ]
    },
    {
     "data": {
      "application/vnd.jupyter.widget-view+json": {
       "model_id": "5552882ba10e49aab3c4952f2b7dad37",
       "version_major": 2,
       "version_minor": 0
      },
      "text/plain": [
       "Fitting PCA:   0%|          | 0/42 [00:00<?, ?it/s]"
      ]
     },
     "metadata": {},
     "output_type": "display_data"
    },
    {
     "data": {
      "application/vnd.jupyter.widget-view+json": {
       "model_id": "2d6ea7264b27469b85d8739ed4200030",
       "version_major": 2,
       "version_minor": 0
      },
      "text/plain": [
       "Projecting waveforms:   0%|          | 0/42 [00:00<?, ?it/s]"
      ]
     },
     "metadata": {},
     "output_type": "display_data"
    },
    {
     "name": "stderr",
     "output_type": "stream",
     "text": [
      "/home/xinhez/miniconda3/envs/si-0.98.2/lib/python3.8/site-packages/spikeinterface/qualitymetrics/quality_metric_calculator.py:97: UserWarning: Units [ 1  2  3  6  8 12 14 16 17 18 19 20 22 23 24 26 28 30 32 37 38 39] are empty. Quality metrcs will be set to NaN for these units.\n",
      " To remove empty units, use `sorting.remove_empty_units()`.\n",
      "  warnings.warn(\n"
     ]
    },
    {
     "data": {
      "application/vnd.jupyter.widget-view+json": {
       "model_id": "1f3e08f35c354a25853df8b9d46351c5",
       "version_major": 2,
       "version_minor": 0
      },
      "text/plain": [
       "Computing PCA metrics:   0%|          | 0/20 [00:00<?, ?it/s]"
      ]
     },
     "metadata": {},
     "output_type": "display_data"
    },
    {
     "name": "stderr",
     "output_type": "stream",
     "text": [
      "/home/xinhez/miniconda3/envs/si-0.98.2/lib/python3.8/site-packages/spikeinterface/qualitymetrics/pca_metrics.py:229: RuntimeWarning: Degrees of freedom <= 0 for slice\n",
      "  VI = np.linalg.inv(np.cov(pcs_for_this_unit.T))\n",
      "/home/xinhez/miniconda3/envs/si-0.98.2/lib/python3.8/site-packages/numpy/lib/function_base.py:2704: RuntimeWarning: divide by zero encountered in divide\n",
      "  c *= np.true_divide(1, fact)\n",
      "/home/xinhez/miniconda3/envs/si-0.98.2/lib/python3.8/site-packages/numpy/lib/function_base.py:2704: RuntimeWarning: invalid value encountered in multiply\n",
      "  c *= np.true_divide(1, fact)\n",
      "/home/xinhez/miniconda3/envs/si-0.98.2/lib/python3.8/site-packages/spikeinterface/postprocessing/template_metrics.py:223: RuntimeWarning: invalid value encountered in float_scalars\n",
      "  ptratio = template[peak_idx] / template[trough_idx]\n"
     ]
    },
    {
     "data": {
      "application/vnd.jupyter.widget-view+json": {
       "model_id": "67dbceb1108244b1b1f636436201d715",
       "version_major": 2,
       "version_minor": 0
      },
      "text/plain": [
       "Fitting PCA:   0%|          | 0/42 [00:00<?, ?it/s]"
      ]
     },
     "metadata": {},
     "output_type": "display_data"
    },
    {
     "data": {
      "application/vnd.jupyter.widget-view+json": {
       "model_id": "dad8cc9e49f7472a858191aa26d484a3",
       "version_major": 2,
       "version_minor": 0
      },
      "text/plain": [
       "Projecting waveforms:   0%|          | 0/42 [00:00<?, ?it/s]"
      ]
     },
     "metadata": {},
     "output_type": "display_data"
    },
    {
     "name": "stderr",
     "output_type": "stream",
     "text": [
      "/home/xinhez/miniconda3/envs/si-0.98.2/lib/python3.8/site-packages/spikeinterface/qualitymetrics/quality_metric_calculator.py:97: UserWarning: Units [ 1  2  3  4  6  9 12 14 15 16 18 19 20 22 23 24 26 28 30 35 39 42] are empty. Quality metrcs will be set to NaN for these units.\n",
      " To remove empty units, use `sorting.remove_empty_units()`.\n",
      "  warnings.warn(\n"
     ]
    },
    {
     "data": {
      "application/vnd.jupyter.widget-view+json": {
       "model_id": "e93ae0e0aded4b5d928aa1e756028fe0",
       "version_major": 2,
       "version_minor": 0
      },
      "text/plain": [
       "Computing PCA metrics:   0%|          | 0/20 [00:00<?, ?it/s]"
      ]
     },
     "metadata": {},
     "output_type": "display_data"
    },
    {
     "name": "stderr",
     "output_type": "stream",
     "text": [
      "/home/xinhez/miniconda3/envs/si-0.98.2/lib/python3.8/site-packages/spikeinterface/qualitymetrics/pca_metrics.py:229: RuntimeWarning: Degrees of freedom <= 0 for slice\n",
      "  VI = np.linalg.inv(np.cov(pcs_for_this_unit.T))\n",
      "/home/xinhez/miniconda3/envs/si-0.98.2/lib/python3.8/site-packages/numpy/lib/function_base.py:2704: RuntimeWarning: divide by zero encountered in divide\n",
      "  c *= np.true_divide(1, fact)\n",
      "/home/xinhez/miniconda3/envs/si-0.98.2/lib/python3.8/site-packages/numpy/lib/function_base.py:2704: RuntimeWarning: invalid value encountered in multiply\n",
      "  c *= np.true_divide(1, fact)\n",
      "/home/xinhez/miniconda3/envs/si-0.98.2/lib/python3.8/site-packages/spikeinterface/postprocessing/template_metrics.py:223: RuntimeWarning: invalid value encountered in float_scalars\n",
      "  ptratio = template[peak_idx] / template[trough_idx]\n"
     ]
    },
    {
     "data": {
      "application/vnd.jupyter.widget-view+json": {
       "model_id": "5640d9db93a9439c9b0cadd20ac07540",
       "version_major": 2,
       "version_minor": 0
      },
      "text/plain": [
       "Fitting PCA:   0%|          | 0/41 [00:00<?, ?it/s]"
      ]
     },
     "metadata": {},
     "output_type": "display_data"
    },
    {
     "data": {
      "application/vnd.jupyter.widget-view+json": {
       "model_id": "e8155fafe93245a2ba9859ed701361df",
       "version_major": 2,
       "version_minor": 0
      },
      "text/plain": [
       "Projecting waveforms:   0%|          | 0/41 [00:00<?, ?it/s]"
      ]
     },
     "metadata": {},
     "output_type": "display_data"
    },
    {
     "name": "stderr",
     "output_type": "stream",
     "text": [
      "/home/xinhez/miniconda3/envs/si-0.98.2/lib/python3.8/site-packages/spikeinterface/qualitymetrics/quality_metric_calculator.py:97: UserWarning: Units [ 2  3  7  8  9 10 11 12 14 15 16 17 18 19 21 25 27 29 30 33 35 36 40 41] are empty. Quality metrcs will be set to NaN for these units.\n",
      " To remove empty units, use `sorting.remove_empty_units()`.\n",
      "  warnings.warn(\n"
     ]
    },
    {
     "data": {
      "application/vnd.jupyter.widget-view+json": {
       "model_id": "d310f8f483b14b53a68a074fc3d7d421",
       "version_major": 2,
       "version_minor": 0
      },
      "text/plain": [
       "Computing PCA metrics:   0%|          | 0/17 [00:00<?, ?it/s]"
      ]
     },
     "metadata": {},
     "output_type": "display_data"
    },
    {
     "name": "stderr",
     "output_type": "stream",
     "text": [
      "/home/xinhez/miniconda3/envs/si-0.98.2/lib/python3.8/site-packages/spikeinterface/qualitymetrics/pca_metrics.py:229: RuntimeWarning: Degrees of freedom <= 0 for slice\n",
      "  VI = np.linalg.inv(np.cov(pcs_for_this_unit.T))\n",
      "/home/xinhez/miniconda3/envs/si-0.98.2/lib/python3.8/site-packages/numpy/lib/function_base.py:2704: RuntimeWarning: divide by zero encountered in divide\n",
      "  c *= np.true_divide(1, fact)\n",
      "/home/xinhez/miniconda3/envs/si-0.98.2/lib/python3.8/site-packages/numpy/lib/function_base.py:2704: RuntimeWarning: invalid value encountered in multiply\n",
      "  c *= np.true_divide(1, fact)\n",
      "/home/xinhez/miniconda3/envs/si-0.98.2/lib/python3.8/site-packages/spikeinterface/postprocessing/template_metrics.py:223: RuntimeWarning: invalid value encountered in float_scalars\n",
      "  ptratio = template[peak_idx] / template[trough_idx]\n",
      "/home/xinhez/miniconda3/envs/si-0.98.2/lib/python3.8/site-packages/scipy/stats/_stats_mstats_common.py:182: RuntimeWarning: invalid value encountered in double_scalars\n",
      "  slope = ssxym / ssxm\n",
      "/home/xinhez/miniconda3/envs/si-0.98.2/lib/python3.8/site-packages/scipy/stats/_stats_mstats_common.py:196: RuntimeWarning: invalid value encountered in sqrt\n",
      "  t = r * np.sqrt(df / ((1.0 - r + TINY)*(1.0 + r + TINY)))\n",
      "/home/xinhez/miniconda3/envs/si-0.98.2/lib/python3.8/site-packages/scipy/stats/_stats_mstats_common.py:199: RuntimeWarning: invalid value encountered in double_scalars\n",
      "  slope_stderr = np.sqrt((1 - r**2) * ssym / ssxm / df)\n"
     ]
    },
    {
     "data": {
      "application/vnd.jupyter.widget-view+json": {
       "model_id": "e8bba981dabb4248b7223b9b1cff2415",
       "version_major": 2,
       "version_minor": 0
      },
      "text/plain": [
       "Fitting PCA:   0%|          | 0/41 [00:00<?, ?it/s]"
      ]
     },
     "metadata": {},
     "output_type": "display_data"
    },
    {
     "data": {
      "application/vnd.jupyter.widget-view+json": {
       "model_id": "c670a336ddd14ca5973af6ede4891c63",
       "version_major": 2,
       "version_minor": 0
      },
      "text/plain": [
       "Projecting waveforms:   0%|          | 0/41 [00:00<?, ?it/s]"
      ]
     },
     "metadata": {},
     "output_type": "display_data"
    },
    {
     "name": "stderr",
     "output_type": "stream",
     "text": [
      "/home/xinhez/miniconda3/envs/si-0.98.2/lib/python3.8/site-packages/spikeinterface/qualitymetrics/quality_metric_calculator.py:97: UserWarning: Units [ 2  3  6  9 10 13 14 15 16 17 18 19 21 23 24 25 27 28 30 33 36 37 40 41] are empty. Quality metrcs will be set to NaN for these units.\n",
      " To remove empty units, use `sorting.remove_empty_units()`.\n",
      "  warnings.warn(\n"
     ]
    },
    {
     "data": {
      "application/vnd.jupyter.widget-view+json": {
       "model_id": "0319b84a03bd4f0fb6c3b35f43ff2009",
       "version_major": 2,
       "version_minor": 0
      },
      "text/plain": [
       "Computing PCA metrics:   0%|          | 0/17 [00:00<?, ?it/s]"
      ]
     },
     "metadata": {},
     "output_type": "display_data"
    },
    {
     "name": "stderr",
     "output_type": "stream",
     "text": [
      "/home/xinhez/miniconda3/envs/si-0.98.2/lib/python3.8/site-packages/spikeinterface/qualitymetrics/pca_metrics.py:229: RuntimeWarning: Degrees of freedom <= 0 for slice\n",
      "  VI = np.linalg.inv(np.cov(pcs_for_this_unit.T))\n",
      "/home/xinhez/miniconda3/envs/si-0.98.2/lib/python3.8/site-packages/numpy/lib/function_base.py:2704: RuntimeWarning: divide by zero encountered in divide\n",
      "  c *= np.true_divide(1, fact)\n",
      "/home/xinhez/miniconda3/envs/si-0.98.2/lib/python3.8/site-packages/numpy/lib/function_base.py:2704: RuntimeWarning: invalid value encountered in multiply\n",
      "  c *= np.true_divide(1, fact)\n",
      "/home/xinhez/miniconda3/envs/si-0.98.2/lib/python3.8/site-packages/spikeinterface/postprocessing/template_metrics.py:223: RuntimeWarning: invalid value encountered in float_scalars\n",
      "  ptratio = template[peak_idx] / template[trough_idx]\n"
     ]
    },
    {
     "data": {
      "application/vnd.jupyter.widget-view+json": {
       "model_id": "0c502f384ce744a5bbfe80631df4e8c6",
       "version_major": 2,
       "version_minor": 0
      },
      "text/plain": [
       "Fitting PCA:   0%|          | 0/34 [00:00<?, ?it/s]"
      ]
     },
     "metadata": {},
     "output_type": "display_data"
    },
    {
     "data": {
      "application/vnd.jupyter.widget-view+json": {
       "model_id": "256f4982ff6146d994cc7ed38b6ce109",
       "version_major": 2,
       "version_minor": 0
      },
      "text/plain": [
       "Projecting waveforms:   0%|          | 0/34 [00:00<?, ?it/s]"
      ]
     },
     "metadata": {},
     "output_type": "display_data"
    },
    {
     "name": "stderr",
     "output_type": "stream",
     "text": [
      "/home/xinhez/miniconda3/envs/si-0.98.2/lib/python3.8/site-packages/spikeinterface/qualitymetrics/quality_metric_calculator.py:97: UserWarning: Units [ 1  2  3  4  8 12 14 16 18 19 21 27 28 30 33] are empty. Quality metrcs will be set to NaN for these units.\n",
      " To remove empty units, use `sorting.remove_empty_units()`.\n",
      "  warnings.warn(\n"
     ]
    },
    {
     "data": {
      "application/vnd.jupyter.widget-view+json": {
       "model_id": "cedb26f8e80c46eaa5f3b6446594218f",
       "version_major": 2,
       "version_minor": 0
      },
      "text/plain": [
       "Computing PCA metrics:   0%|          | 0/19 [00:00<?, ?it/s]"
      ]
     },
     "metadata": {},
     "output_type": "display_data"
    },
    {
     "name": "stderr",
     "output_type": "stream",
     "text": [
      "/home/xinhez/miniconda3/envs/si-0.98.2/lib/python3.8/site-packages/spikeinterface/qualitymetrics/pca_metrics.py:229: RuntimeWarning: Degrees of freedom <= 0 for slice\n",
      "  VI = np.linalg.inv(np.cov(pcs_for_this_unit.T))\n",
      "/home/xinhez/miniconda3/envs/si-0.98.2/lib/python3.8/site-packages/numpy/lib/function_base.py:2704: RuntimeWarning: divide by zero encountered in divide\n",
      "  c *= np.true_divide(1, fact)\n",
      "/home/xinhez/miniconda3/envs/si-0.98.2/lib/python3.8/site-packages/numpy/lib/function_base.py:2704: RuntimeWarning: invalid value encountered in multiply\n",
      "  c *= np.true_divide(1, fact)\n",
      "/home/xinhez/miniconda3/envs/si-0.98.2/lib/python3.8/site-packages/spikeinterface/postprocessing/template_metrics.py:223: RuntimeWarning: invalid value encountered in float_scalars\n",
      "  ptratio = template[peak_idx] / template[trough_idx]\n"
     ]
    },
    {
     "data": {
      "application/vnd.jupyter.widget-view+json": {
       "model_id": "1a5234cb0fd04f45bb8b75feef6693c4",
       "version_major": 2,
       "version_minor": 0
      },
      "text/plain": [
       "Fitting PCA:   0%|          | 0/34 [00:00<?, ?it/s]"
      ]
     },
     "metadata": {},
     "output_type": "display_data"
    },
    {
     "data": {
      "application/vnd.jupyter.widget-view+json": {
       "model_id": "4111e2aa7bfe463785c73fad69ffc1ed",
       "version_major": 2,
       "version_minor": 0
      },
      "text/plain": [
       "Projecting waveforms:   0%|          | 0/34 [00:00<?, ?it/s]"
      ]
     },
     "metadata": {},
     "output_type": "display_data"
    },
    {
     "name": "stderr",
     "output_type": "stream",
     "text": [
      "/home/xinhez/miniconda3/envs/si-0.98.2/lib/python3.8/site-packages/spikeinterface/qualitymetrics/quality_metric_calculator.py:97: UserWarning: Units [ 1  2  3  5 12 14 15 16 18 19 21 22 24 26 27 28 30 31 32 33] are empty. Quality metrcs will be set to NaN for these units.\n",
      " To remove empty units, use `sorting.remove_empty_units()`.\n",
      "  warnings.warn(\n"
     ]
    },
    {
     "data": {
      "application/vnd.jupyter.widget-view+json": {
       "model_id": "57275bd8e92344a98332866400a361e8",
       "version_major": 2,
       "version_minor": 0
      },
      "text/plain": [
       "Computing PCA metrics:   0%|          | 0/14 [00:00<?, ?it/s]"
      ]
     },
     "metadata": {},
     "output_type": "display_data"
    },
    {
     "name": "stderr",
     "output_type": "stream",
     "text": [
      "/home/xinhez/miniconda3/envs/si-0.98.2/lib/python3.8/site-packages/spikeinterface/qualitymetrics/pca_metrics.py:229: RuntimeWarning: Degrees of freedom <= 0 for slice\n",
      "  VI = np.linalg.inv(np.cov(pcs_for_this_unit.T))\n",
      "/home/xinhez/miniconda3/envs/si-0.98.2/lib/python3.8/site-packages/numpy/lib/function_base.py:2704: RuntimeWarning: divide by zero encountered in divide\n",
      "  c *= np.true_divide(1, fact)\n",
      "/home/xinhez/miniconda3/envs/si-0.98.2/lib/python3.8/site-packages/numpy/lib/function_base.py:2704: RuntimeWarning: invalid value encountered in multiply\n",
      "  c *= np.true_divide(1, fact)\n",
      "/home/xinhez/miniconda3/envs/si-0.98.2/lib/python3.8/site-packages/spikeinterface/postprocessing/template_metrics.py:223: RuntimeWarning: invalid value encountered in float_scalars\n",
      "  ptratio = template[peak_idx] / template[trough_idx]\n"
     ]
    },
    {
     "data": {
      "application/vnd.jupyter.widget-view+json": {
       "model_id": "9bfbb6b66dc24ace89c34682ee0c3426",
       "version_major": 2,
       "version_minor": 0
      },
      "text/plain": [
       "Fitting PCA:   0%|          | 0/44 [00:00<?, ?it/s]"
      ]
     },
     "metadata": {},
     "output_type": "display_data"
    },
    {
     "data": {
      "application/vnd.jupyter.widget-view+json": {
       "model_id": "8a3fa9e114e24c1fadb8deccb830acaf",
       "version_major": 2,
       "version_minor": 0
      },
      "text/plain": [
       "Projecting waveforms:   0%|          | 0/44 [00:00<?, ?it/s]"
      ]
     },
     "metadata": {},
     "output_type": "display_data"
    },
    {
     "name": "stderr",
     "output_type": "stream",
     "text": [
      "/home/xinhez/miniconda3/envs/si-0.98.2/lib/python3.8/site-packages/spikeinterface/qualitymetrics/quality_metric_calculator.py:97: UserWarning: Units [ 2  4  6 11 12 19 20 22 24 25 26 28 37 39 43 44] are empty. Quality metrcs will be set to NaN for these units.\n",
      " To remove empty units, use `sorting.remove_empty_units()`.\n",
      "  warnings.warn(\n"
     ]
    },
    {
     "data": {
      "application/vnd.jupyter.widget-view+json": {
       "model_id": "6b94a393c95f4aa9a7f412e711787890",
       "version_major": 2,
       "version_minor": 0
      },
      "text/plain": [
       "Computing PCA metrics:   0%|          | 0/28 [00:00<?, ?it/s]"
      ]
     },
     "metadata": {},
     "output_type": "display_data"
    },
    {
     "name": "stderr",
     "output_type": "stream",
     "text": [
      "/home/xinhez/miniconda3/envs/si-0.98.2/lib/python3.8/site-packages/spikeinterface/qualitymetrics/pca_metrics.py:229: RuntimeWarning: Degrees of freedom <= 0 for slice\n",
      "  VI = np.linalg.inv(np.cov(pcs_for_this_unit.T))\n",
      "/home/xinhez/miniconda3/envs/si-0.98.2/lib/python3.8/site-packages/numpy/lib/function_base.py:2704: RuntimeWarning: divide by zero encountered in divide\n",
      "  c *= np.true_divide(1, fact)\n",
      "/home/xinhez/miniconda3/envs/si-0.98.2/lib/python3.8/site-packages/numpy/lib/function_base.py:2704: RuntimeWarning: invalid value encountered in multiply\n",
      "  c *= np.true_divide(1, fact)\n",
      "/home/xinhez/miniconda3/envs/si-0.98.2/lib/python3.8/site-packages/spikeinterface/postprocessing/template_metrics.py:223: RuntimeWarning: invalid value encountered in float_scalars\n",
      "  ptratio = template[peak_idx] / template[trough_idx]\n"
     ]
    },
    {
     "data": {
      "application/vnd.jupyter.widget-view+json": {
       "model_id": "589f5586eb324be8a12247d3735e94ae",
       "version_major": 2,
       "version_minor": 0
      },
      "text/plain": [
       "Fitting PCA:   0%|          | 0/44 [00:00<?, ?it/s]"
      ]
     },
     "metadata": {},
     "output_type": "display_data"
    },
    {
     "data": {
      "application/vnd.jupyter.widget-view+json": {
       "model_id": "371e4476d75f49b9b196429fc2148de3",
       "version_major": 2,
       "version_minor": 0
      },
      "text/plain": [
       "Projecting waveforms:   0%|          | 0/44 [00:00<?, ?it/s]"
      ]
     },
     "metadata": {},
     "output_type": "display_data"
    },
    {
     "name": "stderr",
     "output_type": "stream",
     "text": [
      "/home/xinhez/miniconda3/envs/si-0.98.2/lib/python3.8/site-packages/spikeinterface/qualitymetrics/quality_metric_calculator.py:97: UserWarning: Units [21 27 36] are empty. Quality metrcs will be set to NaN for these units.\n",
      " To remove empty units, use `sorting.remove_empty_units()`.\n",
      "  warnings.warn(\n"
     ]
    },
    {
     "data": {
      "application/vnd.jupyter.widget-view+json": {
       "model_id": "cb32d46881374e4ebae300080e4d50de",
       "version_major": 2,
       "version_minor": 0
      },
      "text/plain": [
       "Computing PCA metrics:   0%|          | 0/41 [00:00<?, ?it/s]"
      ]
     },
     "metadata": {},
     "output_type": "display_data"
    },
    {
     "name": "stderr",
     "output_type": "stream",
     "text": [
      "/home/xinhez/miniconda3/envs/si-0.98.2/lib/python3.8/site-packages/spikeinterface/postprocessing/template_metrics.py:223: RuntimeWarning: invalid value encountered in float_scalars\n",
      "  ptratio = template[peak_idx] / template[trough_idx]\n"
     ]
    },
    {
     "data": {
      "application/vnd.jupyter.widget-view+json": {
       "model_id": "97b517f61ddd445c8ba33f68c8672cfc",
       "version_major": 2,
       "version_minor": 0
      },
      "text/plain": [
       "Fitting PCA:   0%|          | 0/44 [00:00<?, ?it/s]"
      ]
     },
     "metadata": {},
     "output_type": "display_data"
    },
    {
     "data": {
      "application/vnd.jupyter.widget-view+json": {
       "model_id": "0a55cf44d3ba47518d5e0e51da8b56e4",
       "version_major": 2,
       "version_minor": 0
      },
      "text/plain": [
       "Projecting waveforms:   0%|          | 0/44 [00:00<?, ?it/s]"
      ]
     },
     "metadata": {},
     "output_type": "display_data"
    },
    {
     "name": "stderr",
     "output_type": "stream",
     "text": [
      "/home/xinhez/miniconda3/envs/si-0.98.2/lib/python3.8/site-packages/spikeinterface/qualitymetrics/quality_metric_calculator.py:97: UserWarning: Units [ 2  4 10 12 13 16 18 20 24 26 28 29 37 39 40] are empty. Quality metrcs will be set to NaN for these units.\n",
      " To remove empty units, use `sorting.remove_empty_units()`.\n",
      "  warnings.warn(\n"
     ]
    },
    {
     "data": {
      "application/vnd.jupyter.widget-view+json": {
       "model_id": "4999073b79c440db8ef3306dc11d3a2d",
       "version_major": 2,
       "version_minor": 0
      },
      "text/plain": [
       "Computing PCA metrics:   0%|          | 0/29 [00:00<?, ?it/s]"
      ]
     },
     "metadata": {},
     "output_type": "display_data"
    },
    {
     "name": "stderr",
     "output_type": "stream",
     "text": [
      "/home/xinhez/miniconda3/envs/si-0.98.2/lib/python3.8/site-packages/spikeinterface/qualitymetrics/pca_metrics.py:229: RuntimeWarning: Degrees of freedom <= 0 for slice\n",
      "  VI = np.linalg.inv(np.cov(pcs_for_this_unit.T))\n",
      "/home/xinhez/miniconda3/envs/si-0.98.2/lib/python3.8/site-packages/numpy/lib/function_base.py:2704: RuntimeWarning: divide by zero encountered in divide\n",
      "  c *= np.true_divide(1, fact)\n",
      "/home/xinhez/miniconda3/envs/si-0.98.2/lib/python3.8/site-packages/numpy/lib/function_base.py:2704: RuntimeWarning: invalid value encountered in multiply\n",
      "  c *= np.true_divide(1, fact)\n",
      "/home/xinhez/miniconda3/envs/si-0.98.2/lib/python3.8/site-packages/spikeinterface/postprocessing/template_metrics.py:223: RuntimeWarning: invalid value encountered in float_scalars\n",
      "  ptratio = template[peak_idx] / template[trough_idx]\n"
     ]
    },
    {
     "data": {
      "application/vnd.jupyter.widget-view+json": {
       "model_id": "72ec50e1453c4294b8cfdad9bca37899",
       "version_major": 2,
       "version_minor": 0
      },
      "text/plain": [
       "Fitting PCA:   0%|          | 0/44 [00:00<?, ?it/s]"
      ]
     },
     "metadata": {},
     "output_type": "display_data"
    },
    {
     "data": {
      "application/vnd.jupyter.widget-view+json": {
       "model_id": "b9949fc30c9f49a5b165de0934deacf7",
       "version_major": 2,
       "version_minor": 0
      },
      "text/plain": [
       "Projecting waveforms:   0%|          | 0/44 [00:00<?, ?it/s]"
      ]
     },
     "metadata": {},
     "output_type": "display_data"
    },
    {
     "name": "stderr",
     "output_type": "stream",
     "text": [
      "/home/xinhez/miniconda3/envs/si-0.98.2/lib/python3.8/site-packages/spikeinterface/qualitymetrics/quality_metric_calculator.py:97: UserWarning: Units [ 2  8 10 12 19 20 23 24 25 26 28 33 34 37 39 40 41] are empty. Quality metrcs will be set to NaN for these units.\n",
      " To remove empty units, use `sorting.remove_empty_units()`.\n",
      "  warnings.warn(\n"
     ]
    },
    {
     "data": {
      "application/vnd.jupyter.widget-view+json": {
       "model_id": "9672159a703b4368886e177c7986ed4f",
       "version_major": 2,
       "version_minor": 0
      },
      "text/plain": [
       "Computing PCA metrics:   0%|          | 0/27 [00:00<?, ?it/s]"
      ]
     },
     "metadata": {},
     "output_type": "display_data"
    },
    {
     "name": "stderr",
     "output_type": "stream",
     "text": [
      "/home/xinhez/miniconda3/envs/si-0.98.2/lib/python3.8/site-packages/spikeinterface/qualitymetrics/pca_metrics.py:229: RuntimeWarning: Degrees of freedom <= 0 for slice\n",
      "  VI = np.linalg.inv(np.cov(pcs_for_this_unit.T))\n",
      "/home/xinhez/miniconda3/envs/si-0.98.2/lib/python3.8/site-packages/numpy/lib/function_base.py:2704: RuntimeWarning: divide by zero encountered in divide\n",
      "  c *= np.true_divide(1, fact)\n",
      "/home/xinhez/miniconda3/envs/si-0.98.2/lib/python3.8/site-packages/numpy/lib/function_base.py:2704: RuntimeWarning: invalid value encountered in multiply\n",
      "  c *= np.true_divide(1, fact)\n",
      "/home/xinhez/miniconda3/envs/si-0.98.2/lib/python3.8/site-packages/spikeinterface/postprocessing/template_metrics.py:223: RuntimeWarning: invalid value encountered in float_scalars\n",
      "  ptratio = template[peak_idx] / template[trough_idx]\n"
     ]
    },
    {
     "data": {
      "application/vnd.jupyter.widget-view+json": {
       "model_id": "2ab66cdfb22743729dd8cf311a0a2e2d",
       "version_major": 2,
       "version_minor": 0
      },
      "text/plain": [
       "Fitting PCA:   0%|          | 0/44 [00:00<?, ?it/s]"
      ]
     },
     "metadata": {},
     "output_type": "display_data"
    },
    {
     "data": {
      "application/vnd.jupyter.widget-view+json": {
       "model_id": "296747a0e29a4ee299afb40b77c12224",
       "version_major": 2,
       "version_minor": 0
      },
      "text/plain": [
       "Projecting waveforms:   0%|          | 0/44 [00:00<?, ?it/s]"
      ]
     },
     "metadata": {},
     "output_type": "display_data"
    },
    {
     "name": "stderr",
     "output_type": "stream",
     "text": [
      "/home/xinhez/miniconda3/envs/si-0.98.2/lib/python3.8/site-packages/spikeinterface/qualitymetrics/quality_metric_calculator.py:97: UserWarning: Units [ 2  4  5  6  7  8 10 11 12 13 14 19 21 22 27 28 30 33 34 35 36 37 39 40\n",
      " 42] are empty. Quality metrcs will be set to NaN for these units.\n",
      " To remove empty units, use `sorting.remove_empty_units()`.\n",
      "  warnings.warn(\n"
     ]
    },
    {
     "data": {
      "application/vnd.jupyter.widget-view+json": {
       "model_id": "025c2e2640ea405789d994c0eb980e07",
       "version_major": 2,
       "version_minor": 0
      },
      "text/plain": [
       "Computing PCA metrics:   0%|          | 0/19 [00:00<?, ?it/s]"
      ]
     },
     "metadata": {},
     "output_type": "display_data"
    },
    {
     "name": "stderr",
     "output_type": "stream",
     "text": [
      "/home/xinhez/miniconda3/envs/si-0.98.2/lib/python3.8/site-packages/spikeinterface/qualitymetrics/pca_metrics.py:229: RuntimeWarning: Degrees of freedom <= 0 for slice\n",
      "  VI = np.linalg.inv(np.cov(pcs_for_this_unit.T))\n",
      "/home/xinhez/miniconda3/envs/si-0.98.2/lib/python3.8/site-packages/numpy/lib/function_base.py:2704: RuntimeWarning: divide by zero encountered in divide\n",
      "  c *= np.true_divide(1, fact)\n",
      "/home/xinhez/miniconda3/envs/si-0.98.2/lib/python3.8/site-packages/numpy/lib/function_base.py:2704: RuntimeWarning: invalid value encountered in multiply\n",
      "  c *= np.true_divide(1, fact)\n",
      "/home/xinhez/miniconda3/envs/si-0.98.2/lib/python3.8/site-packages/spikeinterface/postprocessing/template_metrics.py:223: RuntimeWarning: invalid value encountered in float_scalars\n",
      "  ptratio = template[peak_idx] / template[trough_idx]\n"
     ]
    },
    {
     "data": {
      "application/vnd.jupyter.widget-view+json": {
       "model_id": "a79aced7d10242779e79918d6a98fe84",
       "version_major": 2,
       "version_minor": 0
      },
      "text/plain": [
       "Fitting PCA:   0%|          | 0/41 [00:00<?, ?it/s]"
      ]
     },
     "metadata": {},
     "output_type": "display_data"
    },
    {
     "data": {
      "application/vnd.jupyter.widget-view+json": {
       "model_id": "d0a867a0a78642d184e94c30d7a35e20",
       "version_major": 2,
       "version_minor": 0
      },
      "text/plain": [
       "Projecting waveforms:   0%|          | 0/41 [00:00<?, ?it/s]"
      ]
     },
     "metadata": {},
     "output_type": "display_data"
    },
    {
     "name": "stderr",
     "output_type": "stream",
     "text": [
      "/home/xinhez/miniconda3/envs/si-0.98.2/lib/python3.8/site-packages/spikeinterface/qualitymetrics/quality_metric_calculator.py:97: UserWarning: Units [ 1 10 23 29 30 39] are empty. Quality metrcs will be set to NaN for these units.\n",
      " To remove empty units, use `sorting.remove_empty_units()`.\n",
      "  warnings.warn(\n"
     ]
    },
    {
     "data": {
      "application/vnd.jupyter.widget-view+json": {
       "model_id": "ff88482156ae44848dba6f1862024c3c",
       "version_major": 2,
       "version_minor": 0
      },
      "text/plain": [
       "Computing PCA metrics:   0%|          | 0/35 [00:00<?, ?it/s]"
      ]
     },
     "metadata": {},
     "output_type": "display_data"
    },
    {
     "name": "stderr",
     "output_type": "stream",
     "text": [
      "/home/xinhez/miniconda3/envs/si-0.98.2/lib/python3.8/site-packages/spikeinterface/qualitymetrics/pca_metrics.py:229: RuntimeWarning: Degrees of freedom <= 0 for slice\n",
      "  VI = np.linalg.inv(np.cov(pcs_for_this_unit.T))\n",
      "/home/xinhez/miniconda3/envs/si-0.98.2/lib/python3.8/site-packages/numpy/lib/function_base.py:2704: RuntimeWarning: divide by zero encountered in divide\n",
      "  c *= np.true_divide(1, fact)\n",
      "/home/xinhez/miniconda3/envs/si-0.98.2/lib/python3.8/site-packages/numpy/lib/function_base.py:2704: RuntimeWarning: invalid value encountered in multiply\n",
      "  c *= np.true_divide(1, fact)\n",
      "/home/xinhez/miniconda3/envs/si-0.98.2/lib/python3.8/site-packages/spikeinterface/postprocessing/template_metrics.py:223: RuntimeWarning: invalid value encountered in float_scalars\n",
      "  ptratio = template[peak_idx] / template[trough_idx]\n"
     ]
    },
    {
     "data": {
      "application/vnd.jupyter.widget-view+json": {
       "model_id": "52ee8bece1bc4c14a89ee01d7fe5b526",
       "version_major": 2,
       "version_minor": 0
      },
      "text/plain": [
       "Fitting PCA:   0%|          | 0/41 [00:00<?, ?it/s]"
      ]
     },
     "metadata": {},
     "output_type": "display_data"
    },
    {
     "data": {
      "application/vnd.jupyter.widget-view+json": {
       "model_id": "7980192cda7a4ea988eec6993ddcbbc4",
       "version_major": 2,
       "version_minor": 0
      },
      "text/plain": [
       "Projecting waveforms:   0%|          | 0/41 [00:00<?, ?it/s]"
      ]
     },
     "metadata": {},
     "output_type": "display_data"
    },
    {
     "name": "stderr",
     "output_type": "stream",
     "text": [
      "/home/xinhez/miniconda3/envs/si-0.98.2/lib/python3.8/site-packages/spikeinterface/qualitymetrics/quality_metric_calculator.py:97: UserWarning: Units [10 18 20 23 35 38] are empty. Quality metrcs will be set to NaN for these units.\n",
      " To remove empty units, use `sorting.remove_empty_units()`.\n",
      "  warnings.warn(\n"
     ]
    },
    {
     "data": {
      "application/vnd.jupyter.widget-view+json": {
       "model_id": "d31a6d5219bd4d1f9b3f8e973bd9866f",
       "version_major": 2,
       "version_minor": 0
      },
      "text/plain": [
       "Computing PCA metrics:   0%|          | 0/35 [00:00<?, ?it/s]"
      ]
     },
     "metadata": {},
     "output_type": "display_data"
    },
    {
     "name": "stderr",
     "output_type": "stream",
     "text": [
      "/home/xinhez/miniconda3/envs/si-0.98.2/lib/python3.8/site-packages/spikeinterface/qualitymetrics/pca_metrics.py:229: RuntimeWarning: Degrees of freedom <= 0 for slice\n",
      "  VI = np.linalg.inv(np.cov(pcs_for_this_unit.T))\n",
      "/home/xinhez/miniconda3/envs/si-0.98.2/lib/python3.8/site-packages/numpy/lib/function_base.py:2704: RuntimeWarning: divide by zero encountered in divide\n",
      "  c *= np.true_divide(1, fact)\n",
      "/home/xinhez/miniconda3/envs/si-0.98.2/lib/python3.8/site-packages/numpy/lib/function_base.py:2704: RuntimeWarning: invalid value encountered in multiply\n",
      "  c *= np.true_divide(1, fact)\n",
      "/home/xinhez/miniconda3/envs/si-0.98.2/lib/python3.8/site-packages/spikeinterface/postprocessing/template_metrics.py:223: RuntimeWarning: invalid value encountered in float_scalars\n",
      "  ptratio = template[peak_idx] / template[trough_idx]\n"
     ]
    },
    {
     "data": {
      "application/vnd.jupyter.widget-view+json": {
       "model_id": "200875005a16484fb83523975f3af79c",
       "version_major": 2,
       "version_minor": 0
      },
      "text/plain": [
       "Fitting PCA:   0%|          | 0/41 [00:00<?, ?it/s]"
      ]
     },
     "metadata": {},
     "output_type": "display_data"
    },
    {
     "data": {
      "application/vnd.jupyter.widget-view+json": {
       "model_id": "48022f1af0234d17bd190cc2d0d42e58",
       "version_major": 2,
       "version_minor": 0
      },
      "text/plain": [
       "Projecting waveforms:   0%|          | 0/41 [00:00<?, ?it/s]"
      ]
     },
     "metadata": {},
     "output_type": "display_data"
    },
    {
     "name": "stderr",
     "output_type": "stream",
     "text": [
      "/home/xinhez/miniconda3/envs/si-0.98.2/lib/python3.8/site-packages/spikeinterface/qualitymetrics/quality_metric_calculator.py:97: UserWarning: Units [ 1  2  3  5 19 21 22 23 24 27 31 32 33 34 35 38 39 40 41] are empty. Quality metrcs will be set to NaN for these units.\n",
      " To remove empty units, use `sorting.remove_empty_units()`.\n",
      "  warnings.warn(\n"
     ]
    },
    {
     "data": {
      "application/vnd.jupyter.widget-view+json": {
       "model_id": "da5407276a2f484a8f3d726764fc214a",
       "version_major": 2,
       "version_minor": 0
      },
      "text/plain": [
       "Computing PCA metrics:   0%|          | 0/22 [00:00<?, ?it/s]"
      ]
     },
     "metadata": {},
     "output_type": "display_data"
    },
    {
     "name": "stderr",
     "output_type": "stream",
     "text": [
      "/home/xinhez/miniconda3/envs/si-0.98.2/lib/python3.8/site-packages/spikeinterface/postprocessing/template_metrics.py:223: RuntimeWarning: invalid value encountered in float_scalars\n",
      "  ptratio = template[peak_idx] / template[trough_idx]\n"
     ]
    },
    {
     "data": {
      "application/vnd.jupyter.widget-view+json": {
       "model_id": "ce7dfb01c8124d24858c2d87398eba03",
       "version_major": 2,
       "version_minor": 0
      },
      "text/plain": [
       "Fitting PCA:   0%|          | 0/41 [00:00<?, ?it/s]"
      ]
     },
     "metadata": {},
     "output_type": "display_data"
    },
    {
     "data": {
      "application/vnd.jupyter.widget-view+json": {
       "model_id": "c878ee69d9c743f69d3d8ab42554014a",
       "version_major": 2,
       "version_minor": 0
      },
      "text/plain": [
       "Projecting waveforms:   0%|          | 0/41 [00:00<?, ?it/s]"
      ]
     },
     "metadata": {},
     "output_type": "display_data"
    },
    {
     "name": "stderr",
     "output_type": "stream",
     "text": [
      "/home/xinhez/miniconda3/envs/si-0.98.2/lib/python3.8/site-packages/spikeinterface/qualitymetrics/quality_metric_calculator.py:97: UserWarning: Units [ 1  2  3  5  8 10 17 20 23 24 26 30] are empty. Quality metrcs will be set to NaN for these units.\n",
      " To remove empty units, use `sorting.remove_empty_units()`.\n",
      "  warnings.warn(\n"
     ]
    },
    {
     "data": {
      "application/vnd.jupyter.widget-view+json": {
       "model_id": "aa3b300fb5ea4749826f2a0c9ba9729c",
       "version_major": 2,
       "version_minor": 0
      },
      "text/plain": [
       "Computing PCA metrics:   0%|          | 0/29 [00:00<?, ?it/s]"
      ]
     },
     "metadata": {},
     "output_type": "display_data"
    },
    {
     "name": "stderr",
     "output_type": "stream",
     "text": [
      "/home/xinhez/miniconda3/envs/si-0.98.2/lib/python3.8/site-packages/spikeinterface/qualitymetrics/pca_metrics.py:229: RuntimeWarning: Degrees of freedom <= 0 for slice\n",
      "  VI = np.linalg.inv(np.cov(pcs_for_this_unit.T))\n",
      "/home/xinhez/miniconda3/envs/si-0.98.2/lib/python3.8/site-packages/numpy/lib/function_base.py:2704: RuntimeWarning: divide by zero encountered in divide\n",
      "  c *= np.true_divide(1, fact)\n",
      "/home/xinhez/miniconda3/envs/si-0.98.2/lib/python3.8/site-packages/numpy/lib/function_base.py:2704: RuntimeWarning: invalid value encountered in multiply\n",
      "  c *= np.true_divide(1, fact)\n"
     ]
    }
   ],
   "source": [
    "\n",
    "\n",
    "import datetime\n",
    "import numpy as np\n",
    "import os\n",
    "import pandas as pd\n",
    "import seaborn as sns \n",
    "import spikeinterface.core as sc \n",
    "import spikeinterface.curation as scu\n",
    "import spikeinterface.extractors as se \n",
    "import spikeinterface.postprocessing as spost \n",
    "import spikeinterface.qualitymetrics as sqm\n",
    "import sys \n",
    "\n",
    "sys.path.append('src')\n",
    "\n",
    "from longterm_multiregion_curation import * \n",
    "from src.facts import *\n",
    "from src.multiregion_80pin_channels import *\n",
    "from src.process import *\n",
    "\n",
    "sorted_duration = 15\n",
    "probe = create_multi_shank_probe()\n",
    "\n",
    "lapses = [2, 4, 6, 8, 10, 12]\n",
    "\n",
    "def remove_duplicate_segments(segment_indices, time_lapses, rounded_lapses):\n",
    "    output_segments = []\n",
    "    for lapse in lapses:\n",
    "        if lapse in rounded_lapses:\n",
    "            lapse_indices = [index for index, rounded_lapses in enumerate(rounded_lapses) if rounded_lapses == lapse]\n",
    "            lapse_margin = np.array([abs(time_lapses[index] - lapse) for index in lapse_indices])\n",
    "            output_segments.append([segment_indices[index] for index in lapse_indices][np.argmin(lapse_margin)])\n",
    "    return output_segments\n",
    "\n",
    "features = {}\n",
    "for (subject, threshold) in excluded_segments.keys():\n",
    "    subject_folder = f'data/processed/{subject}/all'\n",
    "    session_info = pd.read_csv(f'{subject_folder}/session_info.csv')\n",
    "    n_segment = len(session_info['segment_path'].unique())\n",
    "    recording_dates = [datetime.datetime.strptime(path.split('/')[3], '%y%m%d') for path in session_info['segment_path'].unique()]\n",
    "    surgery_date = datetime.datetime.strptime(surgery_dates[subject], '%Y%m%d')\n",
    "    time_lapses = [((recording_date - surgery_date).days / n_day_per_week) for recording_date in recording_dates]\n",
    "    rounded_lapses = [round_lapse(time_lapse) for time_lapse in time_lapses]\n",
    "\n",
    "    features[subject] = {}\n",
    "    for region, region_segments in valid_segments[subject].items():\n",
    "        features[subject][region] = {}\n",
    "        region_folder = f'{subject_folder}/{region}'\n",
    "\n",
    "        recordings = [\n",
    "            sc.load_extractor(f'{region_folder}/recording/segment{segment_index}').set_probe(probe) \n",
    "            for segment_index in range(n_segment)\n",
    "        ]\n",
    "        recordings = [\n",
    "            preprocess(segment_recording) for segment_recording in recordings\n",
    "        ]\n",
    "        recordings = [\n",
    "            segment_recording.frame_slice(\n",
    "                start_frame=0, \n",
    "                end_frame=min(segment_recording.get_num_frames(), int(sorted_duration*n_s_per_min*segment_recording.sampling_frequency))\n",
    "            ) for segment_recording in recordings\n",
    "        ]\n",
    "        recording = sc.concatenate_recordings(recordings).set_probe(probe, in_place=True)\n",
    "\n",
    "        n_frames_per_ms = int(recording.sampling_frequency // n_ms_per_s)\n",
    "\n",
    "        sorting = se.NpzSortingExtractor(f'{region_folder}/sorting{threshold}-{sorted_duration}min/sorter_output/firings.npz')\n",
    "        # spikeinterface https://github.com/SpikeInterface/spikeinterface/pull/1378\n",
    "        sorting = scu.remove_excess_spikes(sorting, recording)  \n",
    "        sorting = sc.split_sorting(sorting, recordings)\n",
    "        sortings = [sc.select_segment_sorting(sorting, segment_indices=segment_index) for segment_index in range(n_segment)]\n",
    "\n",
    "        waveform_extractors = [sc.load_waveforms(folder=f'{region_folder}/waveform{threshold}-{sorted_duration}min/segment{segment_index}', with_recording=False, sorting=sortings[segment_index]) for segment_index in range(n_segment)]\n",
    "\n",
    "        for segment_index, segment_recording in enumerate(recordings):\n",
    "            segment_recording.set_probe(probe, in_place=True)\n",
    "            waveform_extractors[segment_index].set_recording(segment_recording)\n",
    "\n",
    "        template_metrics = {}\n",
    "        quality_metrics = {}\n",
    "        waveform_pcs = {}\n",
    "        waveform_locations = {}\n",
    "\n",
    "        for unit_id, unit_segments in region_segments.items():\n",
    "            unit_time_lapses = [time_lapses[segment_index] for segment_index in unit_segments]\n",
    "            unit_rounded_lapses = [rounded_lapses[segment_index] for segment_index in unit_segments]\n",
    "            unit_segments = remove_duplicate_segments(unit_segments, unit_time_lapses, unit_rounded_lapses)\n",
    "\n",
    "            features[subject][region][unit_id] = {}\n",
    "            for segment_index in unit_segments:\n",
    "                if segment_index not in template_metrics:\n",
    "                    template_metrics[segment_index] = spost.compute_template_metrics(waveform_extractors[unit_segments[0]], peak_sign='neg')\n",
    "                    waveform_locations[segment_index] = spost.compute_unit_locations(waveform_extractors[segment_index], load_if_exists=False)\n",
    "                    waveform_pcs[segment_index] = spost.compute_principal_components(waveform_extractors[segment_index], load_if_exists=False)\n",
    "                    quality_metrics[segment_index] = sqm.compute_quality_metrics(waveform_extractors[segment_index], skip_pc_metrics=False, metric_names=['firing_rate', 'snr', 'l_ratio', 'silhouette'], load_if_exists=False)\n",
    "                segment_template_metrics = template_metrics[segment_index].loc[[unit_id]]\n",
    "                segment_quality_metrics = quality_metrics[segment_index].loc[[unit_id]]\n",
    "                features[subject][region][unit_id][rounded_lapses[segment_index]] = {\n",
    "                    'snr': segment_quality_metrics['snr'].item(),\n",
    "                    'firing_rate': segment_quality_metrics['firing_rate'].item(),\n",
    "                    'l_ratio': segment_quality_metrics['l_ratio'].item(),\n",
    "                    'silhouette': segment_quality_metrics['silhouette'].item(),\n",
    "                    'peak_to_valley': segment_template_metrics['peak_to_valley'].item() * n_ms_per_s,\n",
    "                    'abs(peak_trough_ratio)': np.abs(segment_template_metrics['peak_trough_ratio'].item()),\n",
    "                    'half_width': segment_template_metrics['half_width'].item() * n_ms_per_s,\n",
    "                    'repolarization_slope': segment_template_metrics['repolarization_slope'].item() / n_uV_per_mV / n_mV_per_V,\n",
    "                    'abs(recovery_slope)': np.abs(segment_template_metrics['recovery_slope'].item() / n_uV_per_mV / n_mV_per_V),\n",
    "                }\n"
   ]
  },
  {
   "cell_type": "code",
   "execution_count": 18,
   "metadata": {},
   "outputs": [],
   "source": [
    "import numpy as np \n",
    "np.save(f'{figure_folder}/featuresv2.npy', features)"
   ]
  },
  {
   "cell_type": "code",
   "execution_count": 32,
   "metadata": {},
   "outputs": [],
   "source": [
    "read_features = np.load(f'{figure_folder}/featuresv2.npy', allow_pickle=True).item()"
   ]
  },
  {
   "cell_type": "code",
   "execution_count": 30,
   "metadata": {},
   "outputs": [
    {
     "data": {
      "image/png": "[encoded data removed]",
      "text/plain": [
       "<Figure size 640x480 with 1 Axes>"
      ]
     },
     "metadata": {},
     "output_type": "display_data"
    },
    {
     "data": {
      "image/png": "[encoded data removed]",
      "text/plain": [
       "<Figure size 640x480 with 1 Axes>"
      ]
     },
     "metadata": {},
     "output_type": "display_data"
    },
    {
     "data": {
      "image/png": "[encoded data removed]",
      "text/plain": [
       "<Figure size 640x480 with 1 Axes>"
      ]
     },
     "metadata": {},
     "output_type": "display_data"
    },
    {
     "data": {
      "image/png": "[encoded data removed]",
      "text/plain": [
       "<Figure size 640x480 with 1 Axes>"
      ]
     },
     "metadata": {},
     "output_type": "display_data"
    },
    {
     "data": {
      "image/png": "[encoded data removed]",
      "text/plain": [
       "<Figure size 640x480 with 1 Axes>"
      ]
     },
     "metadata": {},
     "output_type": "display_data"
    },
    {
     "data": {
      "image/png": "[encoded data removed]",
      "text/plain": [
       "<Figure size 640x480 with 1 Axes>"
      ]
     },
     "metadata": {},
     "output_type": "display_data"
    },
    {
     "data": {
      "image/png": "[encoded data removed]",
      "text/plain": [
       "<Figure size 640x480 with 1 Axes>"
      ]
     },
     "metadata": {},
     "output_type": "display_data"
    },
    {
     "data": {
      "image/png": "[encoded data removed]",
      "text/plain": [
       "<Figure size 640x480 with 1 Axes>"
      ]
     },
     "metadata": {},
     "output_type": "display_data"
    },
    {
     "data": {
      "image/png": "[encoded data removed]",
      "text/plain": [
       "<Figure size 640x480 with 1 Axes>"
      ]
     },
     "metadata": {},
     "output_type": "display_data"
    }
   ],
   "source": [
    "plot_lims = {\n",
    "    'snr': (-25, 50), \n",
    "    'firing_rate': (-5, 10),\n",
    "    'l_ratio': (-30, 30),\n",
    "    'silhouette': (-0.2, 0.3),\n",
    "    'peak_to_valley': (-0.2, 1), \n",
    "    'abs(peak_trough_ratio)': (-0.3, 1.1), \n",
    "    'half_width': (-0.2, 0.6),\n",
    "    'repolarization_slope': (-2, 3), \n",
    "    'abs(recovery_slope)': (-0.3, 0.4),\n",
    "}\n",
    "\n",
    "stats = []\n",
    "for subject, subject_features in features.items():\n",
    "    for region, region_features in subject_features.items():\n",
    "        for unit_id, unit_features in region_features.items():\n",
    "            for lapse, lapse_feature in unit_features.items():\n",
    "                stats.append({\n",
    "                    'subject': subject,\n",
    "                    'region': region,\n",
    "                    'unit_id': unit_id,\n",
    "                    'lapse': lapse,\n",
    "                    'snr': lapse_feature['snr'],\n",
    "                    'firing_rate': lapse_feature['firing_rate'],\n",
    "                    'l_ratio': lapse_feature['l_ratio'],\n",
    "                    'silhouette': lapse_feature['silhouette'],\n",
    "                    'peak_to_valley': lapse_feature['peak_to_valley'],\n",
    "                    'abs(peak_trough_ratio)': lapse_feature['abs(peak_trough_ratio)'],\n",
    "                    'half_width': lapse_feature['half_width'],\n",
    "                    'repolarization_slope': lapse_feature['repolarization_slope'],\n",
    "                    'abs(recovery_slope)': lapse_feature['abs(recovery_slope)'],\n",
    "                })\n",
    "stats = pd.json_normalize(stats).fillna(0)\n",
    "\n",
    "for plot_name, lims in plot_lims.items():\n",
    "    plt.figure() \n",
    "    for subject in subjects:\n",
    "        subject_stats = stats[stats['subject'] == subject]\n",
    "        \n",
    "        subject_lapses = []\n",
    "        subject_means = []\n",
    "\n",
    "        for lapse in subject_stats['lapse'].unique(): \n",
    "            subject_lapses.append(lapses.index(lapse))\n",
    "            subject_means.append(subject_stats[subject_stats['lapse'] == lapse][plot_name].mean())\n",
    "        plt.scatter(subject_lapses, subject_means, label=subject, color=colors[subject], alpha=0.5)\n",
    "        \n",
    "    sns.pointplot(data=stats, x='lapse', y=plot_name, capsize=0.2, color='black', linewidth=0.5)\n",
    "    plt.legend(bbox_to_anchor=(1.2, 1))\n",
    "    plt.title(plot_name)\n",
    "    plt.ylim(lims[0], lims[1])\n",
    "    plt.savefig(f'{figure_folder}/{plot_name}.pdf', transparent=True, bbox_inches='tight')\n",
    "    plt.show()\n",
    "    plt.close()"
   ]
  },
  {
   "cell_type": "code",
   "execution_count": null,
   "metadata": {},
   "outputs": [],
   "source": [
    "sqm.compute_firing_rates(waveform_extractors[segment_index])"
   ]
  },
  {
   "cell_type": "code",
   "execution_count": null,
   "metadata": {},
   "outputs": [],
   "source": [
    "sqm.compute_quality_metrics(waveform_extractors[segment_index], skip_pc_metrics=False, metric_names=['firing_rate', 'snr', 'l_ratio', 'silhouette'])"
   ]
  },
  {
   "cell_type": "code",
   "execution_count": null,
   "metadata": {},
   "outputs": [],
   "source": [
    "waveform_pc = spost.compute_principal_components(waveform_extractors[segment_index], load_if_exists=True)\n",
    "sqm.compute_quality_metrics(waveform_extractors[segment_index], skip_pc_metrics=False)"
   ]
  },
  {
   "cell_type": "code",
   "execution_count": null,
   "metadata": {},
   "outputs": [],
   "source": [
    "waveform_pc"
   ]
  },
  {
   "cell_type": "code",
   "execution_count": null,
   "metadata": {},
   "outputs": [],
   "source": [
    "for unit_id, unit_segments in region_segments.items():\n",
    "            unit_time_lapses = [time_lapses[segment_index] for segment_index in unit_segments]\n",
    "            unit_rounded_lapses = [rounded_lapses[segment_index] for segment_index in unit_segments]\n",
    "            unit_segments = remove_duplicate_segments(unit_segments, unit_time_lapses, unit_rounded_lapses)\n",
    "\n",
    "            features[subject][region][unit_id] = {}\n",
    "            for segment_index in unit_segments:\n",
    "                    \n",
    "waveform_pcs = sqm.compute_principal_components(waveform_extractor, load_if_exists=True)"
   ]
  },
  {
   "cell_type": "code",
   "execution_count": null,
   "metadata": {},
   "outputs": [],
   "source": []
  },
  {
   "cell_type": "code",
   "execution_count": null,
   "metadata": {},
   "outputs": [],
   "source": []
  }
 ],
 "metadata": {
  "kernelspec": {
   "display_name": "si-0.98.2",
   "language": "python",
   "name": "python3"
  },
  "language_info": {
   "codemirror_mode": {
    "name": "ipython",
    "version": 3
   },
   "file_extension": ".py",
   "mimetype": "text/x-python",
   "name": "python",
   "nbconvert_exporter": "python",
   "pygments_lexer": "ipython3",
   "version": "3.8.13"
  }
 },
 "nbformat": 4,
 "nbformat_minor": 2
}
