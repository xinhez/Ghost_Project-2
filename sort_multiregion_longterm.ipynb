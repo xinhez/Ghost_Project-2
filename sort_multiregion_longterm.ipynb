{
 "cells": [
  {
   "cell_type": "code",
   "execution_count": 1,
   "metadata": {},
   "outputs": [
    {
     "name": "stdout",
     "output_type": "stream",
     "text": [
      "Saving to data/processed/M16_1/all\n",
      "Sorting M16_1 with 8 segment(s):\n",
      "    [  1] data/raw/M16_1/240402/M16_1_240402_200511\n",
      "    [  2] data/raw/M16_1/240414/M16_1_240414_103811\n",
      "    [  3] data/raw/M16_1/240428/M16_1_240428_1435pm_240428_143543\n",
      "    [  4] data/raw/M16_1/240512/M16_1_240512_1550pm_240512_154752\n",
      "    [  5] data/raw/M16_1/240519/M16_1_240519_1230pm_240519_122711\n",
      "    [  6] data/raw/M16_1/240526/M16_1_240526_1135am_240526_113147\n",
      "    [  7] data/raw/M16_1/240603/M16_1_240603_2300pm_240603_225604\n",
      "    [  8] data/raw/M16_1/240609/M16_1_240609_1545pm_240609_154421\n"
     ]
    },
    {
     "data": {
      "application/vnd.jupyter.widget-view+json": {
       "model_id": "ade4b1c1ef9644afa05ef5cbc769177f",
       "version_major": 2,
       "version_minor": 0
      },
      "text/plain": [
       "0it [00:00, ?it/s]"
      ]
     },
     "metadata": {},
     "output_type": "display_data"
    }
   ],
   "source": [
    "import matplotlib \n",
    "matplotlib.use('Agg')\n",
    "matplotlib.rcParams['agg.path.chunksize'] = 10000\n",
    "\n",
    "import glob\n",
    "import sys\n",
    "\n",
    "sys.path.append('src')\n",
    "from src.facts import probe_designs\n",
    "\n",
    "sorter_parameters = {\n",
    "    'detect_sign': -1,\n",
    "    'adjacency_radius': -1, \n",
    "    'freq_min': None, \n",
    "    'freq_max': None,\n",
    "    'filter': False,\n",
    "    'whiten': True,  \n",
    "}\n",
    "\n",
    "class Inputs(object):\n",
    "    pass \n",
    "\n",
    "args = Inputs()\n",
    "args.shank = -1\n",
    "args.threshold = 4.5 \n",
    "args.min_duration = 10\n",
    "args.sorted_duration = 15\n",
    "args.do_sorting = 1\n",
    "\n",
    "jobs = {\n",
    "    'region1': ['M16_1'],\n",
    "    'region2': [],\n",
    "}\n",
    "\n",
    "for region, subjects in jobs.items():\n",
    "    args.region = region\n",
    "\n",
    "    for subject in subjects: \n",
    "        args.subject = subject\n",
    "\n",
    "        output_root = f'data/processed/{args.subject}/{\"all\" if args.shank < 0 else f\"shank{args.shank}\"}'\n",
    "        segment_paths = sorted(glob.glob(f'data/raw/{args.subject}/**/**'))\n",
    "        print(f'Saving to {output_root}')\n",
    "        print(f'Sorting {args.subject} with {len(segment_paths)} segment(s):')\n",
    "        for segment_index, segment_path in enumerate(segment_paths):\n",
    "            print(f'    [{segment_index+1:3d}] {segment_path}')\n",
    "        \n",
    "        sorter_parameters['detect_threshold'] = args.threshold\n",
    "\n",
    "        if 'multiregion' in probe_designs[args.subject]:\n",
    "            from sort_intan_multiregion import sort \n",
    "            sort(args, output_root, segment_paths, sorter_parameters)\n",
    "        elif 'singleregion' in  probe_designs[args.subject]:\n",
    "            from sort_intan_singleregion import sort \n",
    "            sort(args, output_root, segment_paths, sorter_parameters)\n",
    "        else:\n",
    "            raise Exception(\"Not implemented!!!\")"
   ]
  },
  {
   "cell_type": "code",
   "execution_count": null,
   "metadata": {},
   "outputs": [],
   "source": []
  }
 ],
 "metadata": {
  "kernelspec": {
   "display_name": "si-0.98.2",
   "language": "python",
   "name": "python3"
  },
  "language_info": {
   "codemirror_mode": {
    "name": "ipython",
    "version": 3
   },
   "file_extension": ".py",
   "mimetype": "text/x-python",
   "name": "python",
   "nbconvert_exporter": "python",
   "pygments_lexer": "ipython3",
   "version": "3.8.13"
  }
 },
 "nbformat": 4,
 "nbformat_minor": 2
}
