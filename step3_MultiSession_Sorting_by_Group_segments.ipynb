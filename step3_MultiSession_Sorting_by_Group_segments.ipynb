{
 "cells": [
  {
   "cell_type": "code",
   "execution_count": 1,
   "metadata": {},
   "outputs": [
    {
     "name": "stdout",
     "output_type": "stream",
     "text": [
      "Saving to data/sorted/20240120\n"
     ]
    }
   ],
   "source": [
    "import matplotlib\n",
    "matplotlib.use('Agg') #  disable interactive matplotlib to save RAM\n",
    "\n",
    "mice = ['1_5']\n",
    " #min\n",
    "exclude_sessions = {\n",
    "    # # Example\n",
    "    # # '6_2': [\n",
    "    # #     'data/spikeinterface-0_98_2/Behavior/6_2/20231208/session_1',\n",
    "    # # ],\n",
    "}\n",
    "nsx = 'ns4'\n",
    "\n",
    "import datetime\n",
    "import glob\n",
    "import numpy as np\n",
    "import os\n",
    "import pandas as pd\n",
    "import spikeinterface.core as sc\n",
    "import spikeinterface.curation as scu\n",
    "import spikeinterface.extractors as se\n",
    "import spikeinterface.sorters as ss\n",
    "import sys \n",
    "\n",
    "from tqdm.auto import tqdm\n",
    "\n",
    "sys.path.append('src')\n",
    "\n",
    "from utils import *\n",
    "\n",
    "today = '20240120'#datetime.datetime.today().strftime('%Y%m%d')\n",
    "sampling_frequency = n_ms_per_s * (10 if nsx == 'ns4' else 30 if nsx == 'ns6' else None)\n",
    "data_root = 'data'\n",
    "si_folder = f'{data_root}{os.sep}spikeinterface-0_98_2'\n",
    "sorted_folder = f'{data_root}{os.sep}sorted{os.sep}{today}'\n",
    "\n",
    "print(f'Saving to {sorted_folder}')"
   ]
  },
  {
   "cell_type": "code",
   "execution_count": 2,
   "metadata": {},
   "outputs": [
    {
     "data": {
      "text/plain": [
       "{'1_5': ['data/spikeinterface-0_98_2/LongTerm-ns4/1_5/20230707/063027sebs15001',\n",
       "  'data/spikeinterface-0_98_2/LongTerm-ns4/1_5/20230714/datafile002',\n",
       "  'data/spikeinterface-0_98_2/LongTerm-ns4/1_5/20230721/datafile001',\n",
       "  'data/spikeinterface-0_98_2/LongTerm-ns4/1_5/20230727/20230727_SEBS1-5_001',\n",
       "  'data/spikeinterface-0_98_2/LongTerm-ns4/1_5/20230821/datafile001',\n",
       "  'data/spikeinterface-0_98_2/LongTerm-ns4/1_5/20230831/datafile',\n",
       "  'data/spikeinterface-0_98_2/LongTerm-ns4/1_5/20230921/datafile',\n",
       "  'data/spikeinterface-0_98_2/LongTerm-ns4/1_5/20231006/datafile',\n",
       "  'data/spikeinterface-0_98_2/LongTerm-ns4/1_5/20231011/datafile',\n",
       "  'data/spikeinterface-0_98_2/LongTerm-ns4/1_5/20231018/datafile',\n",
       "  'data/spikeinterface-0_98_2/LongTerm-ns4/1_5/20231027/datafile',\n",
       "  'data/spikeinterface-0_98_2/LongTerm-ns4/1_5/20231102/datafile',\n",
       "  'data/spikeinterface-0_98_2/LongTerm-ns4/1_5/20231122/datafile007',\n",
       "  'data/spikeinterface-0_98_2/LongTerm-ns4/1_5/20231207/datafile',\n",
       "  'data/spikeinterface-0_98_2/LongTerm-ns4/1_5/20231214/datafile',\n",
       "  'data/spikeinterface-0_98_2/LongTerm-ns4/1_5/20231228/datafile',\n",
       "  'data/spikeinterface-0_98_2/LongTerm-ns4/1_5/20240103/datafile005',\n",
       "  'data/spikeinterface-0_98_2/LongTerm-ns4/1_5/20240117/datafile002']}"
      ]
     },
     "execution_count": 2,
     "metadata": {},
     "output_type": "execute_result"
    }
   ],
   "source": [
    "recording_session_paths = {}\n",
    "for mouse in mice:\n",
    "    recording_session_paths[mouse] = sorted([\n",
    "        session for session in glob.glob(f'{si_folder}{os.sep}LongTerm-{nsx}{os.sep}{mouse}{os.sep}**{os.sep}**') \n",
    "            if session not in exclude_sessions.get(mouse, [])\n",
    "    ])\n",
    "recording_session_paths"
   ]
  },
  {
   "cell_type": "code",
   "execution_count": 4,
   "metadata": {},
   "outputs": [
    {
     "data": {
      "application/vnd.jupyter.widget-view+json": {
       "model_id": "29c730f1d7e343d09de4dc71bfbb2047",
       "version_major": 2,
       "version_minor": 0
      },
      "text/plain": [
       "  0%|          | 0/1 [00:00<?, ?it/s]"
      ]
     },
     "metadata": {},
     "output_type": "display_data"
    },
    {
     "ename": "KeyboardInterrupt",
     "evalue": "",
     "output_type": "error",
     "traceback": [
      "\u001b[0;31m---------------------------------------------------------------------------\u001b[0m",
      "\u001b[0;31mKeyboardInterrupt\u001b[0m                         Traceback (most recent call last)",
      "Cell \u001b[0;32mIn[4], line 30\u001b[0m\n\u001b[1;32m     25\u001b[0m         traces \u001b[38;5;241m=\u001b[39m np\u001b[38;5;241m.\u001b[39mvstack([\n\u001b[1;32m     26\u001b[0m             full_traces[segment_start\u001b[38;5;241m*\u001b[39msampling_frequency\u001b[38;5;241m*\u001b[39mn_s_per_min : segment_end\u001b[38;5;241m*\u001b[39msampling_frequency\u001b[38;5;241m*\u001b[39mn_s_per_min] \n\u001b[1;32m     27\u001b[0m                 \u001b[38;5;28;01mfor\u001b[39;00m segment_start, segment_end \u001b[38;5;129;01min\u001b[39;00m session_segments\n\u001b[1;32m     28\u001b[0m         ])\n\u001b[1;32m     29\u001b[0m         \u001b[38;5;28;01mif\u001b[39;00m \u001b[38;5;129;01mnot\u001b[39;00m os\u001b[38;5;241m.\u001b[39mpath\u001b[38;5;241m.\u001b[39misfile(session_trace_plot_file):\n\u001b[0;32m---> 30\u001b[0m             \u001b[43mplot_traces\u001b[49m\u001b[43m(\u001b[49m\u001b[43mtraces\u001b[49m\u001b[38;5;241;43m.\u001b[39;49m\u001b[43mT\u001b[49m\u001b[43m,\u001b[49m\u001b[43m \u001b[49m\u001b[43msampling_frequency\u001b[49m\u001b[43m,\u001b[49m\u001b[43m \u001b[49m\u001b[43mblackrock_channel_indices\u001b[49m\u001b[43m,\u001b[49m\u001b[43m \u001b[49m\u001b[43mtitle\u001b[49m\u001b[38;5;241;43m=\u001b[39;49m\u001b[38;5;124;43mf\u001b[39;49m\u001b[38;5;124;43m'\u001b[39;49m\u001b[38;5;132;43;01m{\u001b[39;49;00m\u001b[43mmouse\u001b[49m\u001b[38;5;132;43;01m}\u001b[39;49;00m\u001b[38;5;124;43m -> \u001b[39;49m\u001b[38;5;132;43;01m{\u001b[39;49;00m\u001b[43msession_date\u001b[49m\u001b[38;5;132;43;01m}\u001b[39;49;00m\u001b[38;5;124;43m -> \u001b[39;49m\u001b[38;5;132;43;01m{\u001b[39;49;00m\u001b[43msession_segments\u001b[49m\u001b[38;5;132;43;01m}\u001b[39;49;00m\u001b[38;5;124;43m'\u001b[39;49m\u001b[43m,\u001b[49m\u001b[43m \u001b[49m\u001b[43msavepath\u001b[49m\u001b[38;5;241;43m=\u001b[39;49m\u001b[43msession_trace_plot_file\u001b[49m\u001b[43m,\u001b[49m\u001b[43m \u001b[49m\u001b[43mtrace_gap\u001b[49m\u001b[38;5;241;43m=\u001b[39;49m\u001b[38;5;241;43m150\u001b[39;49m\u001b[43m)\u001b[49m\n\u001b[1;32m     32\u001b[0m \u001b[38;5;66;03m#         mouse_traces.append(traces)\u001b[39;00m\n\u001b[1;32m     33\u001b[0m \u001b[38;5;66;03m#         mouse_sessions.append({\u001b[39;00m\n\u001b[1;32m     34\u001b[0m \u001b[38;5;66;03m#             'mouse': mouse,\u001b[39;00m\n\u001b[0;32m   (...)\u001b[0m\n\u001b[1;32m     96\u001b[0m \u001b[38;5;66;03m#     if not os.path.isfile(unit_plot_file):\u001b[39;00m\n\u001b[1;32m     97\u001b[0m \u001b[38;5;66;03m#         plot_unit(waveform_extractor, extremum_channels, sorting, unit_id, blackrock_channel_indices, initdate=surgery_dates[mouse], savepath=unit_plot_file, sessions=mouse_sessions)\u001b[39;00m\n",
      "File \u001b[0;32m/media/projects/SEBS_SupportingLayer/src/utils.py:417\u001b[0m, in \u001b[0;36mplot_traces\u001b[0;34m(traces, sampling_frequency, channel_indices, title, savepath, trace_gap, shank_gap, fontsize)\u001b[0m\n\u001b[1;32m    414\u001b[0m     \u001b[38;5;28;01mfor\u001b[39;00m channel_i, channel \u001b[38;5;129;01min\u001b[39;00m \u001b[38;5;28menumerate\u001b[39m(shank):\n\u001b[1;32m    415\u001b[0m         y_baseline \u001b[38;5;241m=\u001b[39m trace_gap \u001b[38;5;241m*\u001b[39m (channel_i \u001b[38;5;241m+\u001b[39m shank_i \u001b[38;5;241m*\u001b[39m n_channel_per_shank) \u001b[38;5;241m+\u001b[39m shank_gap \u001b[38;5;241m*\u001b[39m shank_i\n\u001b[0;32m--> 417\u001b[0m         \u001b[43mplt\u001b[49m\u001b[38;5;241;43m.\u001b[39;49m\u001b[43mplot\u001b[49m\u001b[43m(\u001b[49m\u001b[43mtraces\u001b[49m\u001b[43m[\u001b[49m\u001b[43mchannel\u001b[49m\u001b[43m]\u001b[49m\u001b[38;5;241;43m+\u001b[39;49m\u001b[43my_baseline\u001b[49m\u001b[43m)\u001b[49m\n\u001b[1;32m    418\u001b[0m         plt\u001b[38;5;241m.\u001b[39mtext(\u001b[38;5;28mlen\u001b[39m(traces[channel]), y_baseline \u001b[38;5;241m-\u001b[39m fontsize, \u001b[38;5;124mf\u001b[39m\u001b[38;5;124m'\u001b[39m\u001b[38;5;124mch\u001b[39m\u001b[38;5;132;01m{\u001b[39;00mchannel\u001b[38;5;132;01m}\u001b[39;00m\u001b[38;5;124m'\u001b[39m)\n\u001b[1;32m    420\u001b[0m xticks_labels \u001b[38;5;241m=\u001b[39m \u001b[38;5;28mlist\u001b[39m(\u001b[38;5;28mrange\u001b[39m(\u001b[38;5;28mround\u001b[39m(duration) \u001b[38;5;241m+\u001b[39m \u001b[38;5;241m1\u001b[39m))\n",
      "File \u001b[0;32m~/miniconda3/envs/xinyi-si-0.98.2/lib/python3.8/site-packages/matplotlib/pyplot.py:2812\u001b[0m, in \u001b[0;36mplot\u001b[0;34m(scalex, scaley, data, *args, **kwargs)\u001b[0m\n\u001b[1;32m   2810\u001b[0m \u001b[38;5;129m@_copy_docstring_and_deprecators\u001b[39m(Axes\u001b[38;5;241m.\u001b[39mplot)\n\u001b[1;32m   2811\u001b[0m \u001b[38;5;28;01mdef\u001b[39;00m \u001b[38;5;21mplot\u001b[39m(\u001b[38;5;241m*\u001b[39margs, scalex\u001b[38;5;241m=\u001b[39m\u001b[38;5;28;01mTrue\u001b[39;00m, scaley\u001b[38;5;241m=\u001b[39m\u001b[38;5;28;01mTrue\u001b[39;00m, data\u001b[38;5;241m=\u001b[39m\u001b[38;5;28;01mNone\u001b[39;00m, \u001b[38;5;241m*\u001b[39m\u001b[38;5;241m*\u001b[39mkwargs):\n\u001b[0;32m-> 2812\u001b[0m     \u001b[38;5;28;01mreturn\u001b[39;00m \u001b[43mgca\u001b[49m\u001b[43m(\u001b[49m\u001b[43m)\u001b[49m\u001b[38;5;241;43m.\u001b[39;49m\u001b[43mplot\u001b[49m\u001b[43m(\u001b[49m\n\u001b[1;32m   2813\u001b[0m \u001b[43m        \u001b[49m\u001b[38;5;241;43m*\u001b[39;49m\u001b[43margs\u001b[49m\u001b[43m,\u001b[49m\u001b[43m \u001b[49m\u001b[43mscalex\u001b[49m\u001b[38;5;241;43m=\u001b[39;49m\u001b[43mscalex\u001b[49m\u001b[43m,\u001b[49m\u001b[43m \u001b[49m\u001b[43mscaley\u001b[49m\u001b[38;5;241;43m=\u001b[39;49m\u001b[43mscaley\u001b[49m\u001b[43m,\u001b[49m\n\u001b[1;32m   2814\u001b[0m \u001b[43m        \u001b[49m\u001b[38;5;241;43m*\u001b[39;49m\u001b[38;5;241;43m*\u001b[39;49m\u001b[43m(\u001b[49m\u001b[43m{\u001b[49m\u001b[38;5;124;43m\"\u001b[39;49m\u001b[38;5;124;43mdata\u001b[39;49m\u001b[38;5;124;43m\"\u001b[39;49m\u001b[43m:\u001b[49m\u001b[43m \u001b[49m\u001b[43mdata\u001b[49m\u001b[43m}\u001b[49m\u001b[43m \u001b[49m\u001b[38;5;28;43;01mif\u001b[39;49;00m\u001b[43m \u001b[49m\u001b[43mdata\u001b[49m\u001b[43m \u001b[49m\u001b[38;5;129;43;01mis\u001b[39;49;00m\u001b[43m \u001b[49m\u001b[38;5;129;43;01mnot\u001b[39;49;00m\u001b[43m \u001b[49m\u001b[38;5;28;43;01mNone\u001b[39;49;00m\u001b[43m \u001b[49m\u001b[38;5;28;43;01melse\u001b[39;49;00m\u001b[43m \u001b[49m\u001b[43m{\u001b[49m\u001b[43m}\u001b[49m\u001b[43m)\u001b[49m\u001b[43m,\u001b[49m\u001b[43m \u001b[49m\u001b[38;5;241;43m*\u001b[39;49m\u001b[38;5;241;43m*\u001b[39;49m\u001b[43mkwargs\u001b[49m\u001b[43m)\u001b[49m\n",
      "File \u001b[0;32m~/miniconda3/envs/xinyi-si-0.98.2/lib/python3.8/site-packages/matplotlib/axes/_axes.py:1688\u001b[0m, in \u001b[0;36mAxes.plot\u001b[0;34m(self, scalex, scaley, data, *args, **kwargs)\u001b[0m\n\u001b[1;32m   1445\u001b[0m \u001b[38;5;250m\u001b[39m\u001b[38;5;124;03m\"\"\"\u001b[39;00m\n\u001b[1;32m   1446\u001b[0m \u001b[38;5;124;03mPlot y versus x as lines and/or markers.\u001b[39;00m\n\u001b[1;32m   1447\u001b[0m \n\u001b[0;32m   (...)\u001b[0m\n\u001b[1;32m   1685\u001b[0m \u001b[38;5;124;03m(``'green'``) or hex strings (``'#008000'``).\u001b[39;00m\n\u001b[1;32m   1686\u001b[0m \u001b[38;5;124;03m\"\"\"\u001b[39;00m\n\u001b[1;32m   1687\u001b[0m kwargs \u001b[38;5;241m=\u001b[39m cbook\u001b[38;5;241m.\u001b[39mnormalize_kwargs(kwargs, mlines\u001b[38;5;241m.\u001b[39mLine2D)\n\u001b[0;32m-> 1688\u001b[0m lines \u001b[38;5;241m=\u001b[39m [\u001b[38;5;241m*\u001b[39m\u001b[38;5;28mself\u001b[39m\u001b[38;5;241m.\u001b[39m_get_lines(\u001b[38;5;241m*\u001b[39margs, data\u001b[38;5;241m=\u001b[39mdata, \u001b[38;5;241m*\u001b[39m\u001b[38;5;241m*\u001b[39mkwargs)]\n\u001b[1;32m   1689\u001b[0m \u001b[38;5;28;01mfor\u001b[39;00m line \u001b[38;5;129;01min\u001b[39;00m lines:\n\u001b[1;32m   1690\u001b[0m     \u001b[38;5;28mself\u001b[39m\u001b[38;5;241m.\u001b[39madd_line(line)\n",
      "File \u001b[0;32m~/miniconda3/envs/xinyi-si-0.98.2/lib/python3.8/site-packages/matplotlib/axes/_base.py:311\u001b[0m, in \u001b[0;36m_process_plot_var_args.__call__\u001b[0;34m(self, data, *args, **kwargs)\u001b[0m\n\u001b[1;32m    309\u001b[0m     this \u001b[38;5;241m+\u001b[39m\u001b[38;5;241m=\u001b[39m args[\u001b[38;5;241m0\u001b[39m],\n\u001b[1;32m    310\u001b[0m     args \u001b[38;5;241m=\u001b[39m args[\u001b[38;5;241m1\u001b[39m:]\n\u001b[0;32m--> 311\u001b[0m \u001b[38;5;28;01myield from\u001b[39;00m \u001b[38;5;28;43mself\u001b[39;49m\u001b[38;5;241;43m.\u001b[39;49m\u001b[43m_plot_args\u001b[49m\u001b[43m(\u001b[49m\n\u001b[1;32m    312\u001b[0m \u001b[43m    \u001b[49m\u001b[43mthis\u001b[49m\u001b[43m,\u001b[49m\u001b[43m \u001b[49m\u001b[43mkwargs\u001b[49m\u001b[43m,\u001b[49m\u001b[43m \u001b[49m\u001b[43mambiguous_fmt_datakey\u001b[49m\u001b[38;5;241;43m=\u001b[39;49m\u001b[43mambiguous_fmt_datakey\u001b[49m\u001b[43m)\u001b[49m\n",
      "File \u001b[0;32m~/miniconda3/envs/xinyi-si-0.98.2/lib/python3.8/site-packages/matplotlib/axes/_base.py:496\u001b[0m, in \u001b[0;36m_process_plot_var_args._plot_args\u001b[0;34m(self, tup, kwargs, return_kwargs, ambiguous_fmt_datakey)\u001b[0m\n\u001b[1;32m    494\u001b[0m     y \u001b[38;5;241m=\u001b[39m _check_1d(xy[\u001b[38;5;241m1\u001b[39m])\n\u001b[1;32m    495\u001b[0m \u001b[38;5;28;01melse\u001b[39;00m:\n\u001b[0;32m--> 496\u001b[0m     x, y \u001b[38;5;241m=\u001b[39m \u001b[43mindex_of\u001b[49m\u001b[43m(\u001b[49m\u001b[43mxy\u001b[49m\u001b[43m[\u001b[49m\u001b[38;5;241;43m-\u001b[39;49m\u001b[38;5;241;43m1\u001b[39;49m\u001b[43m]\u001b[49m\u001b[43m)\u001b[49m\n\u001b[1;32m    498\u001b[0m \u001b[38;5;28;01mif\u001b[39;00m \u001b[38;5;28mself\u001b[39m\u001b[38;5;241m.\u001b[39maxes\u001b[38;5;241m.\u001b[39mxaxis \u001b[38;5;129;01mis\u001b[39;00m \u001b[38;5;129;01mnot\u001b[39;00m \u001b[38;5;28;01mNone\u001b[39;00m:\n\u001b[1;32m    499\u001b[0m     \u001b[38;5;28mself\u001b[39m\u001b[38;5;241m.\u001b[39maxes\u001b[38;5;241m.\u001b[39mxaxis\u001b[38;5;241m.\u001b[39mupdate_units(x)\n",
      "File \u001b[0;32m~/miniconda3/envs/xinyi-si-0.98.2/lib/python3.8/site-packages/matplotlib/cbook/__init__.py:1671\u001b[0m, in \u001b[0;36mindex_of\u001b[0;34m(y)\u001b[0m\n\u001b[1;32m   1669\u001b[0m     \u001b[38;5;28;01mpass\u001b[39;00m\n\u001b[1;32m   1670\u001b[0m \u001b[38;5;28;01melse\u001b[39;00m:\n\u001b[0;32m-> 1671\u001b[0m     \u001b[38;5;28;01mreturn\u001b[39;00m \u001b[43mnp\u001b[49m\u001b[38;5;241;43m.\u001b[39;49m\u001b[43marange\u001b[49m\u001b[43m(\u001b[49m\u001b[43my\u001b[49m\u001b[38;5;241;43m.\u001b[39;49m\u001b[43mshape\u001b[49m\u001b[43m[\u001b[49m\u001b[38;5;241;43m0\u001b[39;49m\u001b[43m]\u001b[49m\u001b[43m,\u001b[49m\u001b[43m \u001b[49m\u001b[43mdtype\u001b[49m\u001b[38;5;241;43m=\u001b[39;49m\u001b[38;5;28;43mfloat\u001b[39;49m\u001b[43m)\u001b[49m, y\n\u001b[1;32m   1672\u001b[0m \u001b[38;5;28;01mraise\u001b[39;00m \u001b[38;5;167;01mValueError\u001b[39;00m(\u001b[38;5;124m'\u001b[39m\u001b[38;5;124mInput could not be cast to an at-least-1D NumPy array\u001b[39m\u001b[38;5;124m'\u001b[39m)\n",
      "\u001b[0;31mKeyboardInterrupt\u001b[0m: "
     ]
    }
   ],
   "source": [
    "for mouse in (pbar := tqdm(mice)):\n",
    "    mouse_sorted_folder = f'{sorted_folder}{os.sep}{mouse}'\n",
    "    pbar.set_description(mouse)\n",
    "\n",
    "    mouse_processed_traces_path = f'{mouse_sorted_folder}{os.sep}traces_processed'\n",
    "    mouse_recording_si_path = f'{mouse_sorted_folder}{os.sep}processed'\n",
    "    mouse_sorting_si_path = f'{mouse_sorted_folder}{os.sep}sorting-by-group'\n",
    "    mouse_waveforms_si_path = f'{mouse_sorted_folder}{os.sep}waveforms-by-group'\n",
    "    mouse_units_si_path = f'{mouse_sorted_folder}{os.sep}units-by-group'\n",
    "    mouse_sessions_file = f'{mouse_sorted_folder}{os.sep}sessions.csv'\n",
    "    os.makedirs(mouse_processed_traces_path, exist_ok=True)\n",
    "\n",
    "    if True:# not os.path.isfile(mouse_sessions_file):\n",
    "        mouse_traces, mouse_sessions = [], []\n",
    "        cumulative_samples = 0\n",
    "        for session_index, session_path in enumerate(recording_session_paths[mouse]):\n",
    "            session_date = session_path.split(os.sep)[-2]\n",
    "            session_segments = longterm_segments[mouse][session_date]\n",
    "            session_trace_plot_file = f'{mouse_processed_traces_path}{os.sep}[{session_index}]{session_date}.png'\n",
    "            pbar.set_description(f'{mouse} -> [{session_index+1} / {len(recording_session_paths[mouse])}]{session_date} -> {session_segments}')\n",
    "\n",
    "            recording = sc.load_extractor(f'{session_path}{os.sep}raw')\n",
    "            full_traces = recording.get_traces()\n",
    "            \n",
    "            traces = np.vstack([\n",
    "                full_traces[segment_start*sampling_frequency*n_s_per_min : segment_end*sampling_frequency*n_s_per_min] \n",
    "                    for segment_start, segment_end in session_segments\n",
    "            ])\n",
    "            if not os.path.isfile(session_trace_plot_file):\n",
    "                plot_traces(traces.T, sampling_frequency, blackrock_channel_indices, title=f'{mouse} -> {session_date} -> {session_segments}', savepath=session_trace_plot_file, trace_gap=150)\n",
    "\n",
    "    #         mouse_traces.append(traces)\n",
    "    #         mouse_sessions.append({\n",
    "    #             'mouse': mouse,\n",
    "    #             'date': session_date,\n",
    "    #             'session_path': session_path,\n",
    "    #             'session_start': cumulative_samples,\n",
    "    #             'sampling_frequency': sampling_frequency,\n",
    "    #             'session_length': traces.shape[0],\n",
    "    #         })\n",
    "    #         cumulative_samples += traces.shape[0] \n",
    "    #     mouse_traces = np.vstack(mouse_traces)\n",
    "\n",
    "    #     recording = se.NumpyRecording(traces_list=mouse_traces, sampling_frequency=sampling_frequency)\n",
    "    #     # recording_processed = preprocess_recording(recording, steps=['bp', 'cmr', 'clip'])\n",
    "    #     recording_processed = preprocess_recording(recording)\n",
    "        \n",
    "    #     os.makedirs(mouse_sorted_folder, exist_ok=True)\n",
    "    #     multi_shank_probe = create_probe(blackrock_channel_indices, f'{mouse_sorted_folder}{os.sep}probe.png')\n",
    "    #     recording_processed.set_probe(multi_shank_probe, in_place=True)\n",
    "\n",
    "    #     shutil.rmtree(mouse_recording_si_path, ignore_errors=True)\n",
    "    #     recording_processed.save(folder=mouse_recording_si_path, memory=memory_limit)\n",
    "\n",
    "    #     mouse_sessions = pd.json_normalize(mouse_sessions)\n",
    "    #     mouse_sessions.to_csv(mouse_sessions_file, index=False)\n",
    "    # pbar.set_description(f'{mouse} preprocessed')\n",
    "\n",
    "    # if not os.path.isfile(f'{mouse_sorting_si_path}{os.sep}sorter_output{os.sep}firings.npz'):\n",
    "    #     recording_processed = sc.load_extractor(mouse_recording_si_path)\n",
    "    #     probegroup = create_probegroup(blackrock_channel_indices)\n",
    "    #     recording_processed.set_probegroup(probegroup, in_place=True)\n",
    "\n",
    "    #     sorting = ss.run_sorter_by_property(\n",
    "    #         sorter_name='mountainsort4',\n",
    "    #         recording=recording_processed,\n",
    "    #         grouping_property='group',\n",
    "    #         working_folder=mouse_sorting_si_path,\n",
    "    #         mode_if_folder_exists='overwrite',\n",
    "    #         **sorter_parameters,\n",
    "    #     )\n",
    "    #     os.makedirs(f'{mouse_sorting_si_path}{os.sep}sorter_output', exist_ok=True)\n",
    "    #     se.NpzSortingExtractor.write_sorting(sorting, f'{mouse_sorting_si_path}{os.sep}sorter_output{os.sep}firings.npz')\n",
    "    # pbar.set_description(f'{mouse} sorted')\n",
    "\n",
    "    # if not os.path.isfile(f'{mouse_waveforms_si_path}{os.sep}templates_average.npy'):\n",
    "    #     recording_processed = sc.load_extractor(mouse_recording_si_path)\n",
    "    #     sorting = se.NpzSortingExtractor(f'{mouse_sorting_si_path}{os.sep}sorter_output{os.sep}firings.npz')\n",
    "    #     sorting = scu.remove_excess_spikes(sorting, recording_processed) # spikeinterface https://github.com/SpikeInterface/spikeinterface/pull/1378\n",
    "    #     sc.extract_waveforms(\n",
    "    #         recording_processed, sorting, \n",
    "    #         folder=mouse_waveforms_si_path,\n",
    "    #         ms_before=ms_before, ms_after=ms_after, max_spikes_per_unit=None,\n",
    "    #         return_scaled=False,\n",
    "    #         overwrite=True,\n",
    "    #         use_relative_path=True,\n",
    "    #     )\n",
    "    # pbar.set_description(f'{mouse} extracted')\n",
    "\n",
    "    # recording_processed, sorting, waveform_extractor, extremum_channels, mouse_sessions = read_sorted_results(mouse_sorted_folder, read_sessions=True, by_group=True)\n",
    "\n",
    "    # os.makedirs(mouse_units_si_path, exist_ok=True)\n",
    "    # for unit_id in sorting.unit_ids:\n",
    "    #     pbar.set_description(f'{mouse} Plotting [unit {unit_id} / {len(sorting.unit_ids)}]')\n",
    "    #     unit_plot_file = f'{mouse_units_si_path}{os.sep}{unit_id}.png'\n",
    "    #     if not os.path.isfile(unit_plot_file):\n",
    "    #         plot_unit(waveform_extractor, extremum_channels, sorting, unit_id, blackrock_channel_indices, initdate=surgery_dates[mouse], savepath=unit_plot_file, sessions=mouse_sessions)"
   ]
  },
  {
   "cell_type": "code",
   "execution_count": null,
   "metadata": {},
   "outputs": [],
   "source": []
  }
 ],
 "metadata": {
  "kernelspec": {
   "display_name": "xinyi-si-0.98.2",
   "language": "python",
   "name": "python3"
  },
  "language_info": {
   "codemirror_mode": {
    "name": "ipython",
    "version": 3
   },
   "file_extension": ".py",
   "mimetype": "text/x-python",
   "name": "python",
   "nbconvert_exporter": "python",
   "pygments_lexer": "ipython3",
   "version": "3.8.13"
  }
 },
 "nbformat": 4,
 "nbformat_minor": 2
}
