{
 "cells": [
  {
   "cell_type": "markdown",
   "metadata": {},
   "source": [
    "1. ISI\n",
    "2. Templates overtime \n",
    "3. All templates\n",
    "4. UMAP overtime\n",
    "5. Features overtime (Pointplots)"
   ]
  },
  {
   "cell_type": "code",
   "execution_count": null,
   "metadata": {},
   "outputs": [],
   "source": [
    "import matplotlib\n",
    "matplotlib.use('Agg')\n",
    "\n",
    "import glob\n",
    "import matplotlib.pyplot as plt \n",
    "import numpy as np\n",
    "import os\n",
    "import pandas as pd\n",
    "import spikeinterface.core as sc\n",
    "import spikeinterface.curation as scu\n",
    "import spikeinterface.extractors as se\n",
    "import spikeinterface.widgets as sw\n",
    "import sys \n",
    "\n",
    "from tqdm.auto import tqdm\n",
    "\n",
    "sys.path.append('src')\n",
    "\n",
    "from utils import plot_isi_by_session\n",
    "\n",
    "sorted_date = '20231229'\n",
    "mice = sorted([mouse_path.split(os.sep)[-1] for mouse_path in glob.glob(f'data{os.sep}sorted{os.sep}{sorted_date}{os.sep}**')])\n",
    "print(f'Plotting mice: {mice} sorted on {sorted_date}')"
   ]
  },
  {
   "cell_type": "code",
   "execution_count": null,
   "metadata": {},
   "outputs": [],
   "source": [
    "for mouse in (pbar := tqdm(mice)):\n",
    "    mouse_sorted_folder = f'data{os.sep}sorted{os.sep}{sorted_date}{os.sep}{mouse}'\n",
    "    mouse_isi_folder = f'{mouse_sorted_folder}{os.sep}isi'\n",
    "    os.makedirs(mouse_isi_folder, exist_ok=True)\n",
    "\n",
    "    recording_processed = sc.load_extractor(f'{mouse_sorted_folder}{os.sep}processed')\n",
    "\n",
    "    sorting = se.NpzSortingExtractor(f'{mouse_sorted_folder}{os.sep}sorting{os.sep}sorter_output{os.sep}firings.npz')\n",
    "    # spikeinterface https://github.com/SpikeInterface/spikeinterface/pull/1378\n",
    "    sorting = scu.remove_excess_spikes(sorting, recording_processed)\n",
    "\n",
    "    waveform_extractor = sc.load_waveforms(\n",
    "        folder=f'{mouse_sorted_folder}{os.sep}waveforms', with_recording=True, sorting=sorting\n",
    "    )\n",
    "    extremum_channels = sc.get_template_extremum_channel(waveform_extractor, peak_sign='neg')\n",
    "\n",
    "    sessions = pd.read_csv(f'{mouse_sorted_folder}{os.sep}sessions.csv').sort_values(by='date')\n",
    "\n",
    "    for unit_id in sorting.unit_ids:\n",
    "        pbar.set_description(f'{mouse} -> [{unit_id} / {len(sorting.unit_ids)}]')\n",
    "        unit_isi_plot_file = f'{mouse_isi_folder}{os.sep}{unit_id}.png'\n",
    "        if not os.path.isfile(unit_isi_plot_file):\n",
    "            plot_isi_by_session(sorting, unit_id, sessions, savepath=unit_isi_plot_file)"
   ]
  }
 ],
 "metadata": {
  "kernelspec": {
   "display_name": "xinyi-si-0.98.2",
   "language": "python",
   "name": "python3"
  },
  "language_info": {
   "codemirror_mode": {
    "name": "ipython",
    "version": 3
   },
   "file_extension": ".py",
   "mimetype": "text/x-python",
   "name": "python",
   "nbconvert_exporter": "python",
   "pygments_lexer": "ipython3",
   "version": "3.8.13"
  }
 },
 "nbformat": 4,
 "nbformat_minor": 2
}
