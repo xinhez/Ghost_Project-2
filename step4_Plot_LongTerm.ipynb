{
 "cells": [
  {
   "cell_type": "markdown",
   "metadata": {},
   "source": [
    "1. ISI\n",
    "2. Templates overtime \n",
    "3. All templates\n",
    "4. UMAP overtime\n",
    "5. Features overtime (Pointplots)"
   ]
  },
  {
   "cell_type": "code",
   "execution_count": 1,
   "metadata": {},
   "outputs": [],
   "source": [
    "import matplotlib\n",
    "matplotlib.use('Agg')\n",
    "\n",
    "import matplotlib.pyplot as plt \n",
    "import numpy as np\n",
    "import os\n",
    "import pandas as pd\n",
    "import spikeinterface.core as sc\n",
    "import spikeinterface.curation as scu\n",
    "import spikeinterface.extractors as se\n",
    "import spikeinterface.widgets as sw\n",
    "import sys \n",
    "\n",
    "sys.path.append('src')\n",
    "\n",
    "from utils import n_ms_per_s, plot_isi_by_session"
   ]
  },
  {
   "cell_type": "code",
   "execution_count": 2,
   "metadata": {},
   "outputs": [],
   "source": [
    "sorted_date = '20231229'\n",
    "mouse = '1_5'\n",
    "\n",
    "mouse_sorted_folder = f'data{os.sep}sorted{os.sep}{sorted_date}{os.sep}{mouse}'\n",
    "recording_processed = sc.load_extractor(f'{mouse_sorted_folder}{os.sep}processed')\n",
    "\n",
    "sorting = se.NpzSortingExtractor(f'{mouse_sorted_folder}{os.sep}sorting{os.sep}sorter_output{os.sep}firings.npz')\n",
    "# spikeinterface https://github.com/SpikeInterface/spikeinterface/pull/1378\n",
    "sorting = scu.remove_excess_spikes(sorting, recording_processed)\n",
    "\n",
    "waveform_extractor = sc.load_waveforms(\n",
    "    folder=f'{mouse_sorted_folder}{os.sep}waveforms', with_recording=True, sorting=sorting\n",
    ")\n",
    "extremum_channels = sc.get_template_extremum_channel(waveform_extractor, peak_sign='neg')\n",
    "\n",
    "sessions = pd.read_csv(f'{mouse_sorted_folder}{os.sep}sessions.csv').sort_values(by='date')"
   ]
  },
  {
   "cell_type": "code",
   "execution_count": 3,
   "metadata": {},
   "outputs": [],
   "source": [
    "mouse_isi_folder = f'{mouse_sorted_folder}{os.sep}isi'\n",
    "os.makedirs(mouse_isi_folder, exist_ok=True)\n",
    "\n",
    "for unit_id in sorting.unit_ids:\n",
    "    try:\n",
    "        plot_isi_by_session(sorting, unit_id, sessions, savepath=f'{mouse_isi_folder}{os.sep}{unit_id}.png')\n",
    "    except:\n",
    "        print(unit_id)"
   ]
  }
 ],
 "metadata": {
  "kernelspec": {
   "display_name": "xinyi-si-0.98.2",
   "language": "python",
   "name": "python3"
  },
  "language_info": {
   "codemirror_mode": {
    "name": "ipython",
    "version": 3
   },
   "file_extension": ".py",
   "mimetype": "text/x-python",
   "name": "python",
   "nbconvert_exporter": "python",
   "pygments_lexer": "ipython3",
   "version": "3.8.13"
  }
 },
 "nbformat": 4,
 "nbformat_minor": 2
}
