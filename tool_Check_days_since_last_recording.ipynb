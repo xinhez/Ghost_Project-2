{
 "cells": [
  {
   "cell_type": "code",
   "execution_count": 1,
   "metadata": {},
   "outputs": [
    {
     "name": "stdout",
     "output_type": "stream",
     "text": [
      "Today: 20240114\n"
     ]
    },
    {
     "data": {
      "text/plain": [
       "datetime.datetime(2024, 1, 14, 0, 0)"
      ]
     },
     "execution_count": 1,
     "metadata": {},
     "output_type": "execute_result"
    }
   ],
   "source": [
    "import datetime \n",
    "import glob\n",
    "import os\n",
    "\n",
    "import sys \n",
    "sys.path.append('src')\n",
    "\n",
    "from src.utils import surgery_dates\n",
    "\n",
    "today = datetime.datetime.today().replace(hour=0, minute=0, second=0, microsecond=0)\n",
    "print(f'Today: {today.strftime(\"%Y%m%d\")}')\n",
    "today"
   ]
  },
  {
   "cell_type": "code",
   "execution_count": 2,
   "metadata": {},
   "outputs": [
    {
     "name": "stdout",
     "output_type": "stream",
     "text": [
      "1_4 ['20230714']\n",
      "1_5 ['20230707', '20230714', '20230721', '20230727', '20230821', '20230831', '20230921', '20231006', '20231011', '20231018', '20231027', '20231102', '20231122', '20231207', '20231214', '20231228', '20240103']\n",
      "3_3 ['20230707', '20230714']\n",
      "4_3 ['20230814']\n",
      "4_6 ['20230814', '20230821', '20230831']\n",
      "5_4 ['20230814', '20230821', '20230831']\n",
      "5_7 ['20230814', '20230821', '20230831', '20230907', '20230915', '20230921', '20230928', '20231006', '20231027', '20231102', '20231122', '20231207', '20231214', '20231228', '20240103']\n",
      "6_2 ['20231027', '20231102', '20231110', '20231116', '20231122', '20231207', '20231219', '20231228', '20240103']\n",
      "6_3 ['20231027', '20231102', '20231110', '20231116', '20231122', '20231207', '20231219', '20231228']\n",
      "6_6 ['20231027', '20231102']\n",
      "6_7 ['20231027', '20231102', '20231110', '20231116', '20231122', '20231207', '20231219', '20231228']\n",
      "7_2 ['20231027', '20231102', '20231110', '20231116', '20231122', '20231207', '20231219', '20231228', '20240103']\n",
      "7_3 ['20231027']\n",
      "8_1 ['20231207']\n",
      "8_5 ['20231207']\n",
      "8_6 ['20231207', '20231214', '20231228', '20240103']\n"
     ]
    }
   ],
   "source": [
    "longterm_recording_path = f'data{os.sep}spikeinterface-0_98_2{os.sep}LongTerm-ns4'\n",
    "mouse_paths = sorted(glob.glob(f'{longterm_recording_path}{os.sep}**'))\n",
    "mice_recorded_dates = {}\n",
    "for mouse_path in mouse_paths:\n",
    "    mouse = mouse_path.split(os.sep)[-1]\n",
    "    dates = sorted([date_path.split(os.sep)[-1] for date_path in glob.glob(f'{mouse_path}{os.sep}**')])\n",
    "    print(mouse, dates)\n",
    "    mice_recorded_dates[mouse] = dates"
   ]
  },
  {
   "cell_type": "code",
   "execution_count": 3,
   "metadata": {},
   "outputs": [
    {
     "name": "stdout",
     "output_type": "stream",
     "text": [
      "mouse: days since last recording / days since sugery dates\n",
      "  1_5:               11 ( 1 wks) / 201 (28 wks)\n",
      "  5_7:               11 ( 1 wks) / 162 (23 wks)\n",
      "  6_2:               11 ( 1 wks) /  87 (12 wks)\n",
      "  6_7:               17 ( 2 wks) /  90 (12 wks)\n",
      "  7_2:               11 ( 1 wks) /  87 (12 wks)\n",
      "  8_6:               11 ( 1 wks) /  49 ( 7 wks)\n"
     ]
    }
   ],
   "source": [
    "skipped_mice = ['1_4', '3_3', '4_3', '4_4', '4_6', '5_4', '5_6', '6_3', '6_6', '7_3', '8_1', '8_5']\n",
    "print('mouse: days since last recording / days since sugery dates')\n",
    "for mouse in mice_recorded_dates:\n",
    "    if mouse in skipped_mice: continue\n",
    "    surgery_date = datetime.datetime.strptime(surgery_dates[mouse], '%Y%m%d')\n",
    "    last_date = datetime.datetime.strptime(mice_recorded_dates[mouse][-1], '%Y%m%d')\n",
    "    print(f'  {mouse}: {(today - last_date).days:16d} ({(today - last_date).days // 7:2d} wks) / {(today - surgery_date).days:3d} ({(today - surgery_date).days // 7:2d} wks)')"
   ]
  }
 ],
 "metadata": {
  "kernelspec": {
   "display_name": "xinyi-si-0.98.2",
   "language": "python",
   "name": "python3"
  },
  "language_info": {
   "codemirror_mode": {
    "name": "ipython",
    "version": 3
   },
   "file_extension": ".py",
   "mimetype": "text/x-python",
   "name": "python",
   "nbconvert_exporter": "python",
   "pygments_lexer": "ipython3",
   "version": "3.8.13"
  }
 },
 "nbformat": 4,
 "nbformat_minor": 2
}
